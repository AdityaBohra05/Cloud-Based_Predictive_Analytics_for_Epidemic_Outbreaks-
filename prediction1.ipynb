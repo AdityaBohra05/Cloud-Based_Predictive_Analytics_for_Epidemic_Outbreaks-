{
 "cells": [
  {
   "cell_type": "code",
   "execution_count": 1,
   "metadata": {},
   "outputs": [],
   "source": [
    "import warnings\n",
    "warnings.filterwarnings('ignore')\n",
    "import pandas as pd\n",
    "import matplotlib.pyplot as plt\n",
    "import seaborn as sns\n",
    "import plotly.express as px\n",
    "import plotly.graph_objects as go\n",
    "from plotly.subplots import make_subplots\n",
    "import numpy as np\n",
    "import datetime as dt\n",
    "from datetime import timedelta\n",
    "from sklearn.model_selection import GridSearchCV\n",
    "from sklearn.preprocessing import StandardScaler\n",
    "from sklearn.cluster import KMeans\n",
    "from sklearn.metrics import silhouette_score,silhouette_samples\n",
    "from sklearn.linear_model import LinearRegression,Ridge,Lasso\n",
    "from sklearn.svm import SVR\n",
    "from sklearn.metrics import mean_squared_error,r2_score\n",
    "import statsmodels.api as sm\n",
    "from statsmodels.tsa.api import Holt,SimpleExpSmoothing,ExponentialSmoothing\n",
    "# from fbprophet import Prophet\n",
    "from sklearn.preprocessing import PolynomialFeatures\n",
    "from statsmodels.tsa.stattools import adfuller\n",
    "# !pip install pyramid-arima\n",
    "from pmdarima.arima import auto_arima\n",
    "std=StandardScaler()\n",
    "#pd.set_option('display.float_format', lambda x: '%.6f' % x)"
   ]
  },
  {
   "cell_type": "code",
   "execution_count": 2,
   "metadata": {},
   "outputs": [
    {
     "data": {
      "text/html": [
       "<div>\n",
       "<style scoped>\n",
       "    .dataframe tbody tr th:only-of-type {\n",
       "        vertical-align: middle;\n",
       "    }\n",
       "\n",
       "    .dataframe tbody tr th {\n",
       "        vertical-align: top;\n",
       "    }\n",
       "\n",
       "    .dataframe thead th {\n",
       "        text-align: right;\n",
       "    }\n",
       "</style>\n",
       "<table border=\"1\" class=\"dataframe\">\n",
       "  <thead>\n",
       "    <tr style=\"text-align: right;\">\n",
       "      <th></th>\n",
       "      <th>SNo</th>\n",
       "      <th>ObservationDate</th>\n",
       "      <th>Province/State</th>\n",
       "      <th>Country/Region</th>\n",
       "      <th>Last Update</th>\n",
       "      <th>Confirmed</th>\n",
       "      <th>Deaths</th>\n",
       "      <th>Recovered</th>\n",
       "    </tr>\n",
       "  </thead>\n",
       "  <tbody>\n",
       "    <tr>\n",
       "      <th>0</th>\n",
       "      <td>1</td>\n",
       "      <td>01/22/2020</td>\n",
       "      <td>Anhui</td>\n",
       "      <td>Mainland China</td>\n",
       "      <td>1/22/2020 17:00</td>\n",
       "      <td>1.0</td>\n",
       "      <td>0.0</td>\n",
       "      <td>0.0</td>\n",
       "    </tr>\n",
       "    <tr>\n",
       "      <th>1</th>\n",
       "      <td>2</td>\n",
       "      <td>01/22/2020</td>\n",
       "      <td>Beijing</td>\n",
       "      <td>Mainland China</td>\n",
       "      <td>1/22/2020 17:00</td>\n",
       "      <td>14.0</td>\n",
       "      <td>0.0</td>\n",
       "      <td>0.0</td>\n",
       "    </tr>\n",
       "    <tr>\n",
       "      <th>2</th>\n",
       "      <td>3</td>\n",
       "      <td>01/22/2020</td>\n",
       "      <td>Chongqing</td>\n",
       "      <td>Mainland China</td>\n",
       "      <td>1/22/2020 17:00</td>\n",
       "      <td>6.0</td>\n",
       "      <td>0.0</td>\n",
       "      <td>0.0</td>\n",
       "    </tr>\n",
       "    <tr>\n",
       "      <th>3</th>\n",
       "      <td>4</td>\n",
       "      <td>01/22/2020</td>\n",
       "      <td>Fujian</td>\n",
       "      <td>Mainland China</td>\n",
       "      <td>1/22/2020 17:00</td>\n",
       "      <td>1.0</td>\n",
       "      <td>0.0</td>\n",
       "      <td>0.0</td>\n",
       "    </tr>\n",
       "    <tr>\n",
       "      <th>4</th>\n",
       "      <td>5</td>\n",
       "      <td>01/22/2020</td>\n",
       "      <td>Gansu</td>\n",
       "      <td>Mainland China</td>\n",
       "      <td>1/22/2020 17:00</td>\n",
       "      <td>0.0</td>\n",
       "      <td>0.0</td>\n",
       "      <td>0.0</td>\n",
       "    </tr>\n",
       "  </tbody>\n",
       "</table>\n",
       "</div>"
      ],
      "text/plain": [
       "   SNo ObservationDate Province/State  Country/Region      Last Update  \\\n",
       "0    1      01/22/2020          Anhui  Mainland China  1/22/2020 17:00   \n",
       "1    2      01/22/2020        Beijing  Mainland China  1/22/2020 17:00   \n",
       "2    3      01/22/2020      Chongqing  Mainland China  1/22/2020 17:00   \n",
       "3    4      01/22/2020         Fujian  Mainland China  1/22/2020 17:00   \n",
       "4    5      01/22/2020          Gansu  Mainland China  1/22/2020 17:00   \n",
       "\n",
       "   Confirmed  Deaths  Recovered  \n",
       "0        1.0     0.0        0.0  \n",
       "1       14.0     0.0        0.0  \n",
       "2        6.0     0.0        0.0  \n",
       "3        1.0     0.0        0.0  \n",
       "4        0.0     0.0        0.0  "
      ]
     },
     "execution_count": 2,
     "metadata": {},
     "output_type": "execute_result"
    }
   ],
   "source": [
    "# Load the data from CSV\n",
    "covid=pd.read_csv(\"covid_19_data.csv\")\n",
    "covid.head()"
   ]
  },
  {
   "cell_type": "code",
   "execution_count": 3,
   "metadata": {},
   "outputs": [
    {
     "name": "stdout",
     "output_type": "stream",
     "text": [
      "Size/Shape of the dataset:  (98252, 8)\n",
      "Checking for null values:\n",
      " SNo                    0\n",
      "ObservationDate        0\n",
      "Province/State     31156\n",
      "Country/Region         0\n",
      "Last Update            0\n",
      "Confirmed              0\n",
      "Deaths                 0\n",
      "Recovered              0\n",
      "dtype: int64\n",
      "Checking Data-type of each column:\n",
      " SNo                  int64\n",
      "ObservationDate     object\n",
      "Province/State      object\n",
      "Country/Region      object\n",
      "Last Update         object\n",
      "Confirmed          float64\n",
      "Deaths             float64\n",
      "Recovered          float64\n",
      "dtype: object\n"
     ]
    }
   ],
   "source": [
    "print(\"Size/Shape of the dataset: \",covid.shape)\n",
    "print(\"Checking for null values:\\n\",covid.isnull().sum())\n",
    "print(\"Checking Data-type of each column:\\n\",covid.dtypes)"
   ]
  },
  {
   "cell_type": "code",
   "execution_count": 4,
   "metadata": {},
   "outputs": [],
   "source": [
    "#Dropping column as SNo is of no use, and \"Province/State\" contains too many missing values\n",
    "# covid.drop([\"SNo\"],1,inplace=True)\n",
    "covid.drop([\"SNo\"], axis=1, inplace=True)\n"
   ]
  },
  {
   "cell_type": "code",
   "execution_count": 5,
   "metadata": {},
   "outputs": [],
   "source": [
    "#Converting \"Observation Date\" into Datetime format\n",
    "covid[\"ObservationDate\"]=pd.to_datetime(covid[\"ObservationDate\"])"
   ]
  },
  {
   "cell_type": "code",
   "execution_count": 6,
   "metadata": {},
   "outputs": [],
   "source": [
    "grouped_country=covid.groupby([\"Country/Region\",\"ObservationDate\"]).agg({\"Confirmed\":'sum',\"Recovered\":'sum',\"Deaths\":'sum'})"
   ]
  },
  {
   "cell_type": "code",
   "execution_count": 7,
   "metadata": {},
   "outputs": [],
   "source": [
    "grouped_country[\"Active Cases\"]=grouped_country[\"Confirmed\"]-grouped_country[\"Recovered\"]-grouped_country[\"Deaths\"]\n",
    "grouped_country[\"log_confirmed\"]=np.log(grouped_country[\"Confirmed\"])\n",
    "grouped_country[\"log_active\"]=np.log(grouped_country[\"Active Cases\"])"
   ]
  },
  {
   "cell_type": "markdown",
   "metadata": {},
   "source": [
    "Datewise analysis"
   ]
  },
  {
   "cell_type": "code",
   "execution_count": 8,
   "metadata": {},
   "outputs": [],
   "source": [
    "#Grouping different types of cases as per the date\n",
    "datewise=covid.groupby([\"ObservationDate\"]).agg({\"Confirmed\":'sum',\"Recovered\":'sum',\"Deaths\":'sum'})\n",
    "datewise[\"Days Since\"]=datewise.index-datewise.index.min()"
   ]
  },
  {
   "cell_type": "code",
   "execution_count": 9,
   "metadata": {},
   "outputs": [
    {
     "name": "stdout",
     "output_type": "stream",
     "text": [
      "Basic Information\n",
      "Totol number of countries with Disease Spread:  223\n",
      "Total number of Confirmed Cases around the World:  24996456.0\n",
      "Total number of Recovered Cases around the World:  16409757.0\n",
      "Total number of Deaths Cases around the World:  842499.0\n",
      "Total number of Active Cases around the World:  7744200.0\n",
      "Total number of Closed Cases around the World:  17252256.0\n",
      "Approximate number of Confirmed Cases per Day around the World:  113106.0\n",
      "Approximate number of Recovered Cases per Day around the World:  74252.0\n",
      "Approximate number of Death Cases per Day around the World:  3812.0\n",
      "Approximate number of Confirmed Cases per hour around the World:  4713.0\n",
      "Approximate number of Recovered Cases per hour around the World:  3094.0\n",
      "Approximate number of Death Cases per hour around the World:  159.0\n",
      "Number of Confirmed Cases in last 24 hours:  262008.0\n",
      "Number of Recovered Cases in last 24 hours:  211592.0\n",
      "Number of Death Cases in last 24 hours:  5375.0\n"
     ]
    }
   ],
   "source": [
    "print(\"Basic Information\")\n",
    "print(\"Totol number of countries with Disease Spread: \",len(covid[\"Country/Region\"].unique()))\n",
    "print(\"Total number of Confirmed Cases around the World: \",datewise[\"Confirmed\"].iloc[-1])\n",
    "print(\"Total number of Recovered Cases around the World: \",datewise[\"Recovered\"].iloc[-1])\n",
    "print(\"Total number of Deaths Cases around the World: \",datewise[\"Deaths\"].iloc[-1])\n",
    "print(\"Total number of Active Cases around the World: \",(datewise[\"Confirmed\"].iloc[-1]-datewise[\"Recovered\"].iloc[-1]-datewise[\"Deaths\"].iloc[-1]))\n",
    "print(\"Total number of Closed Cases around the World: \",datewise[\"Recovered\"].iloc[-1]+datewise[\"Deaths\"].iloc[-1])\n",
    "print(\"Approximate number of Confirmed Cases per Day around the World: \",np.round(datewise[\"Confirmed\"].iloc[-1]/datewise.shape[0]))\n",
    "print(\"Approximate number of Recovered Cases per Day around the World: \",np.round(datewise[\"Recovered\"].iloc[-1]/datewise.shape[0]))\n",
    "print(\"Approximate number of Death Cases per Day around the World: \",np.round(datewise[\"Deaths\"].iloc[-1]/datewise.shape[0]))\n",
    "print(\"Approximate number of Confirmed Cases per hour around the World: \",np.round(datewise[\"Confirmed\"].iloc[-1]/((datewise.shape[0])*24)))\n",
    "print(\"Approximate number of Recovered Cases per hour around the World: \",np.round(datewise[\"Recovered\"].iloc[-1]/((datewise.shape[0])*24)))\n",
    "print(\"Approximate number of Death Cases per hour around the World: \",np.round(datewise[\"Deaths\"].iloc[-1]/((datewise.shape[0])*24)))\n",
    "print(\"Number of Confirmed Cases in last 24 hours: \",datewise[\"Confirmed\"].iloc[-1]-datewise[\"Confirmed\"].iloc[-2])\n",
    "print(\"Number of Recovered Cases in last 24 hours: \",datewise[\"Recovered\"].iloc[-1]-datewise[\"Recovered\"].iloc[-2])\n",
    "print(\"Number of Death Cases in last 24 hours: \",datewise[\"Deaths\"].iloc[-1]-datewise[\"Deaths\"].iloc[-2])"
   ]
  },
  {
   "cell_type": "code",
   "execution_count": 10,
   "metadata": {},
   "outputs": [
    {
     "data": {
      "application/vnd.plotly.v1+json": {
       "config": {
        "plotlyServerURL": "https://plot.ly"
       },
       "data": [
        {
         "alignmentgroup": "True",
         "hovertemplate": "x=%{x}<br>y=%{y}<extra></extra>",
         "legendgroup": "",
         "marker": {
          "color": "#636efa",
          "pattern": {
           "shape": ""
          }
         },
         "name": "",
         "offsetgroup": "",
         "orientation": "v",
         "showlegend": false,
         "textposition": "auto",
         "type": "bar",
         "x": [
          "2020-01-22T00:00:00",
          "2020-01-23T00:00:00",
          "2020-01-24T00:00:00",
          "2020-01-25T00:00:00",
          "2020-01-26T00:00:00",
          "2020-01-27T00:00:00",
          "2020-01-28T00:00:00",
          "2020-01-29T00:00:00",
          "2020-01-30T00:00:00",
          "2020-01-31T00:00:00",
          "2020-02-01T00:00:00",
          "2020-02-02T00:00:00",
          "2020-02-03T00:00:00",
          "2020-02-04T00:00:00",
          "2020-02-05T00:00:00",
          "2020-02-06T00:00:00",
          "2020-02-07T00:00:00",
          "2020-02-08T00:00:00",
          "2020-02-09T00:00:00",
          "2020-02-10T00:00:00",
          "2020-02-11T00:00:00",
          "2020-02-12T00:00:00",
          "2020-02-13T00:00:00",
          "2020-02-14T00:00:00",
          "2020-02-15T00:00:00",
          "2020-02-16T00:00:00",
          "2020-02-17T00:00:00",
          "2020-02-18T00:00:00",
          "2020-02-19T00:00:00",
          "2020-02-20T00:00:00",
          "2020-02-21T00:00:00",
          "2020-02-22T00:00:00",
          "2020-02-23T00:00:00",
          "2020-02-24T00:00:00",
          "2020-02-25T00:00:00",
          "2020-02-26T00:00:00",
          "2020-02-27T00:00:00",
          "2020-02-28T00:00:00",
          "2020-02-29T00:00:00",
          "2020-03-01T00:00:00",
          "2020-03-02T00:00:00",
          "2020-03-03T00:00:00",
          "2020-03-04T00:00:00",
          "2020-03-05T00:00:00",
          "2020-03-06T00:00:00",
          "2020-03-07T00:00:00",
          "2020-03-08T00:00:00",
          "2020-03-09T00:00:00",
          "2020-03-10T00:00:00",
          "2020-03-11T00:00:00",
          "2020-03-12T00:00:00",
          "2020-03-13T00:00:00",
          "2020-03-14T00:00:00",
          "2020-03-15T00:00:00",
          "2020-03-16T00:00:00",
          "2020-03-17T00:00:00",
          "2020-03-18T00:00:00",
          "2020-03-19T00:00:00",
          "2020-03-20T00:00:00",
          "2020-03-21T00:00:00",
          "2020-03-22T00:00:00",
          "2020-03-23T00:00:00",
          "2020-03-24T00:00:00",
          "2020-03-25T00:00:00",
          "2020-03-26T00:00:00",
          "2020-03-27T00:00:00",
          "2020-03-28T00:00:00",
          "2020-03-29T00:00:00",
          "2020-03-30T00:00:00",
          "2020-03-31T00:00:00",
          "2020-04-01T00:00:00",
          "2020-04-02T00:00:00",
          "2020-04-03T00:00:00",
          "2020-04-04T00:00:00",
          "2020-04-05T00:00:00",
          "2020-04-06T00:00:00",
          "2020-04-07T00:00:00",
          "2020-04-08T00:00:00",
          "2020-04-09T00:00:00",
          "2020-04-10T00:00:00",
          "2020-04-11T00:00:00",
          "2020-04-12T00:00:00",
          "2020-04-13T00:00:00",
          "2020-04-14T00:00:00",
          "2020-04-15T00:00:00",
          "2020-04-16T00:00:00",
          "2020-04-17T00:00:00",
          "2020-04-18T00:00:00",
          "2020-04-19T00:00:00",
          "2020-04-20T00:00:00",
          "2020-04-21T00:00:00",
          "2020-04-22T00:00:00",
          "2020-04-23T00:00:00",
          "2020-04-24T00:00:00",
          "2020-04-25T00:00:00",
          "2020-04-26T00:00:00",
          "2020-04-27T00:00:00",
          "2020-04-28T00:00:00",
          "2020-04-29T00:00:00",
          "2020-04-30T00:00:00",
          "2020-05-01T00:00:00",
          "2020-05-02T00:00:00",
          "2020-05-03T00:00:00",
          "2020-05-04T00:00:00",
          "2020-05-05T00:00:00",
          "2020-05-06T00:00:00",
          "2020-05-07T00:00:00",
          "2020-05-08T00:00:00",
          "2020-05-09T00:00:00",
          "2020-05-10T00:00:00",
          "2020-05-11T00:00:00",
          "2020-05-12T00:00:00",
          "2020-05-13T00:00:00",
          "2020-05-14T00:00:00",
          "2020-05-15T00:00:00",
          "2020-05-16T00:00:00",
          "2020-05-17T00:00:00",
          "2020-05-18T00:00:00",
          "2020-05-19T00:00:00",
          "2020-05-20T00:00:00",
          "2020-05-21T00:00:00",
          "2020-05-22T00:00:00",
          "2020-05-23T00:00:00",
          "2020-05-24T00:00:00",
          "2020-05-25T00:00:00",
          "2020-05-26T00:00:00",
          "2020-05-27T00:00:00",
          "2020-05-28T00:00:00",
          "2020-05-29T00:00:00",
          "2020-05-30T00:00:00",
          "2020-05-31T00:00:00",
          "2020-06-01T00:00:00",
          "2020-06-02T00:00:00",
          "2020-06-03T00:00:00",
          "2020-06-04T00:00:00",
          "2020-06-05T00:00:00",
          "2020-06-06T00:00:00",
          "2020-06-07T00:00:00",
          "2020-06-08T00:00:00",
          "2020-06-09T00:00:00",
          "2020-06-10T00:00:00",
          "2020-06-11T00:00:00",
          "2020-06-12T00:00:00",
          "2020-06-13T00:00:00",
          "2020-06-14T00:00:00",
          "2020-06-15T00:00:00",
          "2020-06-16T00:00:00",
          "2020-06-17T00:00:00",
          "2020-06-18T00:00:00",
          "2020-06-19T00:00:00",
          "2020-06-20T00:00:00",
          "2020-06-21T00:00:00",
          "2020-06-22T00:00:00",
          "2020-06-23T00:00:00",
          "2020-06-24T00:00:00",
          "2020-06-25T00:00:00",
          "2020-06-26T00:00:00",
          "2020-06-27T00:00:00",
          "2020-06-28T00:00:00",
          "2020-06-29T00:00:00",
          "2020-06-30T00:00:00",
          "2020-07-01T00:00:00",
          "2020-07-02T00:00:00",
          "2020-07-03T00:00:00",
          "2020-07-04T00:00:00",
          "2020-07-05T00:00:00",
          "2020-07-06T00:00:00",
          "2020-07-07T00:00:00",
          "2020-07-08T00:00:00",
          "2020-07-09T00:00:00",
          "2020-07-10T00:00:00",
          "2020-07-11T00:00:00",
          "2020-07-12T00:00:00",
          "2020-07-13T00:00:00",
          "2020-07-14T00:00:00",
          "2020-07-15T00:00:00",
          "2020-07-16T00:00:00",
          "2020-07-17T00:00:00",
          "2020-07-18T00:00:00",
          "2020-07-19T00:00:00",
          "2020-07-20T00:00:00",
          "2020-07-21T00:00:00",
          "2020-07-22T00:00:00",
          "2020-07-23T00:00:00",
          "2020-07-24T00:00:00",
          "2020-07-25T00:00:00",
          "2020-07-26T00:00:00",
          "2020-07-27T00:00:00",
          "2020-07-28T00:00:00",
          "2020-07-29T00:00:00",
          "2020-07-30T00:00:00",
          "2020-07-31T00:00:00",
          "2020-08-01T00:00:00",
          "2020-08-02T00:00:00",
          "2020-08-03T00:00:00",
          "2020-08-04T00:00:00",
          "2020-08-05T00:00:00",
          "2020-08-06T00:00:00",
          "2020-08-07T00:00:00",
          "2020-08-08T00:00:00",
          "2020-08-09T00:00:00",
          "2020-08-10T00:00:00",
          "2020-08-11T00:00:00",
          "2020-08-12T00:00:00",
          "2020-08-13T00:00:00",
          "2020-08-14T00:00:00",
          "2020-08-15T00:00:00",
          "2020-08-16T00:00:00",
          "2020-08-17T00:00:00",
          "2020-08-18T00:00:00",
          "2020-08-19T00:00:00",
          "2020-08-20T00:00:00",
          "2020-08-21T00:00:00",
          "2020-08-22T00:00:00",
          "2020-08-23T00:00:00",
          "2020-08-24T00:00:00",
          "2020-08-25T00:00:00",
          "2020-08-26T00:00:00",
          "2020-08-27T00:00:00",
          "2020-08-28T00:00:00",
          "2020-08-29T00:00:00"
         ],
         "xaxis": "x",
         "y": [
          510,
          605,
          879,
          1357,
          2010,
          2784,
          5340,
          5906,
          7921,
          9490,
          11495,
          15953,
          18832,
          22548,
          25948,
          28697,
          31662,
          33699,
          36001,
          37804,
          39007,
          38954,
          52704,
          57306,
          57971,
          58591,
          58809,
          58779,
          57398,
          55775,
          55702,
          53255,
          53122,
          51714,
          49802,
          48243,
          46665,
          44541,
          43290,
          42659,
          41622,
          41455,
          40699,
          40741,
          42474,
          43919,
          45337,
          47074,
          49916,
          54247,
          55299,
          69538,
          77656,
          84973,
          96332,
          108423,
          122869,
          147884,
          173465,
          199900,
          225256,
          260828,
          291648,
          332649,
          383477,
          435184,
          490632,
          537139,
          580247,
          637352,
          692625,
          750057,
          811334,
          886650,
          942729,
          994021,
          1044177,
          1094105,
          1145920,
          1213098,
          1260902,
          1310869,
          1349183,
          1375947,
          1410859,
          1466739,
          1518026,
          1565930,
          1612432,
          1656535,
          1692721,
          1731200,
          1779541,
          1820144,
          1877215,
          1899198,
          1936523,
          1970587,
          1993529,
          2008705,
          2051800,
          2090423,
          2134023,
          2168794,
          2206620,
          2246097,
          2291410,
          2341116,
          2369074,
          2410010,
          2434965,
          2476577,
          2501274,
          2551852,
          2597614,
          2629090,
          2664472,
          2696587,
          2735212,
          2770891,
          2820761,
          2816014,
          2856080,
          2893991,
          2917091,
          2952217,
          2986073,
          3032678,
          3065873,
          3125198,
          3153582,
          3194300,
          3276454,
          3317706,
          3371886,
          3360917,
          3411084,
          3466918,
          3419051,
          3455204,
          3489231,
          3552327,
          3594131,
          3638912,
          3698146,
          3740266,
          3775086,
          3827036,
          3879893,
          3962529,
          3949084,
          4040085,
          4100137,
          4155491,
          4201645,
          4281596,
          4361834,
          4428961,
          4502999,
          4560833,
          4611313,
          4598657,
          4594435,
          4684620,
          4676990,
          4736434,
          4779412,
          4837783,
          4905286,
          4973470,
          5058737,
          5147471,
          5224272,
          5274019,
          5345937,
          5411101,
          5503860,
          5563891,
          5644951,
          5767655,
          5807635,
          5863995,
          5962310,
          6063875,
          6109535,
          6139209,
          6206399,
          6260995,
          6320718,
          6413981,
          6465961,
          6551196,
          6611833,
          6699601,
          6675514,
          6705318,
          6747858,
          6836808,
          6918785,
          6971616,
          7014532,
          7072913,
          7015501,
          7053498,
          7158230,
          7166451,
          7242794,
          7220074,
          7219523,
          7240567,
          7289714,
          7343212,
          7437730,
          7487797,
          7474539,
          7497103,
          7499545,
          7556699,
          7623762,
          7699159,
          7744200
         ],
         "yaxis": "y"
        }
       ],
       "layout": {
        "barmode": "relative",
        "legend": {
         "tracegroupgap": 0
        },
        "margin": {
         "t": 60
        },
        "template": {
         "data": {
          "bar": [
           {
            "error_x": {
             "color": "#2a3f5f"
            },
            "error_y": {
             "color": "#2a3f5f"
            },
            "marker": {
             "line": {
              "color": "#E5ECF6",
              "width": 0.5
             },
             "pattern": {
              "fillmode": "overlay",
              "size": 10,
              "solidity": 0.2
             }
            },
            "type": "bar"
           }
          ],
          "barpolar": [
           {
            "marker": {
             "line": {
              "color": "#E5ECF6",
              "width": 0.5
             },
             "pattern": {
              "fillmode": "overlay",
              "size": 10,
              "solidity": 0.2
             }
            },
            "type": "barpolar"
           }
          ],
          "carpet": [
           {
            "aaxis": {
             "endlinecolor": "#2a3f5f",
             "gridcolor": "white",
             "linecolor": "white",
             "minorgridcolor": "white",
             "startlinecolor": "#2a3f5f"
            },
            "baxis": {
             "endlinecolor": "#2a3f5f",
             "gridcolor": "white",
             "linecolor": "white",
             "minorgridcolor": "white",
             "startlinecolor": "#2a3f5f"
            },
            "type": "carpet"
           }
          ],
          "choropleth": [
           {
            "colorbar": {
             "outlinewidth": 0,
             "ticks": ""
            },
            "type": "choropleth"
           }
          ],
          "contour": [
           {
            "colorbar": {
             "outlinewidth": 0,
             "ticks": ""
            },
            "colorscale": [
             [
              0,
              "#0d0887"
             ],
             [
              0.1111111111111111,
              "#46039f"
             ],
             [
              0.2222222222222222,
              "#7201a8"
             ],
             [
              0.3333333333333333,
              "#9c179e"
             ],
             [
              0.4444444444444444,
              "#bd3786"
             ],
             [
              0.5555555555555556,
              "#d8576b"
             ],
             [
              0.6666666666666666,
              "#ed7953"
             ],
             [
              0.7777777777777778,
              "#fb9f3a"
             ],
             [
              0.8888888888888888,
              "#fdca26"
             ],
             [
              1,
              "#f0f921"
             ]
            ],
            "type": "contour"
           }
          ],
          "contourcarpet": [
           {
            "colorbar": {
             "outlinewidth": 0,
             "ticks": ""
            },
            "type": "contourcarpet"
           }
          ],
          "heatmap": [
           {
            "colorbar": {
             "outlinewidth": 0,
             "ticks": ""
            },
            "colorscale": [
             [
              0,
              "#0d0887"
             ],
             [
              0.1111111111111111,
              "#46039f"
             ],
             [
              0.2222222222222222,
              "#7201a8"
             ],
             [
              0.3333333333333333,
              "#9c179e"
             ],
             [
              0.4444444444444444,
              "#bd3786"
             ],
             [
              0.5555555555555556,
              "#d8576b"
             ],
             [
              0.6666666666666666,
              "#ed7953"
             ],
             [
              0.7777777777777778,
              "#fb9f3a"
             ],
             [
              0.8888888888888888,
              "#fdca26"
             ],
             [
              1,
              "#f0f921"
             ]
            ],
            "type": "heatmap"
           }
          ],
          "heatmapgl": [
           {
            "colorbar": {
             "outlinewidth": 0,
             "ticks": ""
            },
            "colorscale": [
             [
              0,
              "#0d0887"
             ],
             [
              0.1111111111111111,
              "#46039f"
             ],
             [
              0.2222222222222222,
              "#7201a8"
             ],
             [
              0.3333333333333333,
              "#9c179e"
             ],
             [
              0.4444444444444444,
              "#bd3786"
             ],
             [
              0.5555555555555556,
              "#d8576b"
             ],
             [
              0.6666666666666666,
              "#ed7953"
             ],
             [
              0.7777777777777778,
              "#fb9f3a"
             ],
             [
              0.8888888888888888,
              "#fdca26"
             ],
             [
              1,
              "#f0f921"
             ]
            ],
            "type": "heatmapgl"
           }
          ],
          "histogram": [
           {
            "marker": {
             "pattern": {
              "fillmode": "overlay",
              "size": 10,
              "solidity": 0.2
             }
            },
            "type": "histogram"
           }
          ],
          "histogram2d": [
           {
            "colorbar": {
             "outlinewidth": 0,
             "ticks": ""
            },
            "colorscale": [
             [
              0,
              "#0d0887"
             ],
             [
              0.1111111111111111,
              "#46039f"
             ],
             [
              0.2222222222222222,
              "#7201a8"
             ],
             [
              0.3333333333333333,
              "#9c179e"
             ],
             [
              0.4444444444444444,
              "#bd3786"
             ],
             [
              0.5555555555555556,
              "#d8576b"
             ],
             [
              0.6666666666666666,
              "#ed7953"
             ],
             [
              0.7777777777777778,
              "#fb9f3a"
             ],
             [
              0.8888888888888888,
              "#fdca26"
             ],
             [
              1,
              "#f0f921"
             ]
            ],
            "type": "histogram2d"
           }
          ],
          "histogram2dcontour": [
           {
            "colorbar": {
             "outlinewidth": 0,
             "ticks": ""
            },
            "colorscale": [
             [
              0,
              "#0d0887"
             ],
             [
              0.1111111111111111,
              "#46039f"
             ],
             [
              0.2222222222222222,
              "#7201a8"
             ],
             [
              0.3333333333333333,
              "#9c179e"
             ],
             [
              0.4444444444444444,
              "#bd3786"
             ],
             [
              0.5555555555555556,
              "#d8576b"
             ],
             [
              0.6666666666666666,
              "#ed7953"
             ],
             [
              0.7777777777777778,
              "#fb9f3a"
             ],
             [
              0.8888888888888888,
              "#fdca26"
             ],
             [
              1,
              "#f0f921"
             ]
            ],
            "type": "histogram2dcontour"
           }
          ],
          "mesh3d": [
           {
            "colorbar": {
             "outlinewidth": 0,
             "ticks": ""
            },
            "type": "mesh3d"
           }
          ],
          "parcoords": [
           {
            "line": {
             "colorbar": {
              "outlinewidth": 0,
              "ticks": ""
             }
            },
            "type": "parcoords"
           }
          ],
          "pie": [
           {
            "automargin": true,
            "type": "pie"
           }
          ],
          "scatter": [
           {
            "fillpattern": {
             "fillmode": "overlay",
             "size": 10,
             "solidity": 0.2
            },
            "type": "scatter"
           }
          ],
          "scatter3d": [
           {
            "line": {
             "colorbar": {
              "outlinewidth": 0,
              "ticks": ""
             }
            },
            "marker": {
             "colorbar": {
              "outlinewidth": 0,
              "ticks": ""
             }
            },
            "type": "scatter3d"
           }
          ],
          "scattercarpet": [
           {
            "marker": {
             "colorbar": {
              "outlinewidth": 0,
              "ticks": ""
             }
            },
            "type": "scattercarpet"
           }
          ],
          "scattergeo": [
           {
            "marker": {
             "colorbar": {
              "outlinewidth": 0,
              "ticks": ""
             }
            },
            "type": "scattergeo"
           }
          ],
          "scattergl": [
           {
            "marker": {
             "colorbar": {
              "outlinewidth": 0,
              "ticks": ""
             }
            },
            "type": "scattergl"
           }
          ],
          "scattermapbox": [
           {
            "marker": {
             "colorbar": {
              "outlinewidth": 0,
              "ticks": ""
             }
            },
            "type": "scattermapbox"
           }
          ],
          "scatterpolar": [
           {
            "marker": {
             "colorbar": {
              "outlinewidth": 0,
              "ticks": ""
             }
            },
            "type": "scatterpolar"
           }
          ],
          "scatterpolargl": [
           {
            "marker": {
             "colorbar": {
              "outlinewidth": 0,
              "ticks": ""
             }
            },
            "type": "scatterpolargl"
           }
          ],
          "scatterternary": [
           {
            "marker": {
             "colorbar": {
              "outlinewidth": 0,
              "ticks": ""
             }
            },
            "type": "scatterternary"
           }
          ],
          "surface": [
           {
            "colorbar": {
             "outlinewidth": 0,
             "ticks": ""
            },
            "colorscale": [
             [
              0,
              "#0d0887"
             ],
             [
              0.1111111111111111,
              "#46039f"
             ],
             [
              0.2222222222222222,
              "#7201a8"
             ],
             [
              0.3333333333333333,
              "#9c179e"
             ],
             [
              0.4444444444444444,
              "#bd3786"
             ],
             [
              0.5555555555555556,
              "#d8576b"
             ],
             [
              0.6666666666666666,
              "#ed7953"
             ],
             [
              0.7777777777777778,
              "#fb9f3a"
             ],
             [
              0.8888888888888888,
              "#fdca26"
             ],
             [
              1,
              "#f0f921"
             ]
            ],
            "type": "surface"
           }
          ],
          "table": [
           {
            "cells": {
             "fill": {
              "color": "#EBF0F8"
             },
             "line": {
              "color": "white"
             }
            },
            "header": {
             "fill": {
              "color": "#C8D4E3"
             },
             "line": {
              "color": "white"
             }
            },
            "type": "table"
           }
          ]
         },
         "layout": {
          "annotationdefaults": {
           "arrowcolor": "#2a3f5f",
           "arrowhead": 0,
           "arrowwidth": 1
          },
          "autotypenumbers": "strict",
          "coloraxis": {
           "colorbar": {
            "outlinewidth": 0,
            "ticks": ""
           }
          },
          "colorscale": {
           "diverging": [
            [
             0,
             "#8e0152"
            ],
            [
             0.1,
             "#c51b7d"
            ],
            [
             0.2,
             "#de77ae"
            ],
            [
             0.3,
             "#f1b6da"
            ],
            [
             0.4,
             "#fde0ef"
            ],
            [
             0.5,
             "#f7f7f7"
            ],
            [
             0.6,
             "#e6f5d0"
            ],
            [
             0.7,
             "#b8e186"
            ],
            [
             0.8,
             "#7fbc41"
            ],
            [
             0.9,
             "#4d9221"
            ],
            [
             1,
             "#276419"
            ]
           ],
           "sequential": [
            [
             0,
             "#0d0887"
            ],
            [
             0.1111111111111111,
             "#46039f"
            ],
            [
             0.2222222222222222,
             "#7201a8"
            ],
            [
             0.3333333333333333,
             "#9c179e"
            ],
            [
             0.4444444444444444,
             "#bd3786"
            ],
            [
             0.5555555555555556,
             "#d8576b"
            ],
            [
             0.6666666666666666,
             "#ed7953"
            ],
            [
             0.7777777777777778,
             "#fb9f3a"
            ],
            [
             0.8888888888888888,
             "#fdca26"
            ],
            [
             1,
             "#f0f921"
            ]
           ],
           "sequentialminus": [
            [
             0,
             "#0d0887"
            ],
            [
             0.1111111111111111,
             "#46039f"
            ],
            [
             0.2222222222222222,
             "#7201a8"
            ],
            [
             0.3333333333333333,
             "#9c179e"
            ],
            [
             0.4444444444444444,
             "#bd3786"
            ],
            [
             0.5555555555555556,
             "#d8576b"
            ],
            [
             0.6666666666666666,
             "#ed7953"
            ],
            [
             0.7777777777777778,
             "#fb9f3a"
            ],
            [
             0.8888888888888888,
             "#fdca26"
            ],
            [
             1,
             "#f0f921"
            ]
           ]
          },
          "colorway": [
           "#636efa",
           "#EF553B",
           "#00cc96",
           "#ab63fa",
           "#FFA15A",
           "#19d3f3",
           "#FF6692",
           "#B6E880",
           "#FF97FF",
           "#FECB52"
          ],
          "font": {
           "color": "#2a3f5f"
          },
          "geo": {
           "bgcolor": "white",
           "lakecolor": "white",
           "landcolor": "#E5ECF6",
           "showlakes": true,
           "showland": true,
           "subunitcolor": "white"
          },
          "hoverlabel": {
           "align": "left"
          },
          "hovermode": "closest",
          "mapbox": {
           "style": "light"
          },
          "paper_bgcolor": "white",
          "plot_bgcolor": "#E5ECF6",
          "polar": {
           "angularaxis": {
            "gridcolor": "white",
            "linecolor": "white",
            "ticks": ""
           },
           "bgcolor": "#E5ECF6",
           "radialaxis": {
            "gridcolor": "white",
            "linecolor": "white",
            "ticks": ""
           }
          },
          "scene": {
           "xaxis": {
            "backgroundcolor": "#E5ECF6",
            "gridcolor": "white",
            "gridwidth": 2,
            "linecolor": "white",
            "showbackground": true,
            "ticks": "",
            "zerolinecolor": "white"
           },
           "yaxis": {
            "backgroundcolor": "#E5ECF6",
            "gridcolor": "white",
            "gridwidth": 2,
            "linecolor": "white",
            "showbackground": true,
            "ticks": "",
            "zerolinecolor": "white"
           },
           "zaxis": {
            "backgroundcolor": "#E5ECF6",
            "gridcolor": "white",
            "gridwidth": 2,
            "linecolor": "white",
            "showbackground": true,
            "ticks": "",
            "zerolinecolor": "white"
           }
          },
          "shapedefaults": {
           "line": {
            "color": "#2a3f5f"
           }
          },
          "ternary": {
           "aaxis": {
            "gridcolor": "white",
            "linecolor": "white",
            "ticks": ""
           },
           "baxis": {
            "gridcolor": "white",
            "linecolor": "white",
            "ticks": ""
           },
           "bgcolor": "#E5ECF6",
           "caxis": {
            "gridcolor": "white",
            "linecolor": "white",
            "ticks": ""
           }
          },
          "title": {
           "x": 0.05
          },
          "xaxis": {
           "automargin": true,
           "gridcolor": "white",
           "linecolor": "white",
           "ticks": "",
           "title": {
            "standoff": 15
           },
           "zerolinecolor": "white",
           "zerolinewidth": 2
          },
          "yaxis": {
           "automargin": true,
           "gridcolor": "white",
           "linecolor": "white",
           "ticks": "",
           "title": {
            "standoff": 15
           },
           "zerolinecolor": "white",
           "zerolinewidth": 2
          }
         }
        },
        "title": {
         "text": "Distribution of Number of Active Cases"
        },
        "xaxis": {
         "anchor": "y",
         "domain": [
          0,
          1
         ],
         "title": {
          "text": "Date"
         }
        },
        "yaxis": {
         "anchor": "x",
         "domain": [
          0,
          1
         ],
         "title": {
          "text": "Number of Cases"
         }
        }
       }
      }
     },
     "metadata": {},
     "output_type": "display_data"
    }
   ],
   "source": [
    "fig=px.bar(x=datewise.index,y=datewise[\"Confirmed\"]-datewise[\"Recovered\"]-datewise[\"Deaths\"])\n",
    "fig.update_layout(title=\"Distribution of Number of Active Cases\",\n",
    "                  xaxis_title=\"Date\",yaxis_title=\"Number of Cases\",)\n",
    "fig.show()"
   ]
  },
  {
   "cell_type": "markdown",
   "metadata": {},
   "source": [
    "Active Cases = Number of Confirmed Cases - Number of Recovered Cases - Number of Death Cases\n",
    "\n",
    "Increase in number of Active Cases is probably an indication of Recovered case or Death case number is dropping in comparison to number of Confirmed Cases drastically. Will look for the conclusive evidence for the same in the notebook ahead."
   ]
  },
  {
   "cell_type": "code",
   "execution_count": 11,
   "metadata": {},
   "outputs": [
    {
     "data": {
      "application/vnd.plotly.v1+json": {
       "config": {
        "plotlyServerURL": "https://plot.ly"
       },
       "data": [
        {
         "alignmentgroup": "True",
         "hovertemplate": "x=%{x}<br>y=%{y}<extra></extra>",
         "legendgroup": "",
         "marker": {
          "color": "#636efa",
          "pattern": {
           "shape": ""
          }
         },
         "name": "",
         "offsetgroup": "",
         "orientation": "v",
         "showlegend": false,
         "textposition": "auto",
         "type": "bar",
         "x": [
          "2020-01-22T00:00:00",
          "2020-01-23T00:00:00",
          "2020-01-24T00:00:00",
          "2020-01-25T00:00:00",
          "2020-01-26T00:00:00",
          "2020-01-27T00:00:00",
          "2020-01-28T00:00:00",
          "2020-01-29T00:00:00",
          "2020-01-30T00:00:00",
          "2020-01-31T00:00:00",
          "2020-02-01T00:00:00",
          "2020-02-02T00:00:00",
          "2020-02-03T00:00:00",
          "2020-02-04T00:00:00",
          "2020-02-05T00:00:00",
          "2020-02-06T00:00:00",
          "2020-02-07T00:00:00",
          "2020-02-08T00:00:00",
          "2020-02-09T00:00:00",
          "2020-02-10T00:00:00",
          "2020-02-11T00:00:00",
          "2020-02-12T00:00:00",
          "2020-02-13T00:00:00",
          "2020-02-14T00:00:00",
          "2020-02-15T00:00:00",
          "2020-02-16T00:00:00",
          "2020-02-17T00:00:00",
          "2020-02-18T00:00:00",
          "2020-02-19T00:00:00",
          "2020-02-20T00:00:00",
          "2020-02-21T00:00:00",
          "2020-02-22T00:00:00",
          "2020-02-23T00:00:00",
          "2020-02-24T00:00:00",
          "2020-02-25T00:00:00",
          "2020-02-26T00:00:00",
          "2020-02-27T00:00:00",
          "2020-02-28T00:00:00",
          "2020-02-29T00:00:00",
          "2020-03-01T00:00:00",
          "2020-03-02T00:00:00",
          "2020-03-03T00:00:00",
          "2020-03-04T00:00:00",
          "2020-03-05T00:00:00",
          "2020-03-06T00:00:00",
          "2020-03-07T00:00:00",
          "2020-03-08T00:00:00",
          "2020-03-09T00:00:00",
          "2020-03-10T00:00:00",
          "2020-03-11T00:00:00",
          "2020-03-12T00:00:00",
          "2020-03-13T00:00:00",
          "2020-03-14T00:00:00",
          "2020-03-15T00:00:00",
          "2020-03-16T00:00:00",
          "2020-03-17T00:00:00",
          "2020-03-18T00:00:00",
          "2020-03-19T00:00:00",
          "2020-03-20T00:00:00",
          "2020-03-21T00:00:00",
          "2020-03-22T00:00:00",
          "2020-03-23T00:00:00",
          "2020-03-24T00:00:00",
          "2020-03-25T00:00:00",
          "2020-03-26T00:00:00",
          "2020-03-27T00:00:00",
          "2020-03-28T00:00:00",
          "2020-03-29T00:00:00",
          "2020-03-30T00:00:00",
          "2020-03-31T00:00:00",
          "2020-04-01T00:00:00",
          "2020-04-02T00:00:00",
          "2020-04-03T00:00:00",
          "2020-04-04T00:00:00",
          "2020-04-05T00:00:00",
          "2020-04-06T00:00:00",
          "2020-04-07T00:00:00",
          "2020-04-08T00:00:00",
          "2020-04-09T00:00:00",
          "2020-04-10T00:00:00",
          "2020-04-11T00:00:00",
          "2020-04-12T00:00:00",
          "2020-04-13T00:00:00",
          "2020-04-14T00:00:00",
          "2020-04-15T00:00:00",
          "2020-04-16T00:00:00",
          "2020-04-17T00:00:00",
          "2020-04-18T00:00:00",
          "2020-04-19T00:00:00",
          "2020-04-20T00:00:00",
          "2020-04-21T00:00:00",
          "2020-04-22T00:00:00",
          "2020-04-23T00:00:00",
          "2020-04-24T00:00:00",
          "2020-04-25T00:00:00",
          "2020-04-26T00:00:00",
          "2020-04-27T00:00:00",
          "2020-04-28T00:00:00",
          "2020-04-29T00:00:00",
          "2020-04-30T00:00:00",
          "2020-05-01T00:00:00",
          "2020-05-02T00:00:00",
          "2020-05-03T00:00:00",
          "2020-05-04T00:00:00",
          "2020-05-05T00:00:00",
          "2020-05-06T00:00:00",
          "2020-05-07T00:00:00",
          "2020-05-08T00:00:00",
          "2020-05-09T00:00:00",
          "2020-05-10T00:00:00",
          "2020-05-11T00:00:00",
          "2020-05-12T00:00:00",
          "2020-05-13T00:00:00",
          "2020-05-14T00:00:00",
          "2020-05-15T00:00:00",
          "2020-05-16T00:00:00",
          "2020-05-17T00:00:00",
          "2020-05-18T00:00:00",
          "2020-05-19T00:00:00",
          "2020-05-20T00:00:00",
          "2020-05-21T00:00:00",
          "2020-05-22T00:00:00",
          "2020-05-23T00:00:00",
          "2020-05-24T00:00:00",
          "2020-05-25T00:00:00",
          "2020-05-26T00:00:00",
          "2020-05-27T00:00:00",
          "2020-05-28T00:00:00",
          "2020-05-29T00:00:00",
          "2020-05-30T00:00:00",
          "2020-05-31T00:00:00",
          "2020-06-01T00:00:00",
          "2020-06-02T00:00:00",
          "2020-06-03T00:00:00",
          "2020-06-04T00:00:00",
          "2020-06-05T00:00:00",
          "2020-06-06T00:00:00",
          "2020-06-07T00:00:00",
          "2020-06-08T00:00:00",
          "2020-06-09T00:00:00",
          "2020-06-10T00:00:00",
          "2020-06-11T00:00:00",
          "2020-06-12T00:00:00",
          "2020-06-13T00:00:00",
          "2020-06-14T00:00:00",
          "2020-06-15T00:00:00",
          "2020-06-16T00:00:00",
          "2020-06-17T00:00:00",
          "2020-06-18T00:00:00",
          "2020-06-19T00:00:00",
          "2020-06-20T00:00:00",
          "2020-06-21T00:00:00",
          "2020-06-22T00:00:00",
          "2020-06-23T00:00:00",
          "2020-06-24T00:00:00",
          "2020-06-25T00:00:00",
          "2020-06-26T00:00:00",
          "2020-06-27T00:00:00",
          "2020-06-28T00:00:00",
          "2020-06-29T00:00:00",
          "2020-06-30T00:00:00",
          "2020-07-01T00:00:00",
          "2020-07-02T00:00:00",
          "2020-07-03T00:00:00",
          "2020-07-04T00:00:00",
          "2020-07-05T00:00:00",
          "2020-07-06T00:00:00",
          "2020-07-07T00:00:00",
          "2020-07-08T00:00:00",
          "2020-07-09T00:00:00",
          "2020-07-10T00:00:00",
          "2020-07-11T00:00:00",
          "2020-07-12T00:00:00",
          "2020-07-13T00:00:00",
          "2020-07-14T00:00:00",
          "2020-07-15T00:00:00",
          "2020-07-16T00:00:00",
          "2020-07-17T00:00:00",
          "2020-07-18T00:00:00",
          "2020-07-19T00:00:00",
          "2020-07-20T00:00:00",
          "2020-07-21T00:00:00",
          "2020-07-22T00:00:00",
          "2020-07-23T00:00:00",
          "2020-07-24T00:00:00",
          "2020-07-25T00:00:00",
          "2020-07-26T00:00:00",
          "2020-07-27T00:00:00",
          "2020-07-28T00:00:00",
          "2020-07-29T00:00:00",
          "2020-07-30T00:00:00",
          "2020-07-31T00:00:00",
          "2020-08-01T00:00:00",
          "2020-08-02T00:00:00",
          "2020-08-03T00:00:00",
          "2020-08-04T00:00:00",
          "2020-08-05T00:00:00",
          "2020-08-06T00:00:00",
          "2020-08-07T00:00:00",
          "2020-08-08T00:00:00",
          "2020-08-09T00:00:00",
          "2020-08-10T00:00:00",
          "2020-08-11T00:00:00",
          "2020-08-12T00:00:00",
          "2020-08-13T00:00:00",
          "2020-08-14T00:00:00",
          "2020-08-15T00:00:00",
          "2020-08-16T00:00:00",
          "2020-08-17T00:00:00",
          "2020-08-18T00:00:00",
          "2020-08-19T00:00:00",
          "2020-08-20T00:00:00",
          "2020-08-21T00:00:00",
          "2020-08-22T00:00:00",
          "2020-08-23T00:00:00",
          "2020-08-24T00:00:00",
          "2020-08-25T00:00:00",
          "2020-08-26T00:00:00",
          "2020-08-27T00:00:00",
          "2020-08-28T00:00:00",
          "2020-08-29T00:00:00"
         ],
         "xaxis": "x",
         "y": [
          45,
          48,
          62,
          81,
          108,
          143,
          238,
          259,
          314,
          435,
          543,
          834,
          1049,
          1344,
          1688,
          2121,
          2730,
          3422,
          4150,
          4959,
          5796,
          6268,
          7666,
          9581,
          11061,
          12635,
          14451,
          16359,
          18243,
          20424,
          21141,
          25344,
          25863,
          27856,
          30613,
          33154,
          36091,
          39583,
          42723,
          45712,
          48687,
          51389,
          54425,
          57145,
          59326,
          61917,
          64498,
          66508,
          68666,
          71618,
          73044,
          75655,
          78443,
          82474,
          85214,
          88745,
          92046,
          94829,
          98702,
          104649,
          111866,
          117455,
          126314,
          134945,
          146114,
          158107,
          170061,
          183001,
          202142,
          220135,
          239980,
          263246,
          284583,
          310758,
          329386,
          351080,
          381919,
          416999,
          449430,
          478621,
          510612,
          535811,
          568137,
          600245,
          645196,
          685908,
          722165,
          751829,
          788947,
          815724,
          856402,
          892760,
          929344,
          990571,
          1019531,
          1072277,
          1105134,
          1145811,
          1200357,
          1248141,
          1291977,
          1336920,
          1372706,
          1414261,
          1456071,
          1509244,
          1554308,
          1596948,
          1654935,
          1691689,
          1742539,
          1785378,
          1845744,
          1890311,
          1944733,
          2004978,
          2049148,
          2105356,
          2162280,
          2225581,
          2281663,
          2394803,
          2454282,
          2513622,
          2577970,
          2637409,
          2705717,
          2776268,
          2858402,
          2933819,
          3013364,
          3071552,
          3109910,
          3190929,
          3261099,
          3409253,
          3485833,
          3543664,
          3699951,
          3787109,
          3871008,
          3962154,
          4038671,
          4128040,
          4202778,
          4294238,
          4398854,
          4522914,
          4609084,
          4705994,
          4842720,
          4915451,
          4998504,
          5107975,
          5228871,
          5328233,
          5439738,
          5550574,
          5642792,
          5741318,
          5864525,
          6093894,
          6275304,
          6390258,
          6590319,
          6713273,
          6840684,
          6991819,
          7136194,
          7295048,
          7439730,
          7570437,
          7686085,
          7830372,
          7978120,
          8143376,
          8301436,
          8491408,
          8647971,
          8739836,
          8900325,
          9083433,
          9267430,
          9447282,
          9682855,
          9907777,
          10046142,
          10226674,
          10370809,
          10615174,
          10843844,
          11048640,
          11238646,
          11379915,
          11606694,
          11835471,
          12064095,
          12260341,
          12459251,
          12665890,
          12847151,
          13016711,
          13328088,
          13577270,
          13747765,
          14042553,
          14216905,
          14452112,
          14662335,
          14897359,
          15121586,
          15335271,
          15511504,
          15715735,
          15945879,
          16150274,
          16389605,
          16620137,
          16828867,
          17035289,
          17252256
         ],
         "yaxis": "y"
        }
       ],
       "layout": {
        "barmode": "relative",
        "legend": {
         "tracegroupgap": 0
        },
        "margin": {
         "t": 60
        },
        "template": {
         "data": {
          "bar": [
           {
            "error_x": {
             "color": "#2a3f5f"
            },
            "error_y": {
             "color": "#2a3f5f"
            },
            "marker": {
             "line": {
              "color": "#E5ECF6",
              "width": 0.5
             },
             "pattern": {
              "fillmode": "overlay",
              "size": 10,
              "solidity": 0.2
             }
            },
            "type": "bar"
           }
          ],
          "barpolar": [
           {
            "marker": {
             "line": {
              "color": "#E5ECF6",
              "width": 0.5
             },
             "pattern": {
              "fillmode": "overlay",
              "size": 10,
              "solidity": 0.2
             }
            },
            "type": "barpolar"
           }
          ],
          "carpet": [
           {
            "aaxis": {
             "endlinecolor": "#2a3f5f",
             "gridcolor": "white",
             "linecolor": "white",
             "minorgridcolor": "white",
             "startlinecolor": "#2a3f5f"
            },
            "baxis": {
             "endlinecolor": "#2a3f5f",
             "gridcolor": "white",
             "linecolor": "white",
             "minorgridcolor": "white",
             "startlinecolor": "#2a3f5f"
            },
            "type": "carpet"
           }
          ],
          "choropleth": [
           {
            "colorbar": {
             "outlinewidth": 0,
             "ticks": ""
            },
            "type": "choropleth"
           }
          ],
          "contour": [
           {
            "colorbar": {
             "outlinewidth": 0,
             "ticks": ""
            },
            "colorscale": [
             [
              0,
              "#0d0887"
             ],
             [
              0.1111111111111111,
              "#46039f"
             ],
             [
              0.2222222222222222,
              "#7201a8"
             ],
             [
              0.3333333333333333,
              "#9c179e"
             ],
             [
              0.4444444444444444,
              "#bd3786"
             ],
             [
              0.5555555555555556,
              "#d8576b"
             ],
             [
              0.6666666666666666,
              "#ed7953"
             ],
             [
              0.7777777777777778,
              "#fb9f3a"
             ],
             [
              0.8888888888888888,
              "#fdca26"
             ],
             [
              1,
              "#f0f921"
             ]
            ],
            "type": "contour"
           }
          ],
          "contourcarpet": [
           {
            "colorbar": {
             "outlinewidth": 0,
             "ticks": ""
            },
            "type": "contourcarpet"
           }
          ],
          "heatmap": [
           {
            "colorbar": {
             "outlinewidth": 0,
             "ticks": ""
            },
            "colorscale": [
             [
              0,
              "#0d0887"
             ],
             [
              0.1111111111111111,
              "#46039f"
             ],
             [
              0.2222222222222222,
              "#7201a8"
             ],
             [
              0.3333333333333333,
              "#9c179e"
             ],
             [
              0.4444444444444444,
              "#bd3786"
             ],
             [
              0.5555555555555556,
              "#d8576b"
             ],
             [
              0.6666666666666666,
              "#ed7953"
             ],
             [
              0.7777777777777778,
              "#fb9f3a"
             ],
             [
              0.8888888888888888,
              "#fdca26"
             ],
             [
              1,
              "#f0f921"
             ]
            ],
            "type": "heatmap"
           }
          ],
          "heatmapgl": [
           {
            "colorbar": {
             "outlinewidth": 0,
             "ticks": ""
            },
            "colorscale": [
             [
              0,
              "#0d0887"
             ],
             [
              0.1111111111111111,
              "#46039f"
             ],
             [
              0.2222222222222222,
              "#7201a8"
             ],
             [
              0.3333333333333333,
              "#9c179e"
             ],
             [
              0.4444444444444444,
              "#bd3786"
             ],
             [
              0.5555555555555556,
              "#d8576b"
             ],
             [
              0.6666666666666666,
              "#ed7953"
             ],
             [
              0.7777777777777778,
              "#fb9f3a"
             ],
             [
              0.8888888888888888,
              "#fdca26"
             ],
             [
              1,
              "#f0f921"
             ]
            ],
            "type": "heatmapgl"
           }
          ],
          "histogram": [
           {
            "marker": {
             "pattern": {
              "fillmode": "overlay",
              "size": 10,
              "solidity": 0.2
             }
            },
            "type": "histogram"
           }
          ],
          "histogram2d": [
           {
            "colorbar": {
             "outlinewidth": 0,
             "ticks": ""
            },
            "colorscale": [
             [
              0,
              "#0d0887"
             ],
             [
              0.1111111111111111,
              "#46039f"
             ],
             [
              0.2222222222222222,
              "#7201a8"
             ],
             [
              0.3333333333333333,
              "#9c179e"
             ],
             [
              0.4444444444444444,
              "#bd3786"
             ],
             [
              0.5555555555555556,
              "#d8576b"
             ],
             [
              0.6666666666666666,
              "#ed7953"
             ],
             [
              0.7777777777777778,
              "#fb9f3a"
             ],
             [
              0.8888888888888888,
              "#fdca26"
             ],
             [
              1,
              "#f0f921"
             ]
            ],
            "type": "histogram2d"
           }
          ],
          "histogram2dcontour": [
           {
            "colorbar": {
             "outlinewidth": 0,
             "ticks": ""
            },
            "colorscale": [
             [
              0,
              "#0d0887"
             ],
             [
              0.1111111111111111,
              "#46039f"
             ],
             [
              0.2222222222222222,
              "#7201a8"
             ],
             [
              0.3333333333333333,
              "#9c179e"
             ],
             [
              0.4444444444444444,
              "#bd3786"
             ],
             [
              0.5555555555555556,
              "#d8576b"
             ],
             [
              0.6666666666666666,
              "#ed7953"
             ],
             [
              0.7777777777777778,
              "#fb9f3a"
             ],
             [
              0.8888888888888888,
              "#fdca26"
             ],
             [
              1,
              "#f0f921"
             ]
            ],
            "type": "histogram2dcontour"
           }
          ],
          "mesh3d": [
           {
            "colorbar": {
             "outlinewidth": 0,
             "ticks": ""
            },
            "type": "mesh3d"
           }
          ],
          "parcoords": [
           {
            "line": {
             "colorbar": {
              "outlinewidth": 0,
              "ticks": ""
             }
            },
            "type": "parcoords"
           }
          ],
          "pie": [
           {
            "automargin": true,
            "type": "pie"
           }
          ],
          "scatter": [
           {
            "fillpattern": {
             "fillmode": "overlay",
             "size": 10,
             "solidity": 0.2
            },
            "type": "scatter"
           }
          ],
          "scatter3d": [
           {
            "line": {
             "colorbar": {
              "outlinewidth": 0,
              "ticks": ""
             }
            },
            "marker": {
             "colorbar": {
              "outlinewidth": 0,
              "ticks": ""
             }
            },
            "type": "scatter3d"
           }
          ],
          "scattercarpet": [
           {
            "marker": {
             "colorbar": {
              "outlinewidth": 0,
              "ticks": ""
             }
            },
            "type": "scattercarpet"
           }
          ],
          "scattergeo": [
           {
            "marker": {
             "colorbar": {
              "outlinewidth": 0,
              "ticks": ""
             }
            },
            "type": "scattergeo"
           }
          ],
          "scattergl": [
           {
            "marker": {
             "colorbar": {
              "outlinewidth": 0,
              "ticks": ""
             }
            },
            "type": "scattergl"
           }
          ],
          "scattermapbox": [
           {
            "marker": {
             "colorbar": {
              "outlinewidth": 0,
              "ticks": ""
             }
            },
            "type": "scattermapbox"
           }
          ],
          "scatterpolar": [
           {
            "marker": {
             "colorbar": {
              "outlinewidth": 0,
              "ticks": ""
             }
            },
            "type": "scatterpolar"
           }
          ],
          "scatterpolargl": [
           {
            "marker": {
             "colorbar": {
              "outlinewidth": 0,
              "ticks": ""
             }
            },
            "type": "scatterpolargl"
           }
          ],
          "scatterternary": [
           {
            "marker": {
             "colorbar": {
              "outlinewidth": 0,
              "ticks": ""
             }
            },
            "type": "scatterternary"
           }
          ],
          "surface": [
           {
            "colorbar": {
             "outlinewidth": 0,
             "ticks": ""
            },
            "colorscale": [
             [
              0,
              "#0d0887"
             ],
             [
              0.1111111111111111,
              "#46039f"
             ],
             [
              0.2222222222222222,
              "#7201a8"
             ],
             [
              0.3333333333333333,
              "#9c179e"
             ],
             [
              0.4444444444444444,
              "#bd3786"
             ],
             [
              0.5555555555555556,
              "#d8576b"
             ],
             [
              0.6666666666666666,
              "#ed7953"
             ],
             [
              0.7777777777777778,
              "#fb9f3a"
             ],
             [
              0.8888888888888888,
              "#fdca26"
             ],
             [
              1,
              "#f0f921"
             ]
            ],
            "type": "surface"
           }
          ],
          "table": [
           {
            "cells": {
             "fill": {
              "color": "#EBF0F8"
             },
             "line": {
              "color": "white"
             }
            },
            "header": {
             "fill": {
              "color": "#C8D4E3"
             },
             "line": {
              "color": "white"
             }
            },
            "type": "table"
           }
          ]
         },
         "layout": {
          "annotationdefaults": {
           "arrowcolor": "#2a3f5f",
           "arrowhead": 0,
           "arrowwidth": 1
          },
          "autotypenumbers": "strict",
          "coloraxis": {
           "colorbar": {
            "outlinewidth": 0,
            "ticks": ""
           }
          },
          "colorscale": {
           "diverging": [
            [
             0,
             "#8e0152"
            ],
            [
             0.1,
             "#c51b7d"
            ],
            [
             0.2,
             "#de77ae"
            ],
            [
             0.3,
             "#f1b6da"
            ],
            [
             0.4,
             "#fde0ef"
            ],
            [
             0.5,
             "#f7f7f7"
            ],
            [
             0.6,
             "#e6f5d0"
            ],
            [
             0.7,
             "#b8e186"
            ],
            [
             0.8,
             "#7fbc41"
            ],
            [
             0.9,
             "#4d9221"
            ],
            [
             1,
             "#276419"
            ]
           ],
           "sequential": [
            [
             0,
             "#0d0887"
            ],
            [
             0.1111111111111111,
             "#46039f"
            ],
            [
             0.2222222222222222,
             "#7201a8"
            ],
            [
             0.3333333333333333,
             "#9c179e"
            ],
            [
             0.4444444444444444,
             "#bd3786"
            ],
            [
             0.5555555555555556,
             "#d8576b"
            ],
            [
             0.6666666666666666,
             "#ed7953"
            ],
            [
             0.7777777777777778,
             "#fb9f3a"
            ],
            [
             0.8888888888888888,
             "#fdca26"
            ],
            [
             1,
             "#f0f921"
            ]
           ],
           "sequentialminus": [
            [
             0,
             "#0d0887"
            ],
            [
             0.1111111111111111,
             "#46039f"
            ],
            [
             0.2222222222222222,
             "#7201a8"
            ],
            [
             0.3333333333333333,
             "#9c179e"
            ],
            [
             0.4444444444444444,
             "#bd3786"
            ],
            [
             0.5555555555555556,
             "#d8576b"
            ],
            [
             0.6666666666666666,
             "#ed7953"
            ],
            [
             0.7777777777777778,
             "#fb9f3a"
            ],
            [
             0.8888888888888888,
             "#fdca26"
            ],
            [
             1,
             "#f0f921"
            ]
           ]
          },
          "colorway": [
           "#636efa",
           "#EF553B",
           "#00cc96",
           "#ab63fa",
           "#FFA15A",
           "#19d3f3",
           "#FF6692",
           "#B6E880",
           "#FF97FF",
           "#FECB52"
          ],
          "font": {
           "color": "#2a3f5f"
          },
          "geo": {
           "bgcolor": "white",
           "lakecolor": "white",
           "landcolor": "#E5ECF6",
           "showlakes": true,
           "showland": true,
           "subunitcolor": "white"
          },
          "hoverlabel": {
           "align": "left"
          },
          "hovermode": "closest",
          "mapbox": {
           "style": "light"
          },
          "paper_bgcolor": "white",
          "plot_bgcolor": "#E5ECF6",
          "polar": {
           "angularaxis": {
            "gridcolor": "white",
            "linecolor": "white",
            "ticks": ""
           },
           "bgcolor": "#E5ECF6",
           "radialaxis": {
            "gridcolor": "white",
            "linecolor": "white",
            "ticks": ""
           }
          },
          "scene": {
           "xaxis": {
            "backgroundcolor": "#E5ECF6",
            "gridcolor": "white",
            "gridwidth": 2,
            "linecolor": "white",
            "showbackground": true,
            "ticks": "",
            "zerolinecolor": "white"
           },
           "yaxis": {
            "backgroundcolor": "#E5ECF6",
            "gridcolor": "white",
            "gridwidth": 2,
            "linecolor": "white",
            "showbackground": true,
            "ticks": "",
            "zerolinecolor": "white"
           },
           "zaxis": {
            "backgroundcolor": "#E5ECF6",
            "gridcolor": "white",
            "gridwidth": 2,
            "linecolor": "white",
            "showbackground": true,
            "ticks": "",
            "zerolinecolor": "white"
           }
          },
          "shapedefaults": {
           "line": {
            "color": "#2a3f5f"
           }
          },
          "ternary": {
           "aaxis": {
            "gridcolor": "white",
            "linecolor": "white",
            "ticks": ""
           },
           "baxis": {
            "gridcolor": "white",
            "linecolor": "white",
            "ticks": ""
           },
           "bgcolor": "#E5ECF6",
           "caxis": {
            "gridcolor": "white",
            "linecolor": "white",
            "ticks": ""
           }
          },
          "title": {
           "x": 0.05
          },
          "xaxis": {
           "automargin": true,
           "gridcolor": "white",
           "linecolor": "white",
           "ticks": "",
           "title": {
            "standoff": 15
           },
           "zerolinecolor": "white",
           "zerolinewidth": 2
          },
          "yaxis": {
           "automargin": true,
           "gridcolor": "white",
           "linecolor": "white",
           "ticks": "",
           "title": {
            "standoff": 15
           },
           "zerolinecolor": "white",
           "zerolinewidth": 2
          }
         }
        },
        "title": {
         "text": "Distribution of Number of Closed Cases"
        },
        "xaxis": {
         "anchor": "y",
         "domain": [
          0,
          1
         ],
         "title": {
          "text": "Date"
         }
        },
        "yaxis": {
         "anchor": "x",
         "domain": [
          0,
          1
         ],
         "title": {
          "text": "Number of Cases"
         }
        }
       }
      }
     },
     "metadata": {},
     "output_type": "display_data"
    }
   ],
   "source": [
    "fig=px.bar(x=datewise.index,y=datewise[\"Recovered\"]+datewise[\"Deaths\"])\n",
    "fig.update_layout(title=\"Distribution of Number of Closed Cases\",\n",
    "                  xaxis_title=\"Date\",yaxis_title=\"Number of Cases\")\n",
    "fig.show()"
   ]
  },
  {
   "cell_type": "markdown",
   "metadata": {},
   "source": [
    "Closed Cases = Number of Recovered Cases + Number of Death Cases¶\n",
    "\n",
    "Increase in number of Closed classes imply either more patients are getting recovered from the disease or more pepole are dying because of COVID-19"
   ]
  },
  {
   "cell_type": "code",
   "execution_count": 12,
   "metadata": {},
   "outputs": [
    {
     "data": {
      "application/vnd.plotly.v1+json": {
       "config": {
        "plotlyServerURL": "https://plot.ly"
       },
       "data": [
        {
         "mode": "lines+markers",
         "name": "Confirmed Cases",
         "type": "scatter",
         "x": [
          "2020-01-22T00:00:00",
          "2020-01-23T00:00:00",
          "2020-01-24T00:00:00",
          "2020-01-25T00:00:00",
          "2020-01-26T00:00:00",
          "2020-01-27T00:00:00",
          "2020-01-28T00:00:00",
          "2020-01-29T00:00:00",
          "2020-01-30T00:00:00",
          "2020-01-31T00:00:00",
          "2020-02-01T00:00:00",
          "2020-02-02T00:00:00",
          "2020-02-03T00:00:00",
          "2020-02-04T00:00:00",
          "2020-02-05T00:00:00",
          "2020-02-06T00:00:00",
          "2020-02-07T00:00:00",
          "2020-02-08T00:00:00",
          "2020-02-09T00:00:00",
          "2020-02-10T00:00:00",
          "2020-02-11T00:00:00",
          "2020-02-12T00:00:00",
          "2020-02-13T00:00:00",
          "2020-02-14T00:00:00",
          "2020-02-15T00:00:00",
          "2020-02-16T00:00:00",
          "2020-02-17T00:00:00",
          "2020-02-18T00:00:00",
          "2020-02-19T00:00:00",
          "2020-02-20T00:00:00",
          "2020-02-21T00:00:00",
          "2020-02-22T00:00:00",
          "2020-02-23T00:00:00",
          "2020-02-24T00:00:00",
          "2020-02-25T00:00:00",
          "2020-02-26T00:00:00",
          "2020-02-27T00:00:00",
          "2020-02-28T00:00:00",
          "2020-02-29T00:00:00",
          "2020-03-01T00:00:00",
          "2020-03-02T00:00:00",
          "2020-03-03T00:00:00",
          "2020-03-04T00:00:00",
          "2020-03-05T00:00:00",
          "2020-03-06T00:00:00",
          "2020-03-07T00:00:00",
          "2020-03-08T00:00:00",
          "2020-03-09T00:00:00",
          "2020-03-10T00:00:00",
          "2020-03-11T00:00:00",
          "2020-03-12T00:00:00",
          "2020-03-13T00:00:00",
          "2020-03-14T00:00:00",
          "2020-03-15T00:00:00",
          "2020-03-16T00:00:00",
          "2020-03-17T00:00:00",
          "2020-03-18T00:00:00",
          "2020-03-19T00:00:00",
          "2020-03-20T00:00:00",
          "2020-03-21T00:00:00",
          "2020-03-22T00:00:00",
          "2020-03-23T00:00:00",
          "2020-03-24T00:00:00",
          "2020-03-25T00:00:00",
          "2020-03-26T00:00:00",
          "2020-03-27T00:00:00",
          "2020-03-28T00:00:00",
          "2020-03-29T00:00:00",
          "2020-03-30T00:00:00",
          "2020-03-31T00:00:00",
          "2020-04-01T00:00:00",
          "2020-04-02T00:00:00",
          "2020-04-03T00:00:00",
          "2020-04-04T00:00:00",
          "2020-04-05T00:00:00",
          "2020-04-06T00:00:00",
          "2020-04-07T00:00:00",
          "2020-04-08T00:00:00",
          "2020-04-09T00:00:00",
          "2020-04-10T00:00:00",
          "2020-04-11T00:00:00",
          "2020-04-12T00:00:00",
          "2020-04-13T00:00:00",
          "2020-04-14T00:00:00",
          "2020-04-15T00:00:00",
          "2020-04-16T00:00:00",
          "2020-04-17T00:00:00",
          "2020-04-18T00:00:00",
          "2020-04-19T00:00:00",
          "2020-04-20T00:00:00",
          "2020-04-21T00:00:00",
          "2020-04-22T00:00:00",
          "2020-04-23T00:00:00",
          "2020-04-24T00:00:00",
          "2020-04-25T00:00:00",
          "2020-04-26T00:00:00",
          "2020-04-27T00:00:00",
          "2020-04-28T00:00:00",
          "2020-04-29T00:00:00",
          "2020-04-30T00:00:00",
          "2020-05-01T00:00:00",
          "2020-05-02T00:00:00",
          "2020-05-03T00:00:00",
          "2020-05-04T00:00:00",
          "2020-05-05T00:00:00",
          "2020-05-06T00:00:00",
          "2020-05-07T00:00:00",
          "2020-05-08T00:00:00",
          "2020-05-09T00:00:00",
          "2020-05-10T00:00:00",
          "2020-05-11T00:00:00",
          "2020-05-12T00:00:00",
          "2020-05-13T00:00:00",
          "2020-05-14T00:00:00",
          "2020-05-15T00:00:00",
          "2020-05-16T00:00:00",
          "2020-05-17T00:00:00",
          "2020-05-18T00:00:00",
          "2020-05-19T00:00:00",
          "2020-05-20T00:00:00",
          "2020-05-21T00:00:00",
          "2020-05-22T00:00:00",
          "2020-05-23T00:00:00",
          "2020-05-24T00:00:00",
          "2020-05-25T00:00:00",
          "2020-05-26T00:00:00",
          "2020-05-27T00:00:00",
          "2020-05-28T00:00:00",
          "2020-05-29T00:00:00",
          "2020-05-30T00:00:00",
          "2020-05-31T00:00:00",
          "2020-06-01T00:00:00",
          "2020-06-02T00:00:00",
          "2020-06-03T00:00:00",
          "2020-06-04T00:00:00",
          "2020-06-05T00:00:00",
          "2020-06-06T00:00:00",
          "2020-06-07T00:00:00",
          "2020-06-08T00:00:00",
          "2020-06-09T00:00:00",
          "2020-06-10T00:00:00",
          "2020-06-11T00:00:00",
          "2020-06-12T00:00:00",
          "2020-06-13T00:00:00",
          "2020-06-14T00:00:00",
          "2020-06-15T00:00:00",
          "2020-06-16T00:00:00",
          "2020-06-17T00:00:00",
          "2020-06-18T00:00:00",
          "2020-06-19T00:00:00",
          "2020-06-20T00:00:00",
          "2020-06-21T00:00:00",
          "2020-06-22T00:00:00",
          "2020-06-23T00:00:00",
          "2020-06-24T00:00:00",
          "2020-06-25T00:00:00",
          "2020-06-26T00:00:00",
          "2020-06-27T00:00:00",
          "2020-06-28T00:00:00",
          "2020-06-29T00:00:00",
          "2020-06-30T00:00:00",
          "2020-07-01T00:00:00",
          "2020-07-02T00:00:00",
          "2020-07-03T00:00:00",
          "2020-07-04T00:00:00",
          "2020-07-05T00:00:00",
          "2020-07-06T00:00:00",
          "2020-07-07T00:00:00",
          "2020-07-08T00:00:00",
          "2020-07-09T00:00:00",
          "2020-07-10T00:00:00",
          "2020-07-11T00:00:00",
          "2020-07-12T00:00:00",
          "2020-07-13T00:00:00",
          "2020-07-14T00:00:00",
          "2020-07-15T00:00:00",
          "2020-07-16T00:00:00",
          "2020-07-17T00:00:00",
          "2020-07-18T00:00:00",
          "2020-07-19T00:00:00",
          "2020-07-20T00:00:00",
          "2020-07-21T00:00:00",
          "2020-07-22T00:00:00",
          "2020-07-23T00:00:00",
          "2020-07-24T00:00:00",
          "2020-07-25T00:00:00",
          "2020-07-26T00:00:00",
          "2020-07-27T00:00:00",
          "2020-07-28T00:00:00",
          "2020-07-29T00:00:00",
          "2020-07-30T00:00:00",
          "2020-07-31T00:00:00",
          "2020-08-01T00:00:00",
          "2020-08-02T00:00:00",
          "2020-08-03T00:00:00",
          "2020-08-04T00:00:00",
          "2020-08-05T00:00:00",
          "2020-08-06T00:00:00",
          "2020-08-07T00:00:00",
          "2020-08-08T00:00:00",
          "2020-08-09T00:00:00",
          "2020-08-10T00:00:00",
          "2020-08-11T00:00:00",
          "2020-08-12T00:00:00",
          "2020-08-13T00:00:00",
          "2020-08-14T00:00:00",
          "2020-08-15T00:00:00",
          "2020-08-16T00:00:00",
          "2020-08-17T00:00:00",
          "2020-08-18T00:00:00",
          "2020-08-19T00:00:00",
          "2020-08-20T00:00:00",
          "2020-08-21T00:00:00",
          "2020-08-22T00:00:00",
          "2020-08-23T00:00:00",
          "2020-08-24T00:00:00",
          "2020-08-25T00:00:00",
          "2020-08-26T00:00:00",
          "2020-08-27T00:00:00",
          "2020-08-28T00:00:00",
          "2020-08-29T00:00:00"
         ],
         "y": [
          555,
          653,
          941,
          1438,
          2118,
          2927,
          5578,
          6165,
          8235,
          9925,
          12038,
          16787,
          19881,
          23892,
          27636,
          30818,
          34392,
          37121,
          40151,
          42763,
          44803,
          45222,
          60370,
          66887,
          69032,
          71226,
          73260,
          75138,
          75641,
          76199,
          76843,
          78599,
          78985,
          79570,
          80415,
          81397,
          82756,
          84124,
          86013,
          88371,
          90309,
          92844,
          95124,
          97886,
          101800,
          105836,
          109835,
          113582,
          118582,
          125865,
          128343,
          145193,
          156099,
          167447,
          181546,
          197168,
          214915,
          242713,
          272167,
          304549,
          337122,
          378283,
          417962,
          467594,
          529591,
          593291,
          660693,
          720140,
          782389,
          857487,
          932605,
          1013303,
          1095917,
          1197408,
          1272115,
          1345101,
          1426096,
          1511104,
          1595350,
          1691719,
          1771514,
          1846680,
          1917320,
          1976192,
          2056055,
          2152647,
          2240191,
          2317759,
          2401379,
          2472259,
          2549123,
          2623960,
          2708885,
          2810715,
          2896746,
          2971475,
          3041657,
          3116398,
          3193886,
          3256846,
          3343777,
          3427343,
          3506729,
          3583055,
          3662691,
          3755341,
          3845718,
          3938064,
          4024009,
          4101699,
          4177504,
          4261955,
          4347018,
          4442163,
          4542347,
          4634068,
          4713620,
          4801943,
          4897492,
          4996472,
          5102424,
          5210817,
          5310362,
          5407613,
          5495061,
          5589626,
          5691790,
          5808946,
          5924275,
          6059017,
          6166946,
          6265852,
          6386364,
          6508635,
          6632985,
          6770170,
          6896917,
          7010582,
          7119002,
          7242313,
          7360239,
          7514481,
          7632802,
          7766952,
          7900924,
          8034504,
          8173940,
          8349950,
          8488977,
          8668523,
          8791804,
          8955536,
          9098641,
          9263466,
          9430516,
          9609829,
          9801572,
          9979535,
          10145791,
          10302151,
          10475838,
          10692551,
          10869739,
          11074878,
          11267309,
          11449707,
          11620096,
          11829602,
          12041480,
          12268518,
          12498467,
          12717908,
          12910357,
          13104391,
          13324057,
          13554477,
          13805296,
          14055299,
          14292922,
          14507491,
          14707960,
          14947428,
          15229740,
          15511157,
          15792390,
          16046986,
          16252541,
          16487669,
          16691527,
          17029155,
          17309805,
          17599836,
          17850479,
          18079516,
          18282208,
          18540789,
          18811953,
          19097149,
          19378036,
          19637506,
          19861683,
          20089624,
          20343589,
          20630768,
          20905995,
          21209004,
          21459699,
          21672186,
          21881858,
          22137926,
          22411300,
          22678483,
          22949234,
          23203532,
          23420418,
          23647377,
          23889150,
          24176836,
          24452629,
          24734448,
          24996456
         ]
        },
        {
         "mode": "lines+markers",
         "name": "Recovered Cases",
         "type": "scatter",
         "x": [
          "2020-01-22T00:00:00",
          "2020-01-23T00:00:00",
          "2020-01-24T00:00:00",
          "2020-01-25T00:00:00",
          "2020-01-26T00:00:00",
          "2020-01-27T00:00:00",
          "2020-01-28T00:00:00",
          "2020-01-29T00:00:00",
          "2020-01-30T00:00:00",
          "2020-01-31T00:00:00",
          "2020-02-01T00:00:00",
          "2020-02-02T00:00:00",
          "2020-02-03T00:00:00",
          "2020-02-04T00:00:00",
          "2020-02-05T00:00:00",
          "2020-02-06T00:00:00",
          "2020-02-07T00:00:00",
          "2020-02-08T00:00:00",
          "2020-02-09T00:00:00",
          "2020-02-10T00:00:00",
          "2020-02-11T00:00:00",
          "2020-02-12T00:00:00",
          "2020-02-13T00:00:00",
          "2020-02-14T00:00:00",
          "2020-02-15T00:00:00",
          "2020-02-16T00:00:00",
          "2020-02-17T00:00:00",
          "2020-02-18T00:00:00",
          "2020-02-19T00:00:00",
          "2020-02-20T00:00:00",
          "2020-02-21T00:00:00",
          "2020-02-22T00:00:00",
          "2020-02-23T00:00:00",
          "2020-02-24T00:00:00",
          "2020-02-25T00:00:00",
          "2020-02-26T00:00:00",
          "2020-02-27T00:00:00",
          "2020-02-28T00:00:00",
          "2020-02-29T00:00:00",
          "2020-03-01T00:00:00",
          "2020-03-02T00:00:00",
          "2020-03-03T00:00:00",
          "2020-03-04T00:00:00",
          "2020-03-05T00:00:00",
          "2020-03-06T00:00:00",
          "2020-03-07T00:00:00",
          "2020-03-08T00:00:00",
          "2020-03-09T00:00:00",
          "2020-03-10T00:00:00",
          "2020-03-11T00:00:00",
          "2020-03-12T00:00:00",
          "2020-03-13T00:00:00",
          "2020-03-14T00:00:00",
          "2020-03-15T00:00:00",
          "2020-03-16T00:00:00",
          "2020-03-17T00:00:00",
          "2020-03-18T00:00:00",
          "2020-03-19T00:00:00",
          "2020-03-20T00:00:00",
          "2020-03-21T00:00:00",
          "2020-03-22T00:00:00",
          "2020-03-23T00:00:00",
          "2020-03-24T00:00:00",
          "2020-03-25T00:00:00",
          "2020-03-26T00:00:00",
          "2020-03-27T00:00:00",
          "2020-03-28T00:00:00",
          "2020-03-29T00:00:00",
          "2020-03-30T00:00:00",
          "2020-03-31T00:00:00",
          "2020-04-01T00:00:00",
          "2020-04-02T00:00:00",
          "2020-04-03T00:00:00",
          "2020-04-04T00:00:00",
          "2020-04-05T00:00:00",
          "2020-04-06T00:00:00",
          "2020-04-07T00:00:00",
          "2020-04-08T00:00:00",
          "2020-04-09T00:00:00",
          "2020-04-10T00:00:00",
          "2020-04-11T00:00:00",
          "2020-04-12T00:00:00",
          "2020-04-13T00:00:00",
          "2020-04-14T00:00:00",
          "2020-04-15T00:00:00",
          "2020-04-16T00:00:00",
          "2020-04-17T00:00:00",
          "2020-04-18T00:00:00",
          "2020-04-19T00:00:00",
          "2020-04-20T00:00:00",
          "2020-04-21T00:00:00",
          "2020-04-22T00:00:00",
          "2020-04-23T00:00:00",
          "2020-04-24T00:00:00",
          "2020-04-25T00:00:00",
          "2020-04-26T00:00:00",
          "2020-04-27T00:00:00",
          "2020-04-28T00:00:00",
          "2020-04-29T00:00:00",
          "2020-04-30T00:00:00",
          "2020-05-01T00:00:00",
          "2020-05-02T00:00:00",
          "2020-05-03T00:00:00",
          "2020-05-04T00:00:00",
          "2020-05-05T00:00:00",
          "2020-05-06T00:00:00",
          "2020-05-07T00:00:00",
          "2020-05-08T00:00:00",
          "2020-05-09T00:00:00",
          "2020-05-10T00:00:00",
          "2020-05-11T00:00:00",
          "2020-05-12T00:00:00",
          "2020-05-13T00:00:00",
          "2020-05-14T00:00:00",
          "2020-05-15T00:00:00",
          "2020-05-16T00:00:00",
          "2020-05-17T00:00:00",
          "2020-05-18T00:00:00",
          "2020-05-19T00:00:00",
          "2020-05-20T00:00:00",
          "2020-05-21T00:00:00",
          "2020-05-22T00:00:00",
          "2020-05-23T00:00:00",
          "2020-05-24T00:00:00",
          "2020-05-25T00:00:00",
          "2020-05-26T00:00:00",
          "2020-05-27T00:00:00",
          "2020-05-28T00:00:00",
          "2020-05-29T00:00:00",
          "2020-05-30T00:00:00",
          "2020-05-31T00:00:00",
          "2020-06-01T00:00:00",
          "2020-06-02T00:00:00",
          "2020-06-03T00:00:00",
          "2020-06-04T00:00:00",
          "2020-06-05T00:00:00",
          "2020-06-06T00:00:00",
          "2020-06-07T00:00:00",
          "2020-06-08T00:00:00",
          "2020-06-09T00:00:00",
          "2020-06-10T00:00:00",
          "2020-06-11T00:00:00",
          "2020-06-12T00:00:00",
          "2020-06-13T00:00:00",
          "2020-06-14T00:00:00",
          "2020-06-15T00:00:00",
          "2020-06-16T00:00:00",
          "2020-06-17T00:00:00",
          "2020-06-18T00:00:00",
          "2020-06-19T00:00:00",
          "2020-06-20T00:00:00",
          "2020-06-21T00:00:00",
          "2020-06-22T00:00:00",
          "2020-06-23T00:00:00",
          "2020-06-24T00:00:00",
          "2020-06-25T00:00:00",
          "2020-06-26T00:00:00",
          "2020-06-27T00:00:00",
          "2020-06-28T00:00:00",
          "2020-06-29T00:00:00",
          "2020-06-30T00:00:00",
          "2020-07-01T00:00:00",
          "2020-07-02T00:00:00",
          "2020-07-03T00:00:00",
          "2020-07-04T00:00:00",
          "2020-07-05T00:00:00",
          "2020-07-06T00:00:00",
          "2020-07-07T00:00:00",
          "2020-07-08T00:00:00",
          "2020-07-09T00:00:00",
          "2020-07-10T00:00:00",
          "2020-07-11T00:00:00",
          "2020-07-12T00:00:00",
          "2020-07-13T00:00:00",
          "2020-07-14T00:00:00",
          "2020-07-15T00:00:00",
          "2020-07-16T00:00:00",
          "2020-07-17T00:00:00",
          "2020-07-18T00:00:00",
          "2020-07-19T00:00:00",
          "2020-07-20T00:00:00",
          "2020-07-21T00:00:00",
          "2020-07-22T00:00:00",
          "2020-07-23T00:00:00",
          "2020-07-24T00:00:00",
          "2020-07-25T00:00:00",
          "2020-07-26T00:00:00",
          "2020-07-27T00:00:00",
          "2020-07-28T00:00:00",
          "2020-07-29T00:00:00",
          "2020-07-30T00:00:00",
          "2020-07-31T00:00:00",
          "2020-08-01T00:00:00",
          "2020-08-02T00:00:00",
          "2020-08-03T00:00:00",
          "2020-08-04T00:00:00",
          "2020-08-05T00:00:00",
          "2020-08-06T00:00:00",
          "2020-08-07T00:00:00",
          "2020-08-08T00:00:00",
          "2020-08-09T00:00:00",
          "2020-08-10T00:00:00",
          "2020-08-11T00:00:00",
          "2020-08-12T00:00:00",
          "2020-08-13T00:00:00",
          "2020-08-14T00:00:00",
          "2020-08-15T00:00:00",
          "2020-08-16T00:00:00",
          "2020-08-17T00:00:00",
          "2020-08-18T00:00:00",
          "2020-08-19T00:00:00",
          "2020-08-20T00:00:00",
          "2020-08-21T00:00:00",
          "2020-08-22T00:00:00",
          "2020-08-23T00:00:00",
          "2020-08-24T00:00:00",
          "2020-08-25T00:00:00",
          "2020-08-26T00:00:00",
          "2020-08-27T00:00:00",
          "2020-08-28T00:00:00",
          "2020-08-29T00:00:00"
         ],
         "y": [
          28,
          30,
          36,
          39,
          52,
          61,
          107,
          126,
          143,
          222,
          284,
          472,
          623,
          852,
          1124,
          1487,
          2011,
          2616,
          3244,
          3946,
          4683,
          5150,
          6295,
          8058,
          9395,
          10865,
          12583,
          14352,
          16121,
          18177,
          18890,
          22886,
          23394,
          25227,
          27905,
          30384,
          33277,
          36711,
          39782,
          42716,
          45602,
          48229,
          51171,
          53797,
          55866,
          58359,
          60695,
          62512,
          64404,
          67003,
          68324,
          70251,
          72624,
          76034,
          78088,
          80840,
          83313,
          84962,
          87403,
          91676,
          97243,
          100958,
          107699,
          113764,
          122144,
          130909,
          139409,
          149076,
          164560,
          178028,
          193171,
          210263,
          225796,
          246152,
          260012,
          276515,
          300054,
          328661,
          353975,
          376096,
          402110,
          421722,
          448655,
          474261,
          511019,
          542107,
          568343,
          592319,
          623903,
          645738,
          679819,
          709694,
          738486,
          793420,
          816685,
          865733,
          893967,
          928658,
          972719,
          1014753,
          1053327,
          1093112,
          1125236,
          1162724,
          1198832,
          1245413,
          1284741,
          1322050,
          1375624,
          1408980,
          1456209,
          1493414,
          1548547,
          1587893,
          1637067,
          1693197,
          1733963,
          1786875,
          1838995,
          1897466,
          1948739,
          2056643,
          2112185,
          2168563,
          2231738,
          2286956,
          2350088,
          2415960,
          2493535,
          2564693,
          2641329,
          2696009,
          2729527,
          2804982,
          2869963,
          3013132,
          3085833,
          3140920,
          3293408,
          3375673,
          3454807,
          3540696,
          3613277,
          3698304,
          3769712,
          3857339,
          3955169,
          4073955,
          4155099,
          4245777,
          4378255,
          4447086,
          4526333,
          4630391,
          4746118,
          4838921,
          4945557,
          5051864,
          5140899,
          5235813,
          5353272,
          5577684,
          5754006,
          5863847,
          6059565,
          6179006,
          6302626,
          6447656,
          6586726,
          6740124,
          6879521,
          7005299,
          7116957,
          7257369,
          7399474,
          7559252,
          7711525,
          7894890,
          8045827,
          8133663,
          8290431,
          8466990,
          8643987,
          8813886,
          9043203,
          9262520,
          9397505,
          9572619,
          9711187,
          9948163,
          10170650,
          10369140,
          10553585,
          10690555,
          10913000,
          11134735,
          11356275,
          11545401,
          11737927,
          11939109,
          12115825,
          12280520,
          12585473,
          12827682,
          12992176,
          13276831,
          13445842,
          13676868,
          13888301,
          14116451,
          14333914,
          14541573,
          14712252,
          14911319,
          15137203,
          15337252,
          15570191,
          15794441,
          15997281,
          16198165,
          16409757
         ]
        },
        {
         "mode": "lines+markers",
         "name": "Death Cases",
         "type": "scatter",
         "x": [
          "2020-01-22T00:00:00",
          "2020-01-23T00:00:00",
          "2020-01-24T00:00:00",
          "2020-01-25T00:00:00",
          "2020-01-26T00:00:00",
          "2020-01-27T00:00:00",
          "2020-01-28T00:00:00",
          "2020-01-29T00:00:00",
          "2020-01-30T00:00:00",
          "2020-01-31T00:00:00",
          "2020-02-01T00:00:00",
          "2020-02-02T00:00:00",
          "2020-02-03T00:00:00",
          "2020-02-04T00:00:00",
          "2020-02-05T00:00:00",
          "2020-02-06T00:00:00",
          "2020-02-07T00:00:00",
          "2020-02-08T00:00:00",
          "2020-02-09T00:00:00",
          "2020-02-10T00:00:00",
          "2020-02-11T00:00:00",
          "2020-02-12T00:00:00",
          "2020-02-13T00:00:00",
          "2020-02-14T00:00:00",
          "2020-02-15T00:00:00",
          "2020-02-16T00:00:00",
          "2020-02-17T00:00:00",
          "2020-02-18T00:00:00",
          "2020-02-19T00:00:00",
          "2020-02-20T00:00:00",
          "2020-02-21T00:00:00",
          "2020-02-22T00:00:00",
          "2020-02-23T00:00:00",
          "2020-02-24T00:00:00",
          "2020-02-25T00:00:00",
          "2020-02-26T00:00:00",
          "2020-02-27T00:00:00",
          "2020-02-28T00:00:00",
          "2020-02-29T00:00:00",
          "2020-03-01T00:00:00",
          "2020-03-02T00:00:00",
          "2020-03-03T00:00:00",
          "2020-03-04T00:00:00",
          "2020-03-05T00:00:00",
          "2020-03-06T00:00:00",
          "2020-03-07T00:00:00",
          "2020-03-08T00:00:00",
          "2020-03-09T00:00:00",
          "2020-03-10T00:00:00",
          "2020-03-11T00:00:00",
          "2020-03-12T00:00:00",
          "2020-03-13T00:00:00",
          "2020-03-14T00:00:00",
          "2020-03-15T00:00:00",
          "2020-03-16T00:00:00",
          "2020-03-17T00:00:00",
          "2020-03-18T00:00:00",
          "2020-03-19T00:00:00",
          "2020-03-20T00:00:00",
          "2020-03-21T00:00:00",
          "2020-03-22T00:00:00",
          "2020-03-23T00:00:00",
          "2020-03-24T00:00:00",
          "2020-03-25T00:00:00",
          "2020-03-26T00:00:00",
          "2020-03-27T00:00:00",
          "2020-03-28T00:00:00",
          "2020-03-29T00:00:00",
          "2020-03-30T00:00:00",
          "2020-03-31T00:00:00",
          "2020-04-01T00:00:00",
          "2020-04-02T00:00:00",
          "2020-04-03T00:00:00",
          "2020-04-04T00:00:00",
          "2020-04-05T00:00:00",
          "2020-04-06T00:00:00",
          "2020-04-07T00:00:00",
          "2020-04-08T00:00:00",
          "2020-04-09T00:00:00",
          "2020-04-10T00:00:00",
          "2020-04-11T00:00:00",
          "2020-04-12T00:00:00",
          "2020-04-13T00:00:00",
          "2020-04-14T00:00:00",
          "2020-04-15T00:00:00",
          "2020-04-16T00:00:00",
          "2020-04-17T00:00:00",
          "2020-04-18T00:00:00",
          "2020-04-19T00:00:00",
          "2020-04-20T00:00:00",
          "2020-04-21T00:00:00",
          "2020-04-22T00:00:00",
          "2020-04-23T00:00:00",
          "2020-04-24T00:00:00",
          "2020-04-25T00:00:00",
          "2020-04-26T00:00:00",
          "2020-04-27T00:00:00",
          "2020-04-28T00:00:00",
          "2020-04-29T00:00:00",
          "2020-04-30T00:00:00",
          "2020-05-01T00:00:00",
          "2020-05-02T00:00:00",
          "2020-05-03T00:00:00",
          "2020-05-04T00:00:00",
          "2020-05-05T00:00:00",
          "2020-05-06T00:00:00",
          "2020-05-07T00:00:00",
          "2020-05-08T00:00:00",
          "2020-05-09T00:00:00",
          "2020-05-10T00:00:00",
          "2020-05-11T00:00:00",
          "2020-05-12T00:00:00",
          "2020-05-13T00:00:00",
          "2020-05-14T00:00:00",
          "2020-05-15T00:00:00",
          "2020-05-16T00:00:00",
          "2020-05-17T00:00:00",
          "2020-05-18T00:00:00",
          "2020-05-19T00:00:00",
          "2020-05-20T00:00:00",
          "2020-05-21T00:00:00",
          "2020-05-22T00:00:00",
          "2020-05-23T00:00:00",
          "2020-05-24T00:00:00",
          "2020-05-25T00:00:00",
          "2020-05-26T00:00:00",
          "2020-05-27T00:00:00",
          "2020-05-28T00:00:00",
          "2020-05-29T00:00:00",
          "2020-05-30T00:00:00",
          "2020-05-31T00:00:00",
          "2020-06-01T00:00:00",
          "2020-06-02T00:00:00",
          "2020-06-03T00:00:00",
          "2020-06-04T00:00:00",
          "2020-06-05T00:00:00",
          "2020-06-06T00:00:00",
          "2020-06-07T00:00:00",
          "2020-06-08T00:00:00",
          "2020-06-09T00:00:00",
          "2020-06-10T00:00:00",
          "2020-06-11T00:00:00",
          "2020-06-12T00:00:00",
          "2020-06-13T00:00:00",
          "2020-06-14T00:00:00",
          "2020-06-15T00:00:00",
          "2020-06-16T00:00:00",
          "2020-06-17T00:00:00",
          "2020-06-18T00:00:00",
          "2020-06-19T00:00:00",
          "2020-06-20T00:00:00",
          "2020-06-21T00:00:00",
          "2020-06-22T00:00:00",
          "2020-06-23T00:00:00",
          "2020-06-24T00:00:00",
          "2020-06-25T00:00:00",
          "2020-06-26T00:00:00",
          "2020-06-27T00:00:00",
          "2020-06-28T00:00:00",
          "2020-06-29T00:00:00",
          "2020-06-30T00:00:00",
          "2020-07-01T00:00:00",
          "2020-07-02T00:00:00",
          "2020-07-03T00:00:00",
          "2020-07-04T00:00:00",
          "2020-07-05T00:00:00",
          "2020-07-06T00:00:00",
          "2020-07-07T00:00:00",
          "2020-07-08T00:00:00",
          "2020-07-09T00:00:00",
          "2020-07-10T00:00:00",
          "2020-07-11T00:00:00",
          "2020-07-12T00:00:00",
          "2020-07-13T00:00:00",
          "2020-07-14T00:00:00",
          "2020-07-15T00:00:00",
          "2020-07-16T00:00:00",
          "2020-07-17T00:00:00",
          "2020-07-18T00:00:00",
          "2020-07-19T00:00:00",
          "2020-07-20T00:00:00",
          "2020-07-21T00:00:00",
          "2020-07-22T00:00:00",
          "2020-07-23T00:00:00",
          "2020-07-24T00:00:00",
          "2020-07-25T00:00:00",
          "2020-07-26T00:00:00",
          "2020-07-27T00:00:00",
          "2020-07-28T00:00:00",
          "2020-07-29T00:00:00",
          "2020-07-30T00:00:00",
          "2020-07-31T00:00:00",
          "2020-08-01T00:00:00",
          "2020-08-02T00:00:00",
          "2020-08-03T00:00:00",
          "2020-08-04T00:00:00",
          "2020-08-05T00:00:00",
          "2020-08-06T00:00:00",
          "2020-08-07T00:00:00",
          "2020-08-08T00:00:00",
          "2020-08-09T00:00:00",
          "2020-08-10T00:00:00",
          "2020-08-11T00:00:00",
          "2020-08-12T00:00:00",
          "2020-08-13T00:00:00",
          "2020-08-14T00:00:00",
          "2020-08-15T00:00:00",
          "2020-08-16T00:00:00",
          "2020-08-17T00:00:00",
          "2020-08-18T00:00:00",
          "2020-08-19T00:00:00",
          "2020-08-20T00:00:00",
          "2020-08-21T00:00:00",
          "2020-08-22T00:00:00",
          "2020-08-23T00:00:00",
          "2020-08-24T00:00:00",
          "2020-08-25T00:00:00",
          "2020-08-26T00:00:00",
          "2020-08-27T00:00:00",
          "2020-08-28T00:00:00",
          "2020-08-29T00:00:00"
         ],
         "y": [
          17,
          18,
          26,
          42,
          56,
          82,
          131,
          133,
          171,
          213,
          259,
          362,
          426,
          492,
          564,
          634,
          719,
          806,
          906,
          1013,
          1113,
          1118,
          1371,
          1523,
          1666,
          1770,
          1868,
          2007,
          2122,
          2247,
          2251,
          2458,
          2469,
          2629,
          2708,
          2770,
          2814,
          2872,
          2941,
          2996,
          3085,
          3160,
          3254,
          3348,
          3460,
          3558,
          3803,
          3996,
          4262,
          4615,
          4720,
          5404,
          5819,
          6440,
          7126,
          7905,
          8733,
          9867,
          11299,
          12973,
          14623,
          16497,
          18615,
          21181,
          23970,
          27198,
          30652,
          33925,
          37582,
          42107,
          46809,
          52983,
          58787,
          64606,
          69374,
          74565,
          81865,
          88338,
          95455,
          102525,
          108502,
          114089,
          119482,
          125984,
          134177,
          143801,
          153822,
          159510,
          165044,
          169986,
          176583,
          183066,
          190858,
          197151,
          202846,
          206544,
          211167,
          217153,
          227638,
          233388,
          238650,
          243808,
          247470,
          251537,
          257239,
          263831,
          269567,
          274898,
          279311,
          282709,
          286330,
          291964,
          297197,
          302418,
          307666,
          311781,
          315185,
          318481,
          323285,
          328115,
          332924,
          338160,
          342097,
          345059,
          346232,
          350453,
          355629,
          360308,
          364867,
          369126,
          372035,
          375543,
          380383,
          385947,
          391136,
          396121,
          400000,
          402744,
          406543,
          411436,
          416201,
          421458,
          425394,
          429736,
          433066,
          436899,
          443685,
          448959,
          453985,
          460217,
          464465,
          468365,
          472171,
          477584,
          482753,
          489312,
          494181,
          498710,
          501893,
          505505,
          511253,
          516210,
          521298,
          526411,
          530754,
          534267,
          538058,
          544163,
          549468,
          554924,
          560209,
          565138,
          569128,
          573003,
          578646,
          584124,
          589911,
          596518,
          602144,
          606173,
          609894,
          616443,
          623443,
          633396,
          639652,
          645257,
          648637,
          654055,
          659622,
          667011,
          673194,
          679500,
          685061,
          689360,
          693694,
          700736,
          707820,
          714940,
          721324,
          726781,
          731326,
          736191,
          742615,
          749588,
          755589,
          765722,
          771063,
          775244,
          774034,
          780908,
          787672,
          793698,
          799252,
          804416,
          808676,
          813022,
          819414,
          825696,
          831586,
          837124,
          842499
         ]
        }
       ],
       "layout": {
        "legend": {
         "traceorder": "normal",
         "x": 0,
         "y": 1
        },
        "template": {
         "data": {
          "bar": [
           {
            "error_x": {
             "color": "#2a3f5f"
            },
            "error_y": {
             "color": "#2a3f5f"
            },
            "marker": {
             "line": {
              "color": "#E5ECF6",
              "width": 0.5
             },
             "pattern": {
              "fillmode": "overlay",
              "size": 10,
              "solidity": 0.2
             }
            },
            "type": "bar"
           }
          ],
          "barpolar": [
           {
            "marker": {
             "line": {
              "color": "#E5ECF6",
              "width": 0.5
             },
             "pattern": {
              "fillmode": "overlay",
              "size": 10,
              "solidity": 0.2
             }
            },
            "type": "barpolar"
           }
          ],
          "carpet": [
           {
            "aaxis": {
             "endlinecolor": "#2a3f5f",
             "gridcolor": "white",
             "linecolor": "white",
             "minorgridcolor": "white",
             "startlinecolor": "#2a3f5f"
            },
            "baxis": {
             "endlinecolor": "#2a3f5f",
             "gridcolor": "white",
             "linecolor": "white",
             "minorgridcolor": "white",
             "startlinecolor": "#2a3f5f"
            },
            "type": "carpet"
           }
          ],
          "choropleth": [
           {
            "colorbar": {
             "outlinewidth": 0,
             "ticks": ""
            },
            "type": "choropleth"
           }
          ],
          "contour": [
           {
            "colorbar": {
             "outlinewidth": 0,
             "ticks": ""
            },
            "colorscale": [
             [
              0,
              "#0d0887"
             ],
             [
              0.1111111111111111,
              "#46039f"
             ],
             [
              0.2222222222222222,
              "#7201a8"
             ],
             [
              0.3333333333333333,
              "#9c179e"
             ],
             [
              0.4444444444444444,
              "#bd3786"
             ],
             [
              0.5555555555555556,
              "#d8576b"
             ],
             [
              0.6666666666666666,
              "#ed7953"
             ],
             [
              0.7777777777777778,
              "#fb9f3a"
             ],
             [
              0.8888888888888888,
              "#fdca26"
             ],
             [
              1,
              "#f0f921"
             ]
            ],
            "type": "contour"
           }
          ],
          "contourcarpet": [
           {
            "colorbar": {
             "outlinewidth": 0,
             "ticks": ""
            },
            "type": "contourcarpet"
           }
          ],
          "heatmap": [
           {
            "colorbar": {
             "outlinewidth": 0,
             "ticks": ""
            },
            "colorscale": [
             [
              0,
              "#0d0887"
             ],
             [
              0.1111111111111111,
              "#46039f"
             ],
             [
              0.2222222222222222,
              "#7201a8"
             ],
             [
              0.3333333333333333,
              "#9c179e"
             ],
             [
              0.4444444444444444,
              "#bd3786"
             ],
             [
              0.5555555555555556,
              "#d8576b"
             ],
             [
              0.6666666666666666,
              "#ed7953"
             ],
             [
              0.7777777777777778,
              "#fb9f3a"
             ],
             [
              0.8888888888888888,
              "#fdca26"
             ],
             [
              1,
              "#f0f921"
             ]
            ],
            "type": "heatmap"
           }
          ],
          "heatmapgl": [
           {
            "colorbar": {
             "outlinewidth": 0,
             "ticks": ""
            },
            "colorscale": [
             [
              0,
              "#0d0887"
             ],
             [
              0.1111111111111111,
              "#46039f"
             ],
             [
              0.2222222222222222,
              "#7201a8"
             ],
             [
              0.3333333333333333,
              "#9c179e"
             ],
             [
              0.4444444444444444,
              "#bd3786"
             ],
             [
              0.5555555555555556,
              "#d8576b"
             ],
             [
              0.6666666666666666,
              "#ed7953"
             ],
             [
              0.7777777777777778,
              "#fb9f3a"
             ],
             [
              0.8888888888888888,
              "#fdca26"
             ],
             [
              1,
              "#f0f921"
             ]
            ],
            "type": "heatmapgl"
           }
          ],
          "histogram": [
           {
            "marker": {
             "pattern": {
              "fillmode": "overlay",
              "size": 10,
              "solidity": 0.2
             }
            },
            "type": "histogram"
           }
          ],
          "histogram2d": [
           {
            "colorbar": {
             "outlinewidth": 0,
             "ticks": ""
            },
            "colorscale": [
             [
              0,
              "#0d0887"
             ],
             [
              0.1111111111111111,
              "#46039f"
             ],
             [
              0.2222222222222222,
              "#7201a8"
             ],
             [
              0.3333333333333333,
              "#9c179e"
             ],
             [
              0.4444444444444444,
              "#bd3786"
             ],
             [
              0.5555555555555556,
              "#d8576b"
             ],
             [
              0.6666666666666666,
              "#ed7953"
             ],
             [
              0.7777777777777778,
              "#fb9f3a"
             ],
             [
              0.8888888888888888,
              "#fdca26"
             ],
             [
              1,
              "#f0f921"
             ]
            ],
            "type": "histogram2d"
           }
          ],
          "histogram2dcontour": [
           {
            "colorbar": {
             "outlinewidth": 0,
             "ticks": ""
            },
            "colorscale": [
             [
              0,
              "#0d0887"
             ],
             [
              0.1111111111111111,
              "#46039f"
             ],
             [
              0.2222222222222222,
              "#7201a8"
             ],
             [
              0.3333333333333333,
              "#9c179e"
             ],
             [
              0.4444444444444444,
              "#bd3786"
             ],
             [
              0.5555555555555556,
              "#d8576b"
             ],
             [
              0.6666666666666666,
              "#ed7953"
             ],
             [
              0.7777777777777778,
              "#fb9f3a"
             ],
             [
              0.8888888888888888,
              "#fdca26"
             ],
             [
              1,
              "#f0f921"
             ]
            ],
            "type": "histogram2dcontour"
           }
          ],
          "mesh3d": [
           {
            "colorbar": {
             "outlinewidth": 0,
             "ticks": ""
            },
            "type": "mesh3d"
           }
          ],
          "parcoords": [
           {
            "line": {
             "colorbar": {
              "outlinewidth": 0,
              "ticks": ""
             }
            },
            "type": "parcoords"
           }
          ],
          "pie": [
           {
            "automargin": true,
            "type": "pie"
           }
          ],
          "scatter": [
           {
            "fillpattern": {
             "fillmode": "overlay",
             "size": 10,
             "solidity": 0.2
            },
            "type": "scatter"
           }
          ],
          "scatter3d": [
           {
            "line": {
             "colorbar": {
              "outlinewidth": 0,
              "ticks": ""
             }
            },
            "marker": {
             "colorbar": {
              "outlinewidth": 0,
              "ticks": ""
             }
            },
            "type": "scatter3d"
           }
          ],
          "scattercarpet": [
           {
            "marker": {
             "colorbar": {
              "outlinewidth": 0,
              "ticks": ""
             }
            },
            "type": "scattercarpet"
           }
          ],
          "scattergeo": [
           {
            "marker": {
             "colorbar": {
              "outlinewidth": 0,
              "ticks": ""
             }
            },
            "type": "scattergeo"
           }
          ],
          "scattergl": [
           {
            "marker": {
             "colorbar": {
              "outlinewidth": 0,
              "ticks": ""
             }
            },
            "type": "scattergl"
           }
          ],
          "scattermapbox": [
           {
            "marker": {
             "colorbar": {
              "outlinewidth": 0,
              "ticks": ""
             }
            },
            "type": "scattermapbox"
           }
          ],
          "scatterpolar": [
           {
            "marker": {
             "colorbar": {
              "outlinewidth": 0,
              "ticks": ""
             }
            },
            "type": "scatterpolar"
           }
          ],
          "scatterpolargl": [
           {
            "marker": {
             "colorbar": {
              "outlinewidth": 0,
              "ticks": ""
             }
            },
            "type": "scatterpolargl"
           }
          ],
          "scatterternary": [
           {
            "marker": {
             "colorbar": {
              "outlinewidth": 0,
              "ticks": ""
             }
            },
            "type": "scatterternary"
           }
          ],
          "surface": [
           {
            "colorbar": {
             "outlinewidth": 0,
             "ticks": ""
            },
            "colorscale": [
             [
              0,
              "#0d0887"
             ],
             [
              0.1111111111111111,
              "#46039f"
             ],
             [
              0.2222222222222222,
              "#7201a8"
             ],
             [
              0.3333333333333333,
              "#9c179e"
             ],
             [
              0.4444444444444444,
              "#bd3786"
             ],
             [
              0.5555555555555556,
              "#d8576b"
             ],
             [
              0.6666666666666666,
              "#ed7953"
             ],
             [
              0.7777777777777778,
              "#fb9f3a"
             ],
             [
              0.8888888888888888,
              "#fdca26"
             ],
             [
              1,
              "#f0f921"
             ]
            ],
            "type": "surface"
           }
          ],
          "table": [
           {
            "cells": {
             "fill": {
              "color": "#EBF0F8"
             },
             "line": {
              "color": "white"
             }
            },
            "header": {
             "fill": {
              "color": "#C8D4E3"
             },
             "line": {
              "color": "white"
             }
            },
            "type": "table"
           }
          ]
         },
         "layout": {
          "annotationdefaults": {
           "arrowcolor": "#2a3f5f",
           "arrowhead": 0,
           "arrowwidth": 1
          },
          "autotypenumbers": "strict",
          "coloraxis": {
           "colorbar": {
            "outlinewidth": 0,
            "ticks": ""
           }
          },
          "colorscale": {
           "diverging": [
            [
             0,
             "#8e0152"
            ],
            [
             0.1,
             "#c51b7d"
            ],
            [
             0.2,
             "#de77ae"
            ],
            [
             0.3,
             "#f1b6da"
            ],
            [
             0.4,
             "#fde0ef"
            ],
            [
             0.5,
             "#f7f7f7"
            ],
            [
             0.6,
             "#e6f5d0"
            ],
            [
             0.7,
             "#b8e186"
            ],
            [
             0.8,
             "#7fbc41"
            ],
            [
             0.9,
             "#4d9221"
            ],
            [
             1,
             "#276419"
            ]
           ],
           "sequential": [
            [
             0,
             "#0d0887"
            ],
            [
             0.1111111111111111,
             "#46039f"
            ],
            [
             0.2222222222222222,
             "#7201a8"
            ],
            [
             0.3333333333333333,
             "#9c179e"
            ],
            [
             0.4444444444444444,
             "#bd3786"
            ],
            [
             0.5555555555555556,
             "#d8576b"
            ],
            [
             0.6666666666666666,
             "#ed7953"
            ],
            [
             0.7777777777777778,
             "#fb9f3a"
            ],
            [
             0.8888888888888888,
             "#fdca26"
            ],
            [
             1,
             "#f0f921"
            ]
           ],
           "sequentialminus": [
            [
             0,
             "#0d0887"
            ],
            [
             0.1111111111111111,
             "#46039f"
            ],
            [
             0.2222222222222222,
             "#7201a8"
            ],
            [
             0.3333333333333333,
             "#9c179e"
            ],
            [
             0.4444444444444444,
             "#bd3786"
            ],
            [
             0.5555555555555556,
             "#d8576b"
            ],
            [
             0.6666666666666666,
             "#ed7953"
            ],
            [
             0.7777777777777778,
             "#fb9f3a"
            ],
            [
             0.8888888888888888,
             "#fdca26"
            ],
            [
             1,
             "#f0f921"
            ]
           ]
          },
          "colorway": [
           "#636efa",
           "#EF553B",
           "#00cc96",
           "#ab63fa",
           "#FFA15A",
           "#19d3f3",
           "#FF6692",
           "#B6E880",
           "#FF97FF",
           "#FECB52"
          ],
          "font": {
           "color": "#2a3f5f"
          },
          "geo": {
           "bgcolor": "white",
           "lakecolor": "white",
           "landcolor": "#E5ECF6",
           "showlakes": true,
           "showland": true,
           "subunitcolor": "white"
          },
          "hoverlabel": {
           "align": "left"
          },
          "hovermode": "closest",
          "mapbox": {
           "style": "light"
          },
          "paper_bgcolor": "white",
          "plot_bgcolor": "#E5ECF6",
          "polar": {
           "angularaxis": {
            "gridcolor": "white",
            "linecolor": "white",
            "ticks": ""
           },
           "bgcolor": "#E5ECF6",
           "radialaxis": {
            "gridcolor": "white",
            "linecolor": "white",
            "ticks": ""
           }
          },
          "scene": {
           "xaxis": {
            "backgroundcolor": "#E5ECF6",
            "gridcolor": "white",
            "gridwidth": 2,
            "linecolor": "white",
            "showbackground": true,
            "ticks": "",
            "zerolinecolor": "white"
           },
           "yaxis": {
            "backgroundcolor": "#E5ECF6",
            "gridcolor": "white",
            "gridwidth": 2,
            "linecolor": "white",
            "showbackground": true,
            "ticks": "",
            "zerolinecolor": "white"
           },
           "zaxis": {
            "backgroundcolor": "#E5ECF6",
            "gridcolor": "white",
            "gridwidth": 2,
            "linecolor": "white",
            "showbackground": true,
            "ticks": "",
            "zerolinecolor": "white"
           }
          },
          "shapedefaults": {
           "line": {
            "color": "#2a3f5f"
           }
          },
          "ternary": {
           "aaxis": {
            "gridcolor": "white",
            "linecolor": "white",
            "ticks": ""
           },
           "baxis": {
            "gridcolor": "white",
            "linecolor": "white",
            "ticks": ""
           },
           "bgcolor": "#E5ECF6",
           "caxis": {
            "gridcolor": "white",
            "linecolor": "white",
            "ticks": ""
           }
          },
          "title": {
           "x": 0.05
          },
          "xaxis": {
           "automargin": true,
           "gridcolor": "white",
           "linecolor": "white",
           "ticks": "",
           "title": {
            "standoff": 15
           },
           "zerolinecolor": "white",
           "zerolinewidth": 2
          },
          "yaxis": {
           "automargin": true,
           "gridcolor": "white",
           "linecolor": "white",
           "ticks": "",
           "title": {
            "standoff": 15
           },
           "zerolinecolor": "white",
           "zerolinewidth": 2
          }
         }
        },
        "title": {
         "text": "Growth of different types of cases"
        },
        "xaxis": {
         "title": {
          "text": "Date"
         }
        },
        "yaxis": {
         "title": {
          "text": "Number of Cases"
         }
        }
       }
      }
     },
     "metadata": {},
     "output_type": "display_data"
    }
   ],
   "source": [
    "fig=go.Figure()\n",
    "fig.add_trace(go.Scatter(x=datewise.index, y=datewise[\"Confirmed\"],\n",
    "                    mode='lines+markers',\n",
    "                    name='Confirmed Cases'))\n",
    "fig.add_trace(go.Scatter(x=datewise.index, y=datewise[\"Recovered\"],\n",
    "                    mode='lines+markers',\n",
    "                    name='Recovered Cases'))\n",
    "fig.add_trace(go.Scatter(x=datewise.index, y=datewise[\"Deaths\"],\n",
    "                    mode='lines+markers',\n",
    "                    name='Death Cases'))\n",
    "fig.update_layout(title=\"Growth of different types of cases\",\n",
    "                 xaxis_title=\"Date\",yaxis_title=\"Number of Cases\",legend=dict(x=0,y=1,traceorder=\"normal\"))\n",
    "fig.show()"
   ]
  },
  {
   "cell_type": "markdown",
   "metadata": {},
   "source": [
    "Country-wise Analysis "
   ]
  },
  {
   "cell_type": "code",
   "execution_count": 13,
   "metadata": {},
   "outputs": [],
   "source": [
    "#Calculating countrywise Moratality and Recovery Rate\n",
    "countrywise=covid[covid[\"ObservationDate\"]==covid[\"ObservationDate\"].max()].groupby([\"Country/Region\"]).agg({\"Confirmed\":'sum',\"Recovered\":'sum',\"Deaths\":'sum'}).sort_values([\"Confirmed\"],ascending=False)\n",
    "countrywise[\"Mortality\"]=(countrywise[\"Deaths\"]/countrywise[\"Confirmed\"])*100\n",
    "countrywise[\"Recovery\"]=(countrywise[\"Recovered\"]/countrywise[\"Confirmed\"])*100"
   ]
  },
  {
   "cell_type": "code",
   "execution_count": 14,
   "metadata": {},
   "outputs": [],
   "source": [
    "country_last_24_confirmed=[]\n",
    "country_last_24_recovered=[]\n",
    "country_last_24_deaths=[]\n",
    "for country in countrywise.index:\n",
    "    country_last_24_confirmed.append((grouped_country.loc[country].iloc[-1]-grouped_country.loc[country].iloc[-2])[\"Confirmed\"])\n",
    "    country_last_24_recovered.append((grouped_country.loc[country].iloc[-1]-grouped_country.loc[country].iloc[-2])[\"Recovered\"])\n",
    "    country_last_24_deaths.append((grouped_country.loc[country].iloc[-1]-grouped_country.loc[country].iloc[-2])[\"Deaths\"])"
   ]
  },
  {
   "cell_type": "code",
   "execution_count": 15,
   "metadata": {},
   "outputs": [],
   "source": [
    "Last_24_Hours_country=pd.DataFrame(list(zip(countrywise.index,country_last_24_confirmed,country_last_24_recovered,country_last_24_deaths)),\n",
    "                                   columns=[\"Country Name\",\"Last 24 Hours Confirmed\",\"Last 24 Hours Recovered\",\"Last 24 Hours Deaths\"])"
   ]
  },
  {
   "cell_type": "code",
   "execution_count": 16,
   "metadata": {},
   "outputs": [],
   "source": [
    "Last_24_Hours_country[\"Proportion of Confirmed\"]=(Last_24_Hours_country[\"Last 24 Hours Confirmed\"]/(datewise[\"Confirmed\"].iloc[-1]-datewise[\"Confirmed\"].iloc[-2]))*100\n",
    "Last_24_Hours_country[\"Proportion of Recovered\"]=(Last_24_Hours_country[\"Last 24 Hours Recovered\"]/(datewise[\"Recovered\"].iloc[-1]-datewise[\"Recovered\"].iloc[-2]))*100\n",
    "Last_24_Hours_country[\"Proportion of Deaths\"]=(Last_24_Hours_country[\"Last 24 Hours Deaths\"]/(datewise[\"Deaths\"].iloc[-1]-datewise[\"Deaths\"].iloc[-2]))*100"
   ]
  },
  {
   "cell_type": "code",
   "execution_count": 17,
   "metadata": {},
   "outputs": [
    {
     "data": {
      "text/html": [
       "<style type=\"text/css\">\n",
       "#T_e2c6b_row0_col1, #T_e2c6b_row0_col2, #T_e2c6b_row1_col3 {\n",
       "  background-color: #67000d;\n",
       "  color: #f1f1f1;\n",
       "}\n",
       "#T_e2c6b_row0_col3 {\n",
       "  background-color: #6d010e;\n",
       "  color: #f1f1f1;\n",
       "}\n",
       "#T_e2c6b_row1_col1 {\n",
       "  background-color: #f14432;\n",
       "  color: #f1f1f1;\n",
       "}\n",
       "#T_e2c6b_row1_col2 {\n",
       "  background-color: #fc9d7f;\n",
       "  color: #000000;\n",
       "}\n",
       "#T_e2c6b_row2_col1 {\n",
       "  background-color: #f96044;\n",
       "  color: #f1f1f1;\n",
       "}\n",
       "#T_e2c6b_row2_col2 {\n",
       "  background-color: #e22e27;\n",
       "  color: #f1f1f1;\n",
       "}\n",
       "#T_e2c6b_row2_col3 {\n",
       "  background-color: #bf151b;\n",
       "  color: #f1f1f1;\n",
       "}\n",
       "#T_e2c6b_row3_col1, #T_e2c6b_row4_col1 {\n",
       "  background-color: #fee1d4;\n",
       "  color: #000000;\n",
       "}\n",
       "#T_e2c6b_row3_col2 {\n",
       "  background-color: #fdd3c1;\n",
       "  color: #000000;\n",
       "}\n",
       "#T_e2c6b_row3_col3 {\n",
       "  background-color: #fca78b;\n",
       "  color: #000000;\n",
       "}\n",
       "#T_e2c6b_row4_col2 {\n",
       "  background-color: #fee3d7;\n",
       "  color: #000000;\n",
       "}\n",
       "#T_e2c6b_row4_col3 {\n",
       "  background-color: #fee7dc;\n",
       "  color: #000000;\n",
       "}\n",
       "#T_e2c6b_row5_col1, #T_e2c6b_row9_col3 {\n",
       "  background-color: #fee5d8;\n",
       "  color: #000000;\n",
       "}\n",
       "#T_e2c6b_row5_col2 {\n",
       "  background-color: #fee0d2;\n",
       "  color: #000000;\n",
       "}\n",
       "#T_e2c6b_row5_col3 {\n",
       "  background-color: #fdcab5;\n",
       "  color: #000000;\n",
       "}\n",
       "#T_e2c6b_row6_col1 {\n",
       "  background-color: #fee8de;\n",
       "  color: #000000;\n",
       "}\n",
       "#T_e2c6b_row6_col2 {\n",
       "  background-color: #feeae0;\n",
       "  color: #000000;\n",
       "}\n",
       "#T_e2c6b_row6_col3 {\n",
       "  background-color: #d92523;\n",
       "  color: #f1f1f1;\n",
       "}\n",
       "#T_e2c6b_row7_col1 {\n",
       "  background-color: #ffebe2;\n",
       "  color: #000000;\n",
       "}\n",
       "#T_e2c6b_row7_col2 {\n",
       "  background-color: #fee6da;\n",
       "  color: #000000;\n",
       "}\n",
       "#T_e2c6b_row7_col3, #T_e2c6b_row15_col3 {\n",
       "  background-color: #fee2d5;\n",
       "  color: #000000;\n",
       "}\n",
       "#T_e2c6b_row8_col1 {\n",
       "  background-color: #ffede5;\n",
       "  color: #000000;\n",
       "}\n",
       "#T_e2c6b_row8_col2 {\n",
       "  background-color: #feeae1;\n",
       "  color: #000000;\n",
       "}\n",
       "#T_e2c6b_row8_col3 {\n",
       "  background-color: #fee8dd;\n",
       "  color: #000000;\n",
       "}\n",
       "#T_e2c6b_row9_col1 {\n",
       "  background-color: #ffeee6;\n",
       "  color: #000000;\n",
       "}\n",
       "#T_e2c6b_row9_col2, #T_e2c6b_row18_col2, #T_e2c6b_row22_col3, #T_e2c6b_row24_col3, #T_e2c6b_row27_col1, #T_e2c6b_row28_col1, #T_e2c6b_row29_col1, #T_e2c6b_row30_col1, #T_e2c6b_row31_col1, #T_e2c6b_row31_col2, #T_e2c6b_row32_col1, #T_e2c6b_row32_col2, #T_e2c6b_row33_col1, #T_e2c6b_row33_col2, #T_e2c6b_row34_col1, #T_e2c6b_row34_col2, #T_e2c6b_row34_col3, #T_e2c6b_row35_col1, #T_e2c6b_row36_col1, #T_e2c6b_row37_col1, #T_e2c6b_row37_col2, #T_e2c6b_row40_col3, #T_e2c6b_row44_col3, #T_e2c6b_row56_col2, #T_e2c6b_row72_col3 {\n",
       "  background-color: #fff4ee;\n",
       "  color: #000000;\n",
       "}\n",
       "#T_e2c6b_row10_col1, #T_e2c6b_row11_col3, #T_e2c6b_row12_col2, #T_e2c6b_row17_col3 {\n",
       "  background-color: #ffeee7;\n",
       "  color: #000000;\n",
       "}\n",
       "#T_e2c6b_row10_col2, #T_e2c6b_row12_col1, #T_e2c6b_row13_col2, #T_e2c6b_row25_col3, #T_e2c6b_row26_col2 {\n",
       "  background-color: #fff0e9;\n",
       "  color: #000000;\n",
       "}\n",
       "#T_e2c6b_row10_col3, #T_e2c6b_row26_col3 {\n",
       "  background-color: #fee5d9;\n",
       "  color: #000000;\n",
       "}\n",
       "#T_e2c6b_row11_col1, #T_e2c6b_row13_col3, #T_e2c6b_row21_col3, #T_e2c6b_row30_col3 {\n",
       "  background-color: #fff0e8;\n",
       "  color: #000000;\n",
       "}\n",
       "#T_e2c6b_row11_col2, #T_e2c6b_row18_col1, #T_e2c6b_row19_col1, #T_e2c6b_row19_col2, #T_e2c6b_row20_col1, #T_e2c6b_row21_col1, #T_e2c6b_row22_col2, #T_e2c6b_row24_col2, #T_e2c6b_row25_col2, #T_e2c6b_row28_col2, #T_e2c6b_row33_col3, #T_e2c6b_row48_col2 {\n",
       "  background-color: #fff2ec;\n",
       "  color: #000000;\n",
       "}\n",
       "#T_e2c6b_row12_col3 {\n",
       "  background-color: #fcbca2;\n",
       "  color: #000000;\n",
       "}\n",
       "#T_e2c6b_row13_col1, #T_e2c6b_row14_col1, #T_e2c6b_row14_col2, #T_e2c6b_row15_col1, #T_e2c6b_row15_col2, #T_e2c6b_row16_col2, #T_e2c6b_row16_col3, #T_e2c6b_row48_col3 {\n",
       "  background-color: #fff1ea;\n",
       "  color: #000000;\n",
       "}\n",
       "#T_e2c6b_row14_col3 {\n",
       "  background-color: #ffece4;\n",
       "  color: #000000;\n",
       "}\n",
       "#T_e2c6b_row16_col1, #T_e2c6b_row17_col1, #T_e2c6b_row20_col2, #T_e2c6b_row28_col3, #T_e2c6b_row32_col3 {\n",
       "  background-color: #fff2eb;\n",
       "  color: #000000;\n",
       "}\n",
       "#T_e2c6b_row17_col2, #T_e2c6b_row18_col3, #T_e2c6b_row19_col3, #T_e2c6b_row22_col1, #T_e2c6b_row23_col1, #T_e2c6b_row23_col3, #T_e2c6b_row24_col1, #T_e2c6b_row25_col1, #T_e2c6b_row26_col1, #T_e2c6b_row27_col3, #T_e2c6b_row29_col3, #T_e2c6b_row31_col3, #T_e2c6b_row38_col3, #T_e2c6b_row40_col2, #T_e2c6b_row58_col2, #T_e2c6b_row58_col3 {\n",
       "  background-color: #fff3ed;\n",
       "  color: #000000;\n",
       "}\n",
       "#T_e2c6b_row20_col3, #T_e2c6b_row23_col2, #T_e2c6b_row29_col2, #T_e2c6b_row30_col2, #T_e2c6b_row35_col2, #T_e2c6b_row36_col2, #T_e2c6b_row37_col3, #T_e2c6b_row39_col2, #T_e2c6b_row41_col3, #T_e2c6b_row42_col3, #T_e2c6b_row43_col3, #T_e2c6b_row45_col3, #T_e2c6b_row46_col2, #T_e2c6b_row46_col3, #T_e2c6b_row49_col2, #T_e2c6b_row49_col3, #T_e2c6b_row50_col2, #T_e2c6b_row51_col3, #T_e2c6b_row52_col2, #T_e2c6b_row52_col3, #T_e2c6b_row53_col2, #T_e2c6b_row53_col3, #T_e2c6b_row54_col1, #T_e2c6b_row54_col2, #T_e2c6b_row54_col3, #T_e2c6b_row55_col1, #T_e2c6b_row56_col1, #T_e2c6b_row56_col3, #T_e2c6b_row57_col1, #T_e2c6b_row57_col3, #T_e2c6b_row58_col1, #T_e2c6b_row59_col1, #T_e2c6b_row59_col2, #T_e2c6b_row59_col3, #T_e2c6b_row60_col1, #T_e2c6b_row60_col2, #T_e2c6b_row61_col1, #T_e2c6b_row61_col2, #T_e2c6b_row61_col3, #T_e2c6b_row62_col1, #T_e2c6b_row63_col1, #T_e2c6b_row63_col2, #T_e2c6b_row63_col3, #T_e2c6b_row64_col1, #T_e2c6b_row64_col3, #T_e2c6b_row65_col1, #T_e2c6b_row65_col2, #T_e2c6b_row65_col3, #T_e2c6b_row66_col1, #T_e2c6b_row66_col2, #T_e2c6b_row67_col1, #T_e2c6b_row67_col2, #T_e2c6b_row67_col3, #T_e2c6b_row68_col1, #T_e2c6b_row68_col2, #T_e2c6b_row68_col3, #T_e2c6b_row69_col1, #T_e2c6b_row69_col2, #T_e2c6b_row70_col1, #T_e2c6b_row70_col2, #T_e2c6b_row70_col3, #T_e2c6b_row71_col1, #T_e2c6b_row71_col2, #T_e2c6b_row71_col3, #T_e2c6b_row72_col1, #T_e2c6b_row72_col2, #T_e2c6b_row73_col1, #T_e2c6b_row73_col2, #T_e2c6b_row73_col3, #T_e2c6b_row74_col1, #T_e2c6b_row74_col2, #T_e2c6b_row75_col1, #T_e2c6b_row75_col2, #T_e2c6b_row75_col3, #T_e2c6b_row76_col1, #T_e2c6b_row76_col2, #T_e2c6b_row76_col3, #T_e2c6b_row77_col1, #T_e2c6b_row77_col2, #T_e2c6b_row77_col3, #T_e2c6b_row78_col1, #T_e2c6b_row78_col2, #T_e2c6b_row78_col3, #T_e2c6b_row79_col1, #T_e2c6b_row79_col2, #T_e2c6b_row79_col3, #T_e2c6b_row80_col1, #T_e2c6b_row80_col2, #T_e2c6b_row80_col3, #T_e2c6b_row81_col1, #T_e2c6b_row81_col2, #T_e2c6b_row81_col3, #T_e2c6b_row82_col1, #T_e2c6b_row82_col2, #T_e2c6b_row82_col3, #T_e2c6b_row83_col1, #T_e2c6b_row83_col2, #T_e2c6b_row83_col3, #T_e2c6b_row84_col1, #T_e2c6b_row84_col2, #T_e2c6b_row84_col3, #T_e2c6b_row85_col1, #T_e2c6b_row85_col2, #T_e2c6b_row85_col3, #T_e2c6b_row86_col1, #T_e2c6b_row86_col2, #T_e2c6b_row86_col3, #T_e2c6b_row87_col1, #T_e2c6b_row87_col2, #T_e2c6b_row87_col3, #T_e2c6b_row88_col1, #T_e2c6b_row88_col3, #T_e2c6b_row89_col1, #T_e2c6b_row89_col2, #T_e2c6b_row89_col3, #T_e2c6b_row90_col1, #T_e2c6b_row90_col2, #T_e2c6b_row91_col1, #T_e2c6b_row91_col2, #T_e2c6b_row91_col3, #T_e2c6b_row92_col1, #T_e2c6b_row92_col2, #T_e2c6b_row92_col3, #T_e2c6b_row93_col1, #T_e2c6b_row93_col2, #T_e2c6b_row93_col3, #T_e2c6b_row94_col1, #T_e2c6b_row94_col2, #T_e2c6b_row94_col3, #T_e2c6b_row95_col1, #T_e2c6b_row95_col2, #T_e2c6b_row95_col3, #T_e2c6b_row96_col1, #T_e2c6b_row96_col2, #T_e2c6b_row96_col3, #T_e2c6b_row97_col1, #T_e2c6b_row97_col2, #T_e2c6b_row97_col3, #T_e2c6b_row98_col1, #T_e2c6b_row98_col2, #T_e2c6b_row98_col3, #T_e2c6b_row99_col1, #T_e2c6b_row99_col2, #T_e2c6b_row99_col3, #T_e2c6b_row100_col1, #T_e2c6b_row100_col2, #T_e2c6b_row100_col3, #T_e2c6b_row101_col1, #T_e2c6b_row101_col2, #T_e2c6b_row101_col3, #T_e2c6b_row102_col1, #T_e2c6b_row102_col2, #T_e2c6b_row102_col3, #T_e2c6b_row103_col1, #T_e2c6b_row103_col2, #T_e2c6b_row103_col3, #T_e2c6b_row104_col1, #T_e2c6b_row104_col2, #T_e2c6b_row104_col3, #T_e2c6b_row105_col1, #T_e2c6b_row105_col2, #T_e2c6b_row105_col3, #T_e2c6b_row106_col1, #T_e2c6b_row106_col2, #T_e2c6b_row106_col3, #T_e2c6b_row107_col1, #T_e2c6b_row107_col2, #T_e2c6b_row107_col3, #T_e2c6b_row108_col1, #T_e2c6b_row108_col2, #T_e2c6b_row108_col3, #T_e2c6b_row109_col1, #T_e2c6b_row109_col2, #T_e2c6b_row109_col3, #T_e2c6b_row110_col1, #T_e2c6b_row110_col2, #T_e2c6b_row110_col3, #T_e2c6b_row111_col1, #T_e2c6b_row111_col2, #T_e2c6b_row111_col3, #T_e2c6b_row112_col1, #T_e2c6b_row112_col2, #T_e2c6b_row112_col3, #T_e2c6b_row113_col1, #T_e2c6b_row113_col2, #T_e2c6b_row113_col3, #T_e2c6b_row114_col1, #T_e2c6b_row114_col2, #T_e2c6b_row114_col3, #T_e2c6b_row115_col1, #T_e2c6b_row115_col2, #T_e2c6b_row115_col3, #T_e2c6b_row116_col1, #T_e2c6b_row116_col2, #T_e2c6b_row116_col3, #T_e2c6b_row117_col1, #T_e2c6b_row117_col2, #T_e2c6b_row117_col3, #T_e2c6b_row118_col1, #T_e2c6b_row118_col2, #T_e2c6b_row118_col3, #T_e2c6b_row119_col1, #T_e2c6b_row119_col2, #T_e2c6b_row119_col3, #T_e2c6b_row120_col1, #T_e2c6b_row120_col2, #T_e2c6b_row120_col3, #T_e2c6b_row121_col1, #T_e2c6b_row121_col2, #T_e2c6b_row121_col3, #T_e2c6b_row122_col1, #T_e2c6b_row122_col2, #T_e2c6b_row122_col3, #T_e2c6b_row123_col1, #T_e2c6b_row123_col2, #T_e2c6b_row123_col3, #T_e2c6b_row124_col1, #T_e2c6b_row124_col2, #T_e2c6b_row124_col3, #T_e2c6b_row125_col1, #T_e2c6b_row125_col2, #T_e2c6b_row125_col3, #T_e2c6b_row126_col1, #T_e2c6b_row126_col2, #T_e2c6b_row126_col3, #T_e2c6b_row127_col1, #T_e2c6b_row127_col2, #T_e2c6b_row127_col3, #T_e2c6b_row128_col1, #T_e2c6b_row128_col2, #T_e2c6b_row128_col3, #T_e2c6b_row129_col1, #T_e2c6b_row129_col2, #T_e2c6b_row129_col3, #T_e2c6b_row130_col1, #T_e2c6b_row130_col2, #T_e2c6b_row130_col3, #T_e2c6b_row131_col1, #T_e2c6b_row131_col2, #T_e2c6b_row131_col3, #T_e2c6b_row132_col1, #T_e2c6b_row132_col2, #T_e2c6b_row132_col3, #T_e2c6b_row133_col1, #T_e2c6b_row133_col2, #T_e2c6b_row133_col3, #T_e2c6b_row134_col1, #T_e2c6b_row134_col2, #T_e2c6b_row134_col3, #T_e2c6b_row135_col1, #T_e2c6b_row135_col2, #T_e2c6b_row135_col3, #T_e2c6b_row136_col1, #T_e2c6b_row136_col2, #T_e2c6b_row136_col3, #T_e2c6b_row137_col1, #T_e2c6b_row137_col2, #T_e2c6b_row137_col3, #T_e2c6b_row138_col1, #T_e2c6b_row138_col2, #T_e2c6b_row138_col3, #T_e2c6b_row139_col1, #T_e2c6b_row139_col2, #T_e2c6b_row139_col3, #T_e2c6b_row140_col1, #T_e2c6b_row140_col2, #T_e2c6b_row140_col3, #T_e2c6b_row141_col1, #T_e2c6b_row141_col2, #T_e2c6b_row141_col3, #T_e2c6b_row142_col1, #T_e2c6b_row142_col2, #T_e2c6b_row142_col3, #T_e2c6b_row143_col1, #T_e2c6b_row143_col2, #T_e2c6b_row143_col3, #T_e2c6b_row144_col1, #T_e2c6b_row144_col2, #T_e2c6b_row144_col3, #T_e2c6b_row145_col1, #T_e2c6b_row145_col2, #T_e2c6b_row145_col3, #T_e2c6b_row146_col1, #T_e2c6b_row146_col2, #T_e2c6b_row146_col3, #T_e2c6b_row147_col1, #T_e2c6b_row147_col2, #T_e2c6b_row147_col3, #T_e2c6b_row148_col1, #T_e2c6b_row148_col2, #T_e2c6b_row148_col3, #T_e2c6b_row149_col1, #T_e2c6b_row149_col2, #T_e2c6b_row149_col3, #T_e2c6b_row150_col1, #T_e2c6b_row150_col2, #T_e2c6b_row150_col3, #T_e2c6b_row151_col1, #T_e2c6b_row151_col2, #T_e2c6b_row151_col3, #T_e2c6b_row152_col1, #T_e2c6b_row152_col2, #T_e2c6b_row152_col3, #T_e2c6b_row153_col1, #T_e2c6b_row153_col2, #T_e2c6b_row153_col3, #T_e2c6b_row154_col1, #T_e2c6b_row154_col2, #T_e2c6b_row154_col3, #T_e2c6b_row155_col1, #T_e2c6b_row155_col2, #T_e2c6b_row155_col3, #T_e2c6b_row156_col1, #T_e2c6b_row156_col2, #T_e2c6b_row156_col3, #T_e2c6b_row157_col1, #T_e2c6b_row157_col2, #T_e2c6b_row157_col3, #T_e2c6b_row158_col1, #T_e2c6b_row158_col2, #T_e2c6b_row158_col3, #T_e2c6b_row159_col1, #T_e2c6b_row159_col2, #T_e2c6b_row159_col3, #T_e2c6b_row160_col1, #T_e2c6b_row160_col2, #T_e2c6b_row160_col3, #T_e2c6b_row161_col1, #T_e2c6b_row161_col2, #T_e2c6b_row161_col3, #T_e2c6b_row162_col1, #T_e2c6b_row162_col2, #T_e2c6b_row162_col3, #T_e2c6b_row163_col1, #T_e2c6b_row163_col2, #T_e2c6b_row163_col3, #T_e2c6b_row164_col1, #T_e2c6b_row164_col2, #T_e2c6b_row164_col3, #T_e2c6b_row165_col1, #T_e2c6b_row165_col2, #T_e2c6b_row165_col3, #T_e2c6b_row166_col1, #T_e2c6b_row166_col2, #T_e2c6b_row166_col3, #T_e2c6b_row167_col1, #T_e2c6b_row167_col2, #T_e2c6b_row167_col3, #T_e2c6b_row168_col1, #T_e2c6b_row168_col2, #T_e2c6b_row168_col3, #T_e2c6b_row169_col1, #T_e2c6b_row169_col2, #T_e2c6b_row169_col3, #T_e2c6b_row170_col1, #T_e2c6b_row170_col2, #T_e2c6b_row170_col3, #T_e2c6b_row171_col1, #T_e2c6b_row171_col2, #T_e2c6b_row171_col3, #T_e2c6b_row172_col1, #T_e2c6b_row172_col2, #T_e2c6b_row172_col3, #T_e2c6b_row173_col1, #T_e2c6b_row173_col2, #T_e2c6b_row173_col3, #T_e2c6b_row174_col1, #T_e2c6b_row174_col2, #T_e2c6b_row174_col3, #T_e2c6b_row175_col1, #T_e2c6b_row175_col2, #T_e2c6b_row175_col3, #T_e2c6b_row176_col1, #T_e2c6b_row176_col2, #T_e2c6b_row176_col3, #T_e2c6b_row177_col1, #T_e2c6b_row177_col2, #T_e2c6b_row177_col3, #T_e2c6b_row178_col1, #T_e2c6b_row178_col2, #T_e2c6b_row178_col3, #T_e2c6b_row179_col1, #T_e2c6b_row179_col2, #T_e2c6b_row179_col3, #T_e2c6b_row180_col1, #T_e2c6b_row180_col2, #T_e2c6b_row180_col3, #T_e2c6b_row181_col1, #T_e2c6b_row181_col2, #T_e2c6b_row181_col3, #T_e2c6b_row182_col1, #T_e2c6b_row182_col2, #T_e2c6b_row182_col3, #T_e2c6b_row183_col1, #T_e2c6b_row183_col2, #T_e2c6b_row183_col3, #T_e2c6b_row184_col1, #T_e2c6b_row184_col2, #T_e2c6b_row184_col3, #T_e2c6b_row185_col1, #T_e2c6b_row185_col2, #T_e2c6b_row185_col3, #T_e2c6b_row186_col1, #T_e2c6b_row186_col2, #T_e2c6b_row186_col3, #T_e2c6b_row187_col1, #T_e2c6b_row187_col2, #T_e2c6b_row187_col3, #T_e2c6b_row188_col1, #T_e2c6b_row188_col2, #T_e2c6b_row188_col3, #T_e2c6b_row189_col1, #T_e2c6b_row189_col2, #T_e2c6b_row189_col3 {\n",
       "  background-color: #fff5f0;\n",
       "  color: #000000;\n",
       "}\n",
       "#T_e2c6b_row21_col2, #T_e2c6b_row27_col2, #T_e2c6b_row35_col3, #T_e2c6b_row36_col3, #T_e2c6b_row38_col1, #T_e2c6b_row38_col2, #T_e2c6b_row39_col1, #T_e2c6b_row39_col3, #T_e2c6b_row40_col1, #T_e2c6b_row41_col1, #T_e2c6b_row41_col2, #T_e2c6b_row42_col1, #T_e2c6b_row42_col2, #T_e2c6b_row43_col1, #T_e2c6b_row43_col2, #T_e2c6b_row44_col1, #T_e2c6b_row44_col2, #T_e2c6b_row45_col1, #T_e2c6b_row45_col2, #T_e2c6b_row46_col1, #T_e2c6b_row47_col1, #T_e2c6b_row47_col2, #T_e2c6b_row47_col3, #T_e2c6b_row48_col1, #T_e2c6b_row49_col1, #T_e2c6b_row50_col1, #T_e2c6b_row50_col3, #T_e2c6b_row51_col1, #T_e2c6b_row51_col2, #T_e2c6b_row52_col1, #T_e2c6b_row53_col1, #T_e2c6b_row55_col2, #T_e2c6b_row55_col3, #T_e2c6b_row57_col2, #T_e2c6b_row60_col3, #T_e2c6b_row62_col2, #T_e2c6b_row62_col3, #T_e2c6b_row64_col2, #T_e2c6b_row66_col3, #T_e2c6b_row69_col3, #T_e2c6b_row74_col3, #T_e2c6b_row88_col2, #T_e2c6b_row90_col3 {\n",
       "  background-color: #fff4ef;\n",
       "  color: #000000;\n",
       "}\n",
       "</style>\n",
       "<table id=\"T_e2c6b\">\n",
       "  <thead>\n",
       "    <tr>\n",
       "      <th class=\"blank level0\" >&nbsp;</th>\n",
       "      <th id=\"T_e2c6b_level0_col0\" class=\"col_heading level0 col0\" >Country Name</th>\n",
       "      <th id=\"T_e2c6b_level0_col1\" class=\"col_heading level0 col1\" >Proportion of Confirmed</th>\n",
       "      <th id=\"T_e2c6b_level0_col2\" class=\"col_heading level0 col2\" >Proportion of Recovered</th>\n",
       "      <th id=\"T_e2c6b_level0_col3\" class=\"col_heading level0 col3\" >Proportion of Deaths</th>\n",
       "    </tr>\n",
       "  </thead>\n",
       "  <tbody>\n",
       "    <tr>\n",
       "      <th id=\"T_e2c6b_level0_row0\" class=\"row_heading level0 row0\" >2</th>\n",
       "      <td id=\"T_e2c6b_row0_col0\" class=\"data row0 col0\" >India</td>\n",
       "      <td id=\"T_e2c6b_row0_col1\" class=\"data row0 col1\" >30.060533</td>\n",
       "      <td id=\"T_e2c6b_row0_col2\" class=\"data row0 col2\" >30.688778</td>\n",
       "      <td id=\"T_e2c6b_row0_col3\" class=\"data row0 col3\" >17.637209</td>\n",
       "    </tr>\n",
       "    <tr>\n",
       "      <th id=\"T_e2c6b_level0_row1\" class=\"row_heading level0 row1\" >0</th>\n",
       "      <td id=\"T_e2c6b_row1_col0\" class=\"data row1 col0\" >US</td>\n",
       "      <td id=\"T_e2c6b_row1_col1\" class=\"data row1 col1\" >17.996779</td>\n",
       "      <td id=\"T_e2c6b_row1_col2\" class=\"data row1 col2\" >10.514103</td>\n",
       "      <td id=\"T_e2c6b_row1_col3\" class=\"data row1 col3\" >17.879070</td>\n",
       "    </tr>\n",
       "    <tr>\n",
       "      <th id=\"T_e2c6b_level0_row2\" class=\"row_heading level0 row2\" >1</th>\n",
       "      <td id=\"T_e2c6b_row2_col0\" class=\"data row2 col0\" >Brazil</td>\n",
       "      <td id=\"T_e2c6b_row2_col1\" class=\"data row2 col1\" >15.781961</td>\n",
       "      <td id=\"T_e2c6b_row2_col2\" class=\"data row2 col2\" >20.512118</td>\n",
       "      <td id=\"T_e2c6b_row2_col3\" class=\"data row2 col3\" >14.102326</td>\n",
       "    </tr>\n",
       "    <tr>\n",
       "      <th id=\"T_e2c6b_level0_row3\" class=\"row_heading level0 row3\" >6</th>\n",
       "      <td id=\"T_e2c6b_row3_col0\" class=\"data row3 col0\" >Colombia</td>\n",
       "      <td id=\"T_e2c6b_row3_col1\" class=\"data row3 col1\" >3.584623</td>\n",
       "      <td id=\"T_e2c6b_row3_col2\" class=\"data row3 col2\" >5.176944</td>\n",
       "      <td id=\"T_e2c6b_row3_col3\" class=\"data row3 col3\" >5.525581</td>\n",
       "    </tr>\n",
       "    <tr>\n",
       "      <th id=\"T_e2c6b_level0_row4\" class=\"row_heading level0 row4\" >10</th>\n",
       "      <td id=\"T_e2c6b_row4_col0\" class=\"data row4 col0\" >Argentina</td>\n",
       "      <td id=\"T_e2c6b_row4_col1\" class=\"data row4 col1\" >3.522793</td>\n",
       "      <td id=\"T_e2c6b_row4_col2\" class=\"data row4 col2\" >3.334247</td>\n",
       "      <td id=\"T_e2c6b_row4_col3\" class=\"data row4 col3\" >1.525581</td>\n",
       "    </tr>\n",
       "    <tr>\n",
       "      <th id=\"T_e2c6b_level0_row5\" class=\"row_heading level0 row5\" >4</th>\n",
       "      <td id=\"T_e2c6b_row5_col0\" class=\"data row5 col0\" >Peru</td>\n",
       "      <td id=\"T_e2c6b_row5_col1\" class=\"data row5 col1\" >3.039602</td>\n",
       "      <td id=\"T_e2c6b_row5_col2\" class=\"data row5 col2\" >3.948637</td>\n",
       "      <td id=\"T_e2c6b_row5_col3\" class=\"data row5 col3\" >3.609302</td>\n",
       "    </tr>\n",
       "    <tr>\n",
       "      <th id=\"T_e2c6b_level0_row6\" class=\"row_heading level0 row6\" >7</th>\n",
       "      <td id=\"T_e2c6b_row6_col0\" class=\"data row6 col0\" >Mexico</td>\n",
       "      <td id=\"T_e2c6b_row6_col1\" class=\"data row6 col1\" >2.280083</td>\n",
       "      <td id=\"T_e2c6b_row6_col2\" class=\"data row6 col2\" >2.132878</td>\n",
       "      <td id=\"T_e2c6b_row6_col3\" class=\"data row6 col3\" >12.520930</td>\n",
       "    </tr>\n",
       "    <tr>\n",
       "      <th id=\"T_e2c6b_level0_row7\" class=\"row_heading level0 row7\" >3</th>\n",
       "      <td id=\"T_e2c6b_row7_col0\" class=\"data row7 col0\" >Russia</td>\n",
       "      <td id=\"T_e2c6b_row7_col1\" class=\"data row7 col1\" >1.848417</td>\n",
       "      <td id=\"T_e2c6b_row7_col2\" class=\"data row7 col2\" >2.772789</td>\n",
       "      <td id=\"T_e2c6b_row7_col3\" class=\"data row7 col3\" >2.065116</td>\n",
       "    </tr>\n",
       "    <tr>\n",
       "      <th id=\"T_e2c6b_level0_row8\" class=\"row_heading level0 row8\" >20</th>\n",
       "      <td id=\"T_e2c6b_row8_col0\" class=\"data row8 col0\" >Iraq</td>\n",
       "      <td id=\"T_e2c6b_row8_col1\" class=\"data row8 col1\" >1.463314</td>\n",
       "      <td id=\"T_e2c6b_row8_col2\" class=\"data row8 col2\" >1.959431</td>\n",
       "      <td id=\"T_e2c6b_row8_col3\" class=\"data row8 col3\" >1.432558</td>\n",
       "    </tr>\n",
       "    <tr>\n",
       "      <th id=\"T_e2c6b_level0_row9\" class=\"row_heading level0 row9\" >21</th>\n",
       "      <td id=\"T_e2c6b_row9_col0\" class=\"data row9 col0\" >Philippines</td>\n",
       "      <td id=\"T_e2c6b_row9_col1\" class=\"data row9 col1\" >1.369042</td>\n",
       "      <td id=\"T_e2c6b_row9_col2\" class=\"data row9 col2\" >0.296325</td>\n",
       "      <td id=\"T_e2c6b_row9_col3\" class=\"data row9 col3\" >1.748837</td>\n",
       "    </tr>\n",
       "    <tr>\n",
       "      <th id=\"T_e2c6b_level0_row10\" class=\"row_heading level0 row10\" >22</th>\n",
       "      <td id=\"T_e2c6b_row10_col0\" class=\"data row10 col0\" >Indonesia</td>\n",
       "      <td id=\"T_e2c6b_row10_col1\" class=\"data row10 col1\" >1.262557</td>\n",
       "      <td id=\"T_e2c6b_row10_col2\" class=\"data row10 col2\" >0.898900</td>\n",
       "      <td id=\"T_e2c6b_row10_col3\" class=\"data row10 col3\" >1.711628</td>\n",
       "    </tr>\n",
       "    <tr>\n",
       "      <th id=\"T_e2c6b_level0_row11\" class=\"row_heading level0 row11\" >24</th>\n",
       "      <td id=\"T_e2c6b_row11_col0\" class=\"data row11 col0\" >Ukraine</td>\n",
       "      <td id=\"T_e2c6b_row11_col1\" class=\"data row11 col1\" >0.984321</td>\n",
       "      <td id=\"T_e2c6b_row11_col2\" class=\"data row11 col2\" >0.522231</td>\n",
       "      <td id=\"T_e2c6b_row11_col3\" class=\"data row11 col3\" >0.762791</td>\n",
       "    </tr>\n",
       "    <tr>\n",
       "      <th id=\"T_e2c6b_level0_row12\" class=\"row_heading level0 row12\" >5</th>\n",
       "      <td id=\"T_e2c6b_row12_col0\" class=\"data row12 col0\" >South Africa</td>\n",
       "      <td id=\"T_e2c6b_row12_col1\" class=\"data row12 col1\" >0.923254</td>\n",
       "      <td id=\"T_e2c6b_row12_col2\" class=\"data row12 col2\" >1.303925</td>\n",
       "      <td id=\"T_e2c6b_row12_col3\" class=\"data row12 col3\" >4.427907</td>\n",
       "    </tr>\n",
       "    <tr>\n",
       "      <th id=\"T_e2c6b_level0_row13\" class=\"row_heading level0 row13\" >14</th>\n",
       "      <td id=\"T_e2c6b_row13_col0\" class=\"data row13 col0\" >Bangladesh</td>\n",
       "      <td id=\"T_e2c6b_row13_col1\" class=\"data row13 col1\" >0.813334</td>\n",
       "      <td id=\"T_e2c6b_row13_col2\" class=\"data row13 col2\" >0.957976</td>\n",
       "      <td id=\"T_e2c6b_row13_col3\" class=\"data row13 col3\" >0.595349</td>\n",
       "    </tr>\n",
       "    <tr>\n",
       "      <th id=\"T_e2c6b_level0_row14\" class=\"row_heading level0 row14\" >9</th>\n",
       "      <td id=\"T_e2c6b_row14_col0\" class=\"data row14 col0\" >Chile</td>\n",
       "      <td id=\"T_e2c6b_row14_col1\" class=\"data row14 col1\" >0.777457</td>\n",
       "      <td id=\"T_e2c6b_row14_col2\" class=\"data row14 col2\" >0.818084</td>\n",
       "      <td id=\"T_e2c6b_row14_col3\" class=\"data row14 col3\" >0.911628</td>\n",
       "    </tr>\n",
       "    <tr>\n",
       "      <th id=\"T_e2c6b_level0_row15\" class=\"row_heading level0 row15\" >11</th>\n",
       "      <td id=\"T_e2c6b_row15_col0\" class=\"data row15 col0\" >Iran</td>\n",
       "      <td id=\"T_e2c6b_row15_col1\" class=\"data row15 col1\" >0.727077</td>\n",
       "      <td id=\"T_e2c6b_row15_col2\" class=\"data row15 col2\" >0.745302</td>\n",
       "      <td id=\"T_e2c6b_row15_col3\" class=\"data row15 col3\" >2.046512</td>\n",
       "    </tr>\n",
       "    <tr>\n",
       "      <th id=\"T_e2c6b_level0_row16\" class=\"row_heading level0 row16\" >45</th>\n",
       "      <td id=\"T_e2c6b_row16_col0\" class=\"data row16 col0\" >Morocco</td>\n",
       "      <td id=\"T_e2c6b_row16_col1\" class=\"data row16 col1\" >0.598073</td>\n",
       "      <td id=\"T_e2c6b_row16_col2\" class=\"data row16 col2\" >0.741521</td>\n",
       "      <td id=\"T_e2c6b_row16_col3\" class=\"data row16 col3\" >0.483721</td>\n",
       "    </tr>\n",
       "    <tr>\n",
       "      <th id=\"T_e2c6b_level0_row17\" class=\"row_heading level0 row17\" >17</th>\n",
       "      <td id=\"T_e2c6b_row17_col0\" class=\"data row17 col0\" >Turkey</td>\n",
       "      <td id=\"T_e2c6b_row17_col1\" class=\"data row17 col1\" >0.591203</td>\n",
       "      <td id=\"T_e2c6b_row17_col2\" class=\"data row17 col2\" >0.474025</td>\n",
       "      <td id=\"T_e2c6b_row17_col3\" class=\"data row17 col3\" >0.725581</td>\n",
       "    </tr>\n",
       "    <tr>\n",
       "      <th id=\"T_e2c6b_level0_row18\" class=\"row_heading level0 row18\" >51</th>\n",
       "      <td id=\"T_e2c6b_row18_col0\" class=\"data row18 col0\" >Ethiopia</td>\n",
       "      <td id=\"T_e2c6b_row18_col1\" class=\"data row18 col1\" >0.577845</td>\n",
       "      <td id=\"T_e2c6b_row18_col2\" class=\"data row18 col2\" >0.331298</td>\n",
       "      <td id=\"T_e2c6b_row18_col3\" class=\"data row18 col3\" >0.223256</td>\n",
       "    </tr>\n",
       "    <tr>\n",
       "      <th id=\"T_e2c6b_level0_row19\" class=\"row_heading level0 row19\" >27</th>\n",
       "      <td id=\"T_e2c6b_row19_col0\" class=\"data row19 col0\" >Israel</td>\n",
       "      <td id=\"T_e2c6b_row19_col1\" class=\"data row19 col1\" >0.559143</td>\n",
       "      <td id=\"T_e2c6b_row19_col2\" class=\"data row19 col2\" >0.497656</td>\n",
       "      <td id=\"T_e2c6b_row19_col3\" class=\"data row19 col3\" >0.223256</td>\n",
       "    </tr>\n",
       "    <tr>\n",
       "      <th id=\"T_e2c6b_level0_row20\" class=\"row_heading level0 row20\" >18</th>\n",
       "      <td id=\"T_e2c6b_row20_col0\" class=\"data row20 col0\" >Italy</td>\n",
       "      <td id=\"T_e2c6b_row20_col1\" class=\"data row20 col1\" >0.551128</td>\n",
       "      <td id=\"T_e2c6b_row20_col2\" class=\"data row20 col2\" >0.624787</td>\n",
       "      <td id=\"T_e2c6b_row20_col3\" class=\"data row20 col3\" >0.018605</td>\n",
       "    </tr>\n",
       "    <tr>\n",
       "      <th id=\"T_e2c6b_level0_row21\" class=\"row_heading level0 row21\" >33</th>\n",
       "      <td id=\"T_e2c6b_row21_col0\" class=\"data row21 col0\" >Romania</td>\n",
       "      <td id=\"T_e2c6b_row21_col1\" class=\"data row21 col1\" >0.520976</td>\n",
       "      <td id=\"T_e2c6b_row21_col2\" class=\"data row21 col2\" >0.156906</td>\n",
       "      <td id=\"T_e2c6b_row21_col3\" class=\"data row21 col3\" >0.595349</td>\n",
       "    </tr>\n",
       "    <tr>\n",
       "      <th id=\"T_e2c6b_level0_row22\" class=\"row_heading level0 row22\" >59</th>\n",
       "      <td id=\"T_e2c6b_row22_col0\" class=\"data row22 col0\" >Costa Rica</td>\n",
       "      <td id=\"T_e2c6b_row22_col1\" class=\"data row22 col1\" >0.463345</td>\n",
       "      <td id=\"T_e2c6b_row22_col2\" class=\"data row22 col2\" >0.507108</td>\n",
       "      <td id=\"T_e2c6b_row22_col3\" class=\"data row22 col3\" >0.204651</td>\n",
       "    </tr>\n",
       "    <tr>\n",
       "      <th id=\"T_e2c6b_level0_row23\" class=\"row_heading level0 row23\" >12</th>\n",
       "      <td id=\"T_e2c6b_row23_col0\" class=\"data row23 col0\" >UK</td>\n",
       "      <td id=\"T_e2c6b_row23_col1\" class=\"data row23 col1\" >0.423651</td>\n",
       "      <td id=\"T_e2c6b_row23_col2\" class=\"data row23 col2\" >0.003308</td>\n",
       "      <td id=\"T_e2c6b_row23_col3\" class=\"data row23 col3\" >0.223256</td>\n",
       "    </tr>\n",
       "    <tr>\n",
       "      <th id=\"T_e2c6b_level0_row24\" class=\"row_heading level0 row24\" >52</th>\n",
       "      <td id=\"T_e2c6b_row24_col0\" class=\"data row24 col0\" >Venezuela</td>\n",
       "      <td id=\"T_e2c6b_row24_col1\" class=\"data row24 col1\" >0.407239</td>\n",
       "      <td id=\"T_e2c6b_row24_col2\" class=\"data row24 col2\" >0.568547</td>\n",
       "      <td id=\"T_e2c6b_row24_col3\" class=\"data row24 col3\" >0.167442</td>\n",
       "    </tr>\n",
       "    <tr>\n",
       "      <th id=\"T_e2c6b_level0_row25\" class=\"row_heading level0 row25\" >13</th>\n",
       "      <td id=\"T_e2c6b_row25_col0\" class=\"data row25 col0\" >Saudi Arabia</td>\n",
       "      <td id=\"T_e2c6b_row25_col1\" class=\"data row25 col1\" >0.376706</td>\n",
       "      <td id=\"T_e2c6b_row25_col2\" class=\"data row25 col2\" >0.490567</td>\n",
       "      <td id=\"T_e2c6b_row25_col3\" class=\"data row25 col3\" >0.502326</td>\n",
       "    </tr>\n",
       "    <tr>\n",
       "      <th id=\"T_e2c6b_level0_row26\" class=\"row_heading level0 row26\" >26</th>\n",
       "      <td id=\"T_e2c6b_row26_col0\" class=\"data row26 col0\" >Bolivia</td>\n",
       "      <td id=\"T_e2c6b_row26_col1\" class=\"data row26 col1\" >0.360676</td>\n",
       "      <td id=\"T_e2c6b_row26_col2\" class=\"data row26 col2\" >0.867235</td>\n",
       "      <td id=\"T_e2c6b_row26_col3\" class=\"data row26 col3\" >1.711628</td>\n",
       "    </tr>\n",
       "    <tr>\n",
       "      <th id=\"T_e2c6b_level0_row27\" class=\"row_heading level0 row27\" >61</th>\n",
       "      <td id=\"T_e2c6b_row27_col0\" class=\"data row27 col0\" >Nepal</td>\n",
       "      <td id=\"T_e2c6b_row27_col1\" class=\"data row27 col1\" >0.337394</td>\n",
       "      <td id=\"T_e2c6b_row27_col2\" class=\"data row27 col2\" >0.147926</td>\n",
       "      <td id=\"T_e2c6b_row27_col3\" class=\"data row27 col3\" >0.223256</td>\n",
       "    </tr>\n",
       "    <tr>\n",
       "      <th id=\"T_e2c6b_level0_row28\" class=\"row_heading level0 row28\" >43</th>\n",
       "      <td id=\"T_e2c6b_row28_col0\" class=\"data row28 col0\" >Japan</td>\n",
       "      <td id=\"T_e2c6b_row28_col1\" class=\"data row28 col1\" >0.325944</td>\n",
       "      <td id=\"T_e2c6b_row28_col2\" class=\"data row28 col2\" >0.563348</td>\n",
       "      <td id=\"T_e2c6b_row28_col3\" class=\"data row28 col3\" >0.372093</td>\n",
       "    </tr>\n",
       "    <tr>\n",
       "      <th id=\"T_e2c6b_level0_row29\" class=\"row_heading level0 row29\" >46</th>\n",
       "      <td id=\"T_e2c6b_row29_col0\" class=\"data row29 col0\" >Honduras</td>\n",
       "      <td id=\"T_e2c6b_row29_col1\" class=\"data row29 col1\" >0.318693</td>\n",
       "      <td id=\"T_e2c6b_row29_col2\" class=\"data row29 col2\" >0.037809</td>\n",
       "      <td id=\"T_e2c6b_row29_col3\" class=\"data row29 col3\" >0.279070</td>\n",
       "    </tr>\n",
       "    <tr>\n",
       "      <th id=\"T_e2c6b_level0_row30\" class=\"row_heading level0 row30\" >28</th>\n",
       "      <td id=\"T_e2c6b_row30_col0\" class=\"data row30 col0\" >Ecuador</td>\n",
       "      <td id=\"T_e2c6b_row30_col1\" class=\"data row30 col1\" >0.291976</td>\n",
       "      <td id=\"T_e2c6b_row30_col2\" class=\"data row30 col2\" >0.055768</td>\n",
       "      <td id=\"T_e2c6b_row30_col3\" class=\"data row30 col3\" >0.613953</td>\n",
       "    </tr>\n",
       "    <tr>\n",
       "      <th id=\"T_e2c6b_level0_row31\" class=\"row_heading level0 row31\" >44</th>\n",
       "      <td id=\"T_e2c6b_row31_col0\" class=\"data row31 col0\" >Poland</td>\n",
       "      <td id=\"T_e2c6b_row31_col1\" class=\"data row31 col1\" >0.289686</td>\n",
       "      <td id=\"T_e2c6b_row31_col2\" class=\"data row31 col2\" >0.354928</td>\n",
       "      <td id=\"T_e2c6b_row31_col3\" class=\"data row31 col3\" >0.260465</td>\n",
       "    </tr>\n",
       "    <tr>\n",
       "      <th id=\"T_e2c6b_level0_row32\" class=\"row_heading level0 row32\" >39</th>\n",
       "      <td id=\"T_e2c6b_row32_col0\" class=\"data row32 col0\" >Guatemala</td>\n",
       "      <td id=\"T_e2c6b_row32_col1\" class=\"data row32 col1\" >0.289304</td>\n",
       "      <td id=\"T_e2c6b_row32_col2\" class=\"data row32 col2\" >0.297270</td>\n",
       "      <td id=\"T_e2c6b_row32_col3\" class=\"data row32 col3\" >0.353488</td>\n",
       "    </tr>\n",
       "    <tr>\n",
       "      <th id=\"T_e2c6b_level0_row33\" class=\"row_heading level0 row33\" >32</th>\n",
       "      <td id=\"T_e2c6b_row33_col0\" class=\"data row33 col0\" >Panama</td>\n",
       "      <td id=\"T_e2c6b_row33_col1\" class=\"data row33 col1\" >0.272129</td>\n",
       "      <td id=\"T_e2c6b_row33_col2\" class=\"data row33 col2\" >0.244338</td>\n",
       "      <td id=\"T_e2c6b_row33_col3\" class=\"data row33 col3\" >0.316279</td>\n",
       "    </tr>\n",
       "    <tr>\n",
       "      <th id=\"T_e2c6b_level0_row34\" class=\"row_heading level0 row34\" >19</th>\n",
       "      <td id=\"T_e2c6b_row34_col0\" class=\"data row34 col0\" >Germany</td>\n",
       "      <td id=\"T_e2c6b_row34_col1\" class=\"data row34 col1\" >0.270602</td>\n",
       "      <td id=\"T_e2c6b_row34_col2\" class=\"data row34 col2\" >0.285455</td>\n",
       "      <td id=\"T_e2c6b_row34_col3\" class=\"data row34 col3\" >0.167442</td>\n",
       "    </tr>\n",
       "    <tr>\n",
       "      <th id=\"T_e2c6b_level0_row35\" class=\"row_heading level0 row35\" >78</th>\n",
       "      <td id=\"T_e2c6b_row35_col0\" class=\"data row35 col0\" >Lebanon</td>\n",
       "      <td id=\"T_e2c6b_row35_col1\" class=\"data row35 col1\" >0.252664</td>\n",
       "      <td id=\"T_e2c6b_row35_col2\" class=\"data row35 col2\" >0.105864</td>\n",
       "      <td id=\"T_e2c6b_row35_col3\" class=\"data row35 col3\" >0.130233</td>\n",
       "    </tr>\n",
       "    <tr>\n",
       "      <th id=\"T_e2c6b_level0_row36\" class=\"row_heading level0 row36\" >36</th>\n",
       "      <td id=\"T_e2c6b_row36_col0\" class=\"data row36 col0\" >Belgium</td>\n",
       "      <td id=\"T_e2c6b_row36_col1\" class=\"data row36 col1\" >0.246939</td>\n",
       "      <td id=\"T_e2c6b_row36_col2\" class=\"data row36 col2\" >0.020322</td>\n",
       "      <td id=\"T_e2c6b_row36_col3\" class=\"data row36 col3\" >0.093023</td>\n",
       "    </tr>\n",
       "    <tr>\n",
       "      <th id=\"T_e2c6b_level0_row37\" class=\"row_heading level0 row37\" >37</th>\n",
       "      <td id=\"T_e2c6b_row37_col0\" class=\"data row37 col0\" >Kuwait</td>\n",
       "      <td id=\"T_e2c6b_row37_col1\" class=\"data row37 col1\" >0.246557</td>\n",
       "      <td id=\"T_e2c6b_row37_col2\" class=\"data row37 col2\" >0.318065</td>\n",
       "      <td id=\"T_e2c6b_row37_col3\" class=\"data row37 col3\" >0.055814</td>\n",
       "    </tr>\n",
       "    <tr>\n",
       "      <th id=\"T_e2c6b_level0_row38\" class=\"row_heading level0 row38\" >77</th>\n",
       "      <td id=\"T_e2c6b_row38_col0\" class=\"data row38 col0\" >Paraguay</td>\n",
       "      <td id=\"T_e2c6b_row38_col1\" class=\"data row38 col1\" >0.229382</td>\n",
       "      <td id=\"T_e2c6b_row38_col2\" class=\"data row38 col2\" >0.122405</td>\n",
       "      <td id=\"T_e2c6b_row38_col3\" class=\"data row38 col3\" >0.260465</td>\n",
       "    </tr>\n",
       "    <tr>\n",
       "      <th id=\"T_e2c6b_level0_row39\" class=\"row_heading level0 row39\" >40</th>\n",
       "      <td id=\"T_e2c6b_row39_col0\" class=\"data row39 col0\" >Netherlands</td>\n",
       "      <td id=\"T_e2c6b_row39_col1\" class=\"data row39 col1\" >0.217932</td>\n",
       "      <td id=\"T_e2c6b_row39_col2\" class=\"data row39 col2\" >0.010397</td>\n",
       "      <td id=\"T_e2c6b_row39_col3\" class=\"data row39 col3\" >0.093023</td>\n",
       "    </tr>\n",
       "    <tr>\n",
       "      <th id=\"T_e2c6b_level0_row40\" class=\"row_heading level0 row40\" >62</th>\n",
       "      <td id=\"T_e2c6b_row40_col0\" class=\"data row40 col0\" >Moldova</td>\n",
       "      <td id=\"T_e2c6b_row40_col1\" class=\"data row40 col1\" >0.190834</td>\n",
       "      <td id=\"T_e2c6b_row40_col2\" class=\"data row40 col2\" >0.464573</td>\n",
       "      <td id=\"T_e2c6b_row40_col3\" class=\"data row40 col3\" >0.167442</td>\n",
       "    </tr>\n",
       "    <tr>\n",
       "      <th id=\"T_e2c6b_level0_row41\" class=\"row_heading level0 row41\" >42</th>\n",
       "      <td id=\"T_e2c6b_row41_col0\" class=\"data row41 col0\" >United Arab Emirates</td>\n",
       "      <td id=\"T_e2c6b_row41_col1\" class=\"data row41 col1\" >0.162972</td>\n",
       "      <td id=\"T_e2c6b_row41_col2\" class=\"data row41 col2\" >0.161159</td>\n",
       "      <td id=\"T_e2c6b_row41_col3\" class=\"data row41 col3\" >0.000000</td>\n",
       "    </tr>\n",
       "    <tr>\n",
       "      <th id=\"T_e2c6b_level0_row42\" class=\"row_heading level0 row42\" >71</th>\n",
       "      <td id=\"T_e2c6b_row42_col0\" class=\"data row42 col0\" >West Bank and Gaza</td>\n",
       "      <td id=\"T_e2c6b_row42_col1\" class=\"data row42 col1\" >0.159155</td>\n",
       "      <td id=\"T_e2c6b_row42_col2\" class=\"data row42 col2\" >0.160687</td>\n",
       "      <td id=\"T_e2c6b_row42_col3\" class=\"data row42 col3\" >0.037209</td>\n",
       "    </tr>\n",
       "    <tr>\n",
       "      <th id=\"T_e2c6b_level0_row43\" class=\"row_heading level0 row43\" >67</th>\n",
       "      <td id=\"T_e2c6b_row43_col0\" class=\"data row43 col0\" >Austria</td>\n",
       "      <td id=\"T_e2c6b_row43_col1\" class=\"data row43 col1\" >0.150759</td>\n",
       "      <td id=\"T_e2c6b_row43_col2\" class=\"data row43 col2\" >0.128549</td>\n",
       "      <td id=\"T_e2c6b_row43_col3\" class=\"data row43 col3\" >0.000000</td>\n",
       "    </tr>\n",
       "    <tr>\n",
       "      <th id=\"T_e2c6b_level0_row44\" class=\"row_heading level0 row44\" >54</th>\n",
       "      <td id=\"T_e2c6b_row44_col0\" class=\"data row44 col0\" >Algeria</td>\n",
       "      <td id=\"T_e2c6b_row44_col1\" class=\"data row44 col1\" >0.144270</td>\n",
       "      <td id=\"T_e2c6b_row44_col2\" class=\"data row44 col2\" >0.132803</td>\n",
       "      <td id=\"T_e2c6b_row44_col3\" class=\"data row44 col3\" >0.148837</td>\n",
       "    </tr>\n",
       "    <tr>\n",
       "      <th id=\"T_e2c6b_level0_row45\" class=\"row_heading level0 row45\" >57</th>\n",
       "      <td id=\"T_e2c6b_row45_col0\" class=\"data row45 col0\" >Switzerland</td>\n",
       "      <td id=\"T_e2c6b_row45_col1\" class=\"data row45 col1\" >0.143507</td>\n",
       "      <td id=\"T_e2c6b_row45_col2\" class=\"data row45 col2\" >0.189043</td>\n",
       "      <td id=\"T_e2c6b_row45_col3\" class=\"data row45 col3\" >0.018605</td>\n",
       "    </tr>\n",
       "    <tr>\n",
       "      <th id=\"T_e2c6b_level0_row46\" class=\"row_heading level0 row46\" >47</th>\n",
       "      <td id=\"T_e2c6b_row46_col0\" class=\"data row46 col0\" >Portugal</td>\n",
       "      <td id=\"T_e2c6b_row46_col1\" class=\"data row46 col1\" >0.142744</td>\n",
       "      <td id=\"T_e2c6b_row46_col2\" class=\"data row46 col2\" >0.099248</td>\n",
       "      <td id=\"T_e2c6b_row46_col3\" class=\"data row46 col3\" >0.055814</td>\n",
       "    </tr>\n",
       "    <tr>\n",
       "      <th id=\"T_e2c6b_level0_row47\" class=\"row_heading level0 row47\" >58</th>\n",
       "      <td id=\"T_e2c6b_row47_col0\" class=\"data row47 col0\" >Uzbekistan</td>\n",
       "      <td id=\"T_e2c6b_row47_col1\" class=\"data row47 col1\" >0.132439</td>\n",
       "      <td id=\"T_e2c6b_row47_col2\" class=\"data row47 col2\" >0.178173</td>\n",
       "      <td id=\"T_e2c6b_row47_col3\" class=\"data row47 col3\" >0.093023</td>\n",
       "    </tr>\n",
       "    <tr>\n",
       "      <th id=\"T_e2c6b_level0_row48\" class=\"row_heading level0 row48\" >31</th>\n",
       "      <td id=\"T_e2c6b_row48_col0\" class=\"data row48 col0\" >Dominican Republic</td>\n",
       "      <td id=\"T_e2c6b_row48_col1\" class=\"data row48 col1\" >0.130530</td>\n",
       "      <td id=\"T_e2c6b_row48_col2\" class=\"data row48 col2\" >0.489149</td>\n",
       "      <td id=\"T_e2c6b_row48_col3\" class=\"data row48 col3\" >0.465116</td>\n",
       "    </tr>\n",
       "    <tr>\n",
       "      <th id=\"T_e2c6b_level0_row49\" class=\"row_heading level0 row49\" >73</th>\n",
       "      <td id=\"T_e2c6b_row49_col0\" class=\"data row49 col0\" >Bosnia and Herzegovina</td>\n",
       "      <td id=\"T_e2c6b_row49_col1\" class=\"data row49 col1\" >0.128240</td>\n",
       "      <td id=\"T_e2c6b_row49_col2\" class=\"data row49 col2\" >0.059076</td>\n",
       "      <td id=\"T_e2c6b_row49_col3\" class=\"data row49 col3\" >0.055814</td>\n",
       "    </tr>\n",
       "    <tr>\n",
       "      <th id=\"T_e2c6b_level0_row50\" class=\"row_heading level0 row50\" >84</th>\n",
       "      <td id=\"T_e2c6b_row50_col0\" class=\"data row50 col0\" >Libya</td>\n",
       "      <td id=\"T_e2c6b_row50_col1\" class=\"data row50 col1\" >0.125569</td>\n",
       "      <td id=\"T_e2c6b_row50_col2\" class=\"data row50 col2\" >0.010870</td>\n",
       "      <td id=\"T_e2c6b_row50_col3\" class=\"data row50 col3\" >0.093023</td>\n",
       "    </tr>\n",
       "    <tr>\n",
       "      <th id=\"T_e2c6b_level0_row51\" class=\"row_heading level0 row51\" >16</th>\n",
       "      <td id=\"T_e2c6b_row51_col0\" class=\"data row51 col0\" >Pakistan</td>\n",
       "      <td id=\"T_e2c6b_row51_col1\" class=\"data row51 col1\" >0.121752</td>\n",
       "      <td id=\"T_e2c6b_row51_col2\" class=\"data row51 col2\" >0.190461</td>\n",
       "      <td id=\"T_e2c6b_row51_col3\" class=\"data row51 col3\" >0.018605</td>\n",
       "    </tr>\n",
       "    <tr>\n",
       "      <th id=\"T_e2c6b_level0_row52\" class=\"row_heading level0 row52\" >70</th>\n",
       "      <td id=\"T_e2c6b_row52_col0\" class=\"data row52 col0\" >Czech Republic</td>\n",
       "      <td id=\"T_e2c6b_row52_col1\" class=\"data row52 col1\" >0.120989</td>\n",
       "      <td id=\"T_e2c6b_row52_col2\" class=\"data row52 col2\" >0.020795</td>\n",
       "      <td id=\"T_e2c6b_row52_col3\" class=\"data row52 col3\" >0.037209</td>\n",
       "    </tr>\n",
       "    <tr>\n",
       "      <th id=\"T_e2c6b_level0_row53\" class=\"row_heading level0 row53\" >90</th>\n",
       "      <td id=\"T_e2c6b_row53_col0\" class=\"data row53 col0\" >Croatia</td>\n",
       "      <td id=\"T_e2c6b_row53_col1\" class=\"data row53 col1\" >0.119080</td>\n",
       "      <td id=\"T_e2c6b_row53_col2\" class=\"data row53 col2\" >0.101611</td>\n",
       "      <td id=\"T_e2c6b_row53_col3\" class=\"data row53 col3\" >0.055814</td>\n",
       "    </tr>\n",
       "    <tr>\n",
       "      <th id=\"T_e2c6b_level0_row54\" class=\"row_heading level0 row54\" >72</th>\n",
       "      <td id=\"T_e2c6b_row54_col0\" class=\"data row54 col0\" >South Korea</td>\n",
       "      <td id=\"T_e2c6b_row54_col1\" class=\"data row54 col1\" >0.114119</td>\n",
       "      <td id=\"T_e2c6b_row54_col2\" class=\"data row54 col2\" >0.065220</td>\n",
       "      <td id=\"T_e2c6b_row54_col3\" class=\"data row54 col3\" >0.037209</td>\n",
       "    </tr>\n",
       "    <tr>\n",
       "      <th id=\"T_e2c6b_level0_row55\" class=\"row_heading level0 row55\" >23</th>\n",
       "      <td id=\"T_e2c6b_row55_col0\" class=\"data row55 col0\" >Canada</td>\n",
       "      <td id=\"T_e2c6b_row55_col1\" class=\"data row55 col1\" >0.113355</td>\n",
       "      <td id=\"T_e2c6b_row55_col2\" class=\"data row55 col2\" >0.125241</td>\n",
       "      <td id=\"T_e2c6b_row55_col3\" class=\"data row55 col3\" >0.111628</td>\n",
       "    </tr>\n",
       "    <tr>\n",
       "      <th id=\"T_e2c6b_level0_row56\" class=\"row_heading level0 row56\" >50</th>\n",
       "      <td id=\"T_e2c6b_row56_col0\" class=\"data row56 col0\" >Bahrain</td>\n",
       "      <td id=\"T_e2c6b_row56_col1\" class=\"data row56 col1\" >0.106104</td>\n",
       "      <td id=\"T_e2c6b_row56_col2\" class=\"data row56 col2\" >0.243393</td>\n",
       "      <td id=\"T_e2c6b_row56_col3\" class=\"data row56 col3\" >0.000000</td>\n",
       "    </tr>\n",
       "    <tr>\n",
       "      <th id=\"T_e2c6b_level0_row57\" class=\"row_heading level0 row57\" >49</th>\n",
       "      <td id=\"T_e2c6b_row57_col0\" class=\"data row57 col0\" >Nigeria</td>\n",
       "      <td id=\"T_e2c6b_row57_col1\" class=\"data row57 col1\" >0.095417</td>\n",
       "      <td id=\"T_e2c6b_row57_col2\" class=\"data row57 col2\" >0.140364</td>\n",
       "      <td id=\"T_e2c6b_row57_col3\" class=\"data row57 col3\" >0.000000</td>\n",
       "    </tr>\n",
       "    <tr>\n",
       "      <th id=\"T_e2c6b_level0_row58\" class=\"row_heading level0 row58\" >30</th>\n",
       "      <td id=\"T_e2c6b_row58_col0\" class=\"data row58 col0\" >Egypt</td>\n",
       "      <td id=\"T_e2c6b_row58_col1\" class=\"data row58 col1\" >0.080914</td>\n",
       "      <td id=\"T_e2c6b_row58_col2\" class=\"data row58 col2\" >0.417313</td>\n",
       "      <td id=\"T_e2c6b_row58_col3\" class=\"data row58 col3\" >0.260465</td>\n",
       "    </tr>\n",
       "    <tr>\n",
       "      <th id=\"T_e2c6b_level0_row59\" class=\"row_heading level0 row59\" >25</th>\n",
       "      <td id=\"T_e2c6b_row59_col0\" class=\"data row59 col0\" >Qatar</td>\n",
       "      <td id=\"T_e2c6b_row59_col1\" class=\"data row59 col1\" >0.080532</td>\n",
       "      <td id=\"T_e2c6b_row59_col2\" class=\"data row59 col2\" >0.110590</td>\n",
       "      <td id=\"T_e2c6b_row59_col3\" class=\"data row59 col3\" >0.000000</td>\n",
       "    </tr>\n",
       "    <tr>\n",
       "      <th id=\"T_e2c6b_level0_row60\" class=\"row_heading level0 row60\" >99</th>\n",
       "      <td id=\"T_e2c6b_row60_col0\" class=\"data row60 col0\" >Namibia</td>\n",
       "      <td id=\"T_e2c6b_row60_col1\" class=\"data row60 col1\" >0.080150</td>\n",
       "      <td id=\"T_e2c6b_row60_col2\" class=\"data row60 col2\" >0.013233</td>\n",
       "      <td id=\"T_e2c6b_row60_col3\" class=\"data row60 col3\" >0.074419</td>\n",
       "    </tr>\n",
       "    <tr>\n",
       "      <th id=\"T_e2c6b_level0_row61\" class=\"row_heading level0 row61\" >63</th>\n",
       "      <td id=\"T_e2c6b_row61_col0\" class=\"data row61 col0\" >Azerbaijan</td>\n",
       "      <td id=\"T_e2c6b_row61_col1\" class=\"data row61 col1\" >0.071754</td>\n",
       "      <td id=\"T_e2c6b_row61_col2\" class=\"data row61 col2\" >0.054350</td>\n",
       "      <td id=\"T_e2c6b_row61_col3\" class=\"data row61 col3\" >0.037209</td>\n",
       "    </tr>\n",
       "    <tr>\n",
       "      <th id=\"T_e2c6b_level0_row62\" class=\"row_heading level0 row62\" >41</th>\n",
       "      <td id=\"T_e2c6b_row62_col0\" class=\"data row62 col0\" >Belarus</td>\n",
       "      <td id=\"T_e2c6b_row62_col1\" class=\"data row62 col1\" >0.067555</td>\n",
       "      <td id=\"T_e2c6b_row62_col2\" class=\"data row62 col2\" >0.151234</td>\n",
       "      <td id=\"T_e2c6b_row62_col3\" class=\"data row62 col3\" >0.074419</td>\n",
       "    </tr>\n",
       "    <tr>\n",
       "      <th id=\"T_e2c6b_level0_row63\" class=\"row_heading level0 row63\" >89</th>\n",
       "      <td id=\"T_e2c6b_row63_col0\" class=\"data row63 col0\" >Greece</td>\n",
       "      <td id=\"T_e2c6b_row63_col1\" class=\"data row63 col1\" >0.067555</td>\n",
       "      <td id=\"T_e2c6b_row63_col2\" class=\"data row63 col2\" >0.000000</td>\n",
       "      <td id=\"T_e2c6b_row63_col3\" class=\"data row63 col3\" >0.018605</td>\n",
       "    </tr>\n",
       "    <tr>\n",
       "      <th id=\"T_e2c6b_level0_row64\" class=\"row_heading level0 row64\" >56</th>\n",
       "      <td id=\"T_e2c6b_row64_col0\" class=\"data row64 col0\" >Armenia</td>\n",
       "      <td id=\"T_e2c6b_row64_col1\" class=\"data row64 col1\" >0.066792</td>\n",
       "      <td id=\"T_e2c6b_row64_col2\" class=\"data row64 col2\" >0.141310</td>\n",
       "      <td id=\"T_e2c6b_row64_col3\" class=\"data row64 col3\" >0.055814</td>\n",
       "    </tr>\n",
       "    <tr>\n",
       "      <th id=\"T_e2c6b_level0_row65\" class=\"row_heading level0 row65\" >53</th>\n",
       "      <td id=\"T_e2c6b_row65_col0\" class=\"data row65 col0\" >Ghana</td>\n",
       "      <td id=\"T_e2c6b_row65_col1\" class=\"data row65 col1\" >0.064502</td>\n",
       "      <td id=\"T_e2c6b_row65_col2\" class=\"data row65 col2\" >0.089323</td>\n",
       "      <td id=\"T_e2c6b_row65_col3\" class=\"data row65 col3\" >0.000000</td>\n",
       "    </tr>\n",
       "    <tr>\n",
       "      <th id=\"T_e2c6b_level0_row66\" class=\"row_heading level0 row66\" >64</th>\n",
       "      <td id=\"T_e2c6b_row66_col0\" class=\"data row66 col0\" >Kenya</td>\n",
       "      <td id=\"T_e2c6b_row66_col1\" class=\"data row66 col1\" >0.062594</td>\n",
       "      <td id=\"T_e2c6b_row66_col2\" class=\"data row66 col2\" >0.073727</td>\n",
       "      <td id=\"T_e2c6b_row66_col3\" class=\"data row66 col3\" >0.093023</td>\n",
       "    </tr>\n",
       "    <tr>\n",
       "      <th id=\"T_e2c6b_level0_row67\" class=\"row_heading level0 row67\" >103</th>\n",
       "      <td id=\"T_e2c6b_row67_col0\" class=\"data row67 col0\" >Hungary</td>\n",
       "      <td id=\"T_e2c6b_row67_col1\" class=\"data row67 col1\" >0.060304</td>\n",
       "      <td id=\"T_e2c6b_row67_col2\" class=\"data row67 col2\" >0.000000</td>\n",
       "      <td id=\"T_e2c6b_row67_col3\" class=\"data row67 col3\" >0.000000</td>\n",
       "    </tr>\n",
       "    <tr>\n",
       "      <th id=\"T_e2c6b_level0_row68\" class=\"row_heading level0 row68\" >66</th>\n",
       "      <td id=\"T_e2c6b_row68_col0\" class=\"data row68 col0\" >Ireland</td>\n",
       "      <td id=\"T_e2c6b_row68_col1\" class=\"data row68 col1\" >0.054197</td>\n",
       "      <td id=\"T_e2c6b_row68_col2\" class=\"data row68 col2\" >0.000000</td>\n",
       "      <td id=\"T_e2c6b_row68_col3\" class=\"data row68 col3\" >0.000000</td>\n",
       "    </tr>\n",
       "    <tr>\n",
       "      <th id=\"T_e2c6b_level0_row69\" class=\"row_heading level0 row69\" >81</th>\n",
       "      <td id=\"T_e2c6b_row69_col0\" class=\"data row69 col0\" >North Macedonia</td>\n",
       "      <td id=\"T_e2c6b_row69_col1\" class=\"data row69 col1\" >0.049617</td>\n",
       "      <td id=\"T_e2c6b_row69_col2\" class=\"data row69 col2\" >0.038281</td>\n",
       "      <td id=\"T_e2c6b_row69_col3\" class=\"data row69 col3\" >0.111628</td>\n",
       "    </tr>\n",
       "    <tr>\n",
       "      <th id=\"T_e2c6b_level0_row70\" class=\"row_heading level0 row70\" >29</th>\n",
       "      <td id=\"T_e2c6b_row70_col0\" class=\"data row70 col0\" >Kazakhstan</td>\n",
       "      <td id=\"T_e2c6b_row70_col1\" class=\"data row70 col1\" >0.048090</td>\n",
       "      <td id=\"T_e2c6b_row70_col2\" class=\"data row70 col2\" >0.116734</td>\n",
       "      <td id=\"T_e2c6b_row70_col3\" class=\"data row70 col3\" >0.000000</td>\n",
       "    </tr>\n",
       "    <tr>\n",
       "      <th id=\"T_e2c6b_level0_row71\" class=\"row_heading level0 row71\" >55</th>\n",
       "      <td id=\"T_e2c6b_row71_col0\" class=\"data row71 col0\" >Kyrgyzstan</td>\n",
       "      <td id=\"T_e2c6b_row71_col1\" class=\"data row71 col1\" >0.047708</td>\n",
       "      <td id=\"T_e2c6b_row71_col2\" class=\"data row71 col2\" >0.116734</td>\n",
       "      <td id=\"T_e2c6b_row71_col3\" class=\"data row71 col3\" >0.000000</td>\n",
       "    </tr>\n",
       "    <tr>\n",
       "      <th id=\"T_e2c6b_level0_row72\" class=\"row_heading level0 row72\" >68</th>\n",
       "      <td id=\"T_e2c6b_row72_col0\" class=\"data row72 col0\" >Australia</td>\n",
       "      <td id=\"T_e2c6b_row72_col1\" class=\"data row72 col1\" >0.046945</td>\n",
       "      <td id=\"T_e2c6b_row72_col2\" class=\"data row72 col2\" >0.107282</td>\n",
       "      <td id=\"T_e2c6b_row72_col3\" class=\"data row72 col3\" >0.204651</td>\n",
       "    </tr>\n",
       "    <tr>\n",
       "      <th id=\"T_e2c6b_level0_row73\" class=\"row_heading level0 row73\" >86</th>\n",
       "      <td id=\"T_e2c6b_row73_col0\" class=\"data row73 col0\" >Zambia</td>\n",
       "      <td id=\"T_e2c6b_row73_col1\" class=\"data row73 col1\" >0.046945</td>\n",
       "      <td id=\"T_e2c6b_row73_col2\" class=\"data row73 col2\" >0.069473</td>\n",
       "      <td id=\"T_e2c6b_row73_col3\" class=\"data row73 col3\" >0.018605</td>\n",
       "    </tr>\n",
       "    <tr>\n",
       "      <th id=\"T_e2c6b_level0_row74\" class=\"row_heading level0 row74\" >69</th>\n",
       "      <td id=\"T_e2c6b_row74_col0\" class=\"data row74 col0\" >El Salvador</td>\n",
       "      <td id=\"T_e2c6b_row74_col1\" class=\"data row74 col1\" >0.046563</td>\n",
       "      <td id=\"T_e2c6b_row74_col2\" class=\"data row74 col2\" >0.108227</td>\n",
       "      <td id=\"T_e2c6b_row74_col3\" class=\"data row74 col3\" >0.111628</td>\n",
       "    </tr>\n",
       "    <tr>\n",
       "      <th id=\"T_e2c6b_level0_row75\" class=\"row_heading level0 row75\" >116</th>\n",
       "      <td id=\"T_e2c6b_row75_col0\" class=\"data row75 col0\" >Slovakia</td>\n",
       "      <td id=\"T_e2c6b_row75_col1\" class=\"data row75 col1\" >0.043510</td>\n",
       "      <td id=\"T_e2c6b_row75_col2\" class=\"data row75 col2\" >0.013706</td>\n",
       "      <td id=\"T_e2c6b_row75_col3\" class=\"data row75 col3\" >0.000000</td>\n",
       "    </tr>\n",
       "    <tr>\n",
       "      <th id=\"T_e2c6b_level0_row76\" class=\"row_heading level0 row76\" >119</th>\n",
       "      <td id=\"T_e2c6b_row76_col0\" class=\"data row76 col0\" >Tunisia</td>\n",
       "      <td id=\"T_e2c6b_row76_col1\" class=\"data row76 col1\" >0.042365</td>\n",
       "      <td id=\"T_e2c6b_row76_col2\" class=\"data row76 col2\" >0.006617</td>\n",
       "      <td id=\"T_e2c6b_row76_col3\" class=\"data row76 col3\" >0.037209</td>\n",
       "    </tr>\n",
       "    <tr>\n",
       "      <th id=\"T_e2c6b_level0_row77\" class=\"row_heading level0 row77\" >98</th>\n",
       "      <td id=\"T_e2c6b_row77_col0\" class=\"data row77 col0\" >Maldives</td>\n",
       "      <td id=\"T_e2c6b_row77_col1\" class=\"data row77 col1\" >0.041602</td>\n",
       "      <td id=\"T_e2c6b_row77_col2\" class=\"data row77 col2\" >0.024576</td>\n",
       "      <td id=\"T_e2c6b_row77_col3\" class=\"data row77 col3\" >0.000000</td>\n",
       "    </tr>\n",
       "    <tr>\n",
       "      <th id=\"T_e2c6b_level0_row78\" class=\"row_heading level0 row78\" >83</th>\n",
       "      <td id=\"T_e2c6b_row78_col0\" class=\"data row78 col0\" >Sudan</td>\n",
       "      <td id=\"T_e2c6b_row78_col1\" class=\"data row78 col1\" >0.040838</td>\n",
       "      <td id=\"T_e2c6b_row78_col2\" class=\"data row78 col2\" >0.004253</td>\n",
       "      <td id=\"T_e2c6b_row78_col3\" class=\"data row78 col3\" >0.000000</td>\n",
       "    </tr>\n",
       "    <tr>\n",
       "      <th id=\"T_e2c6b_level0_row79\" class=\"row_heading level0 row79\" >159</th>\n",
       "      <td id=\"T_e2c6b_row79_col0\" class=\"data row79 col0\" >Burma</td>\n",
       "      <td id=\"T_e2c6b_row79_col1\" class=\"data row79 col1\" >0.040457</td>\n",
       "      <td id=\"T_e2c6b_row79_col2\" class=\"data row79 col2\" >0.000945</td>\n",
       "      <td id=\"T_e2c6b_row79_col3\" class=\"data row79 col3\" >0.000000</td>\n",
       "    </tr>\n",
       "    <tr>\n",
       "      <th id=\"T_e2c6b_level0_row80\" class=\"row_heading level0 row80\" >113</th>\n",
       "      <td id=\"T_e2c6b_row80_col0\" class=\"data row80 col0\" >Suriname</td>\n",
       "      <td id=\"T_e2c6b_row80_col1\" class=\"data row80 col1\" >0.040457</td>\n",
       "      <td id=\"T_e2c6b_row80_col2\" class=\"data row80 col2\" >0.009452</td>\n",
       "      <td id=\"T_e2c6b_row80_col3\" class=\"data row80 col3\" >0.018605</td>\n",
       "    </tr>\n",
       "    <tr>\n",
       "      <th id=\"T_e2c6b_level0_row81\" class=\"row_heading level0 row81\" >135</th>\n",
       "      <td id=\"T_e2c6b_row81_col0\" class=\"data row81 col0\" >Jamaica</td>\n",
       "      <td id=\"T_e2c6b_row81_col1\" class=\"data row81 col1\" >0.038930</td>\n",
       "      <td id=\"T_e2c6b_row81_col2\" class=\"data row81 col2\" >0.000945</td>\n",
       "      <td id=\"T_e2c6b_row81_col3\" class=\"data row81 col3\" >0.018605</td>\n",
       "    </tr>\n",
       "    <tr>\n",
       "      <th id=\"T_e2c6b_level0_row82\" class=\"row_heading level0 row82\" >115</th>\n",
       "      <td id=\"T_e2c6b_row82_col0\" class=\"data row82 col0\" >Rwanda</td>\n",
       "      <td id=\"T_e2c6b_row82_col1\" class=\"data row82 col1\" >0.038548</td>\n",
       "      <td id=\"T_e2c6b_row82_col2\" class=\"data row82 col2\" >0.017959</td>\n",
       "      <td id=\"T_e2c6b_row82_col3\" class=\"data row82 col3\" >0.000000</td>\n",
       "    </tr>\n",
       "    <tr>\n",
       "      <th id=\"T_e2c6b_level0_row83\" class=\"row_heading level0 row83\" >79</th>\n",
       "      <td id=\"T_e2c6b_row83_col0\" class=\"data row83 col0\" >Bulgaria</td>\n",
       "      <td id=\"T_e2c6b_row83_col1\" class=\"data row83 col1\" >0.037785</td>\n",
       "      <td id=\"T_e2c6b_row83_col2\" class=\"data row83 col2\" >0.010397</td>\n",
       "      <td id=\"T_e2c6b_row83_col3\" class=\"data row83 col3\" >0.037209</td>\n",
       "    </tr>\n",
       "    <tr>\n",
       "      <th id=\"T_e2c6b_level0_row84\" class=\"row_heading level0 row84\" >123</th>\n",
       "      <td id=\"T_e2c6b_row84_col0\" class=\"data row84 col0\" >Gambia</td>\n",
       "      <td id=\"T_e2c6b_row84_col1\" class=\"data row84 col1\" >0.037403</td>\n",
       "      <td id=\"T_e2c6b_row84_col2\" class=\"data row84 col2\" >0.003781</td>\n",
       "      <td id=\"T_e2c6b_row84_col3\" class=\"data row84 col3\" >0.000000</td>\n",
       "    </tr>\n",
       "    <tr>\n",
       "      <th id=\"T_e2c6b_level0_row85\" class=\"row_heading level0 row85\" >75</th>\n",
       "      <td id=\"T_e2c6b_row85_col0\" class=\"data row85 col0\" >Ivory Coast</td>\n",
       "      <td id=\"T_e2c6b_row85_col1\" class=\"data row85 col1\" >0.036640</td>\n",
       "      <td id=\"T_e2c6b_row85_col2\" class=\"data row85 col2\" >0.059076</td>\n",
       "      <td id=\"T_e2c6b_row85_col3\" class=\"data row85 col3\" >0.000000</td>\n",
       "    </tr>\n",
       "    <tr>\n",
       "      <th id=\"T_e2c6b_level0_row86\" class=\"row_heading level0 row86\" >80</th>\n",
       "      <td id=\"T_e2c6b_row86_col0\" class=\"data row86 col0\" >Madagascar</td>\n",
       "      <td id=\"T_e2c6b_row86_col1\" class=\"data row86 col1\" >0.036258</td>\n",
       "      <td id=\"T_e2c6b_row86_col2\" class=\"data row86 col2\" >0.020795</td>\n",
       "      <td id=\"T_e2c6b_row86_col3\" class=\"data row86 col3\" >0.055814</td>\n",
       "    </tr>\n",
       "    <tr>\n",
       "      <th id=\"T_e2c6b_level0_row87\" class=\"row_heading level0 row87\" >157</th>\n",
       "      <td id=\"T_e2c6b_row87_col0\" class=\"data row87 col0\" >Belize</td>\n",
       "      <td id=\"T_e2c6b_row87_col1\" class=\"data row87 col1\" >0.035877</td>\n",
       "      <td id=\"T_e2c6b_row87_col2\" class=\"data row87 col2\" >0.010397</td>\n",
       "      <td id=\"T_e2c6b_row87_col3\" class=\"data row87 col3\" >0.018605</td>\n",
       "    </tr>\n",
       "    <tr>\n",
       "      <th id=\"T_e2c6b_level0_row88\" class=\"row_heading level0 row88\" >142</th>\n",
       "      <td id=\"T_e2c6b_row88_col0\" class=\"data row88 col0\" >Trinidad and Tobago</td>\n",
       "      <td id=\"T_e2c6b_row88_col1\" class=\"data row88 col1\" >0.034732</td>\n",
       "      <td id=\"T_e2c6b_row88_col2\" class=\"data row88 col2\" >0.125714</td>\n",
       "      <td id=\"T_e2c6b_row88_col3\" class=\"data row88 col3\" >0.000000</td>\n",
       "    </tr>\n",
       "    <tr>\n",
       "      <th id=\"T_e2c6b_level0_row89\" class=\"row_heading level0 row89\" >124</th>\n",
       "      <td id=\"T_e2c6b_row89_col0\" class=\"data row89 col0\" >Uganda</td>\n",
       "      <td id=\"T_e2c6b_row89_col1\" class=\"data row89 col1\" >0.034732</td>\n",
       "      <td id=\"T_e2c6b_row89_col2\" class=\"data row89 col2\" >0.000000</td>\n",
       "      <td id=\"T_e2c6b_row89_col3\" class=\"data row89 col3\" >0.018605</td>\n",
       "    </tr>\n",
       "    <tr>\n",
       "      <th id=\"T_e2c6b_level0_row90\" class=\"row_heading level0 row90\" >92</th>\n",
       "      <td id=\"T_e2c6b_row90_col0\" class=\"data row90 col0\" >Albania</td>\n",
       "      <td id=\"T_e2c6b_row90_col1\" class=\"data row90 col1\" >0.032060</td>\n",
       "      <td id=\"T_e2c6b_row90_col2\" class=\"data row90 col2\" >0.045843</td>\n",
       "      <td id=\"T_e2c6b_row90_col3\" class=\"data row90 col3\" >0.074419</td>\n",
       "    </tr>\n",
       "    <tr>\n",
       "      <th id=\"T_e2c6b_level0_row91\" class=\"row_heading level0 row91\" >129</th>\n",
       "      <td id=\"T_e2c6b_row91_col0\" class=\"data row91 col0\" >Angola</td>\n",
       "      <td id=\"T_e2c6b_row91_col1\" class=\"data row91 col1\" >0.030533</td>\n",
       "      <td id=\"T_e2c6b_row91_col2\" class=\"data row91 col2\" >0.006144</td>\n",
       "      <td id=\"T_e2c6b_row91_col3\" class=\"data row91 col3\" >0.018605</td>\n",
       "    </tr>\n",
       "    <tr>\n",
       "      <th id=\"T_e2c6b_level0_row92\" class=\"row_heading level0 row92\" >76</th>\n",
       "      <td id=\"T_e2c6b_row92_col0\" class=\"data row92 col0\" >Denmark</td>\n",
       "      <td id=\"T_e2c6b_row92_col1\" class=\"data row92 col1\" >0.030152</td>\n",
       "      <td id=\"T_e2c6b_row92_col2\" class=\"data row92 col2\" >0.053405</td>\n",
       "      <td id=\"T_e2c6b_row92_col3\" class=\"data row92 col3\" >0.000000</td>\n",
       "    </tr>\n",
       "    <tr>\n",
       "      <th id=\"T_e2c6b_level0_row93\" class=\"row_heading level0 row93\" >134</th>\n",
       "      <td id=\"T_e2c6b_row93_col0\" class=\"data row93 col0\" >Bahamas</td>\n",
       "      <td id=\"T_e2c6b_row93_col1\" class=\"data row93 col1\" >0.029770</td>\n",
       "      <td id=\"T_e2c6b_row93_col2\" class=\"data row93 col2\" >0.012760</td>\n",
       "      <td id=\"T_e2c6b_row93_col3\" class=\"data row93 col3\" >0.000000</td>\n",
       "    </tr>\n",
       "    <tr>\n",
       "      <th id=\"T_e2c6b_level0_row94\" class=\"row_heading level0 row94\" >65</th>\n",
       "      <td id=\"T_e2c6b_row94_col0\" class=\"data row94 col0\" >Serbia</td>\n",
       "      <td id=\"T_e2c6b_row94_col1\" class=\"data row94 col1\" >0.028625</td>\n",
       "      <td id=\"T_e2c6b_row94_col2\" class=\"data row94 col2\" >0.000000</td>\n",
       "      <td id=\"T_e2c6b_row94_col3\" class=\"data row94 col3\" >0.018605</td>\n",
       "    </tr>\n",
       "    <tr>\n",
       "      <th id=\"T_e2c6b_level0_row95\" class=\"row_heading level0 row95\" >82</th>\n",
       "      <td id=\"T_e2c6b_row95_col0\" class=\"data row95 col0\" >Senegal</td>\n",
       "      <td id=\"T_e2c6b_row95_col1\" class=\"data row95 col1\" >0.027480</td>\n",
       "      <td id=\"T_e2c6b_row95_col2\" class=\"data row95 col2\" >0.067110</td>\n",
       "      <td id=\"T_e2c6b_row95_col3\" class=\"data row95 col3\" >0.055814</td>\n",
       "    </tr>\n",
       "    <tr>\n",
       "      <th id=\"T_e2c6b_level0_row96\" class=\"row_heading level0 row96\" >128</th>\n",
       "      <td id=\"T_e2c6b_row96_col0\" class=\"data row96 col0\" >Syria</td>\n",
       "      <td id=\"T_e2c6b_row96_col1\" class=\"data row96 col1\" >0.024808</td>\n",
       "      <td id=\"T_e2c6b_row96_col2\" class=\"data row96 col2\" >0.007089</td>\n",
       "      <td id=\"T_e2c6b_row96_col3\" class=\"data row96 col3\" >0.055814</td>\n",
       "    </tr>\n",
       "    <tr>\n",
       "      <th id=\"T_e2c6b_level0_row97\" class=\"row_heading level0 row97\" >108</th>\n",
       "      <td id=\"T_e2c6b_row97_col0\" class=\"data row97 col0\" >Montenegro</td>\n",
       "      <td id=\"T_e2c6b_row97_col1\" class=\"data row97 col1\" >0.024427</td>\n",
       "      <td id=\"T_e2c6b_row97_col2\" class=\"data row97 col2\" >0.051042</td>\n",
       "      <td id=\"T_e2c6b_row97_col3\" class=\"data row97 col3\" >0.018605</td>\n",
       "    </tr>\n",
       "    <tr>\n",
       "      <th id=\"T_e2c6b_level0_row98\" class=\"row_heading level0 row98\" >118</th>\n",
       "      <td id=\"T_e2c6b_row98_col0\" class=\"data row98 col0\" >Mozambique</td>\n",
       "      <td id=\"T_e2c6b_row98_col1\" class=\"data row98 col1\" >0.024045</td>\n",
       "      <td id=\"T_e2c6b_row98_col2\" class=\"data row98 col2\" >0.010870</td>\n",
       "      <td id=\"T_e2c6b_row98_col3\" class=\"data row98 col3\" >0.018605</td>\n",
       "    </tr>\n",
       "    <tr>\n",
       "      <th id=\"T_e2c6b_level0_row99\" class=\"row_heading level0 row99\" >114</th>\n",
       "      <td id=\"T_e2c6b_row99_col0\" class=\"data row99 col0\" >Cuba</td>\n",
       "      <td id=\"T_e2c6b_row99_col1\" class=\"data row99 col1\" >0.022518</td>\n",
       "      <td id=\"T_e2c6b_row99_col2\" class=\"data row99 col2\" >0.024103</td>\n",
       "      <td id=\"T_e2c6b_row99_col3\" class=\"data row99 col3\" >0.037209</td>\n",
       "    </tr>\n",
       "    <tr>\n",
       "      <th id=\"T_e2c6b_level0_row100\" class=\"row_heading level0 row100\" >48</th>\n",
       "      <td id=\"T_e2c6b_row100_col0\" class=\"data row100 col0\" >Singapore</td>\n",
       "      <td id=\"T_e2c6b_row100_col1\" class=\"data row100 col1\" >0.019465</td>\n",
       "      <td id=\"T_e2c6b_row100_col2\" class=\"data row100 col2\" >0.051987</td>\n",
       "      <td id=\"T_e2c6b_row100_col3\" class=\"data row100 col3\" >0.000000</td>\n",
       "    </tr>\n",
       "    <tr>\n",
       "      <th id=\"T_e2c6b_level0_row101\" class=\"row_heading level0 row101\" >110</th>\n",
       "      <td id=\"T_e2c6b_row101_col0\" class=\"data row101 col0\" >Eswatini</td>\n",
       "      <td id=\"T_e2c6b_row101_col1\" class=\"data row101 col1\" >0.018702</td>\n",
       "      <td id=\"T_e2c6b_row101_col2\" class=\"data row101 col2\" >0.070419</td>\n",
       "      <td id=\"T_e2c6b_row101_col3\" class=\"data row101 col3\" >0.000000</td>\n",
       "    </tr>\n",
       "    <tr>\n",
       "      <th id=\"T_e2c6b_level0_row102\" class=\"row_heading level0 row102\" >101</th>\n",
       "      <td id=\"T_e2c6b_row102_col0\" class=\"data row102 col0\" >Luxembourg</td>\n",
       "      <td id=\"T_e2c6b_row102_col1\" class=\"data row102 col1\" >0.017175</td>\n",
       "      <td id=\"T_e2c6b_row102_col2\" class=\"data row102 col2\" >0.000000</td>\n",
       "      <td id=\"T_e2c6b_row102_col3\" class=\"data row102 col3\" >0.000000</td>\n",
       "    </tr>\n",
       "    <tr>\n",
       "      <th id=\"T_e2c6b_level0_row103\" class=\"row_heading level0 row103\" >126</th>\n",
       "      <td id=\"T_e2c6b_row103_col0\" class=\"data row103 col0\" >Slovenia</td>\n",
       "      <td id=\"T_e2c6b_row103_col1\" class=\"data row103 col1\" >0.014122</td>\n",
       "      <td id=\"T_e2c6b_row103_col2\" class=\"data row103 col2\" >0.015123</td>\n",
       "      <td id=\"T_e2c6b_row103_col3\" class=\"data row103 col3\" >0.000000</td>\n",
       "    </tr>\n",
       "    <tr>\n",
       "      <th id=\"T_e2c6b_level0_row104\" class=\"row_heading level0 row104\" >121</th>\n",
       "      <td id=\"T_e2c6b_row104_col0\" class=\"data row104 col0\" >Somalia</td>\n",
       "      <td id=\"T_e2c6b_row104_col1\" class=\"data row104 col1\" >0.013358</td>\n",
       "      <td id=\"T_e2c6b_row104_col2\" class=\"data row104 col2\" >0.017959</td>\n",
       "      <td id=\"T_e2c6b_row104_col3\" class=\"data row104 col3\" >0.037209</td>\n",
       "    </tr>\n",
       "    <tr>\n",
       "      <th id=\"T_e2c6b_level0_row105\" class=\"row_heading level0 row105\" >94</th>\n",
       "      <td id=\"T_e2c6b_row105_col0\" class=\"data row105 col0\" >Tajikistan</td>\n",
       "      <td id=\"T_e2c6b_row105_col1\" class=\"data row105 col1\" >0.013358</td>\n",
       "      <td id=\"T_e2c6b_row105_col2\" class=\"data row105 col2\" >0.015596</td>\n",
       "      <td id=\"T_e2c6b_row105_col3\" class=\"data row105 col3\" >0.000000</td>\n",
       "    </tr>\n",
       "    <tr>\n",
       "      <th id=\"T_e2c6b_level0_row106\" class=\"row_heading level0 row106\" >117</th>\n",
       "      <td id=\"T_e2c6b_row106_col0\" class=\"data row106 col0\" >Cabo Verde</td>\n",
       "      <td id=\"T_e2c6b_row106_col1\" class=\"data row106 col1\" >0.012595</td>\n",
       "      <td id=\"T_e2c6b_row106_col2\" class=\"data row106 col2\" >0.022685</td>\n",
       "      <td id=\"T_e2c6b_row106_col3\" class=\"data row106 col3\" >0.018605</td>\n",
       "    </tr>\n",
       "    <tr>\n",
       "      <th id=\"T_e2c6b_level0_row107\" class=\"row_heading level0 row107\" >87</th>\n",
       "      <td id=\"T_e2c6b_row107_col0\" class=\"data row107 col0\" >Norway</td>\n",
       "      <td id=\"T_e2c6b_row107_col1\" class=\"data row107 col1\" >0.011068</td>\n",
       "      <td id=\"T_e2c6b_row107_col2\" class=\"data row107 col2\" >0.000000</td>\n",
       "      <td id=\"T_e2c6b_row107_col3\" class=\"data row107 col3\" >0.000000</td>\n",
       "    </tr>\n",
       "    <tr>\n",
       "      <th id=\"T_e2c6b_level0_row108\" class=\"row_heading level0 row108\" >125</th>\n",
       "      <td id=\"T_e2c6b_row108_col0\" class=\"data row108 col0\" >Lithuania</td>\n",
       "      <td id=\"T_e2c6b_row108_col1\" class=\"data row108 col1\" >0.011068</td>\n",
       "      <td id=\"T_e2c6b_row108_col2\" class=\"data row108 col2\" >0.008034</td>\n",
       "      <td id=\"T_e2c6b_row108_col3\" class=\"data row108 col3\" >0.000000</td>\n",
       "    </tr>\n",
       "    <tr>\n",
       "      <th id=\"T_e2c6b_level0_row109\" class=\"row_heading level0 row109\" >140</th>\n",
       "      <td id=\"T_e2c6b_row109_col0\" class=\"data row109 col0\" >Malta</td>\n",
       "      <td id=\"T_e2c6b_row109_col1\" class=\"data row109 col1\" >0.010305</td>\n",
       "      <td id=\"T_e2c6b_row109_col2\" class=\"data row109 col2\" >0.027411</td>\n",
       "      <td id=\"T_e2c6b_row109_col3\" class=\"data row109 col3\" >0.000000</td>\n",
       "    </tr>\n",
       "    <tr>\n",
       "      <th id=\"T_e2c6b_level0_row110\" class=\"row_heading level0 row110\" >147</th>\n",
       "      <td id=\"T_e2c6b_row110_col0\" class=\"data row110 col0\" >Togo</td>\n",
       "      <td id=\"T_e2c6b_row110_col1\" class=\"data row110 col1\" >0.009542</td>\n",
       "      <td id=\"T_e2c6b_row110_col2\" class=\"data row110 col2\" >0.004253</td>\n",
       "      <td id=\"T_e2c6b_row110_col3\" class=\"data row110 col3\" >0.000000</td>\n",
       "    </tr>\n",
       "    <tr>\n",
       "      <th id=\"T_e2c6b_level0_row111\" class=\"row_heading level0 row111\" >139</th>\n",
       "      <td id=\"T_e2c6b_row111_col0\" class=\"data row111 col0\" >Jordan</td>\n",
       "      <td id=\"T_e2c6b_row111_col1\" class=\"data row111 col1\" >0.009160</td>\n",
       "      <td id=\"T_e2c6b_row111_col2\" class=\"data row111 col2\" >0.037809</td>\n",
       "      <td id=\"T_e2c6b_row111_col3\" class=\"data row111 col3\" >0.000000</td>\n",
       "    </tr>\n",
       "    <tr>\n",
       "      <th id=\"T_e2c6b_level0_row112\" class=\"row_heading level0 row112\" >127</th>\n",
       "      <td id=\"T_e2c6b_row112_col0\" class=\"data row112 col0\" >Mali</td>\n",
       "      <td id=\"T_e2c6b_row112_col1\" class=\"data row112 col1\" >0.008015</td>\n",
       "      <td id=\"T_e2c6b_row112_col2\" class=\"data row112 col2\" >0.031192</td>\n",
       "      <td id=\"T_e2c6b_row112_col3\" class=\"data row112 col3\" >0.000000</td>\n",
       "    </tr>\n",
       "    <tr>\n",
       "      <th id=\"T_e2c6b_level0_row113\" class=\"row_heading level0 row113\" >131</th>\n",
       "      <td id=\"T_e2c6b_row113_col0\" class=\"data row113 col0\" >Estonia</td>\n",
       "      <td id=\"T_e2c6b_row113_col1\" class=\"data row113 col1\" >0.007633</td>\n",
       "      <td id=\"T_e2c6b_row113_col2\" class=\"data row113 col2\" >0.004726</td>\n",
       "      <td id=\"T_e2c6b_row113_col3\" class=\"data row113 col3\" >0.000000</td>\n",
       "    </tr>\n",
       "    <tr>\n",
       "      <th id=\"T_e2c6b_level0_row114\" class=\"row_heading level0 row114\" >107</th>\n",
       "      <td id=\"T_e2c6b_row114_col0\" class=\"data row114 col0\" >Hong Kong</td>\n",
       "      <td id=\"T_e2c6b_row114_col1\" class=\"data row114 col1\" >0.006870</td>\n",
       "      <td id=\"T_e2c6b_row114_col2\" class=\"data row114 col2\" >0.017959</td>\n",
       "      <td id=\"T_e2c6b_row114_col3\" class=\"data row114 col3\" >0.055814</td>\n",
       "    </tr>\n",
       "    <tr>\n",
       "      <th id=\"T_e2c6b_level0_row115\" class=\"row_heading level0 row115\" >102</th>\n",
       "      <td id=\"T_e2c6b_row115_col0\" class=\"data row115 col0\" >Zimbabwe</td>\n",
       "      <td id=\"T_e2c6b_row115_col1\" class=\"data row115 col1\" >0.006870</td>\n",
       "      <td id=\"T_e2c6b_row115_col2\" class=\"data row115 col2\" >0.006144</td>\n",
       "      <td id=\"T_e2c6b_row115_col3\" class=\"data row115 col3\" >0.018605</td>\n",
       "    </tr>\n",
       "    <tr>\n",
       "      <th id=\"T_e2c6b_level0_row116\" class=\"row_heading level0 row116\" >143</th>\n",
       "      <td id=\"T_e2c6b_row116_col0\" class=\"data row116 col0\" >Uruguay</td>\n",
       "      <td id=\"T_e2c6b_row116_col1\" class=\"data row116 col1\" >0.005343</td>\n",
       "      <td id=\"T_e2c6b_row116_col2\" class=\"data row116 col2\" >0.005671</td>\n",
       "      <td id=\"T_e2c6b_row116_col3\" class=\"data row116 col3\" >0.018605</td>\n",
       "    </tr>\n",
       "    <tr>\n",
       "      <th id=\"T_e2c6b_level0_row117\" class=\"row_heading level0 row117\" >96</th>\n",
       "      <td id=\"T_e2c6b_row117_col0\" class=\"data row117 col0\" >Haiti</td>\n",
       "      <td id=\"T_e2c6b_row117_col1\" class=\"data row117 col1\" >0.004962</td>\n",
       "      <td id=\"T_e2c6b_row117_col2\" class=\"data row117 col2\" >0.000000</td>\n",
       "      <td id=\"T_e2c6b_row117_col3\" class=\"data row117 col3\" >0.000000</td>\n",
       "    </tr>\n",
       "    <tr>\n",
       "      <th id=\"T_e2c6b_level0_row118\" class=\"row_heading level0 row118\" >88</th>\n",
       "      <td id=\"T_e2c6b_row118_col0\" class=\"data row118 col0\" >Congo (Kinshasa)</td>\n",
       "      <td id=\"T_e2c6b_row118_col1\" class=\"data row118 col1\" >0.004962</td>\n",
       "      <td id=\"T_e2c6b_row118_col2\" class=\"data row118 col2\" >0.015596</td>\n",
       "      <td id=\"T_e2c6b_row118_col3\" class=\"data row118 col3\" >0.055814</td>\n",
       "    </tr>\n",
       "    <tr>\n",
       "      <th id=\"T_e2c6b_level0_row119\" class=\"row_heading level0 row119\" >165</th>\n",
       "      <td id=\"T_e2c6b_row119_col0\" class=\"data row119 col0\" >Burundi</td>\n",
       "      <td id=\"T_e2c6b_row119_col1\" class=\"data row119 col1\" >0.004580</td>\n",
       "      <td id=\"T_e2c6b_row119_col2\" class=\"data row119 col2\" >0.005671</td>\n",
       "      <td id=\"T_e2c6b_row119_col3\" class=\"data row119 col3\" >0.000000</td>\n",
       "    </tr>\n",
       "    <tr>\n",
       "      <th id=\"T_e2c6b_level0_row120\" class=\"row_heading level0 row120\" >91</th>\n",
       "      <td id=\"T_e2c6b_row120_col0\" class=\"data row120 col0\" >Malaysia</td>\n",
       "      <td id=\"T_e2c6b_row120_col1\" class=\"data row120 col1\" >0.004198</td>\n",
       "      <td id=\"T_e2c6b_row120_col2\" class=\"data row120 col2\" >0.003781</td>\n",
       "      <td id=\"T_e2c6b_row120_col3\" class=\"data row120 col3\" >0.000000</td>\n",
       "    </tr>\n",
       "    <tr>\n",
       "      <th id=\"T_e2c6b_level0_row121\" class=\"row_heading level0 row121\" >34</th>\n",
       "      <td id=\"T_e2c6b_row121_col0\" class=\"data row121 col0\" >Mainland China</td>\n",
       "      <td id=\"T_e2c6b_row121_col1\" class=\"data row121 col1\" >0.003435</td>\n",
       "      <td id=\"T_e2c6b_row121_col2\" class=\"data row121 col2\" >0.012760</td>\n",
       "      <td id=\"T_e2c6b_row121_col3\" class=\"data row121 col3\" >0.000000</td>\n",
       "    </tr>\n",
       "    <tr>\n",
       "      <th id=\"T_e2c6b_level0_row122\" class=\"row_heading level0 row122\" >136</th>\n",
       "      <td id=\"T_e2c6b_row122_col0\" class=\"data row122 col0\" >Iceland</td>\n",
       "      <td id=\"T_e2c6b_row122_col1\" class=\"data row122 col1\" >0.003053</td>\n",
       "      <td id=\"T_e2c6b_row122_col2\" class=\"data row122 col2\" >0.007089</td>\n",
       "      <td id=\"T_e2c6b_row122_col3\" class=\"data row122 col3\" >0.000000</td>\n",
       "    </tr>\n",
       "    <tr>\n",
       "      <th id=\"T_e2c6b_level0_row123\" class=\"row_heading level0 row123\" >146</th>\n",
       "      <td id=\"T_e2c6b_row123_col0\" class=\"data row123 col0\" >Georgia</td>\n",
       "      <td id=\"T_e2c6b_row123_col1\" class=\"data row123 col1\" >0.002672</td>\n",
       "      <td id=\"T_e2c6b_row123_col2\" class=\"data row123 col2\" >0.000000</td>\n",
       "      <td id=\"T_e2c6b_row123_col3\" class=\"data row123 col3\" >0.000000</td>\n",
       "    </tr>\n",
       "    <tr>\n",
       "      <th id=\"T_e2c6b_level0_row124\" class=\"row_heading level0 row124\" >97</th>\n",
       "      <td id=\"T_e2c6b_row124_col0\" class=\"data row124 col0\" >Finland</td>\n",
       "      <td id=\"T_e2c6b_row124_col1\" class=\"data row124 col1\" >0.002672</td>\n",
       "      <td id=\"T_e2c6b_row124_col2\" class=\"data row124 col2\" >0.000000</td>\n",
       "      <td id=\"T_e2c6b_row124_col3\" class=\"data row124 col3\" >0.000000</td>\n",
       "    </tr>\n",
       "    <tr>\n",
       "      <th id=\"T_e2c6b_level0_row125\" class=\"row_heading level0 row125\" >148</th>\n",
       "      <td id=\"T_e2c6b_row125_col0\" class=\"data row125 col0\" >Latvia</td>\n",
       "      <td id=\"T_e2c6b_row125_col1\" class=\"data row125 col1\" >0.002290</td>\n",
       "      <td id=\"T_e2c6b_row125_col2\" class=\"data row125 col2\" >0.000000</td>\n",
       "      <td id=\"T_e2c6b_row125_col3\" class=\"data row125 col3\" >0.000000</td>\n",
       "    </tr>\n",
       "    <tr>\n",
       "      <th id=\"T_e2c6b_level0_row126\" class=\"row_heading level0 row126\" >150</th>\n",
       "      <td id=\"T_e2c6b_row126_col0\" class=\"data row126 col0\" >Liberia</td>\n",
       "      <td id=\"T_e2c6b_row126_col1\" class=\"data row126 col1\" >0.002290</td>\n",
       "      <td id=\"T_e2c6b_row126_col2\" class=\"data row126 col2\" >0.018904</td>\n",
       "      <td id=\"T_e2c6b_row126_col3\" class=\"data row126 col3\" >0.000000</td>\n",
       "    </tr>\n",
       "    <tr>\n",
       "      <th id=\"T_e2c6b_level0_row127\" class=\"row_heading level0 row127\" >122</th>\n",
       "      <td id=\"T_e2c6b_row127_col0\" class=\"data row127 col0\" >Sri Lanka</td>\n",
       "      <td id=\"T_e2c6b_row127_col1\" class=\"data row127 col1\" >0.002290</td>\n",
       "      <td id=\"T_e2c6b_row127_col2\" class=\"data row127 col2\" >0.003308</td>\n",
       "      <td id=\"T_e2c6b_row127_col3\" class=\"data row127 col3\" >0.000000</td>\n",
       "    </tr>\n",
       "    <tr>\n",
       "      <th id=\"T_e2c6b_level0_row128\" class=\"row_heading level0 row128\" >137</th>\n",
       "      <td id=\"T_e2c6b_row128_col0\" class=\"data row128 col0\" >Sierra Leone</td>\n",
       "      <td id=\"T_e2c6b_row128_col1\" class=\"data row128 col1\" >0.002290</td>\n",
       "      <td id=\"T_e2c6b_row128_col2\" class=\"data row128 col2\" >0.004726</td>\n",
       "      <td id=\"T_e2c6b_row128_col3\" class=\"data row128 col3\" >0.000000</td>\n",
       "    </tr>\n",
       "    <tr>\n",
       "      <th id=\"T_e2c6b_level0_row129\" class=\"row_heading level0 row129\" >104</th>\n",
       "      <td id=\"T_e2c6b_row129_col0\" class=\"data row129 col0\" >Malawi</td>\n",
       "      <td id=\"T_e2c6b_row129_col1\" class=\"data row129 col1\" >0.001908</td>\n",
       "      <td id=\"T_e2c6b_row129_col2\" class=\"data row129 col2\" >0.000000</td>\n",
       "      <td id=\"T_e2c6b_row129_col3\" class=\"data row129 col3\" >0.000000</td>\n",
       "    </tr>\n",
       "    <tr>\n",
       "      <th id=\"T_e2c6b_level0_row130\" class=\"row_heading level0 row130\" >172</th>\n",
       "      <td id=\"T_e2c6b_row130_col0\" class=\"data row130 col0\" >Barbados</td>\n",
       "      <td id=\"T_e2c6b_row130_col1\" class=\"data row130 col1\" >0.001527</td>\n",
       "      <td id=\"T_e2c6b_row130_col2\" class=\"data row130 col2\" >0.000000</td>\n",
       "      <td id=\"T_e2c6b_row130_col3\" class=\"data row130 col3\" >0.000000</td>\n",
       "    </tr>\n",
       "    <tr>\n",
       "      <th id=\"T_e2c6b_level0_row131\" class=\"row_heading level0 row131\" >151</th>\n",
       "      <td id=\"T_e2c6b_row131_col0\" class=\"data row131 col0\" >Guyana</td>\n",
       "      <td id=\"T_e2c6b_row131_col1\" class=\"data row131 col1\" >0.001527</td>\n",
       "      <td id=\"T_e2c6b_row131_col2\" class=\"data row131 col2\" >0.001418</td>\n",
       "      <td id=\"T_e2c6b_row131_col3\" class=\"data row131 col3\" >0.000000</td>\n",
       "    </tr>\n",
       "    <tr>\n",
       "      <th id=\"T_e2c6b_level0_row132\" class=\"row_heading level0 row132\" >60</th>\n",
       "      <td id=\"T_e2c6b_row132_col0\" class=\"data row132 col0\" >Afghanistan</td>\n",
       "      <td id=\"T_e2c6b_row132_col1\" class=\"data row132 col1\" >0.001145</td>\n",
       "      <td id=\"T_e2c6b_row132_col2\" class=\"data row132 col2\" >0.001890</td>\n",
       "      <td id=\"T_e2c6b_row132_col3\" class=\"data row132 col3\" >0.000000</td>\n",
       "    </tr>\n",
       "    <tr>\n",
       "      <th id=\"T_e2c6b_level0_row133\" class=\"row_heading level0 row133\" >138</th>\n",
       "      <td id=\"T_e2c6b_row133_col0\" class=\"data row133 col0\" >Yemen</td>\n",
       "      <td id=\"T_e2c6b_row133_col1\" class=\"data row133 col1\" >0.001145</td>\n",
       "      <td id=\"T_e2c6b_row133_col2\" class=\"data row133 col2\" >0.002836</td>\n",
       "      <td id=\"T_e2c6b_row133_col3\" class=\"data row133 col3\" >0.000000</td>\n",
       "    </tr>\n",
       "    <tr>\n",
       "      <th id=\"T_e2c6b_level0_row134\" class=\"row_heading level0 row134\" >145</th>\n",
       "      <td id=\"T_e2c6b_row134_col0\" class=\"data row134 col0\" >Cyprus</td>\n",
       "      <td id=\"T_e2c6b_row134_col1\" class=\"data row134 col1\" >0.000763</td>\n",
       "      <td id=\"T_e2c6b_row134_col2\" class=\"data row134 col2\" >0.000000</td>\n",
       "      <td id=\"T_e2c6b_row134_col3\" class=\"data row134 col3\" >0.000000</td>\n",
       "    </tr>\n",
       "    <tr>\n",
       "      <th id=\"T_e2c6b_level0_row135\" class=\"row_heading level0 row135\" >155</th>\n",
       "      <td id=\"T_e2c6b_row135_col0\" class=\"data row135 col0\" >Vietnam</td>\n",
       "      <td id=\"T_e2c6b_row135_col1\" class=\"data row135 col1\" >0.000763</td>\n",
       "      <td id=\"T_e2c6b_row135_col2\" class=\"data row135 col2\" >0.006617</td>\n",
       "      <td id=\"T_e2c6b_row135_col3\" class=\"data row135 col3\" >0.037209</td>\n",
       "    </tr>\n",
       "    <tr>\n",
       "      <th id=\"T_e2c6b_level0_row136\" class=\"row_heading level0 row136\" >141</th>\n",
       "      <td id=\"T_e2c6b_row136_col0\" class=\"data row136 col0\" >New Zealand</td>\n",
       "      <td id=\"T_e2c6b_row136_col1\" class=\"data row136 col1\" >0.000763</td>\n",
       "      <td id=\"T_e2c6b_row136_col2\" class=\"data row136 col2\" >0.000945</td>\n",
       "      <td id=\"T_e2c6b_row136_col3\" class=\"data row136 col3\" >0.000000</td>\n",
       "    </tr>\n",
       "    <tr>\n",
       "      <th id=\"T_e2c6b_level0_row137\" class=\"row_heading level0 row137\" >105</th>\n",
       "      <td id=\"T_e2c6b_row137_col0\" class=\"data row137 col0\" >Djibouti</td>\n",
       "      <td id=\"T_e2c6b_row137_col1\" class=\"data row137 col1\" >0.000763</td>\n",
       "      <td id=\"T_e2c6b_row137_col2\" class=\"data row137 col2\" >0.003308</td>\n",
       "      <td id=\"T_e2c6b_row137_col3\" class=\"data row137 col3\" >0.000000</td>\n",
       "    </tr>\n",
       "    <tr>\n",
       "      <th id=\"T_e2c6b_level0_row138\" class=\"row_heading level0 row138\" >166</th>\n",
       "      <td id=\"T_e2c6b_row138_col0\" class=\"data row138 col0\" >Comoros</td>\n",
       "      <td id=\"T_e2c6b_row138_col1\" class=\"data row138 col1\" >0.000382</td>\n",
       "      <td id=\"T_e2c6b_row138_col2\" class=\"data row138 col2\" >0.000000</td>\n",
       "      <td id=\"T_e2c6b_row138_col3\" class=\"data row138 col3\" >0.000000</td>\n",
       "    </tr>\n",
       "    <tr>\n",
       "      <th id=\"T_e2c6b_level0_row139\" class=\"row_heading level0 row139\" >176</th>\n",
       "      <td id=\"T_e2c6b_row139_col0\" class=\"data row139 col0\" >Liechtenstein</td>\n",
       "      <td id=\"T_e2c6b_row139_col1\" class=\"data row139 col1\" >0.000382</td>\n",
       "      <td id=\"T_e2c6b_row139_col2\" class=\"data row139 col2\" >0.000473</td>\n",
       "      <td id=\"T_e2c6b_row139_col3\" class=\"data row139 col3\" >0.000000</td>\n",
       "    </tr>\n",
       "    <tr>\n",
       "      <th id=\"T_e2c6b_level0_row140\" class=\"row_heading level0 row140\" >163</th>\n",
       "      <td id=\"T_e2c6b_row140_col0\" class=\"data row140 col0\" >Taiwan</td>\n",
       "      <td id=\"T_e2c6b_row140_col1\" class=\"data row140 col1\" >0.000382</td>\n",
       "      <td id=\"T_e2c6b_row140_col2\" class=\"data row140 col2\" >0.000000</td>\n",
       "      <td id=\"T_e2c6b_row140_col3\" class=\"data row140 col3\" >0.000000</td>\n",
       "    </tr>\n",
       "    <tr>\n",
       "      <th id=\"T_e2c6b_level0_row141\" class=\"row_heading level0 row141\" >130</th>\n",
       "      <td id=\"T_e2c6b_row141_col0\" class=\"data row141 col0\" >South Sudan</td>\n",
       "      <td id=\"T_e2c6b_row141_col1\" class=\"data row141 col1\" >0.000382</td>\n",
       "      <td id=\"T_e2c6b_row141_col2\" class=\"data row141 col2\" >0.000000</td>\n",
       "      <td id=\"T_e2c6b_row141_col3\" class=\"data row141 col3\" >0.000000</td>\n",
       "    </tr>\n",
       "    <tr>\n",
       "      <th id=\"T_e2c6b_level0_row142\" class=\"row_heading level0 row142\" >168</th>\n",
       "      <td id=\"T_e2c6b_row142_col0\" class=\"data row142 col0\" >Eritrea</td>\n",
       "      <td id=\"T_e2c6b_row142_col1\" class=\"data row142 col1\" >0.000382</td>\n",
       "      <td id=\"T_e2c6b_row142_col2\" class=\"data row142 col2\" >0.000000</td>\n",
       "      <td id=\"T_e2c6b_row142_col3\" class=\"data row142 col3\" >0.000000</td>\n",
       "    </tr>\n",
       "    <tr>\n",
       "      <th id=\"T_e2c6b_level0_row143\" class=\"row_heading level0 row143\" >167</th>\n",
       "      <td id=\"T_e2c6b_row143_col0\" class=\"data row143 col0\" >Mauritius</td>\n",
       "      <td id=\"T_e2c6b_row143_col1\" class=\"data row143 col1\" >0.000000</td>\n",
       "      <td id=\"T_e2c6b_row143_col2\" class=\"data row143 col2\" >0.000000</td>\n",
       "      <td id=\"T_e2c6b_row143_col3\" class=\"data row143 col3\" >0.000000</td>\n",
       "    </tr>\n",
       "    <tr>\n",
       "      <th id=\"T_e2c6b_level0_row144\" class=\"row_heading level0 row144\" >171</th>\n",
       "      <td id=\"T_e2c6b_row144_col0\" class=\"data row144 col0\" >Bhutan</td>\n",
       "      <td id=\"T_e2c6b_row144_col1\" class=\"data row144 col1\" >0.000000</td>\n",
       "      <td id=\"T_e2c6b_row144_col2\" class=\"data row144 col2\" >0.007089</td>\n",
       "      <td id=\"T_e2c6b_row144_col3\" class=\"data row144 col3\" >0.000000</td>\n",
       "    </tr>\n",
       "    <tr>\n",
       "      <th id=\"T_e2c6b_level0_row145\" class=\"row_heading level0 row145\" >169</th>\n",
       "      <td id=\"T_e2c6b_row145_col0\" class=\"data row145 col0\" >Mongolia</td>\n",
       "      <td id=\"T_e2c6b_row145_col1\" class=\"data row145 col1\" >0.000000</td>\n",
       "      <td id=\"T_e2c6b_row145_col2\" class=\"data row145 col2\" >0.001890</td>\n",
       "      <td id=\"T_e2c6b_row145_col3\" class=\"data row145 col3\" >0.000000</td>\n",
       "    </tr>\n",
       "    <tr>\n",
       "      <th id=\"T_e2c6b_level0_row146\" class=\"row_heading level0 row146\" >170</th>\n",
       "      <td id=\"T_e2c6b_row146_col0\" class=\"data row146 col0\" >Cambodia</td>\n",
       "      <td id=\"T_e2c6b_row146_col1\" class=\"data row146 col1\" >0.000000</td>\n",
       "      <td id=\"T_e2c6b_row146_col2\" class=\"data row146 col2\" >0.000000</td>\n",
       "      <td id=\"T_e2c6b_row146_col3\" class=\"data row146 col3\" >0.000000</td>\n",
       "    </tr>\n",
       "    <tr>\n",
       "      <th id=\"T_e2c6b_level0_row147\" class=\"row_heading level0 row147\" >182</th>\n",
       "      <td id=\"T_e2c6b_row147_col0\" class=\"data row147 col0\" >Saint Lucia</td>\n",
       "      <td id=\"T_e2c6b_row147_col1\" class=\"data row147 col1\" >0.000000</td>\n",
       "      <td id=\"T_e2c6b_row147_col2\" class=\"data row147 col2\" >0.000000</td>\n",
       "      <td id=\"T_e2c6b_row147_col3\" class=\"data row147 col3\" >0.000000</td>\n",
       "    </tr>\n",
       "    <tr>\n",
       "      <th id=\"T_e2c6b_level0_row148\" class=\"row_heading level0 row148\" >173</th>\n",
       "      <td id=\"T_e2c6b_row148_col0\" class=\"data row148 col0\" >Monaco</td>\n",
       "      <td id=\"T_e2c6b_row148_col1\" class=\"data row148 col1\" >0.000000</td>\n",
       "      <td id=\"T_e2c6b_row148_col2\" class=\"data row148 col2\" >0.000000</td>\n",
       "      <td id=\"T_e2c6b_row148_col3\" class=\"data row148 col3\" >0.000000</td>\n",
       "    </tr>\n",
       "    <tr>\n",
       "      <th id=\"T_e2c6b_level0_row149\" class=\"row_heading level0 row149\" >185</th>\n",
       "      <td id=\"T_e2c6b_row149_col0\" class=\"data row149 col0\" >Dominica</td>\n",
       "      <td id=\"T_e2c6b_row149_col1\" class=\"data row149 col1\" >0.000000</td>\n",
       "      <td id=\"T_e2c6b_row149_col2\" class=\"data row149 col2\" >0.000000</td>\n",
       "      <td id=\"T_e2c6b_row149_col3\" class=\"data row149 col3\" >0.000000</td>\n",
       "    </tr>\n",
       "    <tr>\n",
       "      <th id=\"T_e2c6b_level0_row150\" class=\"row_heading level0 row150\" >174</th>\n",
       "      <td id=\"T_e2c6b_row150_col0\" class=\"data row150 col0\" >Brunei</td>\n",
       "      <td id=\"T_e2c6b_row150_col1\" class=\"data row150 col1\" >0.000000</td>\n",
       "      <td id=\"T_e2c6b_row150_col2\" class=\"data row150 col2\" >0.000000</td>\n",
       "      <td id=\"T_e2c6b_row150_col3\" class=\"data row150 col3\" >0.000000</td>\n",
       "    </tr>\n",
       "    <tr>\n",
       "      <th id=\"T_e2c6b_level0_row151\" class=\"row_heading level0 row151\" >175</th>\n",
       "      <td id=\"T_e2c6b_row151_col0\" class=\"data row151 col0\" >Seychelles</td>\n",
       "      <td id=\"T_e2c6b_row151_col1\" class=\"data row151 col1\" >0.000000</td>\n",
       "      <td id=\"T_e2c6b_row151_col2\" class=\"data row151 col2\" >0.000000</td>\n",
       "      <td id=\"T_e2c6b_row151_col3\" class=\"data row151 col3\" >0.000000</td>\n",
       "    </tr>\n",
       "    <tr>\n",
       "      <th id=\"T_e2c6b_level0_row152\" class=\"row_heading level0 row152\" >183</th>\n",
       "      <td id=\"T_e2c6b_row152_col0\" class=\"data row152 col0\" >Grenada</td>\n",
       "      <td id=\"T_e2c6b_row152_col1\" class=\"data row152 col1\" >0.000000</td>\n",
       "      <td id=\"T_e2c6b_row152_col2\" class=\"data row152 col2\" >0.000000</td>\n",
       "      <td id=\"T_e2c6b_row152_col3\" class=\"data row152 col3\" >0.000000</td>\n",
       "    </tr>\n",
       "    <tr>\n",
       "      <th id=\"T_e2c6b_level0_row153\" class=\"row_heading level0 row153\" >184</th>\n",
       "      <td id=\"T_e2c6b_row153_col0\" class=\"data row153 col0\" >Laos</td>\n",
       "      <td id=\"T_e2c6b_row153_col1\" class=\"data row153 col1\" >0.000000</td>\n",
       "      <td id=\"T_e2c6b_row153_col2\" class=\"data row153 col2\" >0.000000</td>\n",
       "      <td id=\"T_e2c6b_row153_col3\" class=\"data row153 col3\" >0.000000</td>\n",
       "    </tr>\n",
       "    <tr>\n",
       "      <th id=\"T_e2c6b_level0_row154\" class=\"row_heading level0 row154\" >186</th>\n",
       "      <td id=\"T_e2c6b_row154_col0\" class=\"data row154 col0\" >Saint Kitts and Nevis</td>\n",
       "      <td id=\"T_e2c6b_row154_col1\" class=\"data row154 col1\" >0.000000</td>\n",
       "      <td id=\"T_e2c6b_row154_col2\" class=\"data row154 col2\" >0.000000</td>\n",
       "      <td id=\"T_e2c6b_row154_col3\" class=\"data row154 col3\" >0.000000</td>\n",
       "    </tr>\n",
       "    <tr>\n",
       "      <th id=\"T_e2c6b_level0_row155\" class=\"row_heading level0 row155\" >177</th>\n",
       "      <td id=\"T_e2c6b_row155_col0\" class=\"data row155 col0\" >Antigua and Barbuda</td>\n",
       "      <td id=\"T_e2c6b_row155_col1\" class=\"data row155 col1\" >0.000000</td>\n",
       "      <td id=\"T_e2c6b_row155_col2\" class=\"data row155 col2\" >0.000000</td>\n",
       "      <td id=\"T_e2c6b_row155_col3\" class=\"data row155 col3\" >0.000000</td>\n",
       "    </tr>\n",
       "    <tr>\n",
       "      <th id=\"T_e2c6b_level0_row156\" class=\"row_heading level0 row156\" >178</th>\n",
       "      <td id=\"T_e2c6b_row156_col0\" class=\"data row156 col0\" >Saint Vincent and the Grenadines</td>\n",
       "      <td id=\"T_e2c6b_row156_col1\" class=\"data row156 col1\" >0.000000</td>\n",
       "      <td id=\"T_e2c6b_row156_col2\" class=\"data row156 col2\" >0.000000</td>\n",
       "      <td id=\"T_e2c6b_row156_col3\" class=\"data row156 col3\" >0.000000</td>\n",
       "    </tr>\n",
       "    <tr>\n",
       "      <th id=\"T_e2c6b_level0_row157\" class=\"row_heading level0 row157\" >179</th>\n",
       "      <td id=\"T_e2c6b_row157_col0\" class=\"data row157 col0\" >Macau</td>\n",
       "      <td id=\"T_e2c6b_row157_col1\" class=\"data row157 col1\" >0.000000</td>\n",
       "      <td id=\"T_e2c6b_row157_col2\" class=\"data row157 col2\" >0.000000</td>\n",
       "      <td id=\"T_e2c6b_row157_col3\" class=\"data row157 col3\" >0.000000</td>\n",
       "    </tr>\n",
       "    <tr>\n",
       "      <th id=\"T_e2c6b_level0_row158\" class=\"row_heading level0 row158\" >180</th>\n",
       "      <td id=\"T_e2c6b_row158_col0\" class=\"data row158 col0\" >Fiji</td>\n",
       "      <td id=\"T_e2c6b_row158_col1\" class=\"data row158 col1\" >0.000000</td>\n",
       "      <td id=\"T_e2c6b_row158_col2\" class=\"data row158 col2\" >0.000000</td>\n",
       "      <td id=\"T_e2c6b_row158_col3\" class=\"data row158 col3\" >0.000000</td>\n",
       "    </tr>\n",
       "    <tr>\n",
       "      <th id=\"T_e2c6b_level0_row159\" class=\"row_heading level0 row159\" >188</th>\n",
       "      <td id=\"T_e2c6b_row159_col0\" class=\"data row159 col0\" >Western Sahara</td>\n",
       "      <td id=\"T_e2c6b_row159_col1\" class=\"data row159 col1\" >0.000000</td>\n",
       "      <td id=\"T_e2c6b_row159_col2\" class=\"data row159 col2\" >0.000000</td>\n",
       "      <td id=\"T_e2c6b_row159_col3\" class=\"data row159 col3\" >0.000000</td>\n",
       "    </tr>\n",
       "    <tr>\n",
       "      <th id=\"T_e2c6b_level0_row160\" class=\"row_heading level0 row160\" >181</th>\n",
       "      <td id=\"T_e2c6b_row160_col0\" class=\"data row160 col0\" >Timor-Leste</td>\n",
       "      <td id=\"T_e2c6b_row160_col1\" class=\"data row160 col1\" >0.000000</td>\n",
       "      <td id=\"T_e2c6b_row160_col2\" class=\"data row160 col2\" >0.000000</td>\n",
       "      <td id=\"T_e2c6b_row160_col3\" class=\"data row160 col3\" >0.000000</td>\n",
       "    </tr>\n",
       "    <tr>\n",
       "      <th id=\"T_e2c6b_level0_row161\" class=\"row_heading level0 row161\" >187</th>\n",
       "      <td id=\"T_e2c6b_row161_col0\" class=\"data row161 col0\" >Holy See</td>\n",
       "      <td id=\"T_e2c6b_row161_col1\" class=\"data row161 col1\" >0.000000</td>\n",
       "      <td id=\"T_e2c6b_row161_col2\" class=\"data row161 col2\" >0.000000</td>\n",
       "      <td id=\"T_e2c6b_row161_col3\" class=\"data row161 col3\" >0.000000</td>\n",
       "    </tr>\n",
       "    <tr>\n",
       "      <th id=\"T_e2c6b_level0_row162\" class=\"row_heading level0 row162\" >164</th>\n",
       "      <td id=\"T_e2c6b_row162_col0\" class=\"data row162 col0\" >Papua New Guinea</td>\n",
       "      <td id=\"T_e2c6b_row162_col1\" class=\"data row162 col1\" >0.000000</td>\n",
       "      <td id=\"T_e2c6b_row162_col2\" class=\"data row162 col2\" >0.000000</td>\n",
       "      <td id=\"T_e2c6b_row162_col3\" class=\"data row162 col3\" >0.000000</td>\n",
       "    </tr>\n",
       "    <tr>\n",
       "      <th id=\"T_e2c6b_level0_row163\" class=\"row_heading level0 row163\" >95</th>\n",
       "      <td id=\"T_e2c6b_row163_col0\" class=\"data row163 col0\" >Gabon</td>\n",
       "      <td id=\"T_e2c6b_row163_col1\" class=\"data row163 col1\" >0.000000</td>\n",
       "      <td id=\"T_e2c6b_row163_col2\" class=\"data row163 col2\" >0.000000</td>\n",
       "      <td id=\"T_e2c6b_row163_col3\" class=\"data row163 col3\" >0.000000</td>\n",
       "    </tr>\n",
       "    <tr>\n",
       "      <th id=\"T_e2c6b_level0_row164\" class=\"row_heading level0 row164\" >162</th>\n",
       "      <td id=\"T_e2c6b_row164_col0\" class=\"data row164 col0\" >Tanzania</td>\n",
       "      <td id=\"T_e2c6b_row164_col1\" class=\"data row164 col1\" >0.000000</td>\n",
       "      <td id=\"T_e2c6b_row164_col2\" class=\"data row164 col2\" >0.000000</td>\n",
       "      <td id=\"T_e2c6b_row164_col3\" class=\"data row164 col3\" >0.000000</td>\n",
       "    </tr>\n",
       "    <tr>\n",
       "      <th id=\"T_e2c6b_level0_row165\" class=\"row_heading level0 row165\" >161</th>\n",
       "      <td id=\"T_e2c6b_row165_col0\" class=\"data row165 col0\" >San Marino</td>\n",
       "      <td id=\"T_e2c6b_row165_col1\" class=\"data row165 col1\" >0.000000</td>\n",
       "      <td id=\"T_e2c6b_row165_col2\" class=\"data row165 col2\" >0.000000</td>\n",
       "      <td id=\"T_e2c6b_row165_col3\" class=\"data row165 col3\" >0.000000</td>\n",
       "    </tr>\n",
       "    <tr>\n",
       "      <th id=\"T_e2c6b_level0_row166\" class=\"row_heading level0 row166\" >8</th>\n",
       "      <td id=\"T_e2c6b_row166_col0\" class=\"data row166 col0\" >Spain</td>\n",
       "      <td id=\"T_e2c6b_row166_col1\" class=\"data row166 col1\" >0.000000</td>\n",
       "      <td id=\"T_e2c6b_row166_col2\" class=\"data row166 col2\" >0.000000</td>\n",
       "      <td id=\"T_e2c6b_row166_col3\" class=\"data row166 col3\" >0.000000</td>\n",
       "    </tr>\n",
       "    <tr>\n",
       "      <th id=\"T_e2c6b_level0_row167\" class=\"row_heading level0 row167\" >15</th>\n",
       "      <td id=\"T_e2c6b_row167_col0\" class=\"data row167 col0\" >France</td>\n",
       "      <td id=\"T_e2c6b_row167_col1\" class=\"data row167 col1\" >0.000000</td>\n",
       "      <td id=\"T_e2c6b_row167_col2\" class=\"data row167 col2\" >0.000000</td>\n",
       "      <td id=\"T_e2c6b_row167_col3\" class=\"data row167 col3\" >0.000000</td>\n",
       "    </tr>\n",
       "    <tr>\n",
       "      <th id=\"T_e2c6b_level0_row168\" class=\"row_heading level0 row168\" >35</th>\n",
       "      <td id=\"T_e2c6b_row168_col0\" class=\"data row168 col0\" >Oman</td>\n",
       "      <td id=\"T_e2c6b_row168_col1\" class=\"data row168 col1\" >0.000000</td>\n",
       "      <td id=\"T_e2c6b_row168_col2\" class=\"data row168 col2\" >0.000000</td>\n",
       "      <td id=\"T_e2c6b_row168_col3\" class=\"data row168 col3\" >0.000000</td>\n",
       "    </tr>\n",
       "    <tr>\n",
       "      <th id=\"T_e2c6b_level0_row169\" class=\"row_heading level0 row169\" >38</th>\n",
       "      <td id=\"T_e2c6b_row169_col0\" class=\"data row169 col0\" >Sweden</td>\n",
       "      <td id=\"T_e2c6b_row169_col1\" class=\"data row169 col1\" >0.000000</td>\n",
       "      <td id=\"T_e2c6b_row169_col2\" class=\"data row169 col2\" >0.000000</td>\n",
       "      <td id=\"T_e2c6b_row169_col3\" class=\"data row169 col3\" >0.000000</td>\n",
       "    </tr>\n",
       "    <tr>\n",
       "      <th id=\"T_e2c6b_level0_row170\" class=\"row_heading level0 row170\" >74</th>\n",
       "      <td id=\"T_e2c6b_row170_col0\" class=\"data row170 col0\" >Cameroon</td>\n",
       "      <td id=\"T_e2c6b_row170_col1\" class=\"data row170 col1\" >0.000000</td>\n",
       "      <td id=\"T_e2c6b_row170_col2\" class=\"data row170 col2\" >0.000000</td>\n",
       "      <td id=\"T_e2c6b_row170_col3\" class=\"data row170 col3\" >0.000000</td>\n",
       "    </tr>\n",
       "    <tr>\n",
       "      <th id=\"T_e2c6b_level0_row171\" class=\"row_heading level0 row171\" >85</th>\n",
       "      <td id=\"T_e2c6b_row171_col0\" class=\"data row171 col0\" >Kosovo</td>\n",
       "      <td id=\"T_e2c6b_row171_col1\" class=\"data row171 col1\" >0.000000</td>\n",
       "      <td id=\"T_e2c6b_row171_col2\" class=\"data row171 col2\" >0.000000</td>\n",
       "      <td id=\"T_e2c6b_row171_col3\" class=\"data row171 col3\" >0.000000</td>\n",
       "    </tr>\n",
       "    <tr>\n",
       "      <th id=\"T_e2c6b_level0_row172\" class=\"row_heading level0 row172\" >93</th>\n",
       "      <td id=\"T_e2c6b_row172_col0\" class=\"data row172 col0\" >Guinea</td>\n",
       "      <td id=\"T_e2c6b_row172_col1\" class=\"data row172 col1\" >0.000000</td>\n",
       "      <td id=\"T_e2c6b_row172_col2\" class=\"data row172 col2\" >0.000000</td>\n",
       "      <td id=\"T_e2c6b_row172_col3\" class=\"data row172 col3\" >0.000000</td>\n",
       "    </tr>\n",
       "    <tr>\n",
       "      <th id=\"T_e2c6b_level0_row173\" class=\"row_heading level0 row173\" >100</th>\n",
       "      <td id=\"T_e2c6b_row173_col0\" class=\"data row173 col0\" >Mauritania</td>\n",
       "      <td id=\"T_e2c6b_row173_col1\" class=\"data row173 col1\" >0.000000</td>\n",
       "      <td id=\"T_e2c6b_row173_col2\" class=\"data row173 col2\" >0.000000</td>\n",
       "      <td id=\"T_e2c6b_row173_col3\" class=\"data row173 col3\" >0.000000</td>\n",
       "    </tr>\n",
       "    <tr>\n",
       "      <th id=\"T_e2c6b_level0_row174\" class=\"row_heading level0 row174\" >106</th>\n",
       "      <td id=\"T_e2c6b_row174_col0\" class=\"data row174 col0\" >Equatorial Guinea</td>\n",
       "      <td id=\"T_e2c6b_row174_col1\" class=\"data row174 col1\" >0.000000</td>\n",
       "      <td id=\"T_e2c6b_row174_col2\" class=\"data row174 col2\" >0.000000</td>\n",
       "      <td id=\"T_e2c6b_row174_col3\" class=\"data row174 col3\" >0.000000</td>\n",
       "    </tr>\n",
       "    <tr>\n",
       "      <th id=\"T_e2c6b_level0_row175\" class=\"row_heading level0 row175\" >109</th>\n",
       "      <td id=\"T_e2c6b_row175_col0\" class=\"data row175 col0\" >Central African Republic</td>\n",
       "      <td id=\"T_e2c6b_row175_col1\" class=\"data row175 col1\" >0.000000</td>\n",
       "      <td id=\"T_e2c6b_row175_col2\" class=\"data row175 col2\" >0.000000</td>\n",
       "      <td id=\"T_e2c6b_row175_col3\" class=\"data row175 col3\" >0.000000</td>\n",
       "    </tr>\n",
       "    <tr>\n",
       "      <th id=\"T_e2c6b_level0_row176\" class=\"row_heading level0 row176\" >111</th>\n",
       "      <td id=\"T_e2c6b_row176_col0\" class=\"data row176 col0\" >Nicaragua</td>\n",
       "      <td id=\"T_e2c6b_row176_col1\" class=\"data row176 col1\" >0.000000</td>\n",
       "      <td id=\"T_e2c6b_row176_col2\" class=\"data row176 col2\" >0.000000</td>\n",
       "      <td id=\"T_e2c6b_row176_col3\" class=\"data row176 col3\" >0.000000</td>\n",
       "    </tr>\n",
       "    <tr>\n",
       "      <th id=\"T_e2c6b_level0_row177\" class=\"row_heading level0 row177\" >112</th>\n",
       "      <td id=\"T_e2c6b_row177_col0\" class=\"data row177 col0\" >Congo (Brazzaville)</td>\n",
       "      <td id=\"T_e2c6b_row177_col1\" class=\"data row177 col1\" >0.000000</td>\n",
       "      <td id=\"T_e2c6b_row177_col2\" class=\"data row177 col2\" >0.000000</td>\n",
       "      <td id=\"T_e2c6b_row177_col3\" class=\"data row177 col3\" >0.000000</td>\n",
       "    </tr>\n",
       "    <tr>\n",
       "      <th id=\"T_e2c6b_level0_row178\" class=\"row_heading level0 row178\" >120</th>\n",
       "      <td id=\"T_e2c6b_row178_col0\" class=\"data row178 col0\" >Thailand</td>\n",
       "      <td id=\"T_e2c6b_row178_col1\" class=\"data row178 col1\" >0.000000</td>\n",
       "      <td id=\"T_e2c6b_row178_col2\" class=\"data row178 col2\" >0.000000</td>\n",
       "      <td id=\"T_e2c6b_row178_col3\" class=\"data row178 col3\" >0.000000</td>\n",
       "    </tr>\n",
       "    <tr>\n",
       "      <th id=\"T_e2c6b_level0_row179\" class=\"row_heading level0 row179\" >132</th>\n",
       "      <td id=\"T_e2c6b_row179_col0\" class=\"data row179 col0\" >Guinea-Bissau</td>\n",
       "      <td id=\"T_e2c6b_row179_col1\" class=\"data row179 col1\" >0.000000</td>\n",
       "      <td id=\"T_e2c6b_row179_col2\" class=\"data row179 col2\" >0.000000</td>\n",
       "      <td id=\"T_e2c6b_row179_col3\" class=\"data row179 col3\" >0.000000</td>\n",
       "    </tr>\n",
       "    <tr>\n",
       "      <th id=\"T_e2c6b_level0_row180\" class=\"row_heading level0 row180\" >133</th>\n",
       "      <td id=\"T_e2c6b_row180_col0\" class=\"data row180 col0\" >Benin</td>\n",
       "      <td id=\"T_e2c6b_row180_col1\" class=\"data row180 col1\" >0.000000</td>\n",
       "      <td id=\"T_e2c6b_row180_col2\" class=\"data row180 col2\" >0.000000</td>\n",
       "      <td id=\"T_e2c6b_row180_col3\" class=\"data row180 col3\" >0.000000</td>\n",
       "    </tr>\n",
       "    <tr>\n",
       "      <th id=\"T_e2c6b_level0_row181\" class=\"row_heading level0 row181\" >144</th>\n",
       "      <td id=\"T_e2c6b_row181_col0\" class=\"data row181 col0\" >Botswana</td>\n",
       "      <td id=\"T_e2c6b_row181_col1\" class=\"data row181 col1\" >0.000000</td>\n",
       "      <td id=\"T_e2c6b_row181_col2\" class=\"data row181 col2\" >0.000000</td>\n",
       "      <td id=\"T_e2c6b_row181_col3\" class=\"data row181 col3\" >0.000000</td>\n",
       "    </tr>\n",
       "    <tr>\n",
       "      <th id=\"T_e2c6b_level0_row182\" class=\"row_heading level0 row182\" >149</th>\n",
       "      <td id=\"T_e2c6b_row182_col0\" class=\"data row182 col0\" >Burkina Faso</td>\n",
       "      <td id=\"T_e2c6b_row182_col1\" class=\"data row182 col1\" >0.000000</td>\n",
       "      <td id=\"T_e2c6b_row182_col2\" class=\"data row182 col2\" >0.000000</td>\n",
       "      <td id=\"T_e2c6b_row182_col3\" class=\"data row182 col3\" >0.000000</td>\n",
       "    </tr>\n",
       "    <tr>\n",
       "      <th id=\"T_e2c6b_level0_row183\" class=\"row_heading level0 row183\" >152</th>\n",
       "      <td id=\"T_e2c6b_row183_col0\" class=\"data row183 col0\" >Niger</td>\n",
       "      <td id=\"T_e2c6b_row183_col1\" class=\"data row183 col1\" >0.000000</td>\n",
       "      <td id=\"T_e2c6b_row183_col2\" class=\"data row183 col2\" >0.000000</td>\n",
       "      <td id=\"T_e2c6b_row183_col3\" class=\"data row183 col3\" >0.000000</td>\n",
       "    </tr>\n",
       "    <tr>\n",
       "      <th id=\"T_e2c6b_level0_row184\" class=\"row_heading level0 row184\" >153</th>\n",
       "      <td id=\"T_e2c6b_row184_col0\" class=\"data row184 col0\" >Andorra</td>\n",
       "      <td id=\"T_e2c6b_row184_col1\" class=\"data row184 col1\" >0.000000</td>\n",
       "      <td id=\"T_e2c6b_row184_col2\" class=\"data row184 col2\" >0.000000</td>\n",
       "      <td id=\"T_e2c6b_row184_col3\" class=\"data row184 col3\" >0.000000</td>\n",
       "    </tr>\n",
       "    <tr>\n",
       "      <th id=\"T_e2c6b_level0_row185\" class=\"row_heading level0 row185\" >154</th>\n",
       "      <td id=\"T_e2c6b_row185_col0\" class=\"data row185 col0\" >Lesotho</td>\n",
       "      <td id=\"T_e2c6b_row185_col1\" class=\"data row185 col1\" >0.000000</td>\n",
       "      <td id=\"T_e2c6b_row185_col2\" class=\"data row185 col2\" >0.000000</td>\n",
       "      <td id=\"T_e2c6b_row185_col3\" class=\"data row185 col3\" >0.000000</td>\n",
       "    </tr>\n",
       "    <tr>\n",
       "      <th id=\"T_e2c6b_level0_row186\" class=\"row_heading level0 row186\" >156</th>\n",
       "      <td id=\"T_e2c6b_row186_col0\" class=\"data row186 col0\" >Chad</td>\n",
       "      <td id=\"T_e2c6b_row186_col1\" class=\"data row186 col1\" >0.000000</td>\n",
       "      <td id=\"T_e2c6b_row186_col2\" class=\"data row186 col2\" >0.000000</td>\n",
       "      <td id=\"T_e2c6b_row186_col3\" class=\"data row186 col3\" >0.000000</td>\n",
       "    </tr>\n",
       "    <tr>\n",
       "      <th id=\"T_e2c6b_level0_row187\" class=\"row_heading level0 row187\" >158</th>\n",
       "      <td id=\"T_e2c6b_row187_col0\" class=\"data row187 col0\" >Sao Tome and Principe</td>\n",
       "      <td id=\"T_e2c6b_row187_col1\" class=\"data row187 col1\" >0.000000</td>\n",
       "      <td id=\"T_e2c6b_row187_col2\" class=\"data row187 col2\" >0.000000</td>\n",
       "      <td id=\"T_e2c6b_row187_col3\" class=\"data row187 col3\" >0.000000</td>\n",
       "    </tr>\n",
       "    <tr>\n",
       "      <th id=\"T_e2c6b_level0_row188\" class=\"row_heading level0 row188\" >160</th>\n",
       "      <td id=\"T_e2c6b_row188_col0\" class=\"data row188 col0\" >Diamond Princess</td>\n",
       "      <td id=\"T_e2c6b_row188_col1\" class=\"data row188 col1\" >0.000000</td>\n",
       "      <td id=\"T_e2c6b_row188_col2\" class=\"data row188 col2\" >0.000000</td>\n",
       "      <td id=\"T_e2c6b_row188_col3\" class=\"data row188 col3\" >0.000000</td>\n",
       "    </tr>\n",
       "    <tr>\n",
       "      <th id=\"T_e2c6b_level0_row189\" class=\"row_heading level0 row189\" >189</th>\n",
       "      <td id=\"T_e2c6b_row189_col0\" class=\"data row189 col0\" >MS Zaandam</td>\n",
       "      <td id=\"T_e2c6b_row189_col1\" class=\"data row189 col1\" >0.000000</td>\n",
       "      <td id=\"T_e2c6b_row189_col2\" class=\"data row189 col2\" >0.000000</td>\n",
       "      <td id=\"T_e2c6b_row189_col3\" class=\"data row189 col3\" >0.000000</td>\n",
       "    </tr>\n",
       "  </tbody>\n",
       "</table>\n"
      ],
      "text/plain": [
       "<pandas.io.formats.style.Styler at 0x2303314bac0>"
      ]
     },
     "execution_count": 17,
     "metadata": {},
     "output_type": "execute_result"
    }
   ],
   "source": [
    "Last_24_Hours_country[[\"Country Name\",\"Proportion of Confirmed\",\"Proportion of Recovered\",\"Proportion of Deaths\"]].sort_values([\"Proportion of Confirmed\"],ascending=False).style.background_gradient(cmap=\"Reds\")"
   ]
  },
  {
   "cell_type": "code",
   "execution_count": 18,
   "metadata": {},
   "outputs": [],
   "source": [
    "china_data=covid[covid[\"Country/Region\"]==\"Mainland China\"]\n",
    "Italy_data=covid[covid[\"Country/Region\"]==\"Italy\"]\n",
    "US_data=covid[covid[\"Country/Region\"]==\"US\"]\n",
    "spain_data=covid[covid[\"Country/Region\"]==\"Spain\"]\n",
    "brazil_data=covid[covid[\"Country/Region\"]==\"Brazil\"]\n",
    "rest_of_world=covid[(covid[\"Country/Region\"]!=\"Mainland China\")&(covid[\"Country/Region\"]!=\"Italy\")&(covid[\"Country/Region\"]!=\"US\")&(covid[\"Country/Region\"]!=\"Spain\")&(covid[\"Country/Region\"]!=\"Brazil\")]\n",
    "\n",
    "datewise_china=china_data.groupby([\"ObservationDate\"]).agg({\"Confirmed\":'sum',\"Recovered\":'sum',\"Deaths\":'sum'})\n",
    "datewise_Italy=Italy_data.groupby([\"ObservationDate\"]).agg({\"Confirmed\":'sum',\"Recovered\":'sum',\"Deaths\":'sum'})\n",
    "datewise_US=US_data.groupby([\"ObservationDate\"]).agg({\"Confirmed\":'sum',\"Recovered\":'sum',\"Deaths\":'sum'})\n",
    "datewise_Spain=spain_data.groupby([\"ObservationDate\"]).agg({\"Confirmed\":'sum',\"Recovered\":'sum',\"Deaths\":'sum'})\n",
    "datewise_Brazil=brazil_data.groupby([\"ObservationDate\"]).agg({\"Confirmed\":'sum',\"Recovered\":'sum',\"Deaths\":'sum'})\n",
    "datewise_restofworld=rest_of_world.groupby([\"ObservationDate\"]).agg({\"Confirmed\":'sum',\"Recovered\":'sum',\"Deaths\":'sum'})"
   ]
  },
  {
   "cell_type": "code",
   "execution_count": 19,
   "metadata": {},
   "outputs": [
    {
     "data": {
      "application/vnd.plotly.v1+json": {
       "config": {
        "plotlyServerURL": "https://plot.ly"
       },
       "data": [
        {
         "mode": "lines",
         "name": "China",
         "type": "scatter",
         "x": [
          "2020-01-22T00:00:00",
          "2020-01-23T00:00:00",
          "2020-01-24T00:00:00",
          "2020-01-25T00:00:00",
          "2020-01-26T00:00:00",
          "2020-01-27T00:00:00",
          "2020-01-28T00:00:00",
          "2020-01-29T00:00:00",
          "2020-01-30T00:00:00",
          "2020-01-31T00:00:00",
          "2020-02-01T00:00:00",
          "2020-02-02T00:00:00",
          "2020-02-03T00:00:00",
          "2020-02-04T00:00:00",
          "2020-02-05T00:00:00",
          "2020-02-06T00:00:00",
          "2020-02-07T00:00:00",
          "2020-02-08T00:00:00",
          "2020-02-09T00:00:00",
          "2020-02-10T00:00:00",
          "2020-02-11T00:00:00",
          "2020-02-12T00:00:00",
          "2020-02-13T00:00:00",
          "2020-02-14T00:00:00",
          "2020-02-15T00:00:00",
          "2020-02-16T00:00:00",
          "2020-02-17T00:00:00",
          "2020-02-18T00:00:00",
          "2020-02-19T00:00:00",
          "2020-02-20T00:00:00",
          "2020-02-21T00:00:00",
          "2020-02-22T00:00:00",
          "2020-02-23T00:00:00",
          "2020-02-24T00:00:00",
          "2020-02-25T00:00:00",
          "2020-02-26T00:00:00",
          "2020-02-27T00:00:00",
          "2020-02-28T00:00:00",
          "2020-02-29T00:00:00",
          "2020-03-01T00:00:00",
          "2020-03-02T00:00:00",
          "2020-03-03T00:00:00",
          "2020-03-04T00:00:00",
          "2020-03-05T00:00:00",
          "2020-03-06T00:00:00",
          "2020-03-07T00:00:00",
          "2020-03-08T00:00:00",
          "2020-03-09T00:00:00",
          "2020-03-10T00:00:00",
          "2020-03-11T00:00:00",
          "2020-03-12T00:00:00",
          "2020-03-13T00:00:00",
          "2020-03-14T00:00:00",
          "2020-03-15T00:00:00",
          "2020-03-16T00:00:00",
          "2020-03-17T00:00:00",
          "2020-03-18T00:00:00",
          "2020-03-19T00:00:00",
          "2020-03-20T00:00:00",
          "2020-03-21T00:00:00",
          "2020-03-22T00:00:00",
          "2020-03-23T00:00:00",
          "2020-03-24T00:00:00",
          "2020-03-25T00:00:00",
          "2020-03-26T00:00:00",
          "2020-03-27T00:00:00",
          "2020-03-28T00:00:00",
          "2020-03-29T00:00:00",
          "2020-03-30T00:00:00",
          "2020-03-31T00:00:00",
          "2020-04-01T00:00:00",
          "2020-04-02T00:00:00",
          "2020-04-03T00:00:00",
          "2020-04-04T00:00:00",
          "2020-04-05T00:00:00",
          "2020-04-06T00:00:00",
          "2020-04-07T00:00:00",
          "2020-04-08T00:00:00",
          "2020-04-09T00:00:00",
          "2020-04-10T00:00:00",
          "2020-04-11T00:00:00",
          "2020-04-12T00:00:00",
          "2020-04-13T00:00:00",
          "2020-04-14T00:00:00",
          "2020-04-15T00:00:00",
          "2020-04-16T00:00:00",
          "2020-04-17T00:00:00",
          "2020-04-18T00:00:00",
          "2020-04-19T00:00:00",
          "2020-04-20T00:00:00",
          "2020-04-21T00:00:00",
          "2020-04-22T00:00:00",
          "2020-04-23T00:00:00",
          "2020-04-24T00:00:00",
          "2020-04-25T00:00:00",
          "2020-04-26T00:00:00",
          "2020-04-27T00:00:00",
          "2020-04-28T00:00:00",
          "2020-04-29T00:00:00",
          "2020-04-30T00:00:00",
          "2020-05-01T00:00:00",
          "2020-05-02T00:00:00",
          "2020-05-03T00:00:00",
          "2020-05-04T00:00:00",
          "2020-05-05T00:00:00",
          "2020-05-06T00:00:00",
          "2020-05-07T00:00:00",
          "2020-05-08T00:00:00",
          "2020-05-09T00:00:00",
          "2020-05-10T00:00:00",
          "2020-05-11T00:00:00",
          "2020-05-12T00:00:00",
          "2020-05-13T00:00:00",
          "2020-05-14T00:00:00",
          "2020-05-15T00:00:00",
          "2020-05-16T00:00:00",
          "2020-05-17T00:00:00",
          "2020-05-18T00:00:00",
          "2020-05-19T00:00:00",
          "2020-05-20T00:00:00",
          "2020-05-21T00:00:00",
          "2020-05-22T00:00:00",
          "2020-05-23T00:00:00",
          "2020-05-24T00:00:00",
          "2020-05-25T00:00:00",
          "2020-05-26T00:00:00",
          "2020-05-27T00:00:00",
          "2020-05-28T00:00:00",
          "2020-05-29T00:00:00",
          "2020-05-30T00:00:00",
          "2020-05-31T00:00:00",
          "2020-06-01T00:00:00",
          "2020-06-02T00:00:00",
          "2020-06-03T00:00:00",
          "2020-06-04T00:00:00",
          "2020-06-05T00:00:00",
          "2020-06-06T00:00:00",
          "2020-06-07T00:00:00",
          "2020-06-08T00:00:00",
          "2020-06-09T00:00:00",
          "2020-06-10T00:00:00",
          "2020-06-11T00:00:00",
          "2020-06-12T00:00:00",
          "2020-06-13T00:00:00",
          "2020-06-14T00:00:00",
          "2020-06-15T00:00:00",
          "2020-06-16T00:00:00",
          "2020-06-17T00:00:00",
          "2020-06-18T00:00:00",
          "2020-06-19T00:00:00",
          "2020-06-20T00:00:00",
          "2020-06-21T00:00:00",
          "2020-06-22T00:00:00",
          "2020-06-23T00:00:00",
          "2020-06-24T00:00:00",
          "2020-06-25T00:00:00",
          "2020-06-26T00:00:00",
          "2020-06-27T00:00:00",
          "2020-06-28T00:00:00",
          "2020-06-29T00:00:00",
          "2020-06-30T00:00:00",
          "2020-07-01T00:00:00",
          "2020-07-02T00:00:00",
          "2020-07-03T00:00:00",
          "2020-07-04T00:00:00",
          "2020-07-05T00:00:00",
          "2020-07-06T00:00:00",
          "2020-07-07T00:00:00",
          "2020-07-08T00:00:00",
          "2020-07-09T00:00:00",
          "2020-07-10T00:00:00",
          "2020-07-11T00:00:00",
          "2020-07-12T00:00:00",
          "2020-07-13T00:00:00",
          "2020-07-14T00:00:00",
          "2020-07-15T00:00:00",
          "2020-07-16T00:00:00",
          "2020-07-17T00:00:00",
          "2020-07-18T00:00:00",
          "2020-07-19T00:00:00",
          "2020-07-20T00:00:00",
          "2020-07-21T00:00:00",
          "2020-07-22T00:00:00",
          "2020-07-23T00:00:00",
          "2020-07-24T00:00:00",
          "2020-07-25T00:00:00",
          "2020-07-26T00:00:00",
          "2020-07-27T00:00:00",
          "2020-07-28T00:00:00",
          "2020-07-29T00:00:00",
          "2020-07-30T00:00:00",
          "2020-07-31T00:00:00",
          "2020-08-01T00:00:00",
          "2020-08-02T00:00:00",
          "2020-08-03T00:00:00",
          "2020-08-04T00:00:00",
          "2020-08-05T00:00:00",
          "2020-08-06T00:00:00",
          "2020-08-07T00:00:00",
          "2020-08-08T00:00:00",
          "2020-08-09T00:00:00",
          "2020-08-10T00:00:00",
          "2020-08-11T00:00:00",
          "2020-08-12T00:00:00",
          "2020-08-13T00:00:00",
          "2020-08-14T00:00:00",
          "2020-08-15T00:00:00",
          "2020-08-16T00:00:00",
          "2020-08-17T00:00:00",
          "2020-08-18T00:00:00",
          "2020-08-19T00:00:00",
          "2020-08-20T00:00:00",
          "2020-08-21T00:00:00",
          "2020-08-22T00:00:00",
          "2020-08-23T00:00:00",
          "2020-08-24T00:00:00",
          "2020-08-25T00:00:00",
          "2020-08-26T00:00:00",
          "2020-08-27T00:00:00",
          "2020-08-28T00:00:00",
          "2020-08-29T00:00:00"
         ],
         "y": [
          0,
          92,
          277,
          483,
          663,
          801,
          2631,
          576,
          2054,
          1659,
          2088,
          4736,
          3086,
          3987,
          3729,
          3144,
          3522,
          2703,
          3012,
          2516,
          2021,
          372,
          15133,
          6460,
          2055,
          2099,
          1918,
          1775,
          407,
          453,
          473,
          1450,
          16,
          214,
          508,
          405,
          433,
          326,
          427,
          575,
          200,
          125,
          120,
          151,
          151,
          79,
          47,
          36,
          22,
          28,
          8,
          8,
          26,
          21,
          19,
          17,
          22,
          25,
          46,
          37,
          46,
          56,
          64,
          41,
          77,
          47,
          56,
          43,
          34,
          46,
          31,
          34,
          34,
          15,
          30,
          39,
          32,
          65,
          61,
          42,
          62,
          116,
          74,
          90,
          45,
          47,
          353,
          24,
          17,
          12,
          32,
          11,
          14,
          15,
          8,
          3,
          6,
          22,
          4,
          12,
          1,
          0,
          5,
          1,
          2,
          2,
          1,
          1,
          14,
          17,
          1,
          7,
          3,
          4,
          8,
          6,
          7,
          9,
          0,
          0,
          0,
          8,
          3,
          11,
          7,
          1,
          2,
          0,
          4,
          2,
          16,
          5,
          1,
          -1,
          5,
          3,
          6,
          4,
          3,
          3,
          11,
          7,
          11,
          57,
          49,
          40,
          44,
          28,
          32,
          0,
          55,
          16,
          22,
          13,
          18,
          13,
          21,
          17,
          12,
          19,
          3,
          3,
          5,
          3,
          8,
          4,
          1,
          14,
          9,
          0,
          0,
          13,
          8,
          0,
          9,
          1,
          1,
          0,
          0,
          0,
          0,
          0,
          116,
          21,
          34,
          46,
          61,
          68,
          101,
          105,
          127,
          45,
          48,
          43,
          36,
          27,
          37,
          37,
          31,
          23,
          49,
          44,
          19,
          25,
          30,
          22,
          19,
          22,
          22,
          17,
          7,
          22,
          22,
          12,
          16,
          14,
          15,
          8,
          9,
          9,
          9
         ]
        },
        {
         "mode": "lines",
         "name": "Italy",
         "type": "scatter",
         "x": [
          "2020-01-31T00:00:00",
          "2020-02-01T00:00:00",
          "2020-02-02T00:00:00",
          "2020-02-03T00:00:00",
          "2020-02-04T00:00:00",
          "2020-02-05T00:00:00",
          "2020-02-06T00:00:00",
          "2020-02-07T00:00:00",
          "2020-02-08T00:00:00",
          "2020-02-09T00:00:00",
          "2020-02-10T00:00:00",
          "2020-02-11T00:00:00",
          "2020-02-12T00:00:00",
          "2020-02-13T00:00:00",
          "2020-02-14T00:00:00",
          "2020-02-15T00:00:00",
          "2020-02-16T00:00:00",
          "2020-02-17T00:00:00",
          "2020-02-18T00:00:00",
          "2020-02-19T00:00:00",
          "2020-02-20T00:00:00",
          "2020-02-21T00:00:00",
          "2020-02-22T00:00:00",
          "2020-02-23T00:00:00",
          "2020-02-24T00:00:00",
          "2020-02-25T00:00:00",
          "2020-02-26T00:00:00",
          "2020-02-27T00:00:00",
          "2020-02-28T00:00:00",
          "2020-02-29T00:00:00",
          "2020-03-01T00:00:00",
          "2020-03-02T00:00:00",
          "2020-03-03T00:00:00",
          "2020-03-04T00:00:00",
          "2020-03-05T00:00:00",
          "2020-03-06T00:00:00",
          "2020-03-07T00:00:00",
          "2020-03-08T00:00:00",
          "2020-03-09T00:00:00",
          "2020-03-10T00:00:00",
          "2020-03-11T00:00:00",
          "2020-03-12T00:00:00",
          "2020-03-13T00:00:00",
          "2020-03-14T00:00:00",
          "2020-03-15T00:00:00",
          "2020-03-16T00:00:00",
          "2020-03-17T00:00:00",
          "2020-03-18T00:00:00",
          "2020-03-19T00:00:00",
          "2020-03-20T00:00:00",
          "2020-03-21T00:00:00",
          "2020-03-22T00:00:00",
          "2020-03-23T00:00:00",
          "2020-03-24T00:00:00",
          "2020-03-25T00:00:00",
          "2020-03-26T00:00:00",
          "2020-03-27T00:00:00",
          "2020-03-28T00:00:00",
          "2020-03-29T00:00:00",
          "2020-03-30T00:00:00",
          "2020-03-31T00:00:00",
          "2020-04-01T00:00:00",
          "2020-04-02T00:00:00",
          "2020-04-03T00:00:00",
          "2020-04-04T00:00:00",
          "2020-04-05T00:00:00",
          "2020-04-06T00:00:00",
          "2020-04-07T00:00:00",
          "2020-04-08T00:00:00",
          "2020-04-09T00:00:00",
          "2020-04-10T00:00:00",
          "2020-04-11T00:00:00",
          "2020-04-12T00:00:00",
          "2020-04-13T00:00:00",
          "2020-04-14T00:00:00",
          "2020-04-15T00:00:00",
          "2020-04-16T00:00:00",
          "2020-04-17T00:00:00",
          "2020-04-18T00:00:00",
          "2020-04-19T00:00:00",
          "2020-04-20T00:00:00",
          "2020-04-21T00:00:00",
          "2020-04-22T00:00:00",
          "2020-04-23T00:00:00",
          "2020-04-24T00:00:00",
          "2020-04-25T00:00:00",
          "2020-04-26T00:00:00",
          "2020-04-27T00:00:00",
          "2020-04-28T00:00:00",
          "2020-04-29T00:00:00",
          "2020-04-30T00:00:00",
          "2020-05-01T00:00:00",
          "2020-05-02T00:00:00",
          "2020-05-03T00:00:00",
          "2020-05-04T00:00:00",
          "2020-05-05T00:00:00",
          "2020-05-06T00:00:00",
          "2020-05-07T00:00:00",
          "2020-05-08T00:00:00",
          "2020-05-09T00:00:00",
          "2020-05-10T00:00:00",
          "2020-05-11T00:00:00",
          "2020-05-12T00:00:00",
          "2020-05-13T00:00:00",
          "2020-05-14T00:00:00",
          "2020-05-15T00:00:00",
          "2020-05-16T00:00:00",
          "2020-05-17T00:00:00",
          "2020-05-18T00:00:00",
          "2020-05-19T00:00:00",
          "2020-05-20T00:00:00",
          "2020-05-21T00:00:00",
          "2020-05-22T00:00:00",
          "2020-05-23T00:00:00",
          "2020-05-24T00:00:00",
          "2020-05-25T00:00:00",
          "2020-05-26T00:00:00",
          "2020-05-27T00:00:00",
          "2020-05-28T00:00:00",
          "2020-05-29T00:00:00",
          "2020-05-30T00:00:00",
          "2020-05-31T00:00:00",
          "2020-06-01T00:00:00",
          "2020-06-02T00:00:00",
          "2020-06-03T00:00:00",
          "2020-06-04T00:00:00",
          "2020-06-05T00:00:00",
          "2020-06-06T00:00:00",
          "2020-06-07T00:00:00",
          "2020-06-08T00:00:00",
          "2020-06-09T00:00:00",
          "2020-06-10T00:00:00",
          "2020-06-11T00:00:00",
          "2020-06-12T00:00:00",
          "2020-06-13T00:00:00",
          "2020-06-14T00:00:00",
          "2020-06-15T00:00:00",
          "2020-06-16T00:00:00",
          "2020-06-17T00:00:00",
          "2020-06-18T00:00:00",
          "2020-06-19T00:00:00",
          "2020-06-20T00:00:00",
          "2020-06-21T00:00:00",
          "2020-06-22T00:00:00",
          "2020-06-23T00:00:00",
          "2020-06-24T00:00:00",
          "2020-06-25T00:00:00",
          "2020-06-26T00:00:00",
          "2020-06-27T00:00:00",
          "2020-06-28T00:00:00",
          "2020-06-29T00:00:00",
          "2020-06-30T00:00:00",
          "2020-07-01T00:00:00",
          "2020-07-02T00:00:00",
          "2020-07-03T00:00:00",
          "2020-07-04T00:00:00",
          "2020-07-05T00:00:00",
          "2020-07-06T00:00:00",
          "2020-07-07T00:00:00",
          "2020-07-08T00:00:00",
          "2020-07-09T00:00:00",
          "2020-07-10T00:00:00",
          "2020-07-11T00:00:00",
          "2020-07-12T00:00:00",
          "2020-07-13T00:00:00",
          "2020-07-14T00:00:00",
          "2020-07-15T00:00:00",
          "2020-07-16T00:00:00",
          "2020-07-17T00:00:00",
          "2020-07-18T00:00:00",
          "2020-07-19T00:00:00",
          "2020-07-20T00:00:00",
          "2020-07-21T00:00:00",
          "2020-07-22T00:00:00",
          "2020-07-23T00:00:00",
          "2020-07-24T00:00:00",
          "2020-07-25T00:00:00",
          "2020-07-26T00:00:00",
          "2020-07-27T00:00:00",
          "2020-07-28T00:00:00",
          "2020-07-29T00:00:00",
          "2020-07-30T00:00:00",
          "2020-07-31T00:00:00",
          "2020-08-01T00:00:00",
          "2020-08-02T00:00:00",
          "2020-08-03T00:00:00",
          "2020-08-04T00:00:00",
          "2020-08-05T00:00:00",
          "2020-08-06T00:00:00",
          "2020-08-07T00:00:00",
          "2020-08-08T00:00:00",
          "2020-08-09T00:00:00",
          "2020-08-10T00:00:00",
          "2020-08-11T00:00:00",
          "2020-08-12T00:00:00",
          "2020-08-13T00:00:00",
          "2020-08-14T00:00:00",
          "2020-08-15T00:00:00",
          "2020-08-16T00:00:00",
          "2020-08-17T00:00:00",
          "2020-08-18T00:00:00",
          "2020-08-19T00:00:00",
          "2020-08-20T00:00:00",
          "2020-08-21T00:00:00",
          "2020-08-22T00:00:00",
          "2020-08-23T00:00:00",
          "2020-08-24T00:00:00",
          "2020-08-25T00:00:00",
          "2020-08-26T00:00:00",
          "2020-08-27T00:00:00",
          "2020-08-28T00:00:00",
          "2020-08-29T00:00:00"
         ],
         "y": [
          0,
          0,
          0,
          0,
          0,
          0,
          0,
          1,
          0,
          0,
          0,
          0,
          0,
          0,
          0,
          0,
          0,
          0,
          0,
          0,
          0,
          17,
          42,
          93,
          74,
          93,
          131,
          202,
          233,
          240,
          566,
          342,
          466,
          587,
          769,
          778,
          1247,
          1492,
          1797,
          977,
          2313,
          0,
          5198,
          3497,
          3590,
          3233,
          3526,
          4207,
          5322,
          5986,
          6557,
          5560,
          4789,
          5249,
          5210,
          6203,
          5909,
          5974,
          5217,
          4050,
          4053,
          4782,
          4668,
          4585,
          4805,
          4316,
          3599,
          3039,
          3836,
          4204,
          3951,
          4694,
          4092,
          3153,
          2972,
          2667,
          3786,
          3493,
          3491,
          3047,
          2256,
          2729,
          3370,
          2646,
          3021,
          2357,
          2324,
          1739,
          2091,
          2086,
          1872,
          1965,
          1900,
          1389,
          1221,
          1075,
          1444,
          1401,
          1327,
          1083,
          802,
          744,
          1402,
          888,
          992,
          789,
          875,
          675,
          451,
          813,
          665,
          642,
          652,
          669,
          531,
          300,
          397,
          584,
          593,
          516,
          416,
          333,
          200,
          318,
          321,
          177,
          518,
          270,
          197,
          280,
          283,
          202,
          379,
          163,
          346,
          338,
          301,
          210,
          328,
          331,
          -148,
          264,
          224,
          221,
          113,
          577,
          296,
          255,
          175,
          174,
          126,
          142,
          182,
          201,
          223,
          235,
          192,
          208,
          137,
          193,
          214,
          276,
          188,
          234,
          169,
          114,
          162,
          230,
          231,
          249,
          218,
          190,
          128,
          280,
          306,
          252,
          274,
          254,
          168,
          202,
          288,
          382,
          379,
          295,
          238,
          159,
          190,
          384,
          401,
          552,
          347,
          463,
          259,
          412,
          476,
          522,
          574,
          629,
          477,
          320,
          401,
          642,
          840,
          947,
          1071,
          1209,
          953,
          876,
          1366,
          1409,
          1460,
          1444
         ]
        },
        {
         "mode": "lines",
         "name": "United States",
         "type": "scatter",
         "x": [
          "2020-01-22T00:00:00",
          "2020-01-23T00:00:00",
          "2020-01-24T00:00:00",
          "2020-01-25T00:00:00",
          "2020-01-26T00:00:00",
          "2020-01-27T00:00:00",
          "2020-01-28T00:00:00",
          "2020-01-29T00:00:00",
          "2020-01-30T00:00:00",
          "2020-01-31T00:00:00",
          "2020-02-01T00:00:00",
          "2020-02-02T00:00:00",
          "2020-02-03T00:00:00",
          "2020-02-04T00:00:00",
          "2020-02-05T00:00:00",
          "2020-02-06T00:00:00",
          "2020-02-07T00:00:00",
          "2020-02-08T00:00:00",
          "2020-02-09T00:00:00",
          "2020-02-10T00:00:00",
          "2020-02-11T00:00:00",
          "2020-02-12T00:00:00",
          "2020-02-13T00:00:00",
          "2020-02-14T00:00:00",
          "2020-02-15T00:00:00",
          "2020-02-16T00:00:00",
          "2020-02-17T00:00:00",
          "2020-02-18T00:00:00",
          "2020-02-19T00:00:00",
          "2020-02-20T00:00:00",
          "2020-02-21T00:00:00",
          "2020-02-22T00:00:00",
          "2020-02-23T00:00:00",
          "2020-02-24T00:00:00",
          "2020-02-25T00:00:00",
          "2020-02-26T00:00:00",
          "2020-02-27T00:00:00",
          "2020-02-28T00:00:00",
          "2020-02-29T00:00:00",
          "2020-03-01T00:00:00",
          "2020-03-02T00:00:00",
          "2020-03-03T00:00:00",
          "2020-03-04T00:00:00",
          "2020-03-05T00:00:00",
          "2020-03-06T00:00:00",
          "2020-03-07T00:00:00",
          "2020-03-08T00:00:00",
          "2020-03-09T00:00:00",
          "2020-03-10T00:00:00",
          "2020-03-11T00:00:00",
          "2020-03-12T00:00:00",
          "2020-03-13T00:00:00",
          "2020-03-14T00:00:00",
          "2020-03-15T00:00:00",
          "2020-03-16T00:00:00",
          "2020-03-17T00:00:00",
          "2020-03-18T00:00:00",
          "2020-03-19T00:00:00",
          "2020-03-20T00:00:00",
          "2020-03-21T00:00:00",
          "2020-03-22T00:00:00",
          "2020-03-23T00:00:00",
          "2020-03-24T00:00:00",
          "2020-03-25T00:00:00",
          "2020-03-26T00:00:00",
          "2020-03-27T00:00:00",
          "2020-03-28T00:00:00",
          "2020-03-29T00:00:00",
          "2020-03-30T00:00:00",
          "2020-03-31T00:00:00",
          "2020-04-01T00:00:00",
          "2020-04-02T00:00:00",
          "2020-04-03T00:00:00",
          "2020-04-04T00:00:00",
          "2020-04-05T00:00:00",
          "2020-04-06T00:00:00",
          "2020-04-07T00:00:00",
          "2020-04-08T00:00:00",
          "2020-04-09T00:00:00",
          "2020-04-10T00:00:00",
          "2020-04-11T00:00:00",
          "2020-04-12T00:00:00",
          "2020-04-13T00:00:00",
          "2020-04-14T00:00:00",
          "2020-04-15T00:00:00",
          "2020-04-16T00:00:00",
          "2020-04-17T00:00:00",
          "2020-04-18T00:00:00",
          "2020-04-19T00:00:00",
          "2020-04-20T00:00:00",
          "2020-04-21T00:00:00",
          "2020-04-22T00:00:00",
          "2020-04-23T00:00:00",
          "2020-04-24T00:00:00",
          "2020-04-25T00:00:00",
          "2020-04-26T00:00:00",
          "2020-04-27T00:00:00",
          "2020-04-28T00:00:00",
          "2020-04-29T00:00:00",
          "2020-04-30T00:00:00",
          "2020-05-01T00:00:00",
          "2020-05-02T00:00:00",
          "2020-05-03T00:00:00",
          "2020-05-04T00:00:00",
          "2020-05-05T00:00:00",
          "2020-05-06T00:00:00",
          "2020-05-07T00:00:00",
          "2020-05-08T00:00:00",
          "2020-05-09T00:00:00",
          "2020-05-10T00:00:00",
          "2020-05-11T00:00:00",
          "2020-05-12T00:00:00",
          "2020-05-13T00:00:00",
          "2020-05-14T00:00:00",
          "2020-05-15T00:00:00",
          "2020-05-16T00:00:00",
          "2020-05-17T00:00:00",
          "2020-05-18T00:00:00",
          "2020-05-19T00:00:00",
          "2020-05-20T00:00:00",
          "2020-05-21T00:00:00",
          "2020-05-22T00:00:00",
          "2020-05-23T00:00:00",
          "2020-05-24T00:00:00",
          "2020-05-25T00:00:00",
          "2020-05-26T00:00:00",
          "2020-05-27T00:00:00",
          "2020-05-28T00:00:00",
          "2020-05-29T00:00:00",
          "2020-05-30T00:00:00",
          "2020-05-31T00:00:00",
          "2020-06-01T00:00:00",
          "2020-06-02T00:00:00",
          "2020-06-03T00:00:00",
          "2020-06-04T00:00:00",
          "2020-06-05T00:00:00",
          "2020-06-06T00:00:00",
          "2020-06-07T00:00:00",
          "2020-06-08T00:00:00",
          "2020-06-09T00:00:00",
          "2020-06-10T00:00:00",
          "2020-06-11T00:00:00",
          "2020-06-12T00:00:00",
          "2020-06-13T00:00:00",
          "2020-06-14T00:00:00",
          "2020-06-15T00:00:00",
          "2020-06-16T00:00:00",
          "2020-06-17T00:00:00",
          "2020-06-18T00:00:00",
          "2020-06-19T00:00:00",
          "2020-06-20T00:00:00",
          "2020-06-21T00:00:00",
          "2020-06-22T00:00:00",
          "2020-06-23T00:00:00",
          "2020-06-24T00:00:00",
          "2020-06-25T00:00:00",
          "2020-06-26T00:00:00",
          "2020-06-27T00:00:00",
          "2020-06-28T00:00:00",
          "2020-06-29T00:00:00",
          "2020-06-30T00:00:00",
          "2020-07-01T00:00:00",
          "2020-07-02T00:00:00",
          "2020-07-03T00:00:00",
          "2020-07-04T00:00:00",
          "2020-07-05T00:00:00",
          "2020-07-06T00:00:00",
          "2020-07-07T00:00:00",
          "2020-07-08T00:00:00",
          "2020-07-09T00:00:00",
          "2020-07-10T00:00:00",
          "2020-07-11T00:00:00",
          "2020-07-12T00:00:00",
          "2020-07-13T00:00:00",
          "2020-07-14T00:00:00",
          "2020-07-15T00:00:00",
          "2020-07-16T00:00:00",
          "2020-07-17T00:00:00",
          "2020-07-18T00:00:00",
          "2020-07-19T00:00:00",
          "2020-07-20T00:00:00",
          "2020-07-21T00:00:00",
          "2020-07-22T00:00:00",
          "2020-07-23T00:00:00",
          "2020-07-24T00:00:00",
          "2020-07-25T00:00:00",
          "2020-07-26T00:00:00",
          "2020-07-27T00:00:00",
          "2020-07-28T00:00:00",
          "2020-07-29T00:00:00",
          "2020-07-30T00:00:00",
          "2020-07-31T00:00:00",
          "2020-08-01T00:00:00",
          "2020-08-02T00:00:00",
          "2020-08-03T00:00:00",
          "2020-08-04T00:00:00",
          "2020-08-05T00:00:00",
          "2020-08-06T00:00:00",
          "2020-08-07T00:00:00",
          "2020-08-08T00:00:00",
          "2020-08-09T00:00:00",
          "2020-08-10T00:00:00",
          "2020-08-11T00:00:00",
          "2020-08-12T00:00:00",
          "2020-08-13T00:00:00",
          "2020-08-14T00:00:00",
          "2020-08-15T00:00:00",
          "2020-08-16T00:00:00",
          "2020-08-17T00:00:00",
          "2020-08-18T00:00:00",
          "2020-08-19T00:00:00",
          "2020-08-20T00:00:00",
          "2020-08-21T00:00:00",
          "2020-08-22T00:00:00",
          "2020-08-23T00:00:00",
          "2020-08-24T00:00:00",
          "2020-08-25T00:00:00",
          "2020-08-26T00:00:00",
          "2020-08-27T00:00:00",
          "2020-08-28T00:00:00",
          "2020-08-29T00:00:00"
         ],
         "y": [
          0,
          0,
          1,
          0,
          3,
          0,
          0,
          0,
          0,
          1,
          2,
          0,
          3,
          0,
          1,
          0,
          0,
          0,
          0,
          0,
          1,
          0,
          2,
          0,
          0,
          0,
          0,
          0,
          0,
          0,
          20,
          0,
          0,
          18,
          0,
          6,
          1,
          2,
          8,
          6,
          25,
          21,
          31,
          68,
          57,
          139,
          120,
          68,
          354,
          322,
          382,
          516,
          547,
          773,
          1133,
          1789,
          1365,
          5894,
          5421,
          6413,
          8334,
          9815,
          10073,
          12042,
          18058,
          17821,
          19808,
          19444,
          20922,
          26341,
          25200,
          30227,
          31987,
          33267,
          28219,
          29595,
          29556,
          32829,
          32385,
          35098,
          29861,
          28917,
          25306,
          27051,
          28680,
          31451,
          31905,
          32491,
          26889,
          25240,
          27539,
          28355,
          28950,
          36163,
          32821,
          27629,
          22307,
          24492,
          27327,
          29515,
          34037,
          29078,
          25501,
          22335,
          23976,
          24252,
          28420,
          26906,
          25621,
          19710,
          18621,
          21693,
          20832,
          27368,
          25050,
          24996,
          18937,
          21551,
          20260,
          23285,
          25294,
          23790,
          21675,
          20634,
          19056,
          18611,
          18263,
          22577,
          24266,
          24146,
          20007,
          20848,
          20801,
          19699,
          21140,
          29972,
          23133,
          18115,
          17548,
          18061,
          20975,
          22883,
          25639,
          25540,
          19532,
          19968,
          23705,
          25559,
          27763,
          31759,
          32307,
          26171,
          31010,
          34722,
          34471,
          40806,
          45255,
          42597,
          38845,
          41655,
          44766,
          50841,
          53621,
          54274,
          45283,
          49199,
          47442,
          60021,
          58601,
          63247,
          66627,
          61352,
          59017,
          59215,
          67417,
          66273,
          78310,
          71558,
          63698,
          61847,
          61417,
          64534,
          70874,
          68663,
          73783,
          65490,
          55902,
          56414,
          65869,
          70776,
          68033,
          67023,
          58406,
          47511,
          45585,
          57540,
          52810,
          59692,
          58173,
          56174,
          46935,
          49536,
          46808,
          56203,
          51547,
          64294,
          47913,
          42048,
          35112,
          45063,
          46436,
          44023,
          48693,
          44572,
          34567,
          38045,
          37986,
          44109,
          45966,
          46156,
          47153
         ]
        },
        {
         "mode": "lines",
         "name": "Spain",
         "type": "scatter",
         "x": [
          "2020-02-01T00:00:00",
          "2020-02-02T00:00:00",
          "2020-02-03T00:00:00",
          "2020-02-04T00:00:00",
          "2020-02-05T00:00:00",
          "2020-02-06T00:00:00",
          "2020-02-07T00:00:00",
          "2020-02-08T00:00:00",
          "2020-02-09T00:00:00",
          "2020-02-10T00:00:00",
          "2020-02-11T00:00:00",
          "2020-02-12T00:00:00",
          "2020-02-13T00:00:00",
          "2020-02-14T00:00:00",
          "2020-02-15T00:00:00",
          "2020-02-16T00:00:00",
          "2020-02-17T00:00:00",
          "2020-02-18T00:00:00",
          "2020-02-19T00:00:00",
          "2020-02-20T00:00:00",
          "2020-02-21T00:00:00",
          "2020-02-22T00:00:00",
          "2020-02-23T00:00:00",
          "2020-02-24T00:00:00",
          "2020-02-25T00:00:00",
          "2020-02-26T00:00:00",
          "2020-02-27T00:00:00",
          "2020-02-28T00:00:00",
          "2020-02-29T00:00:00",
          "2020-03-01T00:00:00",
          "2020-03-02T00:00:00",
          "2020-03-03T00:00:00",
          "2020-03-04T00:00:00",
          "2020-03-05T00:00:00",
          "2020-03-06T00:00:00",
          "2020-03-07T00:00:00",
          "2020-03-08T00:00:00",
          "2020-03-09T00:00:00",
          "2020-03-10T00:00:00",
          "2020-03-11T00:00:00",
          "2020-03-12T00:00:00",
          "2020-03-13T00:00:00",
          "2020-03-14T00:00:00",
          "2020-03-15T00:00:00",
          "2020-03-16T00:00:00",
          "2020-03-17T00:00:00",
          "2020-03-18T00:00:00",
          "2020-03-19T00:00:00",
          "2020-03-20T00:00:00",
          "2020-03-21T00:00:00",
          "2020-03-22T00:00:00",
          "2020-03-23T00:00:00",
          "2020-03-24T00:00:00",
          "2020-03-25T00:00:00",
          "2020-03-26T00:00:00",
          "2020-03-27T00:00:00",
          "2020-03-28T00:00:00",
          "2020-03-29T00:00:00",
          "2020-03-30T00:00:00",
          "2020-03-31T00:00:00",
          "2020-04-01T00:00:00",
          "2020-04-02T00:00:00",
          "2020-04-03T00:00:00",
          "2020-04-04T00:00:00",
          "2020-04-05T00:00:00",
          "2020-04-06T00:00:00",
          "2020-04-07T00:00:00",
          "2020-04-08T00:00:00",
          "2020-04-09T00:00:00",
          "2020-04-10T00:00:00",
          "2020-04-11T00:00:00",
          "2020-04-12T00:00:00",
          "2020-04-13T00:00:00",
          "2020-04-14T00:00:00",
          "2020-04-15T00:00:00",
          "2020-04-16T00:00:00",
          "2020-04-17T00:00:00",
          "2020-04-18T00:00:00",
          "2020-04-19T00:00:00",
          "2020-04-20T00:00:00",
          "2020-04-21T00:00:00",
          "2020-04-22T00:00:00",
          "2020-04-23T00:00:00",
          "2020-04-24T00:00:00",
          "2020-04-25T00:00:00",
          "2020-04-26T00:00:00",
          "2020-04-27T00:00:00",
          "2020-04-28T00:00:00",
          "2020-04-29T00:00:00",
          "2020-04-30T00:00:00",
          "2020-05-01T00:00:00",
          "2020-05-02T00:00:00",
          "2020-05-03T00:00:00",
          "2020-05-04T00:00:00",
          "2020-05-05T00:00:00",
          "2020-05-06T00:00:00",
          "2020-05-07T00:00:00",
          "2020-05-08T00:00:00",
          "2020-05-09T00:00:00",
          "2020-05-10T00:00:00",
          "2020-05-11T00:00:00",
          "2020-05-12T00:00:00",
          "2020-05-13T00:00:00",
          "2020-05-14T00:00:00",
          "2020-05-15T00:00:00",
          "2020-05-16T00:00:00",
          "2020-05-17T00:00:00",
          "2020-05-18T00:00:00",
          "2020-05-19T00:00:00",
          "2020-05-20T00:00:00",
          "2020-05-21T00:00:00",
          "2020-05-22T00:00:00",
          "2020-05-23T00:00:00",
          "2020-05-24T00:00:00",
          "2020-05-25T00:00:00",
          "2020-05-26T00:00:00",
          "2020-05-27T00:00:00",
          "2020-05-28T00:00:00",
          "2020-05-29T00:00:00",
          "2020-05-30T00:00:00",
          "2020-05-31T00:00:00",
          "2020-06-01T00:00:00",
          "2020-06-02T00:00:00",
          "2020-06-03T00:00:00",
          "2020-06-04T00:00:00",
          "2020-06-05T00:00:00",
          "2020-06-06T00:00:00",
          "2020-06-07T00:00:00",
          "2020-06-08T00:00:00",
          "2020-06-09T00:00:00",
          "2020-06-10T00:00:00",
          "2020-06-11T00:00:00",
          "2020-06-12T00:00:00",
          "2020-06-13T00:00:00",
          "2020-06-14T00:00:00",
          "2020-06-15T00:00:00",
          "2020-06-16T00:00:00",
          "2020-06-17T00:00:00",
          "2020-06-18T00:00:00",
          "2020-06-19T00:00:00",
          "2020-06-20T00:00:00",
          "2020-06-21T00:00:00",
          "2020-06-22T00:00:00",
          "2020-06-23T00:00:00",
          "2020-06-24T00:00:00",
          "2020-06-25T00:00:00",
          "2020-06-26T00:00:00",
          "2020-06-27T00:00:00",
          "2020-06-28T00:00:00",
          "2020-06-29T00:00:00",
          "2020-06-30T00:00:00",
          "2020-07-01T00:00:00",
          "2020-07-02T00:00:00",
          "2020-07-03T00:00:00",
          "2020-07-04T00:00:00",
          "2020-07-05T00:00:00",
          "2020-07-06T00:00:00",
          "2020-07-07T00:00:00",
          "2020-07-08T00:00:00",
          "2020-07-09T00:00:00",
          "2020-07-10T00:00:00",
          "2020-07-11T00:00:00",
          "2020-07-12T00:00:00",
          "2020-07-13T00:00:00",
          "2020-07-14T00:00:00",
          "2020-07-15T00:00:00",
          "2020-07-16T00:00:00",
          "2020-07-17T00:00:00",
          "2020-07-18T00:00:00",
          "2020-07-19T00:00:00",
          "2020-07-20T00:00:00",
          "2020-07-21T00:00:00",
          "2020-07-22T00:00:00",
          "2020-07-23T00:00:00",
          "2020-07-24T00:00:00",
          "2020-07-25T00:00:00",
          "2020-07-26T00:00:00",
          "2020-07-27T00:00:00",
          "2020-07-28T00:00:00",
          "2020-07-29T00:00:00",
          "2020-07-30T00:00:00",
          "2020-07-31T00:00:00",
          "2020-08-01T00:00:00",
          "2020-08-02T00:00:00",
          "2020-08-03T00:00:00",
          "2020-08-04T00:00:00",
          "2020-08-05T00:00:00",
          "2020-08-06T00:00:00",
          "2020-08-07T00:00:00",
          "2020-08-08T00:00:00",
          "2020-08-09T00:00:00",
          "2020-08-10T00:00:00",
          "2020-08-11T00:00:00",
          "2020-08-12T00:00:00",
          "2020-08-13T00:00:00",
          "2020-08-14T00:00:00",
          "2020-08-15T00:00:00",
          "2020-08-16T00:00:00",
          "2020-08-17T00:00:00",
          "2020-08-18T00:00:00",
          "2020-08-19T00:00:00",
          "2020-08-20T00:00:00",
          "2020-08-21T00:00:00",
          "2020-08-22T00:00:00",
          "2020-08-23T00:00:00",
          "2020-08-24T00:00:00",
          "2020-08-25T00:00:00",
          "2020-08-26T00:00:00",
          "2020-08-27T00:00:00",
          "2020-08-28T00:00:00",
          "2020-08-29T00:00:00"
         ],
         "y": [
          0,
          0,
          0,
          0,
          0,
          0,
          0,
          0,
          1,
          0,
          0,
          0,
          0,
          0,
          0,
          0,
          0,
          0,
          0,
          0,
          0,
          0,
          0,
          0,
          4,
          7,
          2,
          17,
          13,
          39,
          36,
          45,
          57,
          37,
          141,
          100,
          173,
          400,
          622,
          582,
          0,
          2955,
          1159,
          1407,
          2144,
          1806,
          2162,
          4053,
          2447,
          4964,
          3229,
          6533,
          4749,
          9630,
          8271,
          7933,
          7516,
          6875,
          7846,
          7967,
          8195,
          7947,
          7134,
          6969,
          5478,
          5029,
          5267,
          6278,
          5002,
          5051,
          4754,
          3804,
          3268,
          2442,
          5103,
          7304,
          5891,
          887,
          6948,
          1536,
          3968,
          4211,
          4635,
          6740,
          3995,
          2870,
          2793,
          2706,
          4771,
          -23464,
          0,
          3147,
          884,
          545,
          1318,
          996,
          1122,
          1410,
          721,
          772,
          3086,
          594,
          661,
          849,
          643,
          515,
          0,
          908,
          431,
          518,
          482,
          1787,
          466,
          482,
          -372,
          859,
          0,
          1647,
          658,
          664,
          251,
          159,
          294,
          394,
          334,
          318,
          332,
          240,
          167,
          249,
          314,
          427,
          502,
          396,
          323,
          181,
          219,
          355,
          585,
          307,
          363,
          334,
          232,
          248,
          334,
          400,
          419,
          564,
          301,
          200,
          301,
          388,
          444,
          442,
          0,
          0,
          1244,
          341,
          383,
          543,
          852,
          0,
          0,
          2045,
          666,
          875,
          1361,
          1400,
          0,
          0,
          4581,
          1358,
          1357,
          2615,
          2255,
          0,
          0,
          6361,
          1828,
          2031,
          2789,
          3092,
          0,
          0,
          8532,
          5760,
          2953,
          4088,
          4507,
          0,
          0,
          8618,
          3632,
          3172,
          7550,
          5479,
          0,
          0,
          16269,
          5114,
          6671,
          7039,
          8148,
          0,
          0,
          19382,
          7117,
          7296,
          9658,
          9779,
          0
         ]
        },
        {
         "mode": "lines",
         "name": "Brazil",
         "type": "scatter",
         "x": [
          "2020-01-23T00:00:00",
          "2020-02-26T00:00:00",
          "2020-02-27T00:00:00",
          "2020-02-28T00:00:00",
          "2020-02-29T00:00:00",
          "2020-03-01T00:00:00",
          "2020-03-02T00:00:00",
          "2020-03-03T00:00:00",
          "2020-03-04T00:00:00",
          "2020-03-05T00:00:00",
          "2020-03-06T00:00:00",
          "2020-03-07T00:00:00",
          "2020-03-08T00:00:00",
          "2020-03-09T00:00:00",
          "2020-03-10T00:00:00",
          "2020-03-11T00:00:00",
          "2020-03-12T00:00:00",
          "2020-03-13T00:00:00",
          "2020-03-14T00:00:00",
          "2020-03-15T00:00:00",
          "2020-03-16T00:00:00",
          "2020-03-17T00:00:00",
          "2020-03-18T00:00:00",
          "2020-03-19T00:00:00",
          "2020-03-20T00:00:00",
          "2020-03-21T00:00:00",
          "2020-03-22T00:00:00",
          "2020-03-23T00:00:00",
          "2020-03-24T00:00:00",
          "2020-03-25T00:00:00",
          "2020-03-26T00:00:00",
          "2020-03-27T00:00:00",
          "2020-03-28T00:00:00",
          "2020-03-29T00:00:00",
          "2020-03-30T00:00:00",
          "2020-03-31T00:00:00",
          "2020-04-01T00:00:00",
          "2020-04-02T00:00:00",
          "2020-04-03T00:00:00",
          "2020-04-04T00:00:00",
          "2020-04-05T00:00:00",
          "2020-04-06T00:00:00",
          "2020-04-07T00:00:00",
          "2020-04-08T00:00:00",
          "2020-04-09T00:00:00",
          "2020-04-10T00:00:00",
          "2020-04-11T00:00:00",
          "2020-04-12T00:00:00",
          "2020-04-13T00:00:00",
          "2020-04-14T00:00:00",
          "2020-04-15T00:00:00",
          "2020-04-16T00:00:00",
          "2020-04-17T00:00:00",
          "2020-04-18T00:00:00",
          "2020-04-19T00:00:00",
          "2020-04-20T00:00:00",
          "2020-04-21T00:00:00",
          "2020-04-22T00:00:00",
          "2020-04-23T00:00:00",
          "2020-04-24T00:00:00",
          "2020-04-25T00:00:00",
          "2020-04-26T00:00:00",
          "2020-04-27T00:00:00",
          "2020-04-28T00:00:00",
          "2020-04-29T00:00:00",
          "2020-04-30T00:00:00",
          "2020-05-01T00:00:00",
          "2020-05-02T00:00:00",
          "2020-05-03T00:00:00",
          "2020-05-04T00:00:00",
          "2020-05-05T00:00:00",
          "2020-05-06T00:00:00",
          "2020-05-07T00:00:00",
          "2020-05-08T00:00:00",
          "2020-05-09T00:00:00",
          "2020-05-10T00:00:00",
          "2020-05-11T00:00:00",
          "2020-05-12T00:00:00",
          "2020-05-13T00:00:00",
          "2020-05-14T00:00:00",
          "2020-05-15T00:00:00",
          "2020-05-16T00:00:00",
          "2020-05-17T00:00:00",
          "2020-05-18T00:00:00",
          "2020-05-19T00:00:00",
          "2020-05-20T00:00:00",
          "2020-05-21T00:00:00",
          "2020-05-22T00:00:00",
          "2020-05-23T00:00:00",
          "2020-05-24T00:00:00",
          "2020-05-25T00:00:00",
          "2020-05-26T00:00:00",
          "2020-05-27T00:00:00",
          "2020-05-28T00:00:00",
          "2020-05-29T00:00:00",
          "2020-05-30T00:00:00",
          "2020-05-31T00:00:00",
          "2020-06-01T00:00:00",
          "2020-06-02T00:00:00",
          "2020-06-03T00:00:00",
          "2020-06-04T00:00:00",
          "2020-06-05T00:00:00",
          "2020-06-06T00:00:00",
          "2020-06-07T00:00:00",
          "2020-06-08T00:00:00",
          "2020-06-09T00:00:00",
          "2020-06-10T00:00:00",
          "2020-06-11T00:00:00",
          "2020-06-12T00:00:00",
          "2020-06-13T00:00:00",
          "2020-06-14T00:00:00",
          "2020-06-15T00:00:00",
          "2020-06-16T00:00:00",
          "2020-06-17T00:00:00",
          "2020-06-18T00:00:00",
          "2020-06-19T00:00:00",
          "2020-06-20T00:00:00",
          "2020-06-21T00:00:00",
          "2020-06-22T00:00:00",
          "2020-06-23T00:00:00",
          "2020-06-24T00:00:00",
          "2020-06-25T00:00:00",
          "2020-06-26T00:00:00",
          "2020-06-27T00:00:00",
          "2020-06-28T00:00:00",
          "2020-06-29T00:00:00",
          "2020-06-30T00:00:00",
          "2020-07-01T00:00:00",
          "2020-07-02T00:00:00",
          "2020-07-03T00:00:00",
          "2020-07-04T00:00:00",
          "2020-07-05T00:00:00",
          "2020-07-06T00:00:00",
          "2020-07-07T00:00:00",
          "2020-07-08T00:00:00",
          "2020-07-09T00:00:00",
          "2020-07-10T00:00:00",
          "2020-07-11T00:00:00",
          "2020-07-12T00:00:00",
          "2020-07-13T00:00:00",
          "2020-07-14T00:00:00",
          "2020-07-15T00:00:00",
          "2020-07-16T00:00:00",
          "2020-07-17T00:00:00",
          "2020-07-18T00:00:00",
          "2020-07-19T00:00:00",
          "2020-07-20T00:00:00",
          "2020-07-21T00:00:00",
          "2020-07-22T00:00:00",
          "2020-07-23T00:00:00",
          "2020-07-24T00:00:00",
          "2020-07-25T00:00:00",
          "2020-07-26T00:00:00",
          "2020-07-27T00:00:00",
          "2020-07-28T00:00:00",
          "2020-07-29T00:00:00",
          "2020-07-30T00:00:00",
          "2020-07-31T00:00:00",
          "2020-08-01T00:00:00",
          "2020-08-02T00:00:00",
          "2020-08-03T00:00:00",
          "2020-08-04T00:00:00",
          "2020-08-05T00:00:00",
          "2020-08-06T00:00:00",
          "2020-08-07T00:00:00",
          "2020-08-08T00:00:00",
          "2020-08-09T00:00:00",
          "2020-08-10T00:00:00",
          "2020-08-11T00:00:00",
          "2020-08-12T00:00:00",
          "2020-08-13T00:00:00",
          "2020-08-14T00:00:00",
          "2020-08-15T00:00:00",
          "2020-08-16T00:00:00",
          "2020-08-17T00:00:00",
          "2020-08-18T00:00:00",
          "2020-08-19T00:00:00",
          "2020-08-20T00:00:00",
          "2020-08-21T00:00:00",
          "2020-08-22T00:00:00",
          "2020-08-23T00:00:00",
          "2020-08-24T00:00:00",
          "2020-08-25T00:00:00",
          "2020-08-26T00:00:00",
          "2020-08-27T00:00:00",
          "2020-08-28T00:00:00",
          "2020-08-29T00:00:00"
         ],
         "y": [
          0,
          1,
          0,
          0,
          1,
          0,
          0,
          0,
          2,
          0,
          9,
          0,
          7,
          5,
          6,
          7,
          14,
          99,
          0,
          11,
          38,
          121,
          51,
          249,
          172,
          228,
          525,
          378,
          323,
          307,
          431,
          432,
          487,
          352,
          323,
          1138,
          1119,
          1208,
          1012,
          1304,
          770,
          1031,
          1873,
          2136,
          1922,
          1546,
          1089,
          1465,
          1238,
          1832,
          3058,
          2105,
          3257,
          2976,
          1996,
          2089,
          2336,
          2678,
          4279,
          4007,
          5281,
          3776,
          4346,
          5789,
          6450,
          7502,
          5015,
          4898,
          4726,
          6794,
          6835,
          11156,
          9162,
          11121,
          9167,
          6638,
          6895,
          8620,
          11923,
          13028,
          17126,
          13220,
          7569,
          14288,
          16517,
          19694,
          18508,
          20803,
          16508,
          15813,
          11687,
          16324,
          20599,
          26417,
          26928,
          33274,
          16409,
          11598,
          28936,
          28633,
          30925,
          30830,
          27075,
          18912,
          15654,
          32091,
          32913,
          30412,
          25982,
          21704,
          17110,
          20647,
          34918,
          32188,
          22765,
          54771,
          0,
          52125,
          21432,
          39436,
          42725,
          39483,
          46860,
          38693,
          30476,
          24052,
          33846,
          46712,
          48105,
          42223,
          37923,
          26051,
          20229,
          45305,
          44571,
          42619,
          45048,
          39023,
          24831,
          20286,
          41857,
          39924,
          45403,
          34177,
          28532,
          23529,
          20257,
          41008,
          67860,
          59961,
          55891,
          51147,
          24578,
          23284,
          40816,
          69074,
          57837,
          52383,
          45392,
          25800,
          16641,
          51603,
          57152,
          53139,
          50230,
          49970,
          23010,
          22048,
          52160,
          55155,
          60091,
          50644,
          41576,
          23101,
          19373,
          47784,
          49298,
          45323,
          30355,
          50032,
          23421,
          17078,
          47134,
          47161,
          44235,
          43412,
          41350
         ]
        },
        {
         "mode": "lines",
         "name": "Rest of the World",
         "type": "scatter",
         "x": [
          "2020-01-22T00:00:00",
          "2020-01-23T00:00:00",
          "2020-01-24T00:00:00",
          "2020-01-25T00:00:00",
          "2020-01-26T00:00:00",
          "2020-01-27T00:00:00",
          "2020-01-28T00:00:00",
          "2020-01-29T00:00:00",
          "2020-01-30T00:00:00",
          "2020-01-31T00:00:00",
          "2020-02-01T00:00:00",
          "2020-02-02T00:00:00",
          "2020-02-03T00:00:00",
          "2020-02-04T00:00:00",
          "2020-02-05T00:00:00",
          "2020-02-06T00:00:00",
          "2020-02-07T00:00:00",
          "2020-02-08T00:00:00",
          "2020-02-09T00:00:00",
          "2020-02-10T00:00:00",
          "2020-02-11T00:00:00",
          "2020-02-12T00:00:00",
          "2020-02-13T00:00:00",
          "2020-02-14T00:00:00",
          "2020-02-15T00:00:00",
          "2020-02-16T00:00:00",
          "2020-02-17T00:00:00",
          "2020-02-18T00:00:00",
          "2020-02-19T00:00:00",
          "2020-02-20T00:00:00",
          "2020-02-21T00:00:00",
          "2020-02-22T00:00:00",
          "2020-02-23T00:00:00",
          "2020-02-24T00:00:00",
          "2020-02-25T00:00:00",
          "2020-02-26T00:00:00",
          "2020-02-27T00:00:00",
          "2020-02-28T00:00:00",
          "2020-02-29T00:00:00",
          "2020-03-01T00:00:00",
          "2020-03-02T00:00:00",
          "2020-03-03T00:00:00",
          "2020-03-04T00:00:00",
          "2020-03-05T00:00:00",
          "2020-03-06T00:00:00",
          "2020-03-07T00:00:00",
          "2020-03-08T00:00:00",
          "2020-03-09T00:00:00",
          "2020-03-10T00:00:00",
          "2020-03-11T00:00:00",
          "2020-03-12T00:00:00",
          "2020-03-13T00:00:00",
          "2020-03-14T00:00:00",
          "2020-03-15T00:00:00",
          "2020-03-16T00:00:00",
          "2020-03-17T00:00:00",
          "2020-03-18T00:00:00",
          "2020-03-19T00:00:00",
          "2020-03-20T00:00:00",
          "2020-03-21T00:00:00",
          "2020-03-22T00:00:00",
          "2020-03-23T00:00:00",
          "2020-03-24T00:00:00",
          "2020-03-25T00:00:00",
          "2020-03-26T00:00:00",
          "2020-03-27T00:00:00",
          "2020-03-28T00:00:00",
          "2020-03-29T00:00:00",
          "2020-03-30T00:00:00",
          "2020-03-31T00:00:00",
          "2020-04-01T00:00:00",
          "2020-04-02T00:00:00",
          "2020-04-03T00:00:00",
          "2020-04-04T00:00:00",
          "2020-04-05T00:00:00",
          "2020-04-06T00:00:00",
          "2020-04-07T00:00:00",
          "2020-04-08T00:00:00",
          "2020-04-09T00:00:00",
          "2020-04-10T00:00:00",
          "2020-04-11T00:00:00",
          "2020-04-12T00:00:00",
          "2020-04-13T00:00:00",
          "2020-04-14T00:00:00",
          "2020-04-15T00:00:00",
          "2020-04-16T00:00:00",
          "2020-04-17T00:00:00",
          "2020-04-18T00:00:00",
          "2020-04-19T00:00:00",
          "2020-04-20T00:00:00",
          "2020-04-21T00:00:00",
          "2020-04-22T00:00:00",
          "2020-04-23T00:00:00",
          "2020-04-24T00:00:00",
          "2020-04-25T00:00:00",
          "2020-04-26T00:00:00",
          "2020-04-27T00:00:00",
          "2020-04-28T00:00:00",
          "2020-04-29T00:00:00",
          "2020-04-30T00:00:00",
          "2020-05-01T00:00:00",
          "2020-05-02T00:00:00",
          "2020-05-03T00:00:00",
          "2020-05-04T00:00:00",
          "2020-05-05T00:00:00",
          "2020-05-06T00:00:00",
          "2020-05-07T00:00:00",
          "2020-05-08T00:00:00",
          "2020-05-09T00:00:00",
          "2020-05-10T00:00:00",
          "2020-05-11T00:00:00",
          "2020-05-12T00:00:00",
          "2020-05-13T00:00:00",
          "2020-05-14T00:00:00",
          "2020-05-15T00:00:00",
          "2020-05-16T00:00:00",
          "2020-05-17T00:00:00",
          "2020-05-18T00:00:00",
          "2020-05-19T00:00:00",
          "2020-05-20T00:00:00",
          "2020-05-21T00:00:00",
          "2020-05-22T00:00:00",
          "2020-05-23T00:00:00",
          "2020-05-24T00:00:00",
          "2020-05-25T00:00:00",
          "2020-05-26T00:00:00",
          "2020-05-27T00:00:00",
          "2020-05-28T00:00:00",
          "2020-05-29T00:00:00",
          "2020-05-30T00:00:00",
          "2020-05-31T00:00:00",
          "2020-06-01T00:00:00",
          "2020-06-02T00:00:00",
          "2020-06-03T00:00:00",
          "2020-06-04T00:00:00",
          "2020-06-05T00:00:00",
          "2020-06-06T00:00:00",
          "2020-06-07T00:00:00",
          "2020-06-08T00:00:00",
          "2020-06-09T00:00:00",
          "2020-06-10T00:00:00",
          "2020-06-11T00:00:00",
          "2020-06-12T00:00:00",
          "2020-06-13T00:00:00",
          "2020-06-14T00:00:00",
          "2020-06-15T00:00:00",
          "2020-06-16T00:00:00",
          "2020-06-17T00:00:00",
          "2020-06-18T00:00:00",
          "2020-06-19T00:00:00",
          "2020-06-20T00:00:00",
          "2020-06-21T00:00:00",
          "2020-06-22T00:00:00",
          "2020-06-23T00:00:00",
          "2020-06-24T00:00:00",
          "2020-06-25T00:00:00",
          "2020-06-26T00:00:00",
          "2020-06-27T00:00:00",
          "2020-06-28T00:00:00",
          "2020-06-29T00:00:00",
          "2020-06-30T00:00:00",
          "2020-07-01T00:00:00",
          "2020-07-02T00:00:00",
          "2020-07-03T00:00:00",
          "2020-07-04T00:00:00",
          "2020-07-05T00:00:00",
          "2020-07-06T00:00:00",
          "2020-07-07T00:00:00",
          "2020-07-08T00:00:00",
          "2020-07-09T00:00:00",
          "2020-07-10T00:00:00",
          "2020-07-11T00:00:00",
          "2020-07-12T00:00:00",
          "2020-07-13T00:00:00",
          "2020-07-14T00:00:00",
          "2020-07-15T00:00:00",
          "2020-07-16T00:00:00",
          "2020-07-17T00:00:00",
          "2020-07-18T00:00:00",
          "2020-07-19T00:00:00",
          "2020-07-20T00:00:00",
          "2020-07-21T00:00:00",
          "2020-07-22T00:00:00",
          "2020-07-23T00:00:00",
          "2020-07-24T00:00:00",
          "2020-07-25T00:00:00",
          "2020-07-26T00:00:00",
          "2020-07-27T00:00:00",
          "2020-07-28T00:00:00",
          "2020-07-29T00:00:00",
          "2020-07-30T00:00:00",
          "2020-07-31T00:00:00",
          "2020-08-01T00:00:00",
          "2020-08-02T00:00:00",
          "2020-08-03T00:00:00",
          "2020-08-04T00:00:00",
          "2020-08-05T00:00:00",
          "2020-08-06T00:00:00",
          "2020-08-07T00:00:00",
          "2020-08-08T00:00:00",
          "2020-08-09T00:00:00",
          "2020-08-10T00:00:00",
          "2020-08-11T00:00:00",
          "2020-08-12T00:00:00",
          "2020-08-13T00:00:00",
          "2020-08-14T00:00:00",
          "2020-08-15T00:00:00",
          "2020-08-16T00:00:00",
          "2020-08-17T00:00:00",
          "2020-08-18T00:00:00",
          "2020-08-19T00:00:00",
          "2020-08-20T00:00:00",
          "2020-08-21T00:00:00",
          "2020-08-22T00:00:00",
          "2020-08-23T00:00:00",
          "2020-08-24T00:00:00",
          "2020-08-25T00:00:00",
          "2020-08-26T00:00:00",
          "2020-08-27T00:00:00",
          "2020-08-28T00:00:00",
          "2020-08-29T00:00:00"
         ],
         "y": [
          0,
          6,
          10,
          14,
          14,
          8,
          20,
          11,
          16,
          28,
          22,
          13,
          5,
          24,
          14,
          38,
          51,
          26,
          17,
          96,
          18,
          47,
          13,
          57,
          90,
          95,
          116,
          103,
          96,
          105,
          134,
          264,
          277,
          279,
          240,
          432,
          721,
          790,
          1200,
          1172,
          1335,
          1878,
          1483,
          1737,
          2778,
          2471,
          2160,
          1441,
          3019,
          4031,
          2074,
          8074,
          5677,
          5546,
          7532,
          8363,
          9940,
          12255,
          15382,
          14183,
          14879,
          19590,
          19221,
          22402,
          28957,
          31558,
          33561,
          27516,
          29074,
          35553,
          35791,
          36614,
          37862,
          55131,
          35894,
          33693,
          41228,
          39864,
          40672,
          50681,
          39335,
          36772,
          37601,
          24485,
          40310,
          51899,
          42645,
          37699,
          44723,
          39747,
          40260,
          36212,
          44401,
          51884,
          41569,
          38127,
          38991,
          39641,
          36850,
          47523,
          45913,
          44543,
          46881,
          45430,
          46430,
          54800,
          50271,
          51581,
          49339,
          49751,
          46458,
          52135,
          50756,
          52904,
          56568,
          52109,
          52364,
          51116,
          57528,
          54818,
          61026,
          61353,
          60224,
          59780,
          56770,
          58373,
          62716,
          65922,
          62957,
          76240,
          70913,
          66096,
          70162,
          73225,
          71769,
          75544,
          75931,
          76197,
          74768,
          72624,
          63511,
          100134,
          66024,
          86107,
          96620,
          92443,
          80340,
          117552,
          87551,
          92857,
          90292,
          84862,
          90188,
          90293,
          88925,
          98315,
          98933,
          95917,
          96448,
          90308,
          94629,
          118587,
          74812,
          107974,
          108982,
          106952,
          101265,
          103688,
          108121,
          120415,
          117146,
          118865,
          108359,
          112319,
          109603,
          123185,
          125514,
          142637,
          145144,
          128975,
          114024,
          132440,
          141825,
          149851,
          149018,
          137639,
          124760,
          148833,
          95042,
          195354,
          151482,
          167109,
          146502,
          155445,
          131739,
          143461,
          157828,
          167839,
          167394,
          152956,
          153720,
          147436,
          150934,
          172148,
          155487,
          181996,
          160558,
          146839,
          138576,
          157689,
          170320,
          169936,
          182586,
          158611,
          157673,
          151487,
          148645,
          187746,
          174516,
          181003,
          172052
         ]
        }
       ],
       "layout": {
        "legend": {
         "traceorder": "normal",
         "x": 0,
         "y": 1
        },
        "template": {
         "data": {
          "bar": [
           {
            "error_x": {
             "color": "#2a3f5f"
            },
            "error_y": {
             "color": "#2a3f5f"
            },
            "marker": {
             "line": {
              "color": "#E5ECF6",
              "width": 0.5
             },
             "pattern": {
              "fillmode": "overlay",
              "size": 10,
              "solidity": 0.2
             }
            },
            "type": "bar"
           }
          ],
          "barpolar": [
           {
            "marker": {
             "line": {
              "color": "#E5ECF6",
              "width": 0.5
             },
             "pattern": {
              "fillmode": "overlay",
              "size": 10,
              "solidity": 0.2
             }
            },
            "type": "barpolar"
           }
          ],
          "carpet": [
           {
            "aaxis": {
             "endlinecolor": "#2a3f5f",
             "gridcolor": "white",
             "linecolor": "white",
             "minorgridcolor": "white",
             "startlinecolor": "#2a3f5f"
            },
            "baxis": {
             "endlinecolor": "#2a3f5f",
             "gridcolor": "white",
             "linecolor": "white",
             "minorgridcolor": "white",
             "startlinecolor": "#2a3f5f"
            },
            "type": "carpet"
           }
          ],
          "choropleth": [
           {
            "colorbar": {
             "outlinewidth": 0,
             "ticks": ""
            },
            "type": "choropleth"
           }
          ],
          "contour": [
           {
            "colorbar": {
             "outlinewidth": 0,
             "ticks": ""
            },
            "colorscale": [
             [
              0,
              "#0d0887"
             ],
             [
              0.1111111111111111,
              "#46039f"
             ],
             [
              0.2222222222222222,
              "#7201a8"
             ],
             [
              0.3333333333333333,
              "#9c179e"
             ],
             [
              0.4444444444444444,
              "#bd3786"
             ],
             [
              0.5555555555555556,
              "#d8576b"
             ],
             [
              0.6666666666666666,
              "#ed7953"
             ],
             [
              0.7777777777777778,
              "#fb9f3a"
             ],
             [
              0.8888888888888888,
              "#fdca26"
             ],
             [
              1,
              "#f0f921"
             ]
            ],
            "type": "contour"
           }
          ],
          "contourcarpet": [
           {
            "colorbar": {
             "outlinewidth": 0,
             "ticks": ""
            },
            "type": "contourcarpet"
           }
          ],
          "heatmap": [
           {
            "colorbar": {
             "outlinewidth": 0,
             "ticks": ""
            },
            "colorscale": [
             [
              0,
              "#0d0887"
             ],
             [
              0.1111111111111111,
              "#46039f"
             ],
             [
              0.2222222222222222,
              "#7201a8"
             ],
             [
              0.3333333333333333,
              "#9c179e"
             ],
             [
              0.4444444444444444,
              "#bd3786"
             ],
             [
              0.5555555555555556,
              "#d8576b"
             ],
             [
              0.6666666666666666,
              "#ed7953"
             ],
             [
              0.7777777777777778,
              "#fb9f3a"
             ],
             [
              0.8888888888888888,
              "#fdca26"
             ],
             [
              1,
              "#f0f921"
             ]
            ],
            "type": "heatmap"
           }
          ],
          "heatmapgl": [
           {
            "colorbar": {
             "outlinewidth": 0,
             "ticks": ""
            },
            "colorscale": [
             [
              0,
              "#0d0887"
             ],
             [
              0.1111111111111111,
              "#46039f"
             ],
             [
              0.2222222222222222,
              "#7201a8"
             ],
             [
              0.3333333333333333,
              "#9c179e"
             ],
             [
              0.4444444444444444,
              "#bd3786"
             ],
             [
              0.5555555555555556,
              "#d8576b"
             ],
             [
              0.6666666666666666,
              "#ed7953"
             ],
             [
              0.7777777777777778,
              "#fb9f3a"
             ],
             [
              0.8888888888888888,
              "#fdca26"
             ],
             [
              1,
              "#f0f921"
             ]
            ],
            "type": "heatmapgl"
           }
          ],
          "histogram": [
           {
            "marker": {
             "pattern": {
              "fillmode": "overlay",
              "size": 10,
              "solidity": 0.2
             }
            },
            "type": "histogram"
           }
          ],
          "histogram2d": [
           {
            "colorbar": {
             "outlinewidth": 0,
             "ticks": ""
            },
            "colorscale": [
             [
              0,
              "#0d0887"
             ],
             [
              0.1111111111111111,
              "#46039f"
             ],
             [
              0.2222222222222222,
              "#7201a8"
             ],
             [
              0.3333333333333333,
              "#9c179e"
             ],
             [
              0.4444444444444444,
              "#bd3786"
             ],
             [
              0.5555555555555556,
              "#d8576b"
             ],
             [
              0.6666666666666666,
              "#ed7953"
             ],
             [
              0.7777777777777778,
              "#fb9f3a"
             ],
             [
              0.8888888888888888,
              "#fdca26"
             ],
             [
              1,
              "#f0f921"
             ]
            ],
            "type": "histogram2d"
           }
          ],
          "histogram2dcontour": [
           {
            "colorbar": {
             "outlinewidth": 0,
             "ticks": ""
            },
            "colorscale": [
             [
              0,
              "#0d0887"
             ],
             [
              0.1111111111111111,
              "#46039f"
             ],
             [
              0.2222222222222222,
              "#7201a8"
             ],
             [
              0.3333333333333333,
              "#9c179e"
             ],
             [
              0.4444444444444444,
              "#bd3786"
             ],
             [
              0.5555555555555556,
              "#d8576b"
             ],
             [
              0.6666666666666666,
              "#ed7953"
             ],
             [
              0.7777777777777778,
              "#fb9f3a"
             ],
             [
              0.8888888888888888,
              "#fdca26"
             ],
             [
              1,
              "#f0f921"
             ]
            ],
            "type": "histogram2dcontour"
           }
          ],
          "mesh3d": [
           {
            "colorbar": {
             "outlinewidth": 0,
             "ticks": ""
            },
            "type": "mesh3d"
           }
          ],
          "parcoords": [
           {
            "line": {
             "colorbar": {
              "outlinewidth": 0,
              "ticks": ""
             }
            },
            "type": "parcoords"
           }
          ],
          "pie": [
           {
            "automargin": true,
            "type": "pie"
           }
          ],
          "scatter": [
           {
            "fillpattern": {
             "fillmode": "overlay",
             "size": 10,
             "solidity": 0.2
            },
            "type": "scatter"
           }
          ],
          "scatter3d": [
           {
            "line": {
             "colorbar": {
              "outlinewidth": 0,
              "ticks": ""
             }
            },
            "marker": {
             "colorbar": {
              "outlinewidth": 0,
              "ticks": ""
             }
            },
            "type": "scatter3d"
           }
          ],
          "scattercarpet": [
           {
            "marker": {
             "colorbar": {
              "outlinewidth": 0,
              "ticks": ""
             }
            },
            "type": "scattercarpet"
           }
          ],
          "scattergeo": [
           {
            "marker": {
             "colorbar": {
              "outlinewidth": 0,
              "ticks": ""
             }
            },
            "type": "scattergeo"
           }
          ],
          "scattergl": [
           {
            "marker": {
             "colorbar": {
              "outlinewidth": 0,
              "ticks": ""
             }
            },
            "type": "scattergl"
           }
          ],
          "scattermapbox": [
           {
            "marker": {
             "colorbar": {
              "outlinewidth": 0,
              "ticks": ""
             }
            },
            "type": "scattermapbox"
           }
          ],
          "scatterpolar": [
           {
            "marker": {
             "colorbar": {
              "outlinewidth": 0,
              "ticks": ""
             }
            },
            "type": "scatterpolar"
           }
          ],
          "scatterpolargl": [
           {
            "marker": {
             "colorbar": {
              "outlinewidth": 0,
              "ticks": ""
             }
            },
            "type": "scatterpolargl"
           }
          ],
          "scatterternary": [
           {
            "marker": {
             "colorbar": {
              "outlinewidth": 0,
              "ticks": ""
             }
            },
            "type": "scatterternary"
           }
          ],
          "surface": [
           {
            "colorbar": {
             "outlinewidth": 0,
             "ticks": ""
            },
            "colorscale": [
             [
              0,
              "#0d0887"
             ],
             [
              0.1111111111111111,
              "#46039f"
             ],
             [
              0.2222222222222222,
              "#7201a8"
             ],
             [
              0.3333333333333333,
              "#9c179e"
             ],
             [
              0.4444444444444444,
              "#bd3786"
             ],
             [
              0.5555555555555556,
              "#d8576b"
             ],
             [
              0.6666666666666666,
              "#ed7953"
             ],
             [
              0.7777777777777778,
              "#fb9f3a"
             ],
             [
              0.8888888888888888,
              "#fdca26"
             ],
             [
              1,
              "#f0f921"
             ]
            ],
            "type": "surface"
           }
          ],
          "table": [
           {
            "cells": {
             "fill": {
              "color": "#EBF0F8"
             },
             "line": {
              "color": "white"
             }
            },
            "header": {
             "fill": {
              "color": "#C8D4E3"
             },
             "line": {
              "color": "white"
             }
            },
            "type": "table"
           }
          ]
         },
         "layout": {
          "annotationdefaults": {
           "arrowcolor": "#2a3f5f",
           "arrowhead": 0,
           "arrowwidth": 1
          },
          "autotypenumbers": "strict",
          "coloraxis": {
           "colorbar": {
            "outlinewidth": 0,
            "ticks": ""
           }
          },
          "colorscale": {
           "diverging": [
            [
             0,
             "#8e0152"
            ],
            [
             0.1,
             "#c51b7d"
            ],
            [
             0.2,
             "#de77ae"
            ],
            [
             0.3,
             "#f1b6da"
            ],
            [
             0.4,
             "#fde0ef"
            ],
            [
             0.5,
             "#f7f7f7"
            ],
            [
             0.6,
             "#e6f5d0"
            ],
            [
             0.7,
             "#b8e186"
            ],
            [
             0.8,
             "#7fbc41"
            ],
            [
             0.9,
             "#4d9221"
            ],
            [
             1,
             "#276419"
            ]
           ],
           "sequential": [
            [
             0,
             "#0d0887"
            ],
            [
             0.1111111111111111,
             "#46039f"
            ],
            [
             0.2222222222222222,
             "#7201a8"
            ],
            [
             0.3333333333333333,
             "#9c179e"
            ],
            [
             0.4444444444444444,
             "#bd3786"
            ],
            [
             0.5555555555555556,
             "#d8576b"
            ],
            [
             0.6666666666666666,
             "#ed7953"
            ],
            [
             0.7777777777777778,
             "#fb9f3a"
            ],
            [
             0.8888888888888888,
             "#fdca26"
            ],
            [
             1,
             "#f0f921"
            ]
           ],
           "sequentialminus": [
            [
             0,
             "#0d0887"
            ],
            [
             0.1111111111111111,
             "#46039f"
            ],
            [
             0.2222222222222222,
             "#7201a8"
            ],
            [
             0.3333333333333333,
             "#9c179e"
            ],
            [
             0.4444444444444444,
             "#bd3786"
            ],
            [
             0.5555555555555556,
             "#d8576b"
            ],
            [
             0.6666666666666666,
             "#ed7953"
            ],
            [
             0.7777777777777778,
             "#fb9f3a"
            ],
            [
             0.8888888888888888,
             "#fdca26"
            ],
            [
             1,
             "#f0f921"
            ]
           ]
          },
          "colorway": [
           "#636efa",
           "#EF553B",
           "#00cc96",
           "#ab63fa",
           "#FFA15A",
           "#19d3f3",
           "#FF6692",
           "#B6E880",
           "#FF97FF",
           "#FECB52"
          ],
          "font": {
           "color": "#2a3f5f"
          },
          "geo": {
           "bgcolor": "white",
           "lakecolor": "white",
           "landcolor": "#E5ECF6",
           "showlakes": true,
           "showland": true,
           "subunitcolor": "white"
          },
          "hoverlabel": {
           "align": "left"
          },
          "hovermode": "closest",
          "mapbox": {
           "style": "light"
          },
          "paper_bgcolor": "white",
          "plot_bgcolor": "#E5ECF6",
          "polar": {
           "angularaxis": {
            "gridcolor": "white",
            "linecolor": "white",
            "ticks": ""
           },
           "bgcolor": "#E5ECF6",
           "radialaxis": {
            "gridcolor": "white",
            "linecolor": "white",
            "ticks": ""
           }
          },
          "scene": {
           "xaxis": {
            "backgroundcolor": "#E5ECF6",
            "gridcolor": "white",
            "gridwidth": 2,
            "linecolor": "white",
            "showbackground": true,
            "ticks": "",
            "zerolinecolor": "white"
           },
           "yaxis": {
            "backgroundcolor": "#E5ECF6",
            "gridcolor": "white",
            "gridwidth": 2,
            "linecolor": "white",
            "showbackground": true,
            "ticks": "",
            "zerolinecolor": "white"
           },
           "zaxis": {
            "backgroundcolor": "#E5ECF6",
            "gridcolor": "white",
            "gridwidth": 2,
            "linecolor": "white",
            "showbackground": true,
            "ticks": "",
            "zerolinecolor": "white"
           }
          },
          "shapedefaults": {
           "line": {
            "color": "#2a3f5f"
           }
          },
          "ternary": {
           "aaxis": {
            "gridcolor": "white",
            "linecolor": "white",
            "ticks": ""
           },
           "baxis": {
            "gridcolor": "white",
            "linecolor": "white",
            "ticks": ""
           },
           "bgcolor": "#E5ECF6",
           "caxis": {
            "gridcolor": "white",
            "linecolor": "white",
            "ticks": ""
           }
          },
          "title": {
           "x": 0.05
          },
          "xaxis": {
           "automargin": true,
           "gridcolor": "white",
           "linecolor": "white",
           "ticks": "",
           "title": {
            "standoff": 15
           },
           "zerolinecolor": "white",
           "zerolinewidth": 2
          },
          "yaxis": {
           "automargin": true,
           "gridcolor": "white",
           "linecolor": "white",
           "ticks": "",
           "title": {
            "standoff": 15
           },
           "zerolinecolor": "white",
           "zerolinewidth": 2
          }
         }
        },
        "title": {
         "text": "Daily increase in Number of Confirmed Cases"
        },
        "xaxis": {
         "title": {
          "text": "Date"
         }
        },
        "yaxis": {
         "title": {
          "text": "Number of Cases"
         }
        }
       }
      }
     },
     "metadata": {},
     "output_type": "display_data"
    }
   ],
   "source": [
    "fig=go.Figure()\n",
    "fig.add_trace(go.Scatter(x=datewise_china.index, y=(datewise_china[\"Confirmed\"]).diff().fillna(0),\n",
    "                    mode='lines',name=\"China\"))\n",
    "fig.add_trace(go.Scatter(x=datewise_Italy.index, y=(datewise_Italy[\"Confirmed\"]).diff().fillna(0),\n",
    "                    mode='lines',name=\"Italy\"))\n",
    "fig.add_trace(go.Scatter(x=datewise_US.index, y=(datewise_US[\"Confirmed\"]).diff().fillna(0),\n",
    "                    mode='lines',name=\"United States\"))\n",
    "fig.add_trace(go.Scatter(x=datewise_Spain.index, y=(datewise_Spain[\"Confirmed\"]).diff().fillna(0),\n",
    "                    mode='lines',name=\"Spain\"))\n",
    "fig.add_trace(go.Scatter(x=datewise_Brazil.index, y=(datewise_Brazil[\"Confirmed\"]).diff().fillna(0),\n",
    "                    mode='lines',name=\"Brazil\"))\n",
    "fig.add_trace(go.Scatter(x=datewise_restofworld.index, y=(datewise_restofworld[\"Confirmed\"]).diff().fillna(0),\n",
    "                    mode='lines',name=\"Rest of the World\"))\n",
    "fig.update_layout(title=\"Daily increase in Number of Confirmed Cases\",\n",
    "                  xaxis_title=\"Date\",yaxis_title=\"Number of Cases\",\n",
    "                 legend=dict(x=0,y=1,traceorder=\"normal\"))\n",
    "fig.show()"
   ]
  },
  {
   "cell_type": "markdown",
   "metadata": {},
   "source": [
    "Prediction using Machine Learning Models"
   ]
  },
  {
   "cell_type": "markdown",
   "metadata": {},
   "source": [
    "Linear Regression Model for Confirm Cases Prediction"
   ]
  },
  {
   "cell_type": "code",
   "execution_count": 20,
   "metadata": {},
   "outputs": [],
   "source": [
    "datewise[\"Days Since\"]=datewise.index-datewise.index[0]\n",
    "datewise[\"Days Since\"]=datewise[\"Days Since\"].dt.days"
   ]
  },
  {
   "cell_type": "code",
   "execution_count": 21,
   "metadata": {},
   "outputs": [],
   "source": [
    "train_ml=datewise.iloc[:int(datewise.shape[0]*0.95)]\n",
    "valid_ml=datewise.iloc[int(datewise.shape[0]*0.95):]\n",
    "model_scores=[]"
   ]
  },
  {
   "cell_type": "code",
   "execution_count": 22,
   "metadata": {},
   "outputs": [],
   "source": [
    "lin_reg=LinearRegression()"
   ]
  },
  {
   "cell_type": "code",
   "execution_count": 23,
   "metadata": {},
   "outputs": [
    {
     "data": {
      "text/html": [
       "<style>#sk-container-id-1 {color: black;}#sk-container-id-1 pre{padding: 0;}#sk-container-id-1 div.sk-toggleable {background-color: white;}#sk-container-id-1 label.sk-toggleable__label {cursor: pointer;display: block;width: 100%;margin-bottom: 0;padding: 0.3em;box-sizing: border-box;text-align: center;}#sk-container-id-1 label.sk-toggleable__label-arrow:before {content: \"▸\";float: left;margin-right: 0.25em;color: #696969;}#sk-container-id-1 label.sk-toggleable__label-arrow:hover:before {color: black;}#sk-container-id-1 div.sk-estimator:hover label.sk-toggleable__label-arrow:before {color: black;}#sk-container-id-1 div.sk-toggleable__content {max-height: 0;max-width: 0;overflow: hidden;text-align: left;background-color: #f0f8ff;}#sk-container-id-1 div.sk-toggleable__content pre {margin: 0.2em;color: black;border-radius: 0.25em;background-color: #f0f8ff;}#sk-container-id-1 input.sk-toggleable__control:checked~div.sk-toggleable__content {max-height: 200px;max-width: 100%;overflow: auto;}#sk-container-id-1 input.sk-toggleable__control:checked~label.sk-toggleable__label-arrow:before {content: \"▾\";}#sk-container-id-1 div.sk-estimator input.sk-toggleable__control:checked~label.sk-toggleable__label {background-color: #d4ebff;}#sk-container-id-1 div.sk-label input.sk-toggleable__control:checked~label.sk-toggleable__label {background-color: #d4ebff;}#sk-container-id-1 input.sk-hidden--visually {border: 0;clip: rect(1px 1px 1px 1px);clip: rect(1px, 1px, 1px, 1px);height: 1px;margin: -1px;overflow: hidden;padding: 0;position: absolute;width: 1px;}#sk-container-id-1 div.sk-estimator {font-family: monospace;background-color: #f0f8ff;border: 1px dotted black;border-radius: 0.25em;box-sizing: border-box;margin-bottom: 0.5em;}#sk-container-id-1 div.sk-estimator:hover {background-color: #d4ebff;}#sk-container-id-1 div.sk-parallel-item::after {content: \"\";width: 100%;border-bottom: 1px solid gray;flex-grow: 1;}#sk-container-id-1 div.sk-label:hover label.sk-toggleable__label {background-color: #d4ebff;}#sk-container-id-1 div.sk-serial::before {content: \"\";position: absolute;border-left: 1px solid gray;box-sizing: border-box;top: 0;bottom: 0;left: 50%;z-index: 0;}#sk-container-id-1 div.sk-serial {display: flex;flex-direction: column;align-items: center;background-color: white;padding-right: 0.2em;padding-left: 0.2em;position: relative;}#sk-container-id-1 div.sk-item {position: relative;z-index: 1;}#sk-container-id-1 div.sk-parallel {display: flex;align-items: stretch;justify-content: center;background-color: white;position: relative;}#sk-container-id-1 div.sk-item::before, #sk-container-id-1 div.sk-parallel-item::before {content: \"\";position: absolute;border-left: 1px solid gray;box-sizing: border-box;top: 0;bottom: 0;left: 50%;z-index: -1;}#sk-container-id-1 div.sk-parallel-item {display: flex;flex-direction: column;z-index: 1;position: relative;background-color: white;}#sk-container-id-1 div.sk-parallel-item:first-child::after {align-self: flex-end;width: 50%;}#sk-container-id-1 div.sk-parallel-item:last-child::after {align-self: flex-start;width: 50%;}#sk-container-id-1 div.sk-parallel-item:only-child::after {width: 0;}#sk-container-id-1 div.sk-dashed-wrapped {border: 1px dashed gray;margin: 0 0.4em 0.5em 0.4em;box-sizing: border-box;padding-bottom: 0.4em;background-color: white;}#sk-container-id-1 div.sk-label label {font-family: monospace;font-weight: bold;display: inline-block;line-height: 1.2em;}#sk-container-id-1 div.sk-label-container {text-align: center;}#sk-container-id-1 div.sk-container {/* jupyter's `normalize.less` sets `[hidden] { display: none; }` but bootstrap.min.css set `[hidden] { display: none !important; }` so we also need the `!important` here to be able to override the default hidden behavior on the sphinx rendered scikit-learn.org. See: https://github.com/scikit-learn/scikit-learn/issues/21755 */display: inline-block !important;position: relative;}#sk-container-id-1 div.sk-text-repr-fallback {display: none;}</style><div id=\"sk-container-id-1\" class=\"sk-top-container\"><div class=\"sk-text-repr-fallback\"><pre>LinearRegression()</pre><b>In a Jupyter environment, please rerun this cell to show the HTML representation or trust the notebook. <br />On GitHub, the HTML representation is unable to render, please try loading this page with nbviewer.org.</b></div><div class=\"sk-container\" hidden><div class=\"sk-item\"><div class=\"sk-estimator sk-toggleable\"><input class=\"sk-toggleable__control sk-hidden--visually\" id=\"sk-estimator-id-1\" type=\"checkbox\" checked><label for=\"sk-estimator-id-1\" class=\"sk-toggleable__label sk-toggleable__label-arrow\">LinearRegression</label><div class=\"sk-toggleable__content\"><pre>LinearRegression()</pre></div></div></div></div></div>"
      ],
      "text/plain": [
       "LinearRegression()"
      ]
     },
     "execution_count": 23,
     "metadata": {},
     "output_type": "execute_result"
    }
   ],
   "source": [
    "lin_reg.fit(np.array(train_ml[\"Days Since\"]).reshape(-1,1),np.array(train_ml[\"Confirmed\"]).reshape(-1,1))"
   ]
  },
  {
   "cell_type": "markdown",
   "metadata": {},
   "source": [
    "LinearRegression(copy_X=True, fit_intercept=True, n_jobs=None, normalize=True)"
   ]
  },
  {
   "cell_type": "code",
   "execution_count": 24,
   "metadata": {},
   "outputs": [],
   "source": [
    "prediction_valid_linreg=lin_reg.predict(np.array(valid_ml[\"Days Since\"]).reshape(-1,1))"
   ]
  },
  {
   "cell_type": "code",
   "execution_count": 25,
   "metadata": {},
   "outputs": [
    {
     "name": "stdout",
     "output_type": "stream",
     "text": [
      "Root Mean Square Error for Linear Regression:  6783550.068817438\n"
     ]
    }
   ],
   "source": [
    "model_scores.append(np.sqrt(mean_squared_error(valid_ml[\"Confirmed\"],prediction_valid_linreg)))\n",
    "print(\"Root Mean Square Error for Linear Regression: \",np.sqrt(mean_squared_error(valid_ml[\"Confirmed\"],prediction_valid_linreg)))"
   ]
  },
  {
   "cell_type": "code",
   "execution_count": 26,
   "metadata": {},
   "outputs": [
    {
     "data": {
      "application/vnd.plotly.v1+json": {
       "config": {
        "plotlyServerURL": "https://plot.ly"
       },
       "data": [
        {
         "mode": "lines+markers",
         "name": "Train Data for Confirmed Cases",
         "type": "scatter",
         "x": [
          "2020-01-22T00:00:00",
          "2020-01-23T00:00:00",
          "2020-01-24T00:00:00",
          "2020-01-25T00:00:00",
          "2020-01-26T00:00:00",
          "2020-01-27T00:00:00",
          "2020-01-28T00:00:00",
          "2020-01-29T00:00:00",
          "2020-01-30T00:00:00",
          "2020-01-31T00:00:00",
          "2020-02-01T00:00:00",
          "2020-02-02T00:00:00",
          "2020-02-03T00:00:00",
          "2020-02-04T00:00:00",
          "2020-02-05T00:00:00",
          "2020-02-06T00:00:00",
          "2020-02-07T00:00:00",
          "2020-02-08T00:00:00",
          "2020-02-09T00:00:00",
          "2020-02-10T00:00:00",
          "2020-02-11T00:00:00",
          "2020-02-12T00:00:00",
          "2020-02-13T00:00:00",
          "2020-02-14T00:00:00",
          "2020-02-15T00:00:00",
          "2020-02-16T00:00:00",
          "2020-02-17T00:00:00",
          "2020-02-18T00:00:00",
          "2020-02-19T00:00:00",
          "2020-02-20T00:00:00",
          "2020-02-21T00:00:00",
          "2020-02-22T00:00:00",
          "2020-02-23T00:00:00",
          "2020-02-24T00:00:00",
          "2020-02-25T00:00:00",
          "2020-02-26T00:00:00",
          "2020-02-27T00:00:00",
          "2020-02-28T00:00:00",
          "2020-02-29T00:00:00",
          "2020-03-01T00:00:00",
          "2020-03-02T00:00:00",
          "2020-03-03T00:00:00",
          "2020-03-04T00:00:00",
          "2020-03-05T00:00:00",
          "2020-03-06T00:00:00",
          "2020-03-07T00:00:00",
          "2020-03-08T00:00:00",
          "2020-03-09T00:00:00",
          "2020-03-10T00:00:00",
          "2020-03-11T00:00:00",
          "2020-03-12T00:00:00",
          "2020-03-13T00:00:00",
          "2020-03-14T00:00:00",
          "2020-03-15T00:00:00",
          "2020-03-16T00:00:00",
          "2020-03-17T00:00:00",
          "2020-03-18T00:00:00",
          "2020-03-19T00:00:00",
          "2020-03-20T00:00:00",
          "2020-03-21T00:00:00",
          "2020-03-22T00:00:00",
          "2020-03-23T00:00:00",
          "2020-03-24T00:00:00",
          "2020-03-25T00:00:00",
          "2020-03-26T00:00:00",
          "2020-03-27T00:00:00",
          "2020-03-28T00:00:00",
          "2020-03-29T00:00:00",
          "2020-03-30T00:00:00",
          "2020-03-31T00:00:00",
          "2020-04-01T00:00:00",
          "2020-04-02T00:00:00",
          "2020-04-03T00:00:00",
          "2020-04-04T00:00:00",
          "2020-04-05T00:00:00",
          "2020-04-06T00:00:00",
          "2020-04-07T00:00:00",
          "2020-04-08T00:00:00",
          "2020-04-09T00:00:00",
          "2020-04-10T00:00:00",
          "2020-04-11T00:00:00",
          "2020-04-12T00:00:00",
          "2020-04-13T00:00:00",
          "2020-04-14T00:00:00",
          "2020-04-15T00:00:00",
          "2020-04-16T00:00:00",
          "2020-04-17T00:00:00",
          "2020-04-18T00:00:00",
          "2020-04-19T00:00:00",
          "2020-04-20T00:00:00",
          "2020-04-21T00:00:00",
          "2020-04-22T00:00:00",
          "2020-04-23T00:00:00",
          "2020-04-24T00:00:00",
          "2020-04-25T00:00:00",
          "2020-04-26T00:00:00",
          "2020-04-27T00:00:00",
          "2020-04-28T00:00:00",
          "2020-04-29T00:00:00",
          "2020-04-30T00:00:00",
          "2020-05-01T00:00:00",
          "2020-05-02T00:00:00",
          "2020-05-03T00:00:00",
          "2020-05-04T00:00:00",
          "2020-05-05T00:00:00",
          "2020-05-06T00:00:00",
          "2020-05-07T00:00:00",
          "2020-05-08T00:00:00",
          "2020-05-09T00:00:00",
          "2020-05-10T00:00:00",
          "2020-05-11T00:00:00",
          "2020-05-12T00:00:00",
          "2020-05-13T00:00:00",
          "2020-05-14T00:00:00",
          "2020-05-15T00:00:00",
          "2020-05-16T00:00:00",
          "2020-05-17T00:00:00",
          "2020-05-18T00:00:00",
          "2020-05-19T00:00:00",
          "2020-05-20T00:00:00",
          "2020-05-21T00:00:00",
          "2020-05-22T00:00:00",
          "2020-05-23T00:00:00",
          "2020-05-24T00:00:00",
          "2020-05-25T00:00:00",
          "2020-05-26T00:00:00",
          "2020-05-27T00:00:00",
          "2020-05-28T00:00:00",
          "2020-05-29T00:00:00",
          "2020-05-30T00:00:00",
          "2020-05-31T00:00:00",
          "2020-06-01T00:00:00",
          "2020-06-02T00:00:00",
          "2020-06-03T00:00:00",
          "2020-06-04T00:00:00",
          "2020-06-05T00:00:00",
          "2020-06-06T00:00:00",
          "2020-06-07T00:00:00",
          "2020-06-08T00:00:00",
          "2020-06-09T00:00:00",
          "2020-06-10T00:00:00",
          "2020-06-11T00:00:00",
          "2020-06-12T00:00:00",
          "2020-06-13T00:00:00",
          "2020-06-14T00:00:00",
          "2020-06-15T00:00:00",
          "2020-06-16T00:00:00",
          "2020-06-17T00:00:00",
          "2020-06-18T00:00:00",
          "2020-06-19T00:00:00",
          "2020-06-20T00:00:00",
          "2020-06-21T00:00:00",
          "2020-06-22T00:00:00",
          "2020-06-23T00:00:00",
          "2020-06-24T00:00:00",
          "2020-06-25T00:00:00",
          "2020-06-26T00:00:00",
          "2020-06-27T00:00:00",
          "2020-06-28T00:00:00",
          "2020-06-29T00:00:00",
          "2020-06-30T00:00:00",
          "2020-07-01T00:00:00",
          "2020-07-02T00:00:00",
          "2020-07-03T00:00:00",
          "2020-07-04T00:00:00",
          "2020-07-05T00:00:00",
          "2020-07-06T00:00:00",
          "2020-07-07T00:00:00",
          "2020-07-08T00:00:00",
          "2020-07-09T00:00:00",
          "2020-07-10T00:00:00",
          "2020-07-11T00:00:00",
          "2020-07-12T00:00:00",
          "2020-07-13T00:00:00",
          "2020-07-14T00:00:00",
          "2020-07-15T00:00:00",
          "2020-07-16T00:00:00",
          "2020-07-17T00:00:00",
          "2020-07-18T00:00:00",
          "2020-07-19T00:00:00",
          "2020-07-20T00:00:00",
          "2020-07-21T00:00:00",
          "2020-07-22T00:00:00",
          "2020-07-23T00:00:00",
          "2020-07-24T00:00:00",
          "2020-07-25T00:00:00",
          "2020-07-26T00:00:00",
          "2020-07-27T00:00:00",
          "2020-07-28T00:00:00",
          "2020-07-29T00:00:00",
          "2020-07-30T00:00:00",
          "2020-07-31T00:00:00",
          "2020-08-01T00:00:00",
          "2020-08-02T00:00:00",
          "2020-08-03T00:00:00",
          "2020-08-04T00:00:00",
          "2020-08-05T00:00:00",
          "2020-08-06T00:00:00",
          "2020-08-07T00:00:00",
          "2020-08-08T00:00:00",
          "2020-08-09T00:00:00",
          "2020-08-10T00:00:00",
          "2020-08-11T00:00:00",
          "2020-08-12T00:00:00",
          "2020-08-13T00:00:00",
          "2020-08-14T00:00:00",
          "2020-08-15T00:00:00",
          "2020-08-16T00:00:00",
          "2020-08-17T00:00:00",
          "2020-08-18T00:00:00",
          "2020-08-19T00:00:00",
          "2020-08-20T00:00:00",
          "2020-08-21T00:00:00",
          "2020-08-22T00:00:00",
          "2020-08-23T00:00:00",
          "2020-08-24T00:00:00",
          "2020-08-25T00:00:00",
          "2020-08-26T00:00:00",
          "2020-08-27T00:00:00",
          "2020-08-28T00:00:00",
          "2020-08-29T00:00:00"
         ],
         "y": [
          555,
          653,
          941,
          1438,
          2118,
          2927,
          5578,
          6165,
          8235,
          9925,
          12038,
          16787,
          19881,
          23892,
          27636,
          30818,
          34392,
          37121,
          40151,
          42763,
          44803,
          45222,
          60370,
          66887,
          69032,
          71226,
          73260,
          75138,
          75641,
          76199,
          76843,
          78599,
          78985,
          79570,
          80415,
          81397,
          82756,
          84124,
          86013,
          88371,
          90309,
          92844,
          95124,
          97886,
          101800,
          105836,
          109835,
          113582,
          118582,
          125865,
          128343,
          145193,
          156099,
          167447,
          181546,
          197168,
          214915,
          242713,
          272167,
          304549,
          337122,
          378283,
          417962,
          467594,
          529591,
          593291,
          660693,
          720140,
          782389,
          857487,
          932605,
          1013303,
          1095917,
          1197408,
          1272115,
          1345101,
          1426096,
          1511104,
          1595350,
          1691719,
          1771514,
          1846680,
          1917320,
          1976192,
          2056055,
          2152647,
          2240191,
          2317759,
          2401379,
          2472259,
          2549123,
          2623960,
          2708885,
          2810715,
          2896746,
          2971475,
          3041657,
          3116398,
          3193886,
          3256846,
          3343777,
          3427343,
          3506729,
          3583055,
          3662691,
          3755341,
          3845718,
          3938064,
          4024009,
          4101699,
          4177504,
          4261955,
          4347018,
          4442163,
          4542347,
          4634068,
          4713620,
          4801943,
          4897492,
          4996472,
          5102424,
          5210817,
          5310362,
          5407613,
          5495061,
          5589626,
          5691790,
          5808946,
          5924275,
          6059017,
          6166946,
          6265852,
          6386364,
          6508635,
          6632985,
          6770170,
          6896917,
          7010582,
          7119002,
          7242313,
          7360239,
          7514481,
          7632802,
          7766952,
          7900924,
          8034504,
          8173940,
          8349950,
          8488977,
          8668523,
          8791804,
          8955536,
          9098641,
          9263466,
          9430516,
          9609829,
          9801572,
          9979535,
          10145791,
          10302151,
          10475838,
          10692551,
          10869739,
          11074878,
          11267309,
          11449707,
          11620096,
          11829602,
          12041480,
          12268518,
          12498467,
          12717908,
          12910357,
          13104391,
          13324057,
          13554477,
          13805296,
          14055299,
          14292922,
          14507491,
          14707960,
          14947428,
          15229740,
          15511157,
          15792390,
          16046986,
          16252541,
          16487669,
          16691527,
          17029155,
          17309805,
          17599836,
          17850479,
          18079516,
          18282208,
          18540789,
          18811953,
          19097149,
          19378036,
          19637506,
          19861683,
          20089624,
          20343589,
          20630768,
          20905995,
          21209004,
          21459699,
          21672186,
          21881858,
          22137926,
          22411300,
          22678483,
          22949234,
          23203532,
          23420418,
          23647377,
          23889150,
          24176836,
          24452629,
          24734448,
          24996456
         ]
        },
        {
         "line": {
          "color": "black",
          "dash": "dot"
         },
         "mode": "lines",
         "name": "Linear Regression Best Fit Line",
         "type": "scatter",
         "x": [
          "2020-01-22T00:00:00",
          "2020-01-23T00:00:00",
          "2020-01-24T00:00:00",
          "2020-01-25T00:00:00",
          "2020-01-26T00:00:00",
          "2020-01-27T00:00:00",
          "2020-01-28T00:00:00",
          "2020-01-29T00:00:00",
          "2020-01-30T00:00:00",
          "2020-01-31T00:00:00",
          "2020-02-01T00:00:00",
          "2020-02-02T00:00:00",
          "2020-02-03T00:00:00",
          "2020-02-04T00:00:00",
          "2020-02-05T00:00:00",
          "2020-02-06T00:00:00",
          "2020-02-07T00:00:00",
          "2020-02-08T00:00:00",
          "2020-02-09T00:00:00",
          "2020-02-10T00:00:00",
          "2020-02-11T00:00:00",
          "2020-02-12T00:00:00",
          "2020-02-13T00:00:00",
          "2020-02-14T00:00:00",
          "2020-02-15T00:00:00",
          "2020-02-16T00:00:00",
          "2020-02-17T00:00:00",
          "2020-02-18T00:00:00",
          "2020-02-19T00:00:00",
          "2020-02-20T00:00:00",
          "2020-02-21T00:00:00",
          "2020-02-22T00:00:00",
          "2020-02-23T00:00:00",
          "2020-02-24T00:00:00",
          "2020-02-25T00:00:00",
          "2020-02-26T00:00:00",
          "2020-02-27T00:00:00",
          "2020-02-28T00:00:00",
          "2020-02-29T00:00:00",
          "2020-03-01T00:00:00",
          "2020-03-02T00:00:00",
          "2020-03-03T00:00:00",
          "2020-03-04T00:00:00",
          "2020-03-05T00:00:00",
          "2020-03-06T00:00:00",
          "2020-03-07T00:00:00",
          "2020-03-08T00:00:00",
          "2020-03-09T00:00:00",
          "2020-03-10T00:00:00",
          "2020-03-11T00:00:00",
          "2020-03-12T00:00:00",
          "2020-03-13T00:00:00",
          "2020-03-14T00:00:00",
          "2020-03-15T00:00:00",
          "2020-03-16T00:00:00",
          "2020-03-17T00:00:00",
          "2020-03-18T00:00:00",
          "2020-03-19T00:00:00",
          "2020-03-20T00:00:00",
          "2020-03-21T00:00:00",
          "2020-03-22T00:00:00",
          "2020-03-23T00:00:00",
          "2020-03-24T00:00:00",
          "2020-03-25T00:00:00",
          "2020-03-26T00:00:00",
          "2020-03-27T00:00:00",
          "2020-03-28T00:00:00",
          "2020-03-29T00:00:00",
          "2020-03-30T00:00:00",
          "2020-03-31T00:00:00",
          "2020-04-01T00:00:00",
          "2020-04-02T00:00:00",
          "2020-04-03T00:00:00",
          "2020-04-04T00:00:00",
          "2020-04-05T00:00:00",
          "2020-04-06T00:00:00",
          "2020-04-07T00:00:00",
          "2020-04-08T00:00:00",
          "2020-04-09T00:00:00",
          "2020-04-10T00:00:00",
          "2020-04-11T00:00:00",
          "2020-04-12T00:00:00",
          "2020-04-13T00:00:00",
          "2020-04-14T00:00:00",
          "2020-04-15T00:00:00",
          "2020-04-16T00:00:00",
          "2020-04-17T00:00:00",
          "2020-04-18T00:00:00",
          "2020-04-19T00:00:00",
          "2020-04-20T00:00:00",
          "2020-04-21T00:00:00",
          "2020-04-22T00:00:00",
          "2020-04-23T00:00:00",
          "2020-04-24T00:00:00",
          "2020-04-25T00:00:00",
          "2020-04-26T00:00:00",
          "2020-04-27T00:00:00",
          "2020-04-28T00:00:00",
          "2020-04-29T00:00:00",
          "2020-04-30T00:00:00",
          "2020-05-01T00:00:00",
          "2020-05-02T00:00:00",
          "2020-05-03T00:00:00",
          "2020-05-04T00:00:00",
          "2020-05-05T00:00:00",
          "2020-05-06T00:00:00",
          "2020-05-07T00:00:00",
          "2020-05-08T00:00:00",
          "2020-05-09T00:00:00",
          "2020-05-10T00:00:00",
          "2020-05-11T00:00:00",
          "2020-05-12T00:00:00",
          "2020-05-13T00:00:00",
          "2020-05-14T00:00:00",
          "2020-05-15T00:00:00",
          "2020-05-16T00:00:00",
          "2020-05-17T00:00:00",
          "2020-05-18T00:00:00",
          "2020-05-19T00:00:00",
          "2020-05-20T00:00:00",
          "2020-05-21T00:00:00",
          "2020-05-22T00:00:00",
          "2020-05-23T00:00:00",
          "2020-05-24T00:00:00",
          "2020-05-25T00:00:00",
          "2020-05-26T00:00:00",
          "2020-05-27T00:00:00",
          "2020-05-28T00:00:00",
          "2020-05-29T00:00:00",
          "2020-05-30T00:00:00",
          "2020-05-31T00:00:00",
          "2020-06-01T00:00:00",
          "2020-06-02T00:00:00",
          "2020-06-03T00:00:00",
          "2020-06-04T00:00:00",
          "2020-06-05T00:00:00",
          "2020-06-06T00:00:00",
          "2020-06-07T00:00:00",
          "2020-06-08T00:00:00",
          "2020-06-09T00:00:00",
          "2020-06-10T00:00:00",
          "2020-06-11T00:00:00",
          "2020-06-12T00:00:00",
          "2020-06-13T00:00:00",
          "2020-06-14T00:00:00",
          "2020-06-15T00:00:00",
          "2020-06-16T00:00:00",
          "2020-06-17T00:00:00",
          "2020-06-18T00:00:00",
          "2020-06-19T00:00:00",
          "2020-06-20T00:00:00",
          "2020-06-21T00:00:00",
          "2020-06-22T00:00:00",
          "2020-06-23T00:00:00",
          "2020-06-24T00:00:00",
          "2020-06-25T00:00:00",
          "2020-06-26T00:00:00",
          "2020-06-27T00:00:00",
          "2020-06-28T00:00:00",
          "2020-06-29T00:00:00",
          "2020-06-30T00:00:00",
          "2020-07-01T00:00:00",
          "2020-07-02T00:00:00",
          "2020-07-03T00:00:00",
          "2020-07-04T00:00:00",
          "2020-07-05T00:00:00",
          "2020-07-06T00:00:00",
          "2020-07-07T00:00:00",
          "2020-07-08T00:00:00",
          "2020-07-09T00:00:00",
          "2020-07-10T00:00:00",
          "2020-07-11T00:00:00",
          "2020-07-12T00:00:00",
          "2020-07-13T00:00:00",
          "2020-07-14T00:00:00",
          "2020-07-15T00:00:00",
          "2020-07-16T00:00:00",
          "2020-07-17T00:00:00",
          "2020-07-18T00:00:00",
          "2020-07-19T00:00:00",
          "2020-07-20T00:00:00",
          "2020-07-21T00:00:00",
          "2020-07-22T00:00:00",
          "2020-07-23T00:00:00",
          "2020-07-24T00:00:00",
          "2020-07-25T00:00:00",
          "2020-07-26T00:00:00",
          "2020-07-27T00:00:00",
          "2020-07-28T00:00:00",
          "2020-07-29T00:00:00",
          "2020-07-30T00:00:00",
          "2020-07-31T00:00:00",
          "2020-08-01T00:00:00",
          "2020-08-02T00:00:00",
          "2020-08-03T00:00:00",
          "2020-08-04T00:00:00",
          "2020-08-05T00:00:00",
          "2020-08-06T00:00:00",
          "2020-08-07T00:00:00",
          "2020-08-08T00:00:00",
          "2020-08-09T00:00:00",
          "2020-08-10T00:00:00",
          "2020-08-11T00:00:00",
          "2020-08-12T00:00:00",
          "2020-08-13T00:00:00",
          "2020-08-14T00:00:00",
          "2020-08-15T00:00:00",
          "2020-08-16T00:00:00",
          "2020-08-17T00:00:00",
          "2020-08-18T00:00:00",
          "2020-08-19T00:00:00",
          "2020-08-20T00:00:00",
          "2020-08-21T00:00:00",
          "2020-08-22T00:00:00",
          "2020-08-23T00:00:00",
          "2020-08-24T00:00:00",
          "2020-08-25T00:00:00",
          "2020-08-26T00:00:00",
          "2020-08-27T00:00:00",
          "2020-08-28T00:00:00",
          "2020-08-29T00:00:00"
         ],
         "y": [
          -4341736.10362269,
          -4243189.824286236,
          -4144643.544949784,
          -4046097.265613331,
          -3947550.986276878,
          -3849004.706940425,
          -3750458.427603972,
          -3651912.1482675187,
          -3553365.8689310662,
          -3454819.589594613,
          -3356273.3102581603,
          -3257727.030921707,
          -3159180.751585254,
          -3060634.472248801,
          -2962088.192912348,
          -2863541.913575895,
          -2764995.634239442,
          -2666449.354902989,
          -2567903.0755665363,
          -2469356.7962300833,
          -2370810.5168936304,
          -2272264.2375571774,
          -2173717.9582207245,
          -2075171.6788842715,
          -1976625.3995478181,
          -1878079.1202113652,
          -1779532.8408749122,
          -1680986.5615384593,
          -1582440.2822020063,
          -1483894.0028655534,
          -1385347.7235291004,
          -1286801.4441926475,
          -1188255.1648561945,
          -1089708.8855197416,
          -991162.6061832886,
          -892616.3268468357,
          -794070.0475103827,
          -695523.7681739298,
          -596977.4888374768,
          -498431.20950102387,
          -399884.9301645709,
          -301338.6508281175,
          -202792.37149166455,
          -104246.0921552116,
          -5699.812818759121,
          92846.4665176943,
          191392.74585414678,
          289939.0251906002,
          388485.3045270536,
          487031.5838635061,
          585577.8631999595,
          684124.142536412,
          782670.4218728654,
          881216.7012093179,
          979762.9805457713,
          1078309.2598822238,
          1176855.5392186772,
          1275401.8185551297,
          1373948.097891583,
          1472494.3772280356,
          1571040.656564489,
          1669586.9359009415,
          1768133.215237395,
          1866679.4945738474,
          1965225.7739103008,
          2063772.0532467542,
          2162318.3325832067,
          2260864.61191966,
          2359410.8912561126,
          2457957.170592566,
          2556503.4499290185,
          2655049.729265472,
          2753596.0086019244,
          2852142.287938378,
          2950688.5672748303,
          3049234.8466112837,
          3147781.125947736,
          3246327.4052841896,
          3344873.684620642,
          3443419.9639570955,
          3541966.243293548,
          3640512.5226300014,
          3739058.801966455,
          3837605.0813029073,
          3936151.3606393607,
          4034697.639975813,
          4133243.9193122666,
          4231790.198648719,
          4330336.477985172,
          4428882.757321626,
          4527429.036658078,
          4625975.315994531,
          4724521.595330983,
          4823067.874667438,
          4921614.15400389,
          5020160.433340343,
          5118706.712676797,
          5217252.99201325,
          5315799.271349702,
          5414345.5506861545,
          5512891.830022609,
          5611438.109359061,
          5709984.388695514,
          5808530.668031966,
          5907076.947368421,
          6005623.226704873,
          6104169.506041326,
          6202715.785377778,
          6301262.064714232,
          6399808.344050685,
          6498354.623387137,
          6596900.90272359,
          6695447.182060044,
          6793993.461396497,
          6892539.740732949,
          6991086.020069404,
          7089632.299405856,
          7188178.578742309,
          7286724.858078761,
          7385271.137415215,
          7483817.416751668,
          7582363.69608812,
          7680909.975424573,
          7779456.254761027,
          7878002.53409748,
          7976548.813433932,
          8075095.092770385,
          8173641.372106839,
          8272187.651443291,
          8370733.930779744,
          8469280.210116198,
          8567826.48945265,
          8666372.768789103,
          8764919.048125556,
          8863465.32746201,
          8962011.606798463,
          9060557.886134915,
          9159104.165471368,
          9257650.444807822,
          9356196.724144274,
          9454743.003480727,
          9553289.28281718,
          9651835.562153634,
          9750381.841490086,
          9848928.120826539,
          9947474.400162993,
          10046020.679499445,
          10144566.958835898,
          10243113.23817235,
          10341659.517508805,
          10440205.796845257,
          10538752.07618171,
          10637298.355518162,
          10735844.634854617,
          10834390.91419107,
          10932937.193527522,
          11031483.472863974,
          11130029.752200428,
          11228576.03153688,
          11327122.310873333,
          11425668.590209786,
          11524214.86954624,
          11622761.148882693,
          11721307.428219145,
          11819853.7075556,
          11918399.986892052,
          12016946.266228504,
          12115492.545564957,
          12214038.824901411,
          12312585.104237864,
          12411131.383574316,
          12509677.66291077,
          12608223.942247223,
          12706770.221583676,
          12805316.500920128,
          12903862.78025658,
          13002409.059593033,
          13100955.33892949,
          13199501.618265942,
          13298047.897602394,
          13396594.176938847,
          13495140.4562753,
          13593686.735611752,
          13692233.014948204,
          13790779.294284657,
          13889325.573621113,
          13987871.852957565,
          14086418.132294018,
          14184964.41163047,
          14283510.690966923,
          14382056.970303375,
          14480603.249639828,
          14579149.528976284,
          14677695.808312736,
          14776242.087649189,
          14874788.366985641,
          14973334.646322094,
          15071880.925658546,
          15170427.204994999,
          15268973.484331451,
          15367519.763667908,
          15466066.04300436,
          15564612.322340813,
          15663158.601677265,
          15761704.881013718,
          15860251.16035017,
          15958797.439686622,
          16057343.719023075,
          16155889.998359531,
          16254436.277695984,
          16352982.557032436,
          16451528.836368889,
          16550075.115705341,
          16648621.395041794,
          16747167.674378246,
          16845713.953714702,
          16944260.233051155,
          17042806.512387607,
          17141352.79172406,
          17239899.071060512,
          17338445.350396965
         ]
        }
       ],
       "layout": {
        "legend": {
         "traceorder": "normal",
         "x": 0,
         "y": 1
        },
        "template": {
         "data": {
          "bar": [
           {
            "error_x": {
             "color": "#2a3f5f"
            },
            "error_y": {
             "color": "#2a3f5f"
            },
            "marker": {
             "line": {
              "color": "#E5ECF6",
              "width": 0.5
             },
             "pattern": {
              "fillmode": "overlay",
              "size": 10,
              "solidity": 0.2
             }
            },
            "type": "bar"
           }
          ],
          "barpolar": [
           {
            "marker": {
             "line": {
              "color": "#E5ECF6",
              "width": 0.5
             },
             "pattern": {
              "fillmode": "overlay",
              "size": 10,
              "solidity": 0.2
             }
            },
            "type": "barpolar"
           }
          ],
          "carpet": [
           {
            "aaxis": {
             "endlinecolor": "#2a3f5f",
             "gridcolor": "white",
             "linecolor": "white",
             "minorgridcolor": "white",
             "startlinecolor": "#2a3f5f"
            },
            "baxis": {
             "endlinecolor": "#2a3f5f",
             "gridcolor": "white",
             "linecolor": "white",
             "minorgridcolor": "white",
             "startlinecolor": "#2a3f5f"
            },
            "type": "carpet"
           }
          ],
          "choropleth": [
           {
            "colorbar": {
             "outlinewidth": 0,
             "ticks": ""
            },
            "type": "choropleth"
           }
          ],
          "contour": [
           {
            "colorbar": {
             "outlinewidth": 0,
             "ticks": ""
            },
            "colorscale": [
             [
              0,
              "#0d0887"
             ],
             [
              0.1111111111111111,
              "#46039f"
             ],
             [
              0.2222222222222222,
              "#7201a8"
             ],
             [
              0.3333333333333333,
              "#9c179e"
             ],
             [
              0.4444444444444444,
              "#bd3786"
             ],
             [
              0.5555555555555556,
              "#d8576b"
             ],
             [
              0.6666666666666666,
              "#ed7953"
             ],
             [
              0.7777777777777778,
              "#fb9f3a"
             ],
             [
              0.8888888888888888,
              "#fdca26"
             ],
             [
              1,
              "#f0f921"
             ]
            ],
            "type": "contour"
           }
          ],
          "contourcarpet": [
           {
            "colorbar": {
             "outlinewidth": 0,
             "ticks": ""
            },
            "type": "contourcarpet"
           }
          ],
          "heatmap": [
           {
            "colorbar": {
             "outlinewidth": 0,
             "ticks": ""
            },
            "colorscale": [
             [
              0,
              "#0d0887"
             ],
             [
              0.1111111111111111,
              "#46039f"
             ],
             [
              0.2222222222222222,
              "#7201a8"
             ],
             [
              0.3333333333333333,
              "#9c179e"
             ],
             [
              0.4444444444444444,
              "#bd3786"
             ],
             [
              0.5555555555555556,
              "#d8576b"
             ],
             [
              0.6666666666666666,
              "#ed7953"
             ],
             [
              0.7777777777777778,
              "#fb9f3a"
             ],
             [
              0.8888888888888888,
              "#fdca26"
             ],
             [
              1,
              "#f0f921"
             ]
            ],
            "type": "heatmap"
           }
          ],
          "heatmapgl": [
           {
            "colorbar": {
             "outlinewidth": 0,
             "ticks": ""
            },
            "colorscale": [
             [
              0,
              "#0d0887"
             ],
             [
              0.1111111111111111,
              "#46039f"
             ],
             [
              0.2222222222222222,
              "#7201a8"
             ],
             [
              0.3333333333333333,
              "#9c179e"
             ],
             [
              0.4444444444444444,
              "#bd3786"
             ],
             [
              0.5555555555555556,
              "#d8576b"
             ],
             [
              0.6666666666666666,
              "#ed7953"
             ],
             [
              0.7777777777777778,
              "#fb9f3a"
             ],
             [
              0.8888888888888888,
              "#fdca26"
             ],
             [
              1,
              "#f0f921"
             ]
            ],
            "type": "heatmapgl"
           }
          ],
          "histogram": [
           {
            "marker": {
             "pattern": {
              "fillmode": "overlay",
              "size": 10,
              "solidity": 0.2
             }
            },
            "type": "histogram"
           }
          ],
          "histogram2d": [
           {
            "colorbar": {
             "outlinewidth": 0,
             "ticks": ""
            },
            "colorscale": [
             [
              0,
              "#0d0887"
             ],
             [
              0.1111111111111111,
              "#46039f"
             ],
             [
              0.2222222222222222,
              "#7201a8"
             ],
             [
              0.3333333333333333,
              "#9c179e"
             ],
             [
              0.4444444444444444,
              "#bd3786"
             ],
             [
              0.5555555555555556,
              "#d8576b"
             ],
             [
              0.6666666666666666,
              "#ed7953"
             ],
             [
              0.7777777777777778,
              "#fb9f3a"
             ],
             [
              0.8888888888888888,
              "#fdca26"
             ],
             [
              1,
              "#f0f921"
             ]
            ],
            "type": "histogram2d"
           }
          ],
          "histogram2dcontour": [
           {
            "colorbar": {
             "outlinewidth": 0,
             "ticks": ""
            },
            "colorscale": [
             [
              0,
              "#0d0887"
             ],
             [
              0.1111111111111111,
              "#46039f"
             ],
             [
              0.2222222222222222,
              "#7201a8"
             ],
             [
              0.3333333333333333,
              "#9c179e"
             ],
             [
              0.4444444444444444,
              "#bd3786"
             ],
             [
              0.5555555555555556,
              "#d8576b"
             ],
             [
              0.6666666666666666,
              "#ed7953"
             ],
             [
              0.7777777777777778,
              "#fb9f3a"
             ],
             [
              0.8888888888888888,
              "#fdca26"
             ],
             [
              1,
              "#f0f921"
             ]
            ],
            "type": "histogram2dcontour"
           }
          ],
          "mesh3d": [
           {
            "colorbar": {
             "outlinewidth": 0,
             "ticks": ""
            },
            "type": "mesh3d"
           }
          ],
          "parcoords": [
           {
            "line": {
             "colorbar": {
              "outlinewidth": 0,
              "ticks": ""
             }
            },
            "type": "parcoords"
           }
          ],
          "pie": [
           {
            "automargin": true,
            "type": "pie"
           }
          ],
          "scatter": [
           {
            "fillpattern": {
             "fillmode": "overlay",
             "size": 10,
             "solidity": 0.2
            },
            "type": "scatter"
           }
          ],
          "scatter3d": [
           {
            "line": {
             "colorbar": {
              "outlinewidth": 0,
              "ticks": ""
             }
            },
            "marker": {
             "colorbar": {
              "outlinewidth": 0,
              "ticks": ""
             }
            },
            "type": "scatter3d"
           }
          ],
          "scattercarpet": [
           {
            "marker": {
             "colorbar": {
              "outlinewidth": 0,
              "ticks": ""
             }
            },
            "type": "scattercarpet"
           }
          ],
          "scattergeo": [
           {
            "marker": {
             "colorbar": {
              "outlinewidth": 0,
              "ticks": ""
             }
            },
            "type": "scattergeo"
           }
          ],
          "scattergl": [
           {
            "marker": {
             "colorbar": {
              "outlinewidth": 0,
              "ticks": ""
             }
            },
            "type": "scattergl"
           }
          ],
          "scattermapbox": [
           {
            "marker": {
             "colorbar": {
              "outlinewidth": 0,
              "ticks": ""
             }
            },
            "type": "scattermapbox"
           }
          ],
          "scatterpolar": [
           {
            "marker": {
             "colorbar": {
              "outlinewidth": 0,
              "ticks": ""
             }
            },
            "type": "scatterpolar"
           }
          ],
          "scatterpolargl": [
           {
            "marker": {
             "colorbar": {
              "outlinewidth": 0,
              "ticks": ""
             }
            },
            "type": "scatterpolargl"
           }
          ],
          "scatterternary": [
           {
            "marker": {
             "colorbar": {
              "outlinewidth": 0,
              "ticks": ""
             }
            },
            "type": "scatterternary"
           }
          ],
          "surface": [
           {
            "colorbar": {
             "outlinewidth": 0,
             "ticks": ""
            },
            "colorscale": [
             [
              0,
              "#0d0887"
             ],
             [
              0.1111111111111111,
              "#46039f"
             ],
             [
              0.2222222222222222,
              "#7201a8"
             ],
             [
              0.3333333333333333,
              "#9c179e"
             ],
             [
              0.4444444444444444,
              "#bd3786"
             ],
             [
              0.5555555555555556,
              "#d8576b"
             ],
             [
              0.6666666666666666,
              "#ed7953"
             ],
             [
              0.7777777777777778,
              "#fb9f3a"
             ],
             [
              0.8888888888888888,
              "#fdca26"
             ],
             [
              1,
              "#f0f921"
             ]
            ],
            "type": "surface"
           }
          ],
          "table": [
           {
            "cells": {
             "fill": {
              "color": "#EBF0F8"
             },
             "line": {
              "color": "white"
             }
            },
            "header": {
             "fill": {
              "color": "#C8D4E3"
             },
             "line": {
              "color": "white"
             }
            },
            "type": "table"
           }
          ]
         },
         "layout": {
          "annotationdefaults": {
           "arrowcolor": "#2a3f5f",
           "arrowhead": 0,
           "arrowwidth": 1
          },
          "autotypenumbers": "strict",
          "coloraxis": {
           "colorbar": {
            "outlinewidth": 0,
            "ticks": ""
           }
          },
          "colorscale": {
           "diverging": [
            [
             0,
             "#8e0152"
            ],
            [
             0.1,
             "#c51b7d"
            ],
            [
             0.2,
             "#de77ae"
            ],
            [
             0.3,
             "#f1b6da"
            ],
            [
             0.4,
             "#fde0ef"
            ],
            [
             0.5,
             "#f7f7f7"
            ],
            [
             0.6,
             "#e6f5d0"
            ],
            [
             0.7,
             "#b8e186"
            ],
            [
             0.8,
             "#7fbc41"
            ],
            [
             0.9,
             "#4d9221"
            ],
            [
             1,
             "#276419"
            ]
           ],
           "sequential": [
            [
             0,
             "#0d0887"
            ],
            [
             0.1111111111111111,
             "#46039f"
            ],
            [
             0.2222222222222222,
             "#7201a8"
            ],
            [
             0.3333333333333333,
             "#9c179e"
            ],
            [
             0.4444444444444444,
             "#bd3786"
            ],
            [
             0.5555555555555556,
             "#d8576b"
            ],
            [
             0.6666666666666666,
             "#ed7953"
            ],
            [
             0.7777777777777778,
             "#fb9f3a"
            ],
            [
             0.8888888888888888,
             "#fdca26"
            ],
            [
             1,
             "#f0f921"
            ]
           ],
           "sequentialminus": [
            [
             0,
             "#0d0887"
            ],
            [
             0.1111111111111111,
             "#46039f"
            ],
            [
             0.2222222222222222,
             "#7201a8"
            ],
            [
             0.3333333333333333,
             "#9c179e"
            ],
            [
             0.4444444444444444,
             "#bd3786"
            ],
            [
             0.5555555555555556,
             "#d8576b"
            ],
            [
             0.6666666666666666,
             "#ed7953"
            ],
            [
             0.7777777777777778,
             "#fb9f3a"
            ],
            [
             0.8888888888888888,
             "#fdca26"
            ],
            [
             1,
             "#f0f921"
            ]
           ]
          },
          "colorway": [
           "#636efa",
           "#EF553B",
           "#00cc96",
           "#ab63fa",
           "#FFA15A",
           "#19d3f3",
           "#FF6692",
           "#B6E880",
           "#FF97FF",
           "#FECB52"
          ],
          "font": {
           "color": "#2a3f5f"
          },
          "geo": {
           "bgcolor": "white",
           "lakecolor": "white",
           "landcolor": "#E5ECF6",
           "showlakes": true,
           "showland": true,
           "subunitcolor": "white"
          },
          "hoverlabel": {
           "align": "left"
          },
          "hovermode": "closest",
          "mapbox": {
           "style": "light"
          },
          "paper_bgcolor": "white",
          "plot_bgcolor": "#E5ECF6",
          "polar": {
           "angularaxis": {
            "gridcolor": "white",
            "linecolor": "white",
            "ticks": ""
           },
           "bgcolor": "#E5ECF6",
           "radialaxis": {
            "gridcolor": "white",
            "linecolor": "white",
            "ticks": ""
           }
          },
          "scene": {
           "xaxis": {
            "backgroundcolor": "#E5ECF6",
            "gridcolor": "white",
            "gridwidth": 2,
            "linecolor": "white",
            "showbackground": true,
            "ticks": "",
            "zerolinecolor": "white"
           },
           "yaxis": {
            "backgroundcolor": "#E5ECF6",
            "gridcolor": "white",
            "gridwidth": 2,
            "linecolor": "white",
            "showbackground": true,
            "ticks": "",
            "zerolinecolor": "white"
           },
           "zaxis": {
            "backgroundcolor": "#E5ECF6",
            "gridcolor": "white",
            "gridwidth": 2,
            "linecolor": "white",
            "showbackground": true,
            "ticks": "",
            "zerolinecolor": "white"
           }
          },
          "shapedefaults": {
           "line": {
            "color": "#2a3f5f"
           }
          },
          "ternary": {
           "aaxis": {
            "gridcolor": "white",
            "linecolor": "white",
            "ticks": ""
           },
           "baxis": {
            "gridcolor": "white",
            "linecolor": "white",
            "ticks": ""
           },
           "bgcolor": "#E5ECF6",
           "caxis": {
            "gridcolor": "white",
            "linecolor": "white",
            "ticks": ""
           }
          },
          "title": {
           "x": 0.05
          },
          "xaxis": {
           "automargin": true,
           "gridcolor": "white",
           "linecolor": "white",
           "ticks": "",
           "title": {
            "standoff": 15
           },
           "zerolinecolor": "white",
           "zerolinewidth": 2
          },
          "yaxis": {
           "automargin": true,
           "gridcolor": "white",
           "linecolor": "white",
           "ticks": "",
           "title": {
            "standoff": 15
           },
           "zerolinecolor": "white",
           "zerolinewidth": 2
          }
         }
        },
        "title": {
         "text": "Confirmed Cases Linear Regression Prediction"
        },
        "xaxis": {
         "title": {
          "text": "Date"
         }
        },
        "yaxis": {
         "title": {
          "text": "Confirmed Cases"
         }
        }
       }
      }
     },
     "metadata": {},
     "output_type": "display_data"
    },
    {
     "data": {
      "text/plain": [
       "<Figure size 1100x600 with 0 Axes>"
      ]
     },
     "metadata": {},
     "output_type": "display_data"
    }
   ],
   "source": [
    "plt.figure(figsize=(11,6))\n",
    "prediction_linreg=lin_reg.predict(np.array(datewise[\"Days Since\"]).reshape(-1,1))\n",
    "linreg_output=[]\n",
    "for i in range(prediction_linreg.shape[0]):\n",
    "    linreg_output.append(prediction_linreg[i][0])\n",
    "\n",
    "fig=go.Figure()\n",
    "fig.add_trace(go.Scatter(x=datewise.index, y=datewise[\"Confirmed\"],\n",
    "                    mode='lines+markers',name=\"Train Data for Confirmed Cases\"))\n",
    "fig.add_trace(go.Scatter(x=datewise.index, y=linreg_output,\n",
    "                    mode='lines',name=\"Linear Regression Best Fit Line\",\n",
    "                    line=dict(color='black', dash='dot')))\n",
    "fig.update_layout(title=\"Confirmed Cases Linear Regression Prediction\",\n",
    "                 xaxis_title=\"Date\",yaxis_title=\"Confirmed Cases\",legend=dict(x=0,y=1,traceorder=\"normal\"))\n",
    "fig.show()"
   ]
  },
  {
   "cell_type": "code",
   "execution_count": 27,
   "metadata": {},
   "outputs": [
    {
     "name": "stdout",
     "output_type": "stream",
     "text": [
      " ARIMA(0,2,0)(0,0,0)[0] intercept   : AIC=4676.828, Time=0.03 sec\n"
     ]
    },
    {
     "name": "stdout",
     "output_type": "stream",
     "text": [
      " ARIMA(0,2,1)(0,0,0)[0] intercept   : AIC=4653.802, Time=0.07 sec\n",
      " ARIMA(0,2,2)(0,0,0)[0] intercept   : AIC=4659.506, Time=0.11 sec\n",
      "\n",
      "Best model:  ARIMA(0,2,1)(0,0,0)[0] intercept\n",
      "Total fit time: 0.220 seconds\n",
      "Root Mean Square Error for MA Model:  59901.533161429696\n"
     ]
    },
    {
     "data": {
      "application/vnd.plotly.v1+json": {
       "config": {
        "plotlyServerURL": "https://plot.ly"
       },
       "data": [
        {
         "mode": "lines+markers",
         "name": "Train Data for Confirmed Cases",
         "type": "scatter",
         "x": [
          "2020-01-22T00:00:00",
          "2020-01-23T00:00:00",
          "2020-01-24T00:00:00",
          "2020-01-25T00:00:00",
          "2020-01-26T00:00:00",
          "2020-01-27T00:00:00",
          "2020-01-28T00:00:00",
          "2020-01-29T00:00:00",
          "2020-01-30T00:00:00",
          "2020-01-31T00:00:00",
          "2020-02-01T00:00:00",
          "2020-02-02T00:00:00",
          "2020-02-03T00:00:00",
          "2020-02-04T00:00:00",
          "2020-02-05T00:00:00",
          "2020-02-06T00:00:00",
          "2020-02-07T00:00:00",
          "2020-02-08T00:00:00",
          "2020-02-09T00:00:00",
          "2020-02-10T00:00:00",
          "2020-02-11T00:00:00",
          "2020-02-12T00:00:00",
          "2020-02-13T00:00:00",
          "2020-02-14T00:00:00",
          "2020-02-15T00:00:00",
          "2020-02-16T00:00:00",
          "2020-02-17T00:00:00",
          "2020-02-18T00:00:00",
          "2020-02-19T00:00:00",
          "2020-02-20T00:00:00",
          "2020-02-21T00:00:00",
          "2020-02-22T00:00:00",
          "2020-02-23T00:00:00",
          "2020-02-24T00:00:00",
          "2020-02-25T00:00:00",
          "2020-02-26T00:00:00",
          "2020-02-27T00:00:00",
          "2020-02-28T00:00:00",
          "2020-02-29T00:00:00",
          "2020-03-01T00:00:00",
          "2020-03-02T00:00:00",
          "2020-03-03T00:00:00",
          "2020-03-04T00:00:00",
          "2020-03-05T00:00:00",
          "2020-03-06T00:00:00",
          "2020-03-07T00:00:00",
          "2020-03-08T00:00:00",
          "2020-03-09T00:00:00",
          "2020-03-10T00:00:00",
          "2020-03-11T00:00:00",
          "2020-03-12T00:00:00",
          "2020-03-13T00:00:00",
          "2020-03-14T00:00:00",
          "2020-03-15T00:00:00",
          "2020-03-16T00:00:00",
          "2020-03-17T00:00:00",
          "2020-03-18T00:00:00",
          "2020-03-19T00:00:00",
          "2020-03-20T00:00:00",
          "2020-03-21T00:00:00",
          "2020-03-22T00:00:00",
          "2020-03-23T00:00:00",
          "2020-03-24T00:00:00",
          "2020-03-25T00:00:00",
          "2020-03-26T00:00:00",
          "2020-03-27T00:00:00",
          "2020-03-28T00:00:00",
          "2020-03-29T00:00:00",
          "2020-03-30T00:00:00",
          "2020-03-31T00:00:00",
          "2020-04-01T00:00:00",
          "2020-04-02T00:00:00",
          "2020-04-03T00:00:00",
          "2020-04-04T00:00:00",
          "2020-04-05T00:00:00",
          "2020-04-06T00:00:00",
          "2020-04-07T00:00:00",
          "2020-04-08T00:00:00",
          "2020-04-09T00:00:00",
          "2020-04-10T00:00:00",
          "2020-04-11T00:00:00",
          "2020-04-12T00:00:00",
          "2020-04-13T00:00:00",
          "2020-04-14T00:00:00",
          "2020-04-15T00:00:00",
          "2020-04-16T00:00:00",
          "2020-04-17T00:00:00",
          "2020-04-18T00:00:00",
          "2020-04-19T00:00:00",
          "2020-04-20T00:00:00",
          "2020-04-21T00:00:00",
          "2020-04-22T00:00:00",
          "2020-04-23T00:00:00",
          "2020-04-24T00:00:00",
          "2020-04-25T00:00:00",
          "2020-04-26T00:00:00",
          "2020-04-27T00:00:00",
          "2020-04-28T00:00:00",
          "2020-04-29T00:00:00",
          "2020-04-30T00:00:00",
          "2020-05-01T00:00:00",
          "2020-05-02T00:00:00",
          "2020-05-03T00:00:00",
          "2020-05-04T00:00:00",
          "2020-05-05T00:00:00",
          "2020-05-06T00:00:00",
          "2020-05-07T00:00:00",
          "2020-05-08T00:00:00",
          "2020-05-09T00:00:00",
          "2020-05-10T00:00:00",
          "2020-05-11T00:00:00",
          "2020-05-12T00:00:00",
          "2020-05-13T00:00:00",
          "2020-05-14T00:00:00",
          "2020-05-15T00:00:00",
          "2020-05-16T00:00:00",
          "2020-05-17T00:00:00",
          "2020-05-18T00:00:00",
          "2020-05-19T00:00:00",
          "2020-05-20T00:00:00",
          "2020-05-21T00:00:00",
          "2020-05-22T00:00:00",
          "2020-05-23T00:00:00",
          "2020-05-24T00:00:00",
          "2020-05-25T00:00:00",
          "2020-05-26T00:00:00",
          "2020-05-27T00:00:00",
          "2020-05-28T00:00:00",
          "2020-05-29T00:00:00",
          "2020-05-30T00:00:00",
          "2020-05-31T00:00:00",
          "2020-06-01T00:00:00",
          "2020-06-02T00:00:00",
          "2020-06-03T00:00:00",
          "2020-06-04T00:00:00",
          "2020-06-05T00:00:00",
          "2020-06-06T00:00:00",
          "2020-06-07T00:00:00",
          "2020-06-08T00:00:00",
          "2020-06-09T00:00:00",
          "2020-06-10T00:00:00",
          "2020-06-11T00:00:00",
          "2020-06-12T00:00:00",
          "2020-06-13T00:00:00",
          "2020-06-14T00:00:00",
          "2020-06-15T00:00:00",
          "2020-06-16T00:00:00",
          "2020-06-17T00:00:00",
          "2020-06-18T00:00:00",
          "2020-06-19T00:00:00",
          "2020-06-20T00:00:00",
          "2020-06-21T00:00:00",
          "2020-06-22T00:00:00",
          "2020-06-23T00:00:00",
          "2020-06-24T00:00:00",
          "2020-06-25T00:00:00",
          "2020-06-26T00:00:00",
          "2020-06-27T00:00:00",
          "2020-06-28T00:00:00",
          "2020-06-29T00:00:00",
          "2020-06-30T00:00:00",
          "2020-07-01T00:00:00",
          "2020-07-02T00:00:00",
          "2020-07-03T00:00:00",
          "2020-07-04T00:00:00",
          "2020-07-05T00:00:00",
          "2020-07-06T00:00:00",
          "2020-07-07T00:00:00",
          "2020-07-08T00:00:00",
          "2020-07-09T00:00:00",
          "2020-07-10T00:00:00",
          "2020-07-11T00:00:00",
          "2020-07-12T00:00:00",
          "2020-07-13T00:00:00",
          "2020-07-14T00:00:00",
          "2020-07-15T00:00:00",
          "2020-07-16T00:00:00",
          "2020-07-17T00:00:00",
          "2020-07-18T00:00:00",
          "2020-07-19T00:00:00",
          "2020-07-20T00:00:00",
          "2020-07-21T00:00:00",
          "2020-07-22T00:00:00",
          "2020-07-23T00:00:00",
          "2020-07-24T00:00:00",
          "2020-07-25T00:00:00",
          "2020-07-26T00:00:00",
          "2020-07-27T00:00:00",
          "2020-07-28T00:00:00",
          "2020-07-29T00:00:00",
          "2020-07-30T00:00:00",
          "2020-07-31T00:00:00",
          "2020-08-01T00:00:00",
          "2020-08-02T00:00:00",
          "2020-08-03T00:00:00",
          "2020-08-04T00:00:00",
          "2020-08-05T00:00:00",
          "2020-08-06T00:00:00",
          "2020-08-07T00:00:00",
          "2020-08-08T00:00:00",
          "2020-08-09T00:00:00",
          "2020-08-10T00:00:00",
          "2020-08-11T00:00:00",
          "2020-08-12T00:00:00",
          "2020-08-13T00:00:00",
          "2020-08-14T00:00:00",
          "2020-08-15T00:00:00",
          "2020-08-16T00:00:00",
          "2020-08-17T00:00:00"
         ],
         "y": [
          555,
          653,
          941,
          1438,
          2118,
          2927,
          5578,
          6165,
          8235,
          9925,
          12038,
          16787,
          19881,
          23892,
          27636,
          30818,
          34392,
          37121,
          40151,
          42763,
          44803,
          45222,
          60370,
          66887,
          69032,
          71226,
          73260,
          75138,
          75641,
          76199,
          76843,
          78599,
          78985,
          79570,
          80415,
          81397,
          82756,
          84124,
          86013,
          88371,
          90309,
          92844,
          95124,
          97886,
          101800,
          105836,
          109835,
          113582,
          118582,
          125865,
          128343,
          145193,
          156099,
          167447,
          181546,
          197168,
          214915,
          242713,
          272167,
          304549,
          337122,
          378283,
          417962,
          467594,
          529591,
          593291,
          660693,
          720140,
          782389,
          857487,
          932605,
          1013303,
          1095917,
          1197408,
          1272115,
          1345101,
          1426096,
          1511104,
          1595350,
          1691719,
          1771514,
          1846680,
          1917320,
          1976192,
          2056055,
          2152647,
          2240191,
          2317759,
          2401379,
          2472259,
          2549123,
          2623960,
          2708885,
          2810715,
          2896746,
          2971475,
          3041657,
          3116398,
          3193886,
          3256846,
          3343777,
          3427343,
          3506729,
          3583055,
          3662691,
          3755341,
          3845718,
          3938064,
          4024009,
          4101699,
          4177504,
          4261955,
          4347018,
          4442163,
          4542347,
          4634068,
          4713620,
          4801943,
          4897492,
          4996472,
          5102424,
          5210817,
          5310362,
          5407613,
          5495061,
          5589626,
          5691790,
          5808946,
          5924275,
          6059017,
          6166946,
          6265852,
          6386364,
          6508635,
          6632985,
          6770170,
          6896917,
          7010582,
          7119002,
          7242313,
          7360239,
          7514481,
          7632802,
          7766952,
          7900924,
          8034504,
          8173940,
          8349950,
          8488977,
          8668523,
          8791804,
          8955536,
          9098641,
          9263466,
          9430516,
          9609829,
          9801572,
          9979535,
          10145791,
          10302151,
          10475838,
          10692551,
          10869739,
          11074878,
          11267309,
          11449707,
          11620096,
          11829602,
          12041480,
          12268518,
          12498467,
          12717908,
          12910357,
          13104391,
          13324057,
          13554477,
          13805296,
          14055299,
          14292922,
          14507491,
          14707960,
          14947428,
          15229740,
          15511157,
          15792390,
          16046986,
          16252541,
          16487669,
          16691527,
          17029155,
          17309805,
          17599836,
          17850479,
          18079516,
          18282208,
          18540789,
          18811953,
          19097149,
          19378036,
          19637506,
          19861683,
          20089624,
          20343589,
          20630768,
          20905995,
          21209004,
          21459699,
          21672186,
          21881858
         ]
        },
        {
         "mode": "lines+markers",
         "name": "Validation Data for Confirmed Cases",
         "type": "scatter",
         "x": [
          "2020-08-18T00:00:00",
          "2020-08-19T00:00:00",
          "2020-08-20T00:00:00",
          "2020-08-21T00:00:00",
          "2020-08-22T00:00:00",
          "2020-08-23T00:00:00",
          "2020-08-24T00:00:00",
          "2020-08-25T00:00:00",
          "2020-08-26T00:00:00",
          "2020-08-27T00:00:00",
          "2020-08-28T00:00:00",
          "2020-08-29T00:00:00"
         ],
         "y": [
          22137926,
          22411300,
          22678483,
          22949234,
          23203532,
          23420418,
          23647377,
          23889150,
          24176836,
          24452629,
          24734448,
          24996456
         ]
        },
        {
         "mode": "lines+markers",
         "name": "Prediction for Confirmed Cases",
         "type": "scatter",
         "x": [
          "2020-08-18T00:00:00",
          "2020-08-19T00:00:00",
          "2020-08-20T00:00:00",
          "2020-08-21T00:00:00",
          "2020-08-22T00:00:00",
          "2020-08-23T00:00:00",
          "2020-08-24T00:00:00",
          "2020-08-25T00:00:00",
          "2020-08-26T00:00:00",
          "2020-08-27T00:00:00",
          "2020-08-28T00:00:00",
          "2020-08-29T00:00:00"
         ],
         "y": [
          22126749.59493547,
          22372949.00993251,
          22620456.24499113,
          22869271.300111327,
          23119394.175293103,
          23370824.870536454,
          23623563.38584138,
          23877609.72120789,
          24132963.876635972,
          24389625.852125634,
          24647595.64767687,
          24906873.263289686
         ]
        }
       ],
       "layout": {
        "legend": {
         "traceorder": "normal",
         "x": 0,
         "y": 1
        },
        "template": {
         "data": {
          "bar": [
           {
            "error_x": {
             "color": "#2a3f5f"
            },
            "error_y": {
             "color": "#2a3f5f"
            },
            "marker": {
             "line": {
              "color": "#E5ECF6",
              "width": 0.5
             },
             "pattern": {
              "fillmode": "overlay",
              "size": 10,
              "solidity": 0.2
             }
            },
            "type": "bar"
           }
          ],
          "barpolar": [
           {
            "marker": {
             "line": {
              "color": "#E5ECF6",
              "width": 0.5
             },
             "pattern": {
              "fillmode": "overlay",
              "size": 10,
              "solidity": 0.2
             }
            },
            "type": "barpolar"
           }
          ],
          "carpet": [
           {
            "aaxis": {
             "endlinecolor": "#2a3f5f",
             "gridcolor": "white",
             "linecolor": "white",
             "minorgridcolor": "white",
             "startlinecolor": "#2a3f5f"
            },
            "baxis": {
             "endlinecolor": "#2a3f5f",
             "gridcolor": "white",
             "linecolor": "white",
             "minorgridcolor": "white",
             "startlinecolor": "#2a3f5f"
            },
            "type": "carpet"
           }
          ],
          "choropleth": [
           {
            "colorbar": {
             "outlinewidth": 0,
             "ticks": ""
            },
            "type": "choropleth"
           }
          ],
          "contour": [
           {
            "colorbar": {
             "outlinewidth": 0,
             "ticks": ""
            },
            "colorscale": [
             [
              0,
              "#0d0887"
             ],
             [
              0.1111111111111111,
              "#46039f"
             ],
             [
              0.2222222222222222,
              "#7201a8"
             ],
             [
              0.3333333333333333,
              "#9c179e"
             ],
             [
              0.4444444444444444,
              "#bd3786"
             ],
             [
              0.5555555555555556,
              "#d8576b"
             ],
             [
              0.6666666666666666,
              "#ed7953"
             ],
             [
              0.7777777777777778,
              "#fb9f3a"
             ],
             [
              0.8888888888888888,
              "#fdca26"
             ],
             [
              1,
              "#f0f921"
             ]
            ],
            "type": "contour"
           }
          ],
          "contourcarpet": [
           {
            "colorbar": {
             "outlinewidth": 0,
             "ticks": ""
            },
            "type": "contourcarpet"
           }
          ],
          "heatmap": [
           {
            "colorbar": {
             "outlinewidth": 0,
             "ticks": ""
            },
            "colorscale": [
             [
              0,
              "#0d0887"
             ],
             [
              0.1111111111111111,
              "#46039f"
             ],
             [
              0.2222222222222222,
              "#7201a8"
             ],
             [
              0.3333333333333333,
              "#9c179e"
             ],
             [
              0.4444444444444444,
              "#bd3786"
             ],
             [
              0.5555555555555556,
              "#d8576b"
             ],
             [
              0.6666666666666666,
              "#ed7953"
             ],
             [
              0.7777777777777778,
              "#fb9f3a"
             ],
             [
              0.8888888888888888,
              "#fdca26"
             ],
             [
              1,
              "#f0f921"
             ]
            ],
            "type": "heatmap"
           }
          ],
          "heatmapgl": [
           {
            "colorbar": {
             "outlinewidth": 0,
             "ticks": ""
            },
            "colorscale": [
             [
              0,
              "#0d0887"
             ],
             [
              0.1111111111111111,
              "#46039f"
             ],
             [
              0.2222222222222222,
              "#7201a8"
             ],
             [
              0.3333333333333333,
              "#9c179e"
             ],
             [
              0.4444444444444444,
              "#bd3786"
             ],
             [
              0.5555555555555556,
              "#d8576b"
             ],
             [
              0.6666666666666666,
              "#ed7953"
             ],
             [
              0.7777777777777778,
              "#fb9f3a"
             ],
             [
              0.8888888888888888,
              "#fdca26"
             ],
             [
              1,
              "#f0f921"
             ]
            ],
            "type": "heatmapgl"
           }
          ],
          "histogram": [
           {
            "marker": {
             "pattern": {
              "fillmode": "overlay",
              "size": 10,
              "solidity": 0.2
             }
            },
            "type": "histogram"
           }
          ],
          "histogram2d": [
           {
            "colorbar": {
             "outlinewidth": 0,
             "ticks": ""
            },
            "colorscale": [
             [
              0,
              "#0d0887"
             ],
             [
              0.1111111111111111,
              "#46039f"
             ],
             [
              0.2222222222222222,
              "#7201a8"
             ],
             [
              0.3333333333333333,
              "#9c179e"
             ],
             [
              0.4444444444444444,
              "#bd3786"
             ],
             [
              0.5555555555555556,
              "#d8576b"
             ],
             [
              0.6666666666666666,
              "#ed7953"
             ],
             [
              0.7777777777777778,
              "#fb9f3a"
             ],
             [
              0.8888888888888888,
              "#fdca26"
             ],
             [
              1,
              "#f0f921"
             ]
            ],
            "type": "histogram2d"
           }
          ],
          "histogram2dcontour": [
           {
            "colorbar": {
             "outlinewidth": 0,
             "ticks": ""
            },
            "colorscale": [
             [
              0,
              "#0d0887"
             ],
             [
              0.1111111111111111,
              "#46039f"
             ],
             [
              0.2222222222222222,
              "#7201a8"
             ],
             [
              0.3333333333333333,
              "#9c179e"
             ],
             [
              0.4444444444444444,
              "#bd3786"
             ],
             [
              0.5555555555555556,
              "#d8576b"
             ],
             [
              0.6666666666666666,
              "#ed7953"
             ],
             [
              0.7777777777777778,
              "#fb9f3a"
             ],
             [
              0.8888888888888888,
              "#fdca26"
             ],
             [
              1,
              "#f0f921"
             ]
            ],
            "type": "histogram2dcontour"
           }
          ],
          "mesh3d": [
           {
            "colorbar": {
             "outlinewidth": 0,
             "ticks": ""
            },
            "type": "mesh3d"
           }
          ],
          "parcoords": [
           {
            "line": {
             "colorbar": {
              "outlinewidth": 0,
              "ticks": ""
             }
            },
            "type": "parcoords"
           }
          ],
          "pie": [
           {
            "automargin": true,
            "type": "pie"
           }
          ],
          "scatter": [
           {
            "fillpattern": {
             "fillmode": "overlay",
             "size": 10,
             "solidity": 0.2
            },
            "type": "scatter"
           }
          ],
          "scatter3d": [
           {
            "line": {
             "colorbar": {
              "outlinewidth": 0,
              "ticks": ""
             }
            },
            "marker": {
             "colorbar": {
              "outlinewidth": 0,
              "ticks": ""
             }
            },
            "type": "scatter3d"
           }
          ],
          "scattercarpet": [
           {
            "marker": {
             "colorbar": {
              "outlinewidth": 0,
              "ticks": ""
             }
            },
            "type": "scattercarpet"
           }
          ],
          "scattergeo": [
           {
            "marker": {
             "colorbar": {
              "outlinewidth": 0,
              "ticks": ""
             }
            },
            "type": "scattergeo"
           }
          ],
          "scattergl": [
           {
            "marker": {
             "colorbar": {
              "outlinewidth": 0,
              "ticks": ""
             }
            },
            "type": "scattergl"
           }
          ],
          "scattermapbox": [
           {
            "marker": {
             "colorbar": {
              "outlinewidth": 0,
              "ticks": ""
             }
            },
            "type": "scattermapbox"
           }
          ],
          "scatterpolar": [
           {
            "marker": {
             "colorbar": {
              "outlinewidth": 0,
              "ticks": ""
             }
            },
            "type": "scatterpolar"
           }
          ],
          "scatterpolargl": [
           {
            "marker": {
             "colorbar": {
              "outlinewidth": 0,
              "ticks": ""
             }
            },
            "type": "scatterpolargl"
           }
          ],
          "scatterternary": [
           {
            "marker": {
             "colorbar": {
              "outlinewidth": 0,
              "ticks": ""
             }
            },
            "type": "scatterternary"
           }
          ],
          "surface": [
           {
            "colorbar": {
             "outlinewidth": 0,
             "ticks": ""
            },
            "colorscale": [
             [
              0,
              "#0d0887"
             ],
             [
              0.1111111111111111,
              "#46039f"
             ],
             [
              0.2222222222222222,
              "#7201a8"
             ],
             [
              0.3333333333333333,
              "#9c179e"
             ],
             [
              0.4444444444444444,
              "#bd3786"
             ],
             [
              0.5555555555555556,
              "#d8576b"
             ],
             [
              0.6666666666666666,
              "#ed7953"
             ],
             [
              0.7777777777777778,
              "#fb9f3a"
             ],
             [
              0.8888888888888888,
              "#fdca26"
             ],
             [
              1,
              "#f0f921"
             ]
            ],
            "type": "surface"
           }
          ],
          "table": [
           {
            "cells": {
             "fill": {
              "color": "#EBF0F8"
             },
             "line": {
              "color": "white"
             }
            },
            "header": {
             "fill": {
              "color": "#C8D4E3"
             },
             "line": {
              "color": "white"
             }
            },
            "type": "table"
           }
          ]
         },
         "layout": {
          "annotationdefaults": {
           "arrowcolor": "#2a3f5f",
           "arrowhead": 0,
           "arrowwidth": 1
          },
          "autotypenumbers": "strict",
          "coloraxis": {
           "colorbar": {
            "outlinewidth": 0,
            "ticks": ""
           }
          },
          "colorscale": {
           "diverging": [
            [
             0,
             "#8e0152"
            ],
            [
             0.1,
             "#c51b7d"
            ],
            [
             0.2,
             "#de77ae"
            ],
            [
             0.3,
             "#f1b6da"
            ],
            [
             0.4,
             "#fde0ef"
            ],
            [
             0.5,
             "#f7f7f7"
            ],
            [
             0.6,
             "#e6f5d0"
            ],
            [
             0.7,
             "#b8e186"
            ],
            [
             0.8,
             "#7fbc41"
            ],
            [
             0.9,
             "#4d9221"
            ],
            [
             1,
             "#276419"
            ]
           ],
           "sequential": [
            [
             0,
             "#0d0887"
            ],
            [
             0.1111111111111111,
             "#46039f"
            ],
            [
             0.2222222222222222,
             "#7201a8"
            ],
            [
             0.3333333333333333,
             "#9c179e"
            ],
            [
             0.4444444444444444,
             "#bd3786"
            ],
            [
             0.5555555555555556,
             "#d8576b"
            ],
            [
             0.6666666666666666,
             "#ed7953"
            ],
            [
             0.7777777777777778,
             "#fb9f3a"
            ],
            [
             0.8888888888888888,
             "#fdca26"
            ],
            [
             1,
             "#f0f921"
            ]
           ],
           "sequentialminus": [
            [
             0,
             "#0d0887"
            ],
            [
             0.1111111111111111,
             "#46039f"
            ],
            [
             0.2222222222222222,
             "#7201a8"
            ],
            [
             0.3333333333333333,
             "#9c179e"
            ],
            [
             0.4444444444444444,
             "#bd3786"
            ],
            [
             0.5555555555555556,
             "#d8576b"
            ],
            [
             0.6666666666666666,
             "#ed7953"
            ],
            [
             0.7777777777777778,
             "#fb9f3a"
            ],
            [
             0.8888888888888888,
             "#fdca26"
            ],
            [
             1,
             "#f0f921"
            ]
           ]
          },
          "colorway": [
           "#636efa",
           "#EF553B",
           "#00cc96",
           "#ab63fa",
           "#FFA15A",
           "#19d3f3",
           "#FF6692",
           "#B6E880",
           "#FF97FF",
           "#FECB52"
          ],
          "font": {
           "color": "#2a3f5f"
          },
          "geo": {
           "bgcolor": "white",
           "lakecolor": "white",
           "landcolor": "#E5ECF6",
           "showlakes": true,
           "showland": true,
           "subunitcolor": "white"
          },
          "hoverlabel": {
           "align": "left"
          },
          "hovermode": "closest",
          "mapbox": {
           "style": "light"
          },
          "paper_bgcolor": "white",
          "plot_bgcolor": "#E5ECF6",
          "polar": {
           "angularaxis": {
            "gridcolor": "white",
            "linecolor": "white",
            "ticks": ""
           },
           "bgcolor": "#E5ECF6",
           "radialaxis": {
            "gridcolor": "white",
            "linecolor": "white",
            "ticks": ""
           }
          },
          "scene": {
           "xaxis": {
            "backgroundcolor": "#E5ECF6",
            "gridcolor": "white",
            "gridwidth": 2,
            "linecolor": "white",
            "showbackground": true,
            "ticks": "",
            "zerolinecolor": "white"
           },
           "yaxis": {
            "backgroundcolor": "#E5ECF6",
            "gridcolor": "white",
            "gridwidth": 2,
            "linecolor": "white",
            "showbackground": true,
            "ticks": "",
            "zerolinecolor": "white"
           },
           "zaxis": {
            "backgroundcolor": "#E5ECF6",
            "gridcolor": "white",
            "gridwidth": 2,
            "linecolor": "white",
            "showbackground": true,
            "ticks": "",
            "zerolinecolor": "white"
           }
          },
          "shapedefaults": {
           "line": {
            "color": "#2a3f5f"
           }
          },
          "ternary": {
           "aaxis": {
            "gridcolor": "white",
            "linecolor": "white",
            "ticks": ""
           },
           "baxis": {
            "gridcolor": "white",
            "linecolor": "white",
            "ticks": ""
           },
           "bgcolor": "#E5ECF6",
           "caxis": {
            "gridcolor": "white",
            "linecolor": "white",
            "ticks": ""
           }
          },
          "title": {
           "x": 0.05
          },
          "xaxis": {
           "automargin": true,
           "gridcolor": "white",
           "linecolor": "white",
           "ticks": "",
           "title": {
            "standoff": 15
           },
           "zerolinecolor": "white",
           "zerolinewidth": 2
          },
          "yaxis": {
           "automargin": true,
           "gridcolor": "white",
           "linecolor": "white",
           "ticks": "",
           "title": {
            "standoff": 15
           },
           "zerolinecolor": "white",
           "zerolinewidth": 2
          }
         }
        },
        "title": {
         "text": "Confirmed Cases MA Model Prediction"
        },
        "xaxis": {
         "title": {
          "text": "Date"
         }
        },
        "yaxis": {
         "title": {
          "text": "Confirmed Cases"
         }
        }
       }
      }
     },
     "metadata": {},
     "output_type": "display_data"
    }
   ],
   "source": [
    "model_train=datewise.iloc[:int(datewise.shape[0]*0.95)]\n",
    "valid=datewise.iloc[int(datewise.shape[0]*0.95):]\n",
    "y_pred=valid.copy()\n",
    "model_ma= auto_arima(model_train[\"Confirmed\"],trace=True, error_action='ignore', start_p=0,start_q=0,max_p=0,max_q=2,\n",
    "                   suppress_warnings=True,stepwise=False,seasonal=False)\n",
    "model_ma.fit(model_train[\"Confirmed\"])\n",
    "prediction_ma=model_ma.predict(len(valid))\n",
    "y_pred[\"MA Model Prediction\"]=prediction_ma\n",
    "model_scores.append(np.sqrt(mean_squared_error(valid[\"Confirmed\"],prediction_ma)))\n",
    "print(\"Root Mean Square Error for MA Model: \",np.sqrt(mean_squared_error(valid[\"Confirmed\"],prediction_ma)))\n",
    "fig=go.Figure()\n",
    "fig.add_trace(go.Scatter(x=model_train.index, y=model_train[\"Confirmed\"],\n",
    "                    mode='lines+markers',name=\"Train Data for Confirmed Cases\"))\n",
    "fig.add_trace(go.Scatter(x=valid.index, y=valid[\"Confirmed\"],\n",
    "                    mode='lines+markers',name=\"Validation Data for Confirmed Cases\",))\n",
    "fig.add_trace(go.Scatter(x=valid.index, y=y_pred[\"MA Model Prediction\"],\n",
    "                    mode='lines+markers',name=\"Prediction for Confirmed Cases\",))\n",
    "fig.update_layout(title=\"Confirmed Cases MA Model Prediction\",\n",
    "                 xaxis_title=\"Date\",yaxis_title=\"Confirmed Cases\",legend=dict(x=0,y=1,traceorder=\"normal\"))\n",
    "fig.show()"
   ]
  },
  {
   "cell_type": "markdown",
   "metadata": {},
   "source": [
    "Holt"
   ]
  },
  {
   "cell_type": "code",
   "execution_count": 28,
   "metadata": {},
   "outputs": [
    {
     "name": "stdout",
     "output_type": "stream",
     "text": [
      "Root Mean Square Error Holt's Linear Model:  31981.38765703508\n"
     ]
    },
    {
     "data": {
      "application/vnd.plotly.v1+json": {
       "config": {
        "plotlyServerURL": "https://plot.ly"
       },
       "data": [
        {
         "mode": "lines+markers",
         "name": "Train Data for Confirmed Cases",
         "type": "scatter",
         "x": [
          "2020-01-22T00:00:00",
          "2020-01-23T00:00:00",
          "2020-01-24T00:00:00",
          "2020-01-25T00:00:00",
          "2020-01-26T00:00:00",
          "2020-01-27T00:00:00",
          "2020-01-28T00:00:00",
          "2020-01-29T00:00:00",
          "2020-01-30T00:00:00",
          "2020-01-31T00:00:00",
          "2020-02-01T00:00:00",
          "2020-02-02T00:00:00",
          "2020-02-03T00:00:00",
          "2020-02-04T00:00:00",
          "2020-02-05T00:00:00",
          "2020-02-06T00:00:00",
          "2020-02-07T00:00:00",
          "2020-02-08T00:00:00",
          "2020-02-09T00:00:00",
          "2020-02-10T00:00:00",
          "2020-02-11T00:00:00",
          "2020-02-12T00:00:00",
          "2020-02-13T00:00:00",
          "2020-02-14T00:00:00",
          "2020-02-15T00:00:00",
          "2020-02-16T00:00:00",
          "2020-02-17T00:00:00",
          "2020-02-18T00:00:00",
          "2020-02-19T00:00:00",
          "2020-02-20T00:00:00",
          "2020-02-21T00:00:00",
          "2020-02-22T00:00:00",
          "2020-02-23T00:00:00",
          "2020-02-24T00:00:00",
          "2020-02-25T00:00:00",
          "2020-02-26T00:00:00",
          "2020-02-27T00:00:00",
          "2020-02-28T00:00:00",
          "2020-02-29T00:00:00",
          "2020-03-01T00:00:00",
          "2020-03-02T00:00:00",
          "2020-03-03T00:00:00",
          "2020-03-04T00:00:00",
          "2020-03-05T00:00:00",
          "2020-03-06T00:00:00",
          "2020-03-07T00:00:00",
          "2020-03-08T00:00:00",
          "2020-03-09T00:00:00",
          "2020-03-10T00:00:00",
          "2020-03-11T00:00:00",
          "2020-03-12T00:00:00",
          "2020-03-13T00:00:00",
          "2020-03-14T00:00:00",
          "2020-03-15T00:00:00",
          "2020-03-16T00:00:00",
          "2020-03-17T00:00:00",
          "2020-03-18T00:00:00",
          "2020-03-19T00:00:00",
          "2020-03-20T00:00:00",
          "2020-03-21T00:00:00",
          "2020-03-22T00:00:00",
          "2020-03-23T00:00:00",
          "2020-03-24T00:00:00",
          "2020-03-25T00:00:00",
          "2020-03-26T00:00:00",
          "2020-03-27T00:00:00",
          "2020-03-28T00:00:00",
          "2020-03-29T00:00:00",
          "2020-03-30T00:00:00",
          "2020-03-31T00:00:00",
          "2020-04-01T00:00:00",
          "2020-04-02T00:00:00",
          "2020-04-03T00:00:00",
          "2020-04-04T00:00:00",
          "2020-04-05T00:00:00",
          "2020-04-06T00:00:00",
          "2020-04-07T00:00:00",
          "2020-04-08T00:00:00",
          "2020-04-09T00:00:00",
          "2020-04-10T00:00:00",
          "2020-04-11T00:00:00",
          "2020-04-12T00:00:00",
          "2020-04-13T00:00:00",
          "2020-04-14T00:00:00",
          "2020-04-15T00:00:00",
          "2020-04-16T00:00:00",
          "2020-04-17T00:00:00",
          "2020-04-18T00:00:00",
          "2020-04-19T00:00:00",
          "2020-04-20T00:00:00",
          "2020-04-21T00:00:00",
          "2020-04-22T00:00:00",
          "2020-04-23T00:00:00",
          "2020-04-24T00:00:00",
          "2020-04-25T00:00:00",
          "2020-04-26T00:00:00",
          "2020-04-27T00:00:00",
          "2020-04-28T00:00:00",
          "2020-04-29T00:00:00",
          "2020-04-30T00:00:00",
          "2020-05-01T00:00:00",
          "2020-05-02T00:00:00",
          "2020-05-03T00:00:00",
          "2020-05-04T00:00:00",
          "2020-05-05T00:00:00",
          "2020-05-06T00:00:00",
          "2020-05-07T00:00:00",
          "2020-05-08T00:00:00",
          "2020-05-09T00:00:00",
          "2020-05-10T00:00:00",
          "2020-05-11T00:00:00",
          "2020-05-12T00:00:00",
          "2020-05-13T00:00:00",
          "2020-05-14T00:00:00",
          "2020-05-15T00:00:00",
          "2020-05-16T00:00:00",
          "2020-05-17T00:00:00",
          "2020-05-18T00:00:00",
          "2020-05-19T00:00:00",
          "2020-05-20T00:00:00",
          "2020-05-21T00:00:00",
          "2020-05-22T00:00:00",
          "2020-05-23T00:00:00",
          "2020-05-24T00:00:00",
          "2020-05-25T00:00:00",
          "2020-05-26T00:00:00",
          "2020-05-27T00:00:00",
          "2020-05-28T00:00:00",
          "2020-05-29T00:00:00",
          "2020-05-30T00:00:00",
          "2020-05-31T00:00:00",
          "2020-06-01T00:00:00",
          "2020-06-02T00:00:00",
          "2020-06-03T00:00:00",
          "2020-06-04T00:00:00",
          "2020-06-05T00:00:00",
          "2020-06-06T00:00:00",
          "2020-06-07T00:00:00",
          "2020-06-08T00:00:00",
          "2020-06-09T00:00:00",
          "2020-06-10T00:00:00",
          "2020-06-11T00:00:00",
          "2020-06-12T00:00:00",
          "2020-06-13T00:00:00",
          "2020-06-14T00:00:00",
          "2020-06-15T00:00:00",
          "2020-06-16T00:00:00",
          "2020-06-17T00:00:00",
          "2020-06-18T00:00:00",
          "2020-06-19T00:00:00",
          "2020-06-20T00:00:00",
          "2020-06-21T00:00:00",
          "2020-06-22T00:00:00",
          "2020-06-23T00:00:00",
          "2020-06-24T00:00:00",
          "2020-06-25T00:00:00",
          "2020-06-26T00:00:00",
          "2020-06-27T00:00:00",
          "2020-06-28T00:00:00",
          "2020-06-29T00:00:00",
          "2020-06-30T00:00:00",
          "2020-07-01T00:00:00",
          "2020-07-02T00:00:00",
          "2020-07-03T00:00:00",
          "2020-07-04T00:00:00",
          "2020-07-05T00:00:00",
          "2020-07-06T00:00:00",
          "2020-07-07T00:00:00",
          "2020-07-08T00:00:00",
          "2020-07-09T00:00:00",
          "2020-07-10T00:00:00",
          "2020-07-11T00:00:00",
          "2020-07-12T00:00:00",
          "2020-07-13T00:00:00",
          "2020-07-14T00:00:00",
          "2020-07-15T00:00:00",
          "2020-07-16T00:00:00",
          "2020-07-17T00:00:00",
          "2020-07-18T00:00:00",
          "2020-07-19T00:00:00",
          "2020-07-20T00:00:00",
          "2020-07-21T00:00:00",
          "2020-07-22T00:00:00",
          "2020-07-23T00:00:00",
          "2020-07-24T00:00:00",
          "2020-07-25T00:00:00",
          "2020-07-26T00:00:00",
          "2020-07-27T00:00:00",
          "2020-07-28T00:00:00",
          "2020-07-29T00:00:00",
          "2020-07-30T00:00:00",
          "2020-07-31T00:00:00",
          "2020-08-01T00:00:00",
          "2020-08-02T00:00:00",
          "2020-08-03T00:00:00",
          "2020-08-04T00:00:00",
          "2020-08-05T00:00:00",
          "2020-08-06T00:00:00",
          "2020-08-07T00:00:00",
          "2020-08-08T00:00:00",
          "2020-08-09T00:00:00",
          "2020-08-10T00:00:00",
          "2020-08-11T00:00:00",
          "2020-08-12T00:00:00",
          "2020-08-13T00:00:00",
          "2020-08-14T00:00:00",
          "2020-08-15T00:00:00",
          "2020-08-16T00:00:00",
          "2020-08-17T00:00:00"
         ],
         "y": [
          555,
          653,
          941,
          1438,
          2118,
          2927,
          5578,
          6165,
          8235,
          9925,
          12038,
          16787,
          19881,
          23892,
          27636,
          30818,
          34392,
          37121,
          40151,
          42763,
          44803,
          45222,
          60370,
          66887,
          69032,
          71226,
          73260,
          75138,
          75641,
          76199,
          76843,
          78599,
          78985,
          79570,
          80415,
          81397,
          82756,
          84124,
          86013,
          88371,
          90309,
          92844,
          95124,
          97886,
          101800,
          105836,
          109835,
          113582,
          118582,
          125865,
          128343,
          145193,
          156099,
          167447,
          181546,
          197168,
          214915,
          242713,
          272167,
          304549,
          337122,
          378283,
          417962,
          467594,
          529591,
          593291,
          660693,
          720140,
          782389,
          857487,
          932605,
          1013303,
          1095917,
          1197408,
          1272115,
          1345101,
          1426096,
          1511104,
          1595350,
          1691719,
          1771514,
          1846680,
          1917320,
          1976192,
          2056055,
          2152647,
          2240191,
          2317759,
          2401379,
          2472259,
          2549123,
          2623960,
          2708885,
          2810715,
          2896746,
          2971475,
          3041657,
          3116398,
          3193886,
          3256846,
          3343777,
          3427343,
          3506729,
          3583055,
          3662691,
          3755341,
          3845718,
          3938064,
          4024009,
          4101699,
          4177504,
          4261955,
          4347018,
          4442163,
          4542347,
          4634068,
          4713620,
          4801943,
          4897492,
          4996472,
          5102424,
          5210817,
          5310362,
          5407613,
          5495061,
          5589626,
          5691790,
          5808946,
          5924275,
          6059017,
          6166946,
          6265852,
          6386364,
          6508635,
          6632985,
          6770170,
          6896917,
          7010582,
          7119002,
          7242313,
          7360239,
          7514481,
          7632802,
          7766952,
          7900924,
          8034504,
          8173940,
          8349950,
          8488977,
          8668523,
          8791804,
          8955536,
          9098641,
          9263466,
          9430516,
          9609829,
          9801572,
          9979535,
          10145791,
          10302151,
          10475838,
          10692551,
          10869739,
          11074878,
          11267309,
          11449707,
          11620096,
          11829602,
          12041480,
          12268518,
          12498467,
          12717908,
          12910357,
          13104391,
          13324057,
          13554477,
          13805296,
          14055299,
          14292922,
          14507491,
          14707960,
          14947428,
          15229740,
          15511157,
          15792390,
          16046986,
          16252541,
          16487669,
          16691527,
          17029155,
          17309805,
          17599836,
          17850479,
          18079516,
          18282208,
          18540789,
          18811953,
          19097149,
          19378036,
          19637506,
          19861683,
          20089624,
          20343589,
          20630768,
          20905995,
          21209004,
          21459699,
          21672186,
          21881858
         ]
        },
        {
         "mode": "lines+markers",
         "name": "Validation Data for Confirmed Cases",
         "type": "scatter",
         "x": [
          "2020-08-18T00:00:00",
          "2020-08-19T00:00:00",
          "2020-08-20T00:00:00",
          "2020-08-21T00:00:00",
          "2020-08-22T00:00:00",
          "2020-08-23T00:00:00",
          "2020-08-24T00:00:00",
          "2020-08-25T00:00:00",
          "2020-08-26T00:00:00",
          "2020-08-27T00:00:00",
          "2020-08-28T00:00:00",
          "2020-08-29T00:00:00"
         ],
         "y": [
          22137926,
          22411300,
          22678483,
          22949234,
          23203532,
          23420418,
          23647377,
          23889150,
          24176836,
          24452629,
          24734448,
          24996456
         ]
        },
        {
         "mode": "lines+markers",
         "name": "Prediction of Confirmed Cases",
         "type": "scatter",
         "x": [
          "2020-08-18T00:00:00",
          "2020-08-19T00:00:00",
          "2020-08-20T00:00:00",
          "2020-08-21T00:00:00",
          "2020-08-22T00:00:00",
          "2020-08-23T00:00:00",
          "2020-08-24T00:00:00",
          "2020-08-25T00:00:00",
          "2020-08-26T00:00:00",
          "2020-08-27T00:00:00",
          "2020-08-28T00:00:00",
          "2020-08-29T00:00:00"
         ],
         "y": [
          22183152.899373796,
          22434565.23534386,
          22685977.57131392,
          22937389.907283984,
          23188802.243254047,
          23440214.57922411,
          23691626.915194172,
          23943039.251164235,
          24194451.587134298,
          24445863.92310436,
          24697276.259074423,
          24948688.595044486
         ]
        }
       ],
       "layout": {
        "legend": {
         "traceorder": "normal",
         "x": 0,
         "y": 1
        },
        "template": {
         "data": {
          "bar": [
           {
            "error_x": {
             "color": "#2a3f5f"
            },
            "error_y": {
             "color": "#2a3f5f"
            },
            "marker": {
             "line": {
              "color": "#E5ECF6",
              "width": 0.5
             },
             "pattern": {
              "fillmode": "overlay",
              "size": 10,
              "solidity": 0.2
             }
            },
            "type": "bar"
           }
          ],
          "barpolar": [
           {
            "marker": {
             "line": {
              "color": "#E5ECF6",
              "width": 0.5
             },
             "pattern": {
              "fillmode": "overlay",
              "size": 10,
              "solidity": 0.2
             }
            },
            "type": "barpolar"
           }
          ],
          "carpet": [
           {
            "aaxis": {
             "endlinecolor": "#2a3f5f",
             "gridcolor": "white",
             "linecolor": "white",
             "minorgridcolor": "white",
             "startlinecolor": "#2a3f5f"
            },
            "baxis": {
             "endlinecolor": "#2a3f5f",
             "gridcolor": "white",
             "linecolor": "white",
             "minorgridcolor": "white",
             "startlinecolor": "#2a3f5f"
            },
            "type": "carpet"
           }
          ],
          "choropleth": [
           {
            "colorbar": {
             "outlinewidth": 0,
             "ticks": ""
            },
            "type": "choropleth"
           }
          ],
          "contour": [
           {
            "colorbar": {
             "outlinewidth": 0,
             "ticks": ""
            },
            "colorscale": [
             [
              0,
              "#0d0887"
             ],
             [
              0.1111111111111111,
              "#46039f"
             ],
             [
              0.2222222222222222,
              "#7201a8"
             ],
             [
              0.3333333333333333,
              "#9c179e"
             ],
             [
              0.4444444444444444,
              "#bd3786"
             ],
             [
              0.5555555555555556,
              "#d8576b"
             ],
             [
              0.6666666666666666,
              "#ed7953"
             ],
             [
              0.7777777777777778,
              "#fb9f3a"
             ],
             [
              0.8888888888888888,
              "#fdca26"
             ],
             [
              1,
              "#f0f921"
             ]
            ],
            "type": "contour"
           }
          ],
          "contourcarpet": [
           {
            "colorbar": {
             "outlinewidth": 0,
             "ticks": ""
            },
            "type": "contourcarpet"
           }
          ],
          "heatmap": [
           {
            "colorbar": {
             "outlinewidth": 0,
             "ticks": ""
            },
            "colorscale": [
             [
              0,
              "#0d0887"
             ],
             [
              0.1111111111111111,
              "#46039f"
             ],
             [
              0.2222222222222222,
              "#7201a8"
             ],
             [
              0.3333333333333333,
              "#9c179e"
             ],
             [
              0.4444444444444444,
              "#bd3786"
             ],
             [
              0.5555555555555556,
              "#d8576b"
             ],
             [
              0.6666666666666666,
              "#ed7953"
             ],
             [
              0.7777777777777778,
              "#fb9f3a"
             ],
             [
              0.8888888888888888,
              "#fdca26"
             ],
             [
              1,
              "#f0f921"
             ]
            ],
            "type": "heatmap"
           }
          ],
          "heatmapgl": [
           {
            "colorbar": {
             "outlinewidth": 0,
             "ticks": ""
            },
            "colorscale": [
             [
              0,
              "#0d0887"
             ],
             [
              0.1111111111111111,
              "#46039f"
             ],
             [
              0.2222222222222222,
              "#7201a8"
             ],
             [
              0.3333333333333333,
              "#9c179e"
             ],
             [
              0.4444444444444444,
              "#bd3786"
             ],
             [
              0.5555555555555556,
              "#d8576b"
             ],
             [
              0.6666666666666666,
              "#ed7953"
             ],
             [
              0.7777777777777778,
              "#fb9f3a"
             ],
             [
              0.8888888888888888,
              "#fdca26"
             ],
             [
              1,
              "#f0f921"
             ]
            ],
            "type": "heatmapgl"
           }
          ],
          "histogram": [
           {
            "marker": {
             "pattern": {
              "fillmode": "overlay",
              "size": 10,
              "solidity": 0.2
             }
            },
            "type": "histogram"
           }
          ],
          "histogram2d": [
           {
            "colorbar": {
             "outlinewidth": 0,
             "ticks": ""
            },
            "colorscale": [
             [
              0,
              "#0d0887"
             ],
             [
              0.1111111111111111,
              "#46039f"
             ],
             [
              0.2222222222222222,
              "#7201a8"
             ],
             [
              0.3333333333333333,
              "#9c179e"
             ],
             [
              0.4444444444444444,
              "#bd3786"
             ],
             [
              0.5555555555555556,
              "#d8576b"
             ],
             [
              0.6666666666666666,
              "#ed7953"
             ],
             [
              0.7777777777777778,
              "#fb9f3a"
             ],
             [
              0.8888888888888888,
              "#fdca26"
             ],
             [
              1,
              "#f0f921"
             ]
            ],
            "type": "histogram2d"
           }
          ],
          "histogram2dcontour": [
           {
            "colorbar": {
             "outlinewidth": 0,
             "ticks": ""
            },
            "colorscale": [
             [
              0,
              "#0d0887"
             ],
             [
              0.1111111111111111,
              "#46039f"
             ],
             [
              0.2222222222222222,
              "#7201a8"
             ],
             [
              0.3333333333333333,
              "#9c179e"
             ],
             [
              0.4444444444444444,
              "#bd3786"
             ],
             [
              0.5555555555555556,
              "#d8576b"
             ],
             [
              0.6666666666666666,
              "#ed7953"
             ],
             [
              0.7777777777777778,
              "#fb9f3a"
             ],
             [
              0.8888888888888888,
              "#fdca26"
             ],
             [
              1,
              "#f0f921"
             ]
            ],
            "type": "histogram2dcontour"
           }
          ],
          "mesh3d": [
           {
            "colorbar": {
             "outlinewidth": 0,
             "ticks": ""
            },
            "type": "mesh3d"
           }
          ],
          "parcoords": [
           {
            "line": {
             "colorbar": {
              "outlinewidth": 0,
              "ticks": ""
             }
            },
            "type": "parcoords"
           }
          ],
          "pie": [
           {
            "automargin": true,
            "type": "pie"
           }
          ],
          "scatter": [
           {
            "fillpattern": {
             "fillmode": "overlay",
             "size": 10,
             "solidity": 0.2
            },
            "type": "scatter"
           }
          ],
          "scatter3d": [
           {
            "line": {
             "colorbar": {
              "outlinewidth": 0,
              "ticks": ""
             }
            },
            "marker": {
             "colorbar": {
              "outlinewidth": 0,
              "ticks": ""
             }
            },
            "type": "scatter3d"
           }
          ],
          "scattercarpet": [
           {
            "marker": {
             "colorbar": {
              "outlinewidth": 0,
              "ticks": ""
             }
            },
            "type": "scattercarpet"
           }
          ],
          "scattergeo": [
           {
            "marker": {
             "colorbar": {
              "outlinewidth": 0,
              "ticks": ""
             }
            },
            "type": "scattergeo"
           }
          ],
          "scattergl": [
           {
            "marker": {
             "colorbar": {
              "outlinewidth": 0,
              "ticks": ""
             }
            },
            "type": "scattergl"
           }
          ],
          "scattermapbox": [
           {
            "marker": {
             "colorbar": {
              "outlinewidth": 0,
              "ticks": ""
             }
            },
            "type": "scattermapbox"
           }
          ],
          "scatterpolar": [
           {
            "marker": {
             "colorbar": {
              "outlinewidth": 0,
              "ticks": ""
             }
            },
            "type": "scatterpolar"
           }
          ],
          "scatterpolargl": [
           {
            "marker": {
             "colorbar": {
              "outlinewidth": 0,
              "ticks": ""
             }
            },
            "type": "scatterpolargl"
           }
          ],
          "scatterternary": [
           {
            "marker": {
             "colorbar": {
              "outlinewidth": 0,
              "ticks": ""
             }
            },
            "type": "scatterternary"
           }
          ],
          "surface": [
           {
            "colorbar": {
             "outlinewidth": 0,
             "ticks": ""
            },
            "colorscale": [
             [
              0,
              "#0d0887"
             ],
             [
              0.1111111111111111,
              "#46039f"
             ],
             [
              0.2222222222222222,
              "#7201a8"
             ],
             [
              0.3333333333333333,
              "#9c179e"
             ],
             [
              0.4444444444444444,
              "#bd3786"
             ],
             [
              0.5555555555555556,
              "#d8576b"
             ],
             [
              0.6666666666666666,
              "#ed7953"
             ],
             [
              0.7777777777777778,
              "#fb9f3a"
             ],
             [
              0.8888888888888888,
              "#fdca26"
             ],
             [
              1,
              "#f0f921"
             ]
            ],
            "type": "surface"
           }
          ],
          "table": [
           {
            "cells": {
             "fill": {
              "color": "#EBF0F8"
             },
             "line": {
              "color": "white"
             }
            },
            "header": {
             "fill": {
              "color": "#C8D4E3"
             },
             "line": {
              "color": "white"
             }
            },
            "type": "table"
           }
          ]
         },
         "layout": {
          "annotationdefaults": {
           "arrowcolor": "#2a3f5f",
           "arrowhead": 0,
           "arrowwidth": 1
          },
          "autotypenumbers": "strict",
          "coloraxis": {
           "colorbar": {
            "outlinewidth": 0,
            "ticks": ""
           }
          },
          "colorscale": {
           "diverging": [
            [
             0,
             "#8e0152"
            ],
            [
             0.1,
             "#c51b7d"
            ],
            [
             0.2,
             "#de77ae"
            ],
            [
             0.3,
             "#f1b6da"
            ],
            [
             0.4,
             "#fde0ef"
            ],
            [
             0.5,
             "#f7f7f7"
            ],
            [
             0.6,
             "#e6f5d0"
            ],
            [
             0.7,
             "#b8e186"
            ],
            [
             0.8,
             "#7fbc41"
            ],
            [
             0.9,
             "#4d9221"
            ],
            [
             1,
             "#276419"
            ]
           ],
           "sequential": [
            [
             0,
             "#0d0887"
            ],
            [
             0.1111111111111111,
             "#46039f"
            ],
            [
             0.2222222222222222,
             "#7201a8"
            ],
            [
             0.3333333333333333,
             "#9c179e"
            ],
            [
             0.4444444444444444,
             "#bd3786"
            ],
            [
             0.5555555555555556,
             "#d8576b"
            ],
            [
             0.6666666666666666,
             "#ed7953"
            ],
            [
             0.7777777777777778,
             "#fb9f3a"
            ],
            [
             0.8888888888888888,
             "#fdca26"
            ],
            [
             1,
             "#f0f921"
            ]
           ],
           "sequentialminus": [
            [
             0,
             "#0d0887"
            ],
            [
             0.1111111111111111,
             "#46039f"
            ],
            [
             0.2222222222222222,
             "#7201a8"
            ],
            [
             0.3333333333333333,
             "#9c179e"
            ],
            [
             0.4444444444444444,
             "#bd3786"
            ],
            [
             0.5555555555555556,
             "#d8576b"
            ],
            [
             0.6666666666666666,
             "#ed7953"
            ],
            [
             0.7777777777777778,
             "#fb9f3a"
            ],
            [
             0.8888888888888888,
             "#fdca26"
            ],
            [
             1,
             "#f0f921"
            ]
           ]
          },
          "colorway": [
           "#636efa",
           "#EF553B",
           "#00cc96",
           "#ab63fa",
           "#FFA15A",
           "#19d3f3",
           "#FF6692",
           "#B6E880",
           "#FF97FF",
           "#FECB52"
          ],
          "font": {
           "color": "#2a3f5f"
          },
          "geo": {
           "bgcolor": "white",
           "lakecolor": "white",
           "landcolor": "#E5ECF6",
           "showlakes": true,
           "showland": true,
           "subunitcolor": "white"
          },
          "hoverlabel": {
           "align": "left"
          },
          "hovermode": "closest",
          "mapbox": {
           "style": "light"
          },
          "paper_bgcolor": "white",
          "plot_bgcolor": "#E5ECF6",
          "polar": {
           "angularaxis": {
            "gridcolor": "white",
            "linecolor": "white",
            "ticks": ""
           },
           "bgcolor": "#E5ECF6",
           "radialaxis": {
            "gridcolor": "white",
            "linecolor": "white",
            "ticks": ""
           }
          },
          "scene": {
           "xaxis": {
            "backgroundcolor": "#E5ECF6",
            "gridcolor": "white",
            "gridwidth": 2,
            "linecolor": "white",
            "showbackground": true,
            "ticks": "",
            "zerolinecolor": "white"
           },
           "yaxis": {
            "backgroundcolor": "#E5ECF6",
            "gridcolor": "white",
            "gridwidth": 2,
            "linecolor": "white",
            "showbackground": true,
            "ticks": "",
            "zerolinecolor": "white"
           },
           "zaxis": {
            "backgroundcolor": "#E5ECF6",
            "gridcolor": "white",
            "gridwidth": 2,
            "linecolor": "white",
            "showbackground": true,
            "ticks": "",
            "zerolinecolor": "white"
           }
          },
          "shapedefaults": {
           "line": {
            "color": "#2a3f5f"
           }
          },
          "ternary": {
           "aaxis": {
            "gridcolor": "white",
            "linecolor": "white",
            "ticks": ""
           },
           "baxis": {
            "gridcolor": "white",
            "linecolor": "white",
            "ticks": ""
           },
           "bgcolor": "#E5ECF6",
           "caxis": {
            "gridcolor": "white",
            "linecolor": "white",
            "ticks": ""
           }
          },
          "title": {
           "x": 0.05
          },
          "xaxis": {
           "automargin": true,
           "gridcolor": "white",
           "linecolor": "white",
           "ticks": "",
           "title": {
            "standoff": 15
           },
           "zerolinecolor": "white",
           "zerolinewidth": 2
          },
          "yaxis": {
           "automargin": true,
           "gridcolor": "white",
           "linecolor": "white",
           "ticks": "",
           "title": {
            "standoff": 15
           },
           "zerolinecolor": "white",
           "zerolinewidth": 2
          }
         }
        },
        "title": {
         "text": "Confirmed Cases Holt's Linear Model Prediction"
        },
        "xaxis": {
         "title": {
          "text": "Date"
         }
        },
        "yaxis": {
         "title": {
          "text": "Confirmed Cases"
         }
        }
       }
      }
     },
     "metadata": {},
     "output_type": "display_data"
    }
   ],
   "source": [
    "model_train=datewise.iloc[:int(datewise.shape[0]*0.95)]\n",
    "valid=datewise.iloc[int(datewise.shape[0]*0.95):]\n",
    "y_pred=valid.copy()\n",
    "\n",
    "holt=Holt(np.asarray(model_train[\"Confirmed\"])).fit(smoothing_level=0.4, smoothing_slope=0.4,optimized=False)    \n",
    "\n",
    "y_pred[\"Holt\"]=holt.forecast(len(valid))\n",
    "model_scores.append(np.sqrt(mean_squared_error(y_pred[\"Confirmed\"],y_pred[\"Holt\"])))\n",
    "print(\"Root Mean Square Error Holt's Linear Model: \",np.sqrt(mean_squared_error(y_pred[\"Confirmed\"],y_pred[\"Holt\"])))\n",
    "\n",
    "fig=go.Figure()\n",
    "fig.add_trace(go.Scatter(x=model_train.index, y=model_train[\"Confirmed\"],\n",
    "                    mode='lines+markers',name=\"Train Data for Confirmed Cases\"))\n",
    "fig.add_trace(go.Scatter(x=valid.index, y=valid[\"Confirmed\"],\n",
    "                    mode='lines+markers',name=\"Validation Data for Confirmed Cases\",))\n",
    "fig.add_trace(go.Scatter(x=valid.index, y=y_pred[\"Holt\"],\n",
    "                    mode='lines+markers',name=\"Prediction of Confirmed Cases\",))\n",
    "fig.update_layout(title=\"Confirmed Cases Holt's Linear Model Prediction\",\n",
    "                 xaxis_title=\"Date\",yaxis_title=\"Confirmed Cases\",legend=dict(x=0,y=1,traceorder=\"normal\"))\n",
    "fig.show()"
   ]
  }
 ],
 "metadata": {
  "kernelspec": {
   "display_name": "Python 3",
   "language": "python",
   "name": "python3"
  },
  "language_info": {
   "codemirror_mode": {
    "name": "ipython",
    "version": 3
   },
   "file_extension": ".py",
   "mimetype": "text/x-python",
   "name": "python",
   "nbconvert_exporter": "python",
   "pygments_lexer": "ipython3",
   "version": "3.8.10"
  }
 },
 "nbformat": 4,
 "nbformat_minor": 2
}
